{
  "nbformat": 4,
  "nbformat_minor": 0,
  "metadata": {
    "language_info": {
      "codemirror_mode": {
        "name": "ipython",
        "version": 3
      },
      "file_extension": ".py",
      "mimetype": "text/x-python",
      "name": "python",
      "nbconvert_exporter": "python",
      "pygments_lexer": "ipython3",
      "version": "3.8.5-final"
    },
    "orig_nbformat": 2,
    "kernelspec": {
      "name": "python3",
      "display_name": "Python 3.8.5 64-bit ('dsim': conda)",
      "metadata": {
        "interpreter": {
          "hash": "5db4922bf968224b7264651ce9cfe92d565015e9e8f9433dac9b1b05577b1c8f"
        }
      }
    },
    "colab": {
      "name": "model.ipynb",
      "provenance": [],
      "toc_visible": true
    },
    "accelerator": "GPU"
  },
  "cells": [
    {
      "cell_type": "markdown",
      "metadata": {
        "id": "RvkTTztiQoND"
      },
      "source": [
        "# Libraries"
      ]
    },
    {
      "cell_type": "code",
      "metadata": {
        "id": "HBf9FBoWQoNQ"
      },
      "source": [
        "# Import libraries\n",
        "\n",
        "from os import listdir\n",
        "import string\n",
        "import pandas as pd\n",
        "import numpy as np  \n",
        "import pandas as pd \n",
        "import re           \n",
        "from bs4 import BeautifulSoup \n",
        "from tensorflow.keras.preprocessing.text import Tokenizer \n",
        "from tensorflow.keras.preprocessing.sequence import pad_sequences\n",
        "from nltk.corpus import stopwords   \n",
        "from tensorflow.keras.layers import Input, LSTM, Embedding, Dense, Concatenate, TimeDistributed, Bidirectional\n",
        "from tensorflow.compat.v1.keras.layers import CuDNNLSTM\n",
        "from tensorflow.keras.models import Model\n",
        "from tensorflow.keras.callbacks import EarlyStopping\n",
        "import warnings\n",
        "import re, string, unicodedata\n",
        "import contractions\n",
        "import nltk\n",
        "import pickle\n",
        "import inflect\n",
        "from bs4 import BeautifulSoup\n",
        "import tensorflow as tf\n",
        "from nltk import word_tokenize, sent_tokenize\n",
        "from nltk.corpus import stopwords\n",
        "from nltk.stem import LancasterStemmer, WordNetLemmatizer\n",
        "lemmatizer = WordNetLemmatizer() \n",
        "\n",
        "pd.set_option(\"display.max_colwidth\", 200)\n",
        "warnings.filterwarnings(\"ignore\")"
      ],
      "execution_count": 13,
      "outputs": []
    },
    {
      "cell_type": "code",
      "metadata": {
        "colab": {
          "base_uri": "https://localhost:8080/"
        },
        "id": "_ThM5ZHZQoNU",
        "outputId": "d2589387-b2bd-4e4a-9a97-4603c5d3cc18"
      },
      "source": [
        "if tf.test.gpu_device_name(): \n",
        "    print('Default GPU Device:{}'.format(tf.test.gpu_device_name()))\n",
        "else:\n",
        "   print(\"Please install GPU version of TF\")"
      ],
      "execution_count": 14,
      "outputs": [
        {
          "output_type": "stream",
          "name": "stdout",
          "text": [
            "Default GPU Device:/device:GPU:0\n"
          ]
        }
      ]
    },
    {
      "cell_type": "markdown",
      "metadata": {
        "id": "awXv39CkQoNW"
      },
      "source": [
        "# Loading data"
      ]
    },
    {
      "cell_type": "code",
      "metadata": {
        "id": "B6v8HpO4QoNa"
      },
      "source": [
        "# load doc into memory\n",
        "def load_doc(filename):\n",
        "\tfile = open(filename, encoding='utf-8')\n",
        "\ttext = file.read()\n",
        "\tfile.close()\n",
        "\treturn text\n",
        "\n",
        "# split a document into news story and highlights\n",
        "def split_story(doc):\n",
        "\t# find first highlight\n",
        "\tindex = doc.find('@highlight')\n",
        "\t# split into story and highlights\n",
        "\tstory, highlights = doc[:index], doc[index:].split('@highlight')\n",
        "\t# strip extra white space around each highlight\n",
        "\thighlights = [h.strip() for h in highlights if len(h) > 0]\n",
        "\treturn story, highlights\n",
        "\n",
        "# load all stories in a directory\n",
        "def load_stories(directory):\n",
        "    stories = []\n",
        "    highlights =[]\n",
        "    for name in listdir(directory)[10000:10100]:\n",
        "        filename = directory + '/' + name\n",
        "\t\t# load document\n",
        "        doc = load_doc(filename)\n",
        "\t\t# split into story and highlights\n",
        "        story, highlight = split_story(doc)\n",
        "\t\t# store\n",
        "        stories.append(story)\n",
        "        highlights.append(highlight)\n",
        "    data = pd.DataFrame()\n",
        "    data[\"story\"] = stories\n",
        "    data[\"highlight\"] = highlights\n",
        "    \n",
        "    return  data"
      ],
      "execution_count": 15,
      "outputs": []
    },
    {
      "cell_type": "code",
      "metadata": {
        "id": "GmjCsvg8QoNb"
      },
      "source": [
        "# load stories\n",
        "directory = r\"C:\\Users\\feder\\Desktop\\cnn\\stories\"\n",
        "data = load_stories(directory)\n"
      ],
      "execution_count": 16,
      "outputs": []
    },
    {
      "cell_type": "code",
      "metadata": {
        "id": "UfonXeOjQoNb",
        "outputId": "87cfdcf8-b243-4758-96d2-1c20d20748ba"
      },
      "source": [
        "print('Loaded Stories %d' % len(data))"
      ],
      "execution_count": 17,
      "outputs": [
        {
          "output_type": "stream",
          "name": "stdout",
          "text": [
            "Loaded Stories 100\n"
          ]
        }
      ]
    },
    {
      "cell_type": "markdown",
      "metadata": {
        "id": "Q-038jE7QoNc"
      },
      "source": [
        "# Cleaning and preprocessing\n"
      ]
    },
    {
      "cell_type": "code",
      "metadata": {
        "id": "dCoJrdJkQoNd",
        "outputId": "c91a27a6-681a-4874-e891-754b7f058aa4"
      },
      "source": [
        "data.head()"
      ],
      "execution_count": 18,
      "outputs": [
        {
          "output_type": "execute_result",
          "data": {
            "text/plain": [
              "                                                                                                                                                                                                     story  \\\n",
              "0  (EW.com) -- After a Friday night showdown that heavily tipped the scales in favor of the survival-horror thriller \"The Purge: Anarchy,\" \"Dawn of the Planet of the Apes\" came back strong this weeke...   \n",
              "1  Washington (CNN) -- The Department of Veterans Affairs unveiled new regulations Monday making it easier for men and women who served in the armed forces to receive benefits for post-traumatic stre...   \n",
              "2  (CNN) -- A rash of severe weather pummeled several eastern states Tuesday, killing at least five people and leaving about 300,000 people in the dark.\\n\\nOne boy died and eight other children were ...   \n",
              "3  (CNN)In addition to Philadelphia, Pope Francis told reporters Monday that he will also visit New York and Washington on his upcoming trip to the United States.\\n\\nIn September, he is scheduled to ...   \n",
              "4  (CNN) -- The Nevada Supreme Court Friday upheld former football player O.J. Simpson's convictions for kidnapping with a deadly weapon and other charges in his 2008 Las Vegas armed robbery trial, b...   \n",
              "\n",
              "                                                                                                                                                                                                 highlight  \n",
              "0            [\"Dawn of the Planet of the Apes\" was again No. 1 at the box office, It beat new thriller \"The Purge: Anarchy,\" which was No. 2, Cameron Diaz's new comedy \"Sex Tape\" opened in fourth place]  \n",
              "1  [New VA rule makes it easier for veterans to get PTSD benefits, Veterans are no longer required to documents specific events causing PTSD, VA acknowledging \"inherently stressful nature ... of mili...  \n",
              "2  [4 people died when buildings collapsed in the Syracuse, New York, area, The storm kills a boy camping with other children in Maryland, 207,000 customers are still without power in Pennsylvania ea...  \n",
              "3  [New Yorkers will be \"humbled and honored to hear his message,\" mayor says, Pope Francis tells reporters his U.S. trip will include three cities, In Philadelphia, he'll attend the World Meeting of...  \n",
              "4  [Nevada Supreme Court finds Simpson's arguments \"without merit\", A codefendant wins a new trial, Simpson will continue a 33-year prison sentence with a chance for parole after nine years, Justices...  "
            ],
            "text/html": "<div>\n<style scoped>\n    .dataframe tbody tr th:only-of-type {\n        vertical-align: middle;\n    }\n\n    .dataframe tbody tr th {\n        vertical-align: top;\n    }\n\n    .dataframe thead th {\n        text-align: right;\n    }\n</style>\n<table border=\"1\" class=\"dataframe\">\n  <thead>\n    <tr style=\"text-align: right;\">\n      <th></th>\n      <th>story</th>\n      <th>highlight</th>\n    </tr>\n  </thead>\n  <tbody>\n    <tr>\n      <th>0</th>\n      <td>(EW.com) -- After a Friday night showdown that heavily tipped the scales in favor of the survival-horror thriller \"The Purge: Anarchy,\" \"Dawn of the Planet of the Apes\" came back strong this weeke...</td>\n      <td>[\"Dawn of the Planet of the Apes\" was again No. 1 at the box office, It beat new thriller \"The Purge: Anarchy,\" which was No. 2, Cameron Diaz's new comedy \"Sex Tape\" opened in fourth place]</td>\n    </tr>\n    <tr>\n      <th>1</th>\n      <td>Washington (CNN) -- The Department of Veterans Affairs unveiled new regulations Monday making it easier for men and women who served in the armed forces to receive benefits for post-traumatic stre...</td>\n      <td>[New VA rule makes it easier for veterans to get PTSD benefits, Veterans are no longer required to documents specific events causing PTSD, VA acknowledging \"inherently stressful nature ... of mili...</td>\n    </tr>\n    <tr>\n      <th>2</th>\n      <td>(CNN) -- A rash of severe weather pummeled several eastern states Tuesday, killing at least five people and leaving about 300,000 people in the dark.\\n\\nOne boy died and eight other children were ...</td>\n      <td>[4 people died when buildings collapsed in the Syracuse, New York, area, The storm kills a boy camping with other children in Maryland, 207,000 customers are still without power in Pennsylvania ea...</td>\n    </tr>\n    <tr>\n      <th>3</th>\n      <td>(CNN)In addition to Philadelphia, Pope Francis told reporters Monday that he will also visit New York and Washington on his upcoming trip to the United States.\\n\\nIn September, he is scheduled to ...</td>\n      <td>[New Yorkers will be \"humbled and honored to hear his message,\" mayor says, Pope Francis tells reporters his U.S. trip will include three cities, In Philadelphia, he'll attend the World Meeting of...</td>\n    </tr>\n    <tr>\n      <th>4</th>\n      <td>(CNN) -- The Nevada Supreme Court Friday upheld former football player O.J. Simpson's convictions for kidnapping with a deadly weapon and other charges in his 2008 Las Vegas armed robbery trial, b...</td>\n      <td>[Nevada Supreme Court finds Simpson's arguments \"without merit\", A codefendant wins a new trial, Simpson will continue a 33-year prison sentence with a chance for parole after nine years, Justices...</td>\n    </tr>\n  </tbody>\n</table>\n</div>"
          },
          "metadata": {},
          "execution_count": 18
        }
      ]
    },
    {
      "cell_type": "code",
      "metadata": {
        "id": "QJG1Q6RlQoNe"
      },
      "source": [
        "data = data.explode(\"highlight\")"
      ],
      "execution_count": 19,
      "outputs": []
    },
    {
      "cell_type": "markdown",
      "metadata": {
        "id": "b5m6gQtZQoNf"
      },
      "source": [
        "## Normalization"
      ]
    },
    {
      "cell_type": "code",
      "metadata": {
        "id": "aUyY22aYQoNf"
      },
      "source": [
        "stop_words = set(stopwords.words('english')) \n",
        "\n",
        "def remove_non_ascii(words):\n",
        "    \"\"\"Remove non-ASCII characters\"\"\"\n",
        "    new_words = unicodedata.normalize('NFKD', words).encode('ascii', 'ignore').decode('utf-8', 'ignore')\n",
        "    return new_words\n",
        "\n",
        "def to_lowercase(words):\n",
        "    \"\"\"Convert all characters to lowercase\"\"\"\n",
        "    new_words = words.lower()\n",
        "    return new_words\n",
        "\n",
        "def remove_punctuation(words):\n",
        "    \"\"\"Remove punctuation\"\"\"\n",
        "    new_words = re.sub(r'\\([^)]*\\)', '', words)\n",
        "    return new_words\n",
        "\n",
        "def replace_numbers(words):\n",
        "    \"\"\"Replace all integer occurrences\"\"\"\n",
        "    new_words = re.sub(\"[^a-zA-Z]\", \" \", words) \n",
        "    return new_words\n",
        "\n",
        "def remove_stopwords(words):\n",
        "    \"\"\"Remove stop words\"\"\"\n",
        "    new_words = [w for w in words.split() if not w in stop_words]\n",
        "    long_words=[]\n",
        "    for i in new_words:\n",
        "        if len(i)>=1:                  \n",
        "            long_words.append(i)   \n",
        "\n",
        "    return (\" \".join(long_words)).strip()\n",
        "\n",
        "\n",
        "def replace_contractions(words):\n",
        "    \"\"\"Replace contractions in string of text\"\"\"\n",
        "    return contractions.fix(words)\n",
        "\n",
        "def normalize(words):\n",
        "    words = remove_non_ascii(words)\n",
        "    words = to_lowercase(words)\n",
        "    words = remove_punctuation(words)\n",
        "    words = replace_numbers(words)\n",
        "    words = replace_contractions(words)\n",
        "    words = remove_stopwords(words)\n",
        "\n",
        "    return words"
      ],
      "execution_count": 20,
      "outputs": []
    },
    {
      "cell_type": "code",
      "metadata": {
        "id": "sr9PmvO4QoNg"
      },
      "source": [
        "#Call the above function\n",
        "\n",
        "cleaned_story = []\n",
        "for t in data['story']:\n",
        "    cleaned_story.append(normalize(t))\n",
        "\n",
        "cleaned_highlight = []\n",
        "for t in data['highlight']:\n",
        "    cleaned_highlight.append(normalize(t))\n",
        "\n",
        "data['normalized_text']=cleaned_story\n",
        "data['normalized_highlight']=cleaned_highlight\n",
        "data['normalized_highlight'].replace('', np.nan, inplace=True)\n",
        "data.dropna(axis=0,inplace=True)"
      ],
      "execution_count": 21,
      "outputs": []
    },
    {
      "cell_type": "markdown",
      "metadata": {
        "id": "jc4oFZUQQoNh"
      },
      "source": [
        "## Lemmatization"
      ]
    },
    {
      "cell_type": "code",
      "metadata": {
        "id": "qFvxbXBrQoNh"
      },
      "source": [
        "def lemmatize(words):\n",
        "    words = lemmatizer.lemmatize(words)\n",
        "    return words"
      ],
      "execution_count": 22,
      "outputs": []
    },
    {
      "cell_type": "code",
      "metadata": {
        "id": "B-sWoBTaQoNi"
      },
      "source": [
        "#Call the above function\n",
        "\n",
        "lemmatized_story = []\n",
        "for t in data['normalized_text']:\n",
        "    lemmatized_story.append(lemmatize(t))\n",
        "    \n",
        "lemmatized_highlight = []\n",
        "for t in data['normalized_highlight']:\n",
        "    lemmatized_highlight.append(lemmatize(t))\n",
        "\n",
        "data['cleaned_text']=lemmatized_story\n",
        "data['cleaned_highlight']=lemmatized_highlight\n",
        "data['cleaned_highlight'].replace('', np.nan, inplace=True)\n",
        "data.dropna(axis=0,inplace=True)"
      ],
      "execution_count": 23,
      "outputs": []
    },
    {
      "cell_type": "markdown",
      "metadata": {
        "id": "XvE3FYZeQoNi"
      },
      "source": [
        "## Add start and end tokens for the summarizer"
      ]
    },
    {
      "cell_type": "code",
      "metadata": {
        "id": "yT_UnkzuQoNj"
      },
      "source": [
        "data['cleaned_highlight'] = data['cleaned_highlight'].apply(lambda x : 'starttoken '+ x + ' endtoken')\n"
      ],
      "execution_count": 24,
      "outputs": []
    },
    {
      "cell_type": "markdown",
      "metadata": {
        "id": "mfe0hDOaQoNj"
      },
      "source": [
        "## Visualize results"
      ]
    },
    {
      "cell_type": "code",
      "metadata": {
        "id": "PecYGLp5QoNk",
        "outputId": "40d917ad-455e-4a0a-d934-ea99ac957db3"
      },
      "source": [
        "data = data[[\"cleaned_text\", \"cleaned_highlight\"]]\n",
        "data"
      ],
      "execution_count": 25,
      "outputs": [
        {
          "output_type": "execute_result",
          "data": {
            "text/plain": [
              "                                                                                                                                                                                               cleaned_text  \\\n",
              "0   friday night showdown heavily tipped scales favor survival horror thriller purge anarchy dawn planet apes came back strong weekend take spot box office apes sequel starring motion capture master a...   \n",
              "0   friday night showdown heavily tipped scales favor survival horror thriller purge anarchy dawn planet apes came back strong weekend take spot box office apes sequel starring motion capture master a...   \n",
              "0   friday night showdown heavily tipped scales favor survival horror thriller purge anarchy dawn planet apes came back strong weekend take spot box office apes sequel starring motion capture master a...   \n",
              "1   washington department veterans affairs unveiled new regulations monday making easier men women served armed forces receive benefits post traumatic stress disorder current department rules require ...   \n",
              "1   washington department veterans affairs unveiled new regulations monday making easier men women served armed forces receive benefits post traumatic stress disorder current department rules require ...   \n",
              "..                                                                                                                                                                                                      ...   \n",
              "98  lest americans forget wellsprings nation france bore torch liberty alongside us old ally launched reminder across atlantic waves l hermione three sail masts bright royal blue gold markings painsta...   \n",
              "99  washington united states monday condemned violence libya called halt unacceptable bloodshed response civil unrest secretary state hillary clinton said statement government libya responsibility res...   \n",
              "99  washington united states monday condemned violence libya called halt unacceptable bloodshed response civil unrest secretary state hillary clinton said statement government libya responsibility res...   \n",
              "99  washington united states monday condemned violence libya called halt unacceptable bloodshed response civil unrest secretary state hillary clinton said statement government libya responsibility res...   \n",
              "99  washington united states monday condemned violence libya called halt unacceptable bloodshed response civil unrest secretary state hillary clinton said statement government libya responsibility res...   \n",
              "\n",
              "                                                                      cleaned_highlight  \n",
              "0                                       starttoken dawn planet apes box office endtoken  \n",
              "0                                   starttoken beat new thriller purge anarchy endtoken  \n",
              "0              starttoken cameron diaz new comedy sex tape opened fourth place endtoken  \n",
              "1               starttoken new va rule makes easier veterans get ptsd benefits endtoken  \n",
              "1   starttoken veterans longer required documents specific events causing ptsd endtoken  \n",
              "..                                                                                  ...  \n",
              "98     starttoken original fought american colonists british revolutionary war endtoken  \n",
              "99                   starttoken new clinton calls bloodshed libya unacceptable endtoken  \n",
              "99      starttoken state department ordered evacuation non essential personnel endtoken  \n",
              "99    starttoken obama administration stressing need avoid violence protesters endtoken  \n",
              "99            starttoken gadhafi son warned possible civil war protesters back endtoken  \n",
              "\n",
              "[348 rows x 2 columns]"
            ],
            "text/html": "<div>\n<style scoped>\n    .dataframe tbody tr th:only-of-type {\n        vertical-align: middle;\n    }\n\n    .dataframe tbody tr th {\n        vertical-align: top;\n    }\n\n    .dataframe thead th {\n        text-align: right;\n    }\n</style>\n<table border=\"1\" class=\"dataframe\">\n  <thead>\n    <tr style=\"text-align: right;\">\n      <th></th>\n      <th>cleaned_text</th>\n      <th>cleaned_highlight</th>\n    </tr>\n  </thead>\n  <tbody>\n    <tr>\n      <th>0</th>\n      <td>friday night showdown heavily tipped scales favor survival horror thriller purge anarchy dawn planet apes came back strong weekend take spot box office apes sequel starring motion capture master a...</td>\n      <td>starttoken dawn planet apes box office endtoken</td>\n    </tr>\n    <tr>\n      <th>0</th>\n      <td>friday night showdown heavily tipped scales favor survival horror thriller purge anarchy dawn planet apes came back strong weekend take spot box office apes sequel starring motion capture master a...</td>\n      <td>starttoken beat new thriller purge anarchy endtoken</td>\n    </tr>\n    <tr>\n      <th>0</th>\n      <td>friday night showdown heavily tipped scales favor survival horror thriller purge anarchy dawn planet apes came back strong weekend take spot box office apes sequel starring motion capture master a...</td>\n      <td>starttoken cameron diaz new comedy sex tape opened fourth place endtoken</td>\n    </tr>\n    <tr>\n      <th>1</th>\n      <td>washington department veterans affairs unveiled new regulations monday making easier men women served armed forces receive benefits post traumatic stress disorder current department rules require ...</td>\n      <td>starttoken new va rule makes easier veterans get ptsd benefits endtoken</td>\n    </tr>\n    <tr>\n      <th>1</th>\n      <td>washington department veterans affairs unveiled new regulations monday making easier men women served armed forces receive benefits post traumatic stress disorder current department rules require ...</td>\n      <td>starttoken veterans longer required documents specific events causing ptsd endtoken</td>\n    </tr>\n    <tr>\n      <th>...</th>\n      <td>...</td>\n      <td>...</td>\n    </tr>\n    <tr>\n      <th>98</th>\n      <td>lest americans forget wellsprings nation france bore torch liberty alongside us old ally launched reminder across atlantic waves l hermione three sail masts bright royal blue gold markings painsta...</td>\n      <td>starttoken original fought american colonists british revolutionary war endtoken</td>\n    </tr>\n    <tr>\n      <th>99</th>\n      <td>washington united states monday condemned violence libya called halt unacceptable bloodshed response civil unrest secretary state hillary clinton said statement government libya responsibility res...</td>\n      <td>starttoken new clinton calls bloodshed libya unacceptable endtoken</td>\n    </tr>\n    <tr>\n      <th>99</th>\n      <td>washington united states monday condemned violence libya called halt unacceptable bloodshed response civil unrest secretary state hillary clinton said statement government libya responsibility res...</td>\n      <td>starttoken state department ordered evacuation non essential personnel endtoken</td>\n    </tr>\n    <tr>\n      <th>99</th>\n      <td>washington united states monday condemned violence libya called halt unacceptable bloodshed response civil unrest secretary state hillary clinton said statement government libya responsibility res...</td>\n      <td>starttoken obama administration stressing need avoid violence protesters endtoken</td>\n    </tr>\n    <tr>\n      <th>99</th>\n      <td>washington united states monday condemned violence libya called halt unacceptable bloodshed response civil unrest secretary state hillary clinton said statement government libya responsibility res...</td>\n      <td>starttoken gadhafi son warned possible civil war protesters back endtoken</td>\n    </tr>\n  </tbody>\n</table>\n<p>348 rows × 2 columns</p>\n</div>"
          },
          "metadata": {},
          "execution_count": 25
        }
      ]
    },
    {
      "cell_type": "code",
      "execution_count": 38,
      "metadata": {},
      "outputs": [],
      "source": [
        "x_test = data['cleaned_text']\n",
        "y_test = data['cleaned_highlight']"
      ]
    },
    {
      "cell_type": "markdown",
      "metadata": {
        "id": "_jClMn9lQoNl"
      },
      "source": [
        "## Tokenization"
      ]
    },
    {
      "cell_type": "code",
      "execution_count": 29,
      "metadata": {},
      "outputs": [],
      "source": [
        "#!pip install pickle5\n",
        "import  pickle"
      ]
    },
    {
      "cell_type": "code",
      "execution_count": 32,
      "metadata": {},
      "outputs": [],
      "source": [
        "def open_test_data_y():\n",
        "    return open('y_tokenizer.pickle', 'rb')\n",
        "\n",
        "with open_test_data_y() as f:\n",
        "    y_tokenizer = pickle.load(f) \n",
        "\n",
        "def open_test_data_x():\n",
        "    return open('x_tokenizer.pickle', 'rb')\n",
        "\n",
        "with open_test_data_x() as f:\n",
        "    x_tokenizer = pickle.load(f) "
      ]
    },
    {
      "cell_type": "code",
      "metadata": {
        "id": "C9PdWeMzQoNm"
      },
      "source": [
        "from tensorflow.keras.preprocessing.text import Tokenizer \n",
        "from tensorflow.keras.preprocessing.sequence import pad_sequences\n"
      ],
      "execution_count": 33,
      "outputs": []
    },
    {
      "cell_type": "code",
      "metadata": {
        "id": "mwmnl_JxQoNm",
        "outputId": "1326a63a-1e19-4a01-b0ec-acc4e3ac9a31"
      },
      "source": [
        "thresh=4\n",
        "\n",
        "cnt=0\n",
        "tot_cnt=0\n",
        "freq=0\n",
        "tot_freq=0\n",
        "\n",
        "for key,value in x_tokenizer.word_counts.items():\n",
        "    tot_cnt=tot_cnt+1\n",
        "    tot_freq=tot_freq+value\n",
        "    if(value<thresh):\n",
        "        cnt=cnt+1\n",
        "        freq=freq+value\n",
        "    \n",
        "print(\"% of rare words in vocabulary:\",(cnt/tot_cnt)*100)\n",
        "print(\"Total Coverage of rare words:\",(freq/tot_freq)*100)"
      ],
      "execution_count": 34,
      "outputs": [
        {
          "output_type": "stream",
          "name": "stdout",
          "text": [
            "% of rare words in vocabulary: 20.37335164184758\nTotal Coverage of rare words: 0.39457576608869416\n"
          ]
        }
      ]
    },
    {
      "cell_type": "code",
      "metadata": {
        "id": "fIgnP_dtQoNo",
        "outputId": "b1b430e5-bff3-4e57-d7f0-dc5e946f27a0"
      },
      "source": [
        "\n",
        "import matplotlib.pyplot as plt\n",
        "\n",
        "text_word_count = []\n",
        "summary_word_count = []\n",
        "\n",
        "# populate the lists with sentence lengths\n",
        "for i in data['cleaned_text']:\n",
        "      text_word_count.append(len(i.split()))\n",
        "\n",
        "for i in data['cleaned_highlight']:\n",
        "      summary_word_count.append(len(i.split()))\n",
        "\n",
        "length_df = pd.DataFrame({'text':text_word_count, 'summary':summary_word_count})\n",
        "\n",
        "length_df.hist(bins = 30)\n",
        "plt.show()"
      ],
      "execution_count": 35,
      "outputs": [
        {
          "output_type": "display_data",
          "data": {
            "text/plain": "<Figure size 432x288 with 2 Axes>",
            "image/svg+xml": "<?xml version=\"1.0\" encoding=\"utf-8\" standalone=\"no\"?>\r\n<!DOCTYPE svg PUBLIC \"-//W3C//DTD SVG 1.1//EN\"\r\n  \"http://www.w3.org/Graphics/SVG/1.1/DTD/svg11.dtd\">\r\n<!-- Created with matplotlib (https://matplotlib.org/) -->\r\n<svg height=\"263.63625pt\" version=\"1.1\" viewBox=\"0 0 368.925 263.63625\" width=\"368.925pt\" xmlns=\"http://www.w3.org/2000/svg\" xmlns:xlink=\"http://www.w3.org/1999/xlink\">\r\n <metadata>\r\n  <rdf:RDF xmlns:cc=\"http://creativecommons.org/ns#\" xmlns:dc=\"http://purl.org/dc/elements/1.1/\" xmlns:rdf=\"http://www.w3.org/1999/02/22-rdf-syntax-ns#\">\r\n   <cc:Work>\r\n    <dc:type rdf:resource=\"http://purl.org/dc/dcmitype/StillImage\"/>\r\n    <dc:date>2021-01-09T11:08:26.277581</dc:date>\r\n    <dc:format>image/svg+xml</dc:format>\r\n    <dc:creator>\r\n     <cc:Agent>\r\n      <dc:title>Matplotlib v3.3.2, https://matplotlib.org/</dc:title>\r\n     </cc:Agent>\r\n    </dc:creator>\r\n   </cc:Work>\r\n  </rdf:RDF>\r\n </metadata>\r\n <defs>\r\n  <style type=\"text/css\">*{stroke-linecap:butt;stroke-linejoin:round;}</style>\r\n </defs>\r\n <g id=\"figure_1\">\r\n  <g id=\"patch_1\">\r\n   <path d=\"M -0 263.63625 \r\nL 368.925 263.63625 \r\nL 368.925 0 \r\nL -0 0 \r\nz\r\n\" style=\"fill:none;\"/>\r\n  </g>\r\n  <g id=\"axes_1\">\r\n   <g id=\"patch_2\">\r\n    <path d=\"M 26.925 239.758125 \r\nL 172.490217 239.758125 \r\nL 172.490217 22.318125 \r\nL 26.925 22.318125 \r\nz\r\n\" style=\"fill:#ffffff;\"/>\r\n   </g>\r\n   <g id=\"patch_3\">\r\n    <path clip-path=\"url(#p0dba1c9fc3)\" d=\"M 33.541601 239.758125 \r\nL 37.952668 239.758125 \r\nL 37.952668 120.526956 \r\nL 33.541601 120.526956 \r\nz\r\n\" style=\"fill:#1f77b4;\"/>\r\n   </g>\r\n   <g id=\"patch_4\">\r\n    <path clip-path=\"url(#p0dba1c9fc3)\" d=\"M 37.952668 239.758125 \r\nL 42.363735 239.758125 \r\nL 42.363735 220.932151 \r\nL 37.952668 220.932151 \r\nz\r\n\" style=\"fill:#1f77b4;\"/>\r\n   </g>\r\n   <g id=\"patch_5\">\r\n    <path clip-path=\"url(#p0dba1c9fc3)\" d=\"M 42.363735 239.758125 \r\nL 46.774802 239.758125 \r\nL 46.774802 139.35293 \r\nL 42.363735 139.35293 \r\nz\r\n\" style=\"fill:#1f77b4;\"/>\r\n   </g>\r\n   <g id=\"patch_6\">\r\n    <path clip-path=\"url(#p0dba1c9fc3)\" d=\"M 46.774802 239.758125 \r\nL 51.18587 239.758125 \r\nL 51.18587 151.90358 \r\nL 46.774802 151.90358 \r\nz\r\n\" style=\"fill:#1f77b4;\"/>\r\n   </g>\r\n   <g id=\"patch_7\">\r\n    <path clip-path=\"url(#p0dba1c9fc3)\" d=\"M 51.18587 239.758125 \r\nL 55.596937 239.758125 \r\nL 55.596937 32.672411 \r\nL 51.18587 32.672411 \r\nz\r\n\" style=\"fill:#1f77b4;\"/>\r\n   </g>\r\n   <g id=\"patch_8\">\r\n    <path clip-path=\"url(#p0dba1c9fc3)\" d=\"M 55.596937 239.758125 \r\nL 60.008004 239.758125 \r\nL 60.008004 133.077606 \r\nL 55.596937 133.077606 \r\nz\r\n\" style=\"fill:#1f77b4;\"/>\r\n   </g>\r\n   <g id=\"patch_9\">\r\n    <path clip-path=\"url(#p0dba1c9fc3)\" d=\"M 60.008004 239.758125 \r\nL 64.419071 239.758125 \r\nL 64.419071 133.077606 \r\nL 60.008004 133.077606 \r\nz\r\n\" style=\"fill:#1f77b4;\"/>\r\n   </g>\r\n   <g id=\"patch_10\">\r\n    <path clip-path=\"url(#p0dba1c9fc3)\" d=\"M 64.419071 239.758125 \r\nL 68.830138 239.758125 \r\nL 68.830138 214.656826 \r\nL 64.419071 214.656826 \r\nz\r\n\" style=\"fill:#1f77b4;\"/>\r\n   </g>\r\n   <g id=\"patch_11\">\r\n    <path clip-path=\"url(#p0dba1c9fc3)\" d=\"M 68.830138 239.758125 \r\nL 73.241206 239.758125 \r\nL 73.241206 195.830852 \r\nL 68.830138 195.830852 \r\nz\r\n\" style=\"fill:#1f77b4;\"/>\r\n   </g>\r\n   <g id=\"patch_12\">\r\n    <path clip-path=\"url(#p0dba1c9fc3)\" d=\"M 73.241206 239.758125 \r\nL 77.652273 239.758125 \r\nL 77.652273 133.077606 \r\nL 73.241206 133.077606 \r\nz\r\n\" style=\"fill:#1f77b4;\"/>\r\n   </g>\r\n   <g id=\"patch_13\">\r\n    <path clip-path=\"url(#p0dba1c9fc3)\" d=\"M 77.652273 239.758125 \r\nL 82.06334 239.758125 \r\nL 82.06334 145.628255 \r\nL 77.652273 145.628255 \r\nz\r\n\" style=\"fill:#1f77b4;\"/>\r\n   </g>\r\n   <g id=\"patch_14\">\r\n    <path clip-path=\"url(#p0dba1c9fc3)\" d=\"M 82.06334 239.758125 \r\nL 86.474407 239.758125 \r\nL 86.474407 107.976307 \r\nL 82.06334 107.976307 \r\nz\r\n\" style=\"fill:#1f77b4;\"/>\r\n   </g>\r\n   <g id=\"patch_15\">\r\n    <path clip-path=\"url(#p0dba1c9fc3)\" d=\"M 86.474407 239.758125 \r\nL 90.885474 239.758125 \r\nL 90.885474 45.22306 \r\nL 86.474407 45.22306 \r\nz\r\n\" style=\"fill:#1f77b4;\"/>\r\n   </g>\r\n   <g id=\"patch_16\">\r\n    <path clip-path=\"url(#p0dba1c9fc3)\" d=\"M 90.885474 239.758125 \r\nL 95.296542 239.758125 \r\nL 95.296542 64.049034 \r\nL 90.885474 64.049034 \r\nz\r\n\" style=\"fill:#1f77b4;\"/>\r\n   </g>\r\n   <g id=\"patch_17\">\r\n    <path clip-path=\"url(#p0dba1c9fc3)\" d=\"M 95.296542 239.758125 \r\nL 99.707609 239.758125 \r\nL 99.707609 126.802281 \r\nL 95.296542 126.802281 \r\nz\r\n\" style=\"fill:#1f77b4;\"/>\r\n   </g>\r\n   <g id=\"patch_18\">\r\n    <path clip-path=\"url(#p0dba1c9fc3)\" d=\"M 99.707609 239.758125 \r\nL 104.118676 239.758125 \r\nL 104.118676 145.628255 \r\nL 99.707609 145.628255 \r\nz\r\n\" style=\"fill:#1f77b4;\"/>\r\n   </g>\r\n   <g id=\"patch_19\">\r\n    <path clip-path=\"url(#p0dba1c9fc3)\" d=\"M 104.118676 239.758125 \r\nL 108.529743 239.758125 \r\nL 108.529743 220.932151 \r\nL 104.118676 220.932151 \r\nz\r\n\" style=\"fill:#1f77b4;\"/>\r\n   </g>\r\n   <g id=\"patch_20\">\r\n    <path clip-path=\"url(#p0dba1c9fc3)\" d=\"M 108.529743 239.758125 \r\nL 112.94081 239.758125 \r\nL 112.94081 239.758125 \r\nL 108.529743 239.758125 \r\nz\r\n\" style=\"fill:#1f77b4;\"/>\r\n   </g>\r\n   <g id=\"patch_21\">\r\n    <path clip-path=\"url(#p0dba1c9fc3)\" d=\"M 112.94081 239.758125 \r\nL 117.351877 239.758125 \r\nL 117.351877 202.106177 \r\nL 112.94081 202.106177 \r\nz\r\n\" style=\"fill:#1f77b4;\"/>\r\n   </g>\r\n   <g id=\"patch_22\">\r\n    <path clip-path=\"url(#p0dba1c9fc3)\" d=\"M 117.351877 239.758125 \r\nL 121.762945 239.758125 \r\nL 121.762945 126.802281 \r\nL 117.351877 126.802281 \r\nz\r\n\" style=\"fill:#1f77b4;\"/>\r\n   </g>\r\n   <g id=\"patch_23\">\r\n    <path clip-path=\"url(#p0dba1c9fc3)\" d=\"M 121.762945 239.758125 \r\nL 126.174012 239.758125 \r\nL 126.174012 195.830852 \r\nL 121.762945 195.830852 \r\nz\r\n\" style=\"fill:#1f77b4;\"/>\r\n   </g>\r\n   <g id=\"patch_24\">\r\n    <path clip-path=\"url(#p0dba1c9fc3)\" d=\"M 126.174012 239.758125 \r\nL 130.585079 239.758125 \r\nL 130.585079 195.830852 \r\nL 126.174012 195.830852 \r\nz\r\n\" style=\"fill:#1f77b4;\"/>\r\n   </g>\r\n   <g id=\"patch_25\">\r\n    <path clip-path=\"url(#p0dba1c9fc3)\" d=\"M 130.585079 239.758125 \r\nL 134.996146 239.758125 \r\nL 134.996146 195.830852 \r\nL 130.585079 195.830852 \r\nz\r\n\" style=\"fill:#1f77b4;\"/>\r\n   </g>\r\n   <g id=\"patch_26\">\r\n    <path clip-path=\"url(#p0dba1c9fc3)\" d=\"M 134.996146 239.758125 \r\nL 139.407213 239.758125 \r\nL 139.407213 220.932151 \r\nL 134.996146 220.932151 \r\nz\r\n\" style=\"fill:#1f77b4;\"/>\r\n   </g>\r\n   <g id=\"patch_27\">\r\n    <path clip-path=\"url(#p0dba1c9fc3)\" d=\"M 139.407213 239.758125 \r\nL 143.818281 239.758125 \r\nL 143.818281 239.758125 \r\nL 139.407213 239.758125 \r\nz\r\n\" style=\"fill:#1f77b4;\"/>\r\n   </g>\r\n   <g id=\"patch_28\">\r\n    <path clip-path=\"url(#p0dba1c9fc3)\" d=\"M 143.818281 239.758125 \r\nL 148.229348 239.758125 \r\nL 148.229348 170.729554 \r\nL 143.818281 170.729554 \r\nz\r\n\" style=\"fill:#1f77b4;\"/>\r\n   </g>\r\n   <g id=\"patch_29\">\r\n    <path clip-path=\"url(#p0dba1c9fc3)\" d=\"M 148.229348 239.758125 \r\nL 152.640415 239.758125 \r\nL 152.640415 239.758125 \r\nL 148.229348 239.758125 \r\nz\r\n\" style=\"fill:#1f77b4;\"/>\r\n   </g>\r\n   <g id=\"patch_30\">\r\n    <path clip-path=\"url(#p0dba1c9fc3)\" d=\"M 152.640415 239.758125 \r\nL 157.051482 239.758125 \r\nL 157.051482 220.932151 \r\nL 152.640415 220.932151 \r\nz\r\n\" style=\"fill:#1f77b4;\"/>\r\n   </g>\r\n   <g id=\"patch_31\">\r\n    <path clip-path=\"url(#p0dba1c9fc3)\" d=\"M 157.051482 239.758125 \r\nL 161.462549 239.758125 \r\nL 161.462549 214.656826 \r\nL 157.051482 214.656826 \r\nz\r\n\" style=\"fill:#1f77b4;\"/>\r\n   </g>\r\n   <g id=\"patch_32\">\r\n    <path clip-path=\"url(#p0dba1c9fc3)\" d=\"M 161.462549 239.758125 \r\nL 165.873617 239.758125 \r\nL 165.873617 214.656826 \r\nL 161.462549 214.656826 \r\nz\r\n\" style=\"fill:#1f77b4;\"/>\r\n   </g>\r\n   <g id=\"matplotlib.axis_1\">\r\n    <g id=\"xtick_1\">\r\n     <g id=\"line2d_1\">\r\n      <path clip-path=\"url(#p0dba1c9fc3)\" d=\"M 60.008004 239.758125 \r\nL 60.008004 22.318125 \r\n\" style=\"fill:none;stroke:#b0b0b0;stroke-linecap:square;stroke-width:0.8;\"/>\r\n     </g>\r\n     <g id=\"line2d_2\">\r\n      <defs>\r\n       <path d=\"M 0 0 \r\nL 0 3.5 \r\n\" id=\"ma51211a87d\" style=\"stroke:#000000;stroke-width:0.8;\"/>\r\n      </defs>\r\n      <g>\r\n       <use style=\"stroke:#000000;stroke-width:0.8;\" x=\"60.008004\" xlink:href=\"#ma51211a87d\" y=\"239.758125\"/>\r\n      </g>\r\n     </g>\r\n     <g id=\"text_1\">\r\n      <!-- 250 -->\r\n      <g transform=\"translate(50.464254 254.356563)scale(0.1 -0.1)\">\r\n       <defs>\r\n        <path d=\"M 19.1875 8.296875 \r\nL 53.609375 8.296875 \r\nL 53.609375 0 \r\nL 7.328125 0 \r\nL 7.328125 8.296875 \r\nQ 12.9375 14.109375 22.625 23.890625 \r\nQ 32.328125 33.6875 34.8125 36.53125 \r\nQ 39.546875 41.84375 41.421875 45.53125 \r\nQ 43.3125 49.21875 43.3125 52.78125 \r\nQ 43.3125 58.59375 39.234375 62.25 \r\nQ 35.15625 65.921875 28.609375 65.921875 \r\nQ 23.96875 65.921875 18.8125 64.3125 \r\nQ 13.671875 62.703125 7.8125 59.421875 \r\nL 7.8125 69.390625 \r\nQ 13.765625 71.78125 18.9375 73 \r\nQ 24.125 74.21875 28.421875 74.21875 \r\nQ 39.75 74.21875 46.484375 68.546875 \r\nQ 53.21875 62.890625 53.21875 53.421875 \r\nQ 53.21875 48.921875 51.53125 44.890625 \r\nQ 49.859375 40.875 45.40625 35.40625 \r\nQ 44.1875 33.984375 37.640625 27.21875 \r\nQ 31.109375 20.453125 19.1875 8.296875 \r\nz\r\n\" id=\"DejaVuSans-50\"/>\r\n        <path d=\"M 10.796875 72.90625 \r\nL 49.515625 72.90625 \r\nL 49.515625 64.59375 \r\nL 19.828125 64.59375 \r\nL 19.828125 46.734375 \r\nQ 21.96875 47.46875 24.109375 47.828125 \r\nQ 26.265625 48.1875 28.421875 48.1875 \r\nQ 40.625 48.1875 47.75 41.5 \r\nQ 54.890625 34.8125 54.890625 23.390625 \r\nQ 54.890625 11.625 47.5625 5.09375 \r\nQ 40.234375 -1.421875 26.90625 -1.421875 \r\nQ 22.3125 -1.421875 17.546875 -0.640625 \r\nQ 12.796875 0.140625 7.71875 1.703125 \r\nL 7.71875 11.625 \r\nQ 12.109375 9.234375 16.796875 8.0625 \r\nQ 21.484375 6.890625 26.703125 6.890625 \r\nQ 35.15625 6.890625 40.078125 11.328125 \r\nQ 45.015625 15.765625 45.015625 23.390625 \r\nQ 45.015625 31 40.078125 35.4375 \r\nQ 35.15625 39.890625 26.703125 39.890625 \r\nQ 22.75 39.890625 18.8125 39.015625 \r\nQ 14.890625 38.140625 10.796875 36.28125 \r\nz\r\n\" id=\"DejaVuSans-53\"/>\r\n        <path d=\"M 31.78125 66.40625 \r\nQ 24.171875 66.40625 20.328125 58.90625 \r\nQ 16.5 51.421875 16.5 36.375 \r\nQ 16.5 21.390625 20.328125 13.890625 \r\nQ 24.171875 6.390625 31.78125 6.390625 \r\nQ 39.453125 6.390625 43.28125 13.890625 \r\nQ 47.125 21.390625 47.125 36.375 \r\nQ 47.125 51.421875 43.28125 58.90625 \r\nQ 39.453125 66.40625 31.78125 66.40625 \r\nz\r\nM 31.78125 74.21875 \r\nQ 44.046875 74.21875 50.515625 64.515625 \r\nQ 56.984375 54.828125 56.984375 36.375 \r\nQ 56.984375 17.96875 50.515625 8.265625 \r\nQ 44.046875 -1.421875 31.78125 -1.421875 \r\nQ 19.53125 -1.421875 13.0625 8.265625 \r\nQ 6.59375 17.96875 6.59375 36.375 \r\nQ 6.59375 54.828125 13.0625 64.515625 \r\nQ 19.53125 74.21875 31.78125 74.21875 \r\nz\r\n\" id=\"DejaVuSans-48\"/>\r\n       </defs>\r\n       <use xlink:href=\"#DejaVuSans-50\"/>\r\n       <use x=\"63.623047\" xlink:href=\"#DejaVuSans-53\"/>\r\n       <use x=\"127.246094\" xlink:href=\"#DejaVuSans-48\"/>\r\n      </g>\r\n     </g>\r\n    </g>\r\n    <g id=\"xtick_2\">\r\n     <g id=\"line2d_3\">\r\n      <path clip-path=\"url(#p0dba1c9fc3)\" d=\"M 102.695751 239.758125 \r\nL 102.695751 22.318125 \r\n\" style=\"fill:none;stroke:#b0b0b0;stroke-linecap:square;stroke-width:0.8;\"/>\r\n     </g>\r\n     <g id=\"line2d_4\">\r\n      <g>\r\n       <use style=\"stroke:#000000;stroke-width:0.8;\" x=\"102.695751\" xlink:href=\"#ma51211a87d\" y=\"239.758125\"/>\r\n      </g>\r\n     </g>\r\n     <g id=\"text_2\">\r\n      <!-- 500 -->\r\n      <g transform=\"translate(93.152001 254.356563)scale(0.1 -0.1)\">\r\n       <use xlink:href=\"#DejaVuSans-53\"/>\r\n       <use x=\"63.623047\" xlink:href=\"#DejaVuSans-48\"/>\r\n       <use x=\"127.246094\" xlink:href=\"#DejaVuSans-48\"/>\r\n      </g>\r\n     </g>\r\n    </g>\r\n    <g id=\"xtick_3\">\r\n     <g id=\"line2d_5\">\r\n      <path clip-path=\"url(#p0dba1c9fc3)\" d=\"M 145.383498 239.758125 \r\nL 145.383498 22.318125 \r\n\" style=\"fill:none;stroke:#b0b0b0;stroke-linecap:square;stroke-width:0.8;\"/>\r\n     </g>\r\n     <g id=\"line2d_6\">\r\n      <g>\r\n       <use style=\"stroke:#000000;stroke-width:0.8;\" x=\"145.383498\" xlink:href=\"#ma51211a87d\" y=\"239.758125\"/>\r\n      </g>\r\n     </g>\r\n     <g id=\"text_3\">\r\n      <!-- 750 -->\r\n      <g transform=\"translate(135.839748 254.356563)scale(0.1 -0.1)\">\r\n       <defs>\r\n        <path d=\"M 8.203125 72.90625 \r\nL 55.078125 72.90625 \r\nL 55.078125 68.703125 \r\nL 28.609375 0 \r\nL 18.3125 0 \r\nL 43.21875 64.59375 \r\nL 8.203125 64.59375 \r\nz\r\n\" id=\"DejaVuSans-55\"/>\r\n       </defs>\r\n       <use xlink:href=\"#DejaVuSans-55\"/>\r\n       <use x=\"63.623047\" xlink:href=\"#DejaVuSans-53\"/>\r\n       <use x=\"127.246094\" xlink:href=\"#DejaVuSans-48\"/>\r\n      </g>\r\n     </g>\r\n    </g>\r\n   </g>\r\n   <g id=\"matplotlib.axis_2\">\r\n    <g id=\"ytick_1\">\r\n     <g id=\"line2d_7\">\r\n      <path clip-path=\"url(#p0dba1c9fc3)\" d=\"M 26.925 239.758125 \r\nL 172.490217 239.758125 \r\n\" style=\"fill:none;stroke:#b0b0b0;stroke-linecap:square;stroke-width:0.8;\"/>\r\n     </g>\r\n     <g id=\"line2d_8\">\r\n      <defs>\r\n       <path d=\"M 0 0 \r\nL -3.5 0 \r\n\" id=\"m1e8e1b6ad5\" style=\"stroke:#000000;stroke-width:0.8;\"/>\r\n      </defs>\r\n      <g>\r\n       <use style=\"stroke:#000000;stroke-width:0.8;\" x=\"26.925\" xlink:href=\"#m1e8e1b6ad5\" y=\"239.758125\"/>\r\n      </g>\r\n     </g>\r\n     <g id=\"text_4\">\r\n      <!-- 0 -->\r\n      <g transform=\"translate(13.5625 243.557344)scale(0.1 -0.1)\">\r\n       <use xlink:href=\"#DejaVuSans-48\"/>\r\n      </g>\r\n     </g>\r\n    </g>\r\n    <g id=\"ytick_2\">\r\n     <g id=\"line2d_9\">\r\n      <path clip-path=\"url(#p0dba1c9fc3)\" d=\"M 26.925 208.381502 \r\nL 172.490217 208.381502 \r\n\" style=\"fill:none;stroke:#b0b0b0;stroke-linecap:square;stroke-width:0.8;\"/>\r\n     </g>\r\n     <g id=\"line2d_10\">\r\n      <g>\r\n       <use style=\"stroke:#000000;stroke-width:0.8;\" x=\"26.925\" xlink:href=\"#m1e8e1b6ad5\" y=\"208.381502\"/>\r\n      </g>\r\n     </g>\r\n     <g id=\"text_5\">\r\n      <!-- 5 -->\r\n      <g transform=\"translate(13.5625 212.18072)scale(0.1 -0.1)\">\r\n       <use xlink:href=\"#DejaVuSans-53\"/>\r\n      </g>\r\n     </g>\r\n    </g>\r\n    <g id=\"ytick_3\">\r\n     <g id=\"line2d_11\">\r\n      <path clip-path=\"url(#p0dba1c9fc3)\" d=\"M 26.925 177.004878 \r\nL 172.490217 177.004878 \r\n\" style=\"fill:none;stroke:#b0b0b0;stroke-linecap:square;stroke-width:0.8;\"/>\r\n     </g>\r\n     <g id=\"line2d_12\">\r\n      <g>\r\n       <use style=\"stroke:#000000;stroke-width:0.8;\" x=\"26.925\" xlink:href=\"#m1e8e1b6ad5\" y=\"177.004878\"/>\r\n      </g>\r\n     </g>\r\n     <g id=\"text_6\">\r\n      <!-- 10 -->\r\n      <g transform=\"translate(7.2 180.804097)scale(0.1 -0.1)\">\r\n       <defs>\r\n        <path d=\"M 12.40625 8.296875 \r\nL 28.515625 8.296875 \r\nL 28.515625 63.921875 \r\nL 10.984375 60.40625 \r\nL 10.984375 69.390625 \r\nL 28.421875 72.90625 \r\nL 38.28125 72.90625 \r\nL 38.28125 8.296875 \r\nL 54.390625 8.296875 \r\nL 54.390625 0 \r\nL 12.40625 0 \r\nz\r\n\" id=\"DejaVuSans-49\"/>\r\n       </defs>\r\n       <use xlink:href=\"#DejaVuSans-49\"/>\r\n       <use x=\"63.623047\" xlink:href=\"#DejaVuSans-48\"/>\r\n      </g>\r\n     </g>\r\n    </g>\r\n    <g id=\"ytick_4\">\r\n     <g id=\"line2d_13\">\r\n      <path clip-path=\"url(#p0dba1c9fc3)\" d=\"M 26.925 145.628255 \r\nL 172.490217 145.628255 \r\n\" style=\"fill:none;stroke:#b0b0b0;stroke-linecap:square;stroke-width:0.8;\"/>\r\n     </g>\r\n     <g id=\"line2d_14\">\r\n      <g>\r\n       <use style=\"stroke:#000000;stroke-width:0.8;\" x=\"26.925\" xlink:href=\"#m1e8e1b6ad5\" y=\"145.628255\"/>\r\n      </g>\r\n     </g>\r\n     <g id=\"text_7\">\r\n      <!-- 15 -->\r\n      <g transform=\"translate(7.2 149.427474)scale(0.1 -0.1)\">\r\n       <use xlink:href=\"#DejaVuSans-49\"/>\r\n       <use x=\"63.623047\" xlink:href=\"#DejaVuSans-53\"/>\r\n      </g>\r\n     </g>\r\n    </g>\r\n    <g id=\"ytick_5\">\r\n     <g id=\"line2d_15\">\r\n      <path clip-path=\"url(#p0dba1c9fc3)\" d=\"M 26.925 114.251631 \r\nL 172.490217 114.251631 \r\n\" style=\"fill:none;stroke:#b0b0b0;stroke-linecap:square;stroke-width:0.8;\"/>\r\n     </g>\r\n     <g id=\"line2d_16\">\r\n      <g>\r\n       <use style=\"stroke:#000000;stroke-width:0.8;\" x=\"26.925\" xlink:href=\"#m1e8e1b6ad5\" y=\"114.251631\"/>\r\n      </g>\r\n     </g>\r\n     <g id=\"text_8\">\r\n      <!-- 20 -->\r\n      <g transform=\"translate(7.2 118.05085)scale(0.1 -0.1)\">\r\n       <use xlink:href=\"#DejaVuSans-50\"/>\r\n       <use x=\"63.623047\" xlink:href=\"#DejaVuSans-48\"/>\r\n      </g>\r\n     </g>\r\n    </g>\r\n    <g id=\"ytick_6\">\r\n     <g id=\"line2d_17\">\r\n      <path clip-path=\"url(#p0dba1c9fc3)\" d=\"M 26.925 82.875008 \r\nL 172.490217 82.875008 \r\n\" style=\"fill:none;stroke:#b0b0b0;stroke-linecap:square;stroke-width:0.8;\"/>\r\n     </g>\r\n     <g id=\"line2d_18\">\r\n      <g>\r\n       <use style=\"stroke:#000000;stroke-width:0.8;\" x=\"26.925\" xlink:href=\"#m1e8e1b6ad5\" y=\"82.875008\"/>\r\n      </g>\r\n     </g>\r\n     <g id=\"text_9\">\r\n      <!-- 25 -->\r\n      <g transform=\"translate(7.2 86.674227)scale(0.1 -0.1)\">\r\n       <use xlink:href=\"#DejaVuSans-50\"/>\r\n       <use x=\"63.623047\" xlink:href=\"#DejaVuSans-53\"/>\r\n      </g>\r\n     </g>\r\n    </g>\r\n    <g id=\"ytick_7\">\r\n     <g id=\"line2d_19\">\r\n      <path clip-path=\"url(#p0dba1c9fc3)\" d=\"M 26.925 51.498385 \r\nL 172.490217 51.498385 \r\n\" style=\"fill:none;stroke:#b0b0b0;stroke-linecap:square;stroke-width:0.8;\"/>\r\n     </g>\r\n     <g id=\"line2d_20\">\r\n      <g>\r\n       <use style=\"stroke:#000000;stroke-width:0.8;\" x=\"26.925\" xlink:href=\"#m1e8e1b6ad5\" y=\"51.498385\"/>\r\n      </g>\r\n     </g>\r\n     <g id=\"text_10\">\r\n      <!-- 30 -->\r\n      <g transform=\"translate(7.2 55.297603)scale(0.1 -0.1)\">\r\n       <defs>\r\n        <path d=\"M 40.578125 39.3125 \r\nQ 47.65625 37.796875 51.625 33 \r\nQ 55.609375 28.21875 55.609375 21.1875 \r\nQ 55.609375 10.40625 48.1875 4.484375 \r\nQ 40.765625 -1.421875 27.09375 -1.421875 \r\nQ 22.515625 -1.421875 17.65625 -0.515625 \r\nQ 12.796875 0.390625 7.625 2.203125 \r\nL 7.625 11.71875 \r\nQ 11.71875 9.328125 16.59375 8.109375 \r\nQ 21.484375 6.890625 26.8125 6.890625 \r\nQ 36.078125 6.890625 40.9375 10.546875 \r\nQ 45.796875 14.203125 45.796875 21.1875 \r\nQ 45.796875 27.640625 41.28125 31.265625 \r\nQ 36.765625 34.90625 28.71875 34.90625 \r\nL 20.21875 34.90625 \r\nL 20.21875 43.015625 \r\nL 29.109375 43.015625 \r\nQ 36.375 43.015625 40.234375 45.921875 \r\nQ 44.09375 48.828125 44.09375 54.296875 \r\nQ 44.09375 59.90625 40.109375 62.90625 \r\nQ 36.140625 65.921875 28.71875 65.921875 \r\nQ 24.65625 65.921875 20.015625 65.03125 \r\nQ 15.375 64.15625 9.8125 62.3125 \r\nL 9.8125 71.09375 \r\nQ 15.4375 72.65625 20.34375 73.4375 \r\nQ 25.25 74.21875 29.59375 74.21875 \r\nQ 40.828125 74.21875 47.359375 69.109375 \r\nQ 53.90625 64.015625 53.90625 55.328125 \r\nQ 53.90625 49.265625 50.4375 45.09375 \r\nQ 46.96875 40.921875 40.578125 39.3125 \r\nz\r\n\" id=\"DejaVuSans-51\"/>\r\n       </defs>\r\n       <use xlink:href=\"#DejaVuSans-51\"/>\r\n       <use x=\"63.623047\" xlink:href=\"#DejaVuSans-48\"/>\r\n      </g>\r\n     </g>\r\n    </g>\r\n   </g>\r\n   <g id=\"patch_33\">\r\n    <path d=\"M 26.925 239.758125 \r\nL 26.925 22.318125 \r\n\" style=\"fill:none;stroke:#000000;stroke-linecap:square;stroke-linejoin:miter;stroke-width:0.8;\"/>\r\n   </g>\r\n   <g id=\"patch_34\">\r\n    <path d=\"M 172.490217 239.758125 \r\nL 172.490217 22.318125 \r\n\" style=\"fill:none;stroke:#000000;stroke-linecap:square;stroke-linejoin:miter;stroke-width:0.8;\"/>\r\n   </g>\r\n   <g id=\"patch_35\">\r\n    <path d=\"M 26.925 239.758125 \r\nL 172.490217 239.758125 \r\n\" style=\"fill:none;stroke:#000000;stroke-linecap:square;stroke-linejoin:miter;stroke-width:0.8;\"/>\r\n   </g>\r\n   <g id=\"patch_36\">\r\n    <path d=\"M 26.925 22.318125 \r\nL 172.490217 22.318125 \r\n\" style=\"fill:none;stroke:#000000;stroke-linecap:square;stroke-linejoin:miter;stroke-width:0.8;\"/>\r\n   </g>\r\n   <g id=\"text_11\">\r\n    <!-- text -->\r\n    <g transform=\"translate(87.865109 16.318125)scale(0.12 -0.12)\">\r\n     <defs>\r\n      <path d=\"M 18.3125 70.21875 \r\nL 18.3125 54.6875 \r\nL 36.8125 54.6875 \r\nL 36.8125 47.703125 \r\nL 18.3125 47.703125 \r\nL 18.3125 18.015625 \r\nQ 18.3125 11.328125 20.140625 9.421875 \r\nQ 21.96875 7.515625 27.59375 7.515625 \r\nL 36.8125 7.515625 \r\nL 36.8125 0 \r\nL 27.59375 0 \r\nQ 17.1875 0 13.234375 3.875 \r\nQ 9.28125 7.765625 9.28125 18.015625 \r\nL 9.28125 47.703125 \r\nL 2.6875 47.703125 \r\nL 2.6875 54.6875 \r\nL 9.28125 54.6875 \r\nL 9.28125 70.21875 \r\nz\r\n\" id=\"DejaVuSans-116\"/>\r\n      <path d=\"M 56.203125 29.59375 \r\nL 56.203125 25.203125 \r\nL 14.890625 25.203125 \r\nQ 15.484375 15.921875 20.484375 11.0625 \r\nQ 25.484375 6.203125 34.421875 6.203125 \r\nQ 39.59375 6.203125 44.453125 7.46875 \r\nQ 49.3125 8.734375 54.109375 11.28125 \r\nL 54.109375 2.78125 \r\nQ 49.265625 0.734375 44.1875 -0.34375 \r\nQ 39.109375 -1.421875 33.890625 -1.421875 \r\nQ 20.796875 -1.421875 13.15625 6.1875 \r\nQ 5.515625 13.8125 5.515625 26.8125 \r\nQ 5.515625 40.234375 12.765625 48.109375 \r\nQ 20.015625 56 32.328125 56 \r\nQ 43.359375 56 49.78125 48.890625 \r\nQ 56.203125 41.796875 56.203125 29.59375 \r\nz\r\nM 47.21875 32.234375 \r\nQ 47.125 39.59375 43.09375 43.984375 \r\nQ 39.0625 48.390625 32.421875 48.390625 \r\nQ 24.90625 48.390625 20.390625 44.140625 \r\nQ 15.875 39.890625 15.1875 32.171875 \r\nz\r\n\" id=\"DejaVuSans-101\"/>\r\n      <path d=\"M 54.890625 54.6875 \r\nL 35.109375 28.078125 \r\nL 55.90625 0 \r\nL 45.3125 0 \r\nL 29.390625 21.484375 \r\nL 13.484375 0 \r\nL 2.875 0 \r\nL 24.125 28.609375 \r\nL 4.6875 54.6875 \r\nL 15.28125 54.6875 \r\nL 29.78125 35.203125 \r\nL 44.28125 54.6875 \r\nz\r\n\" id=\"DejaVuSans-120\"/>\r\n     </defs>\r\n     <use xlink:href=\"#DejaVuSans-116\"/>\r\n     <use x=\"39.208984\" xlink:href=\"#DejaVuSans-101\"/>\r\n     <use x=\"98.982422\" xlink:href=\"#DejaVuSans-120\"/>\r\n     <use x=\"158.162109\" xlink:href=\"#DejaVuSans-116\"/>\r\n    </g>\r\n   </g>\r\n  </g>\r\n  <g id=\"axes_2\">\r\n   <g id=\"patch_37\">\r\n    <path d=\"M 216.159783 239.758125 \r\nL 361.725 239.758125 \r\nL 361.725 22.318125 \r\nL 216.159783 22.318125 \r\nz\r\n\" style=\"fill:#ffffff;\"/>\r\n   </g>\r\n   <g id=\"patch_38\">\r\n    <path clip-path=\"url(#p5751eee557)\" d=\"M 222.776383 239.758125 \r\nL 227.187451 239.758125 \r\nL 227.187451 231.474696 \r\nL 222.776383 231.474696 \r\nz\r\n\" style=\"fill:#1f77b4;\"/>\r\n   </g>\r\n   <g id=\"patch_39\">\r\n    <path clip-path=\"url(#p5751eee557)\" d=\"M 227.187451 239.758125 \r\nL 231.598518 239.758125 \r\nL 231.598518 239.758125 \r\nL 227.187451 239.758125 \r\nz\r\n\" style=\"fill:#1f77b4;\"/>\r\n   </g>\r\n   <g id=\"patch_40\">\r\n    <path clip-path=\"url(#p5751eee557)\" d=\"M 231.598518 239.758125 \r\nL 236.009585 239.758125 \r\nL 236.009585 239.758125 \r\nL 231.598518 239.758125 \r\nz\r\n\" style=\"fill:#1f77b4;\"/>\r\n   </g>\r\n   <g id=\"patch_41\">\r\n    <path clip-path=\"url(#p5751eee557)\" d=\"M 236.009585 239.758125 \r\nL 240.420652 239.758125 \r\nL 240.420652 206.624411 \r\nL 236.009585 206.624411 \r\nz\r\n\" style=\"fill:#1f77b4;\"/>\r\n   </g>\r\n   <g id=\"patch_42\">\r\n    <path clip-path=\"url(#p5751eee557)\" d=\"M 240.420652 239.758125 \r\nL 244.831719 239.758125 \r\nL 244.831719 239.758125 \r\nL 240.420652 239.758125 \r\nz\r\n\" style=\"fill:#1f77b4;\"/>\r\n   </g>\r\n   <g id=\"patch_43\">\r\n    <path clip-path=\"url(#p5751eee557)\" d=\"M 244.831719 239.758125 \r\nL 249.242787 239.758125 \r\nL 249.242787 239.758125 \r\nL 244.831719 239.758125 \r\nz\r\n\" style=\"fill:#1f77b4;\"/>\r\n   </g>\r\n   <g id=\"patch_44\">\r\n    <path clip-path=\"url(#p5751eee557)\" d=\"M 249.242787 239.758125 \r\nL 253.653854 239.758125 \r\nL 253.653854 165.207268 \r\nL 249.242787 165.207268 \r\nz\r\n\" style=\"fill:#1f77b4;\"/>\r\n   </g>\r\n   <g id=\"patch_45\">\r\n    <path clip-path=\"url(#p5751eee557)\" d=\"M 253.653854 239.758125 \r\nL 258.064921 239.758125 \r\nL 258.064921 239.758125 \r\nL 253.653854 239.758125 \r\nz\r\n\" style=\"fill:#1f77b4;\"/>\r\n   </g>\r\n   <g id=\"patch_46\">\r\n    <path clip-path=\"url(#p5751eee557)\" d=\"M 258.064921 239.758125 \r\nL 262.475988 239.758125 \r\nL 262.475988 239.758125 \r\nL 258.064921 239.758125 \r\nz\r\n\" style=\"fill:#1f77b4;\"/>\r\n   </g>\r\n   <g id=\"patch_47\">\r\n    <path clip-path=\"url(#p5751eee557)\" d=\"M 262.475988 239.758125 \r\nL 266.887055 239.758125 \r\nL 266.887055 132.073554 \r\nL 262.475988 132.073554 \r\nz\r\n\" style=\"fill:#1f77b4;\"/>\r\n   </g>\r\n   <g id=\"patch_48\">\r\n    <path clip-path=\"url(#p5751eee557)\" d=\"M 266.887055 239.758125 \r\nL 271.298123 239.758125 \r\nL 271.298123 239.758125 \r\nL 266.887055 239.758125 \r\nz\r\n\" style=\"fill:#1f77b4;\"/>\r\n   </g>\r\n   <g id=\"patch_49\">\r\n    <path clip-path=\"url(#p5751eee557)\" d=\"M 271.298123 239.758125 \r\nL 275.70919 239.758125 \r\nL 275.70919 239.758125 \r\nL 271.298123 239.758125 \r\nz\r\n\" style=\"fill:#1f77b4;\"/>\r\n   </g>\r\n   <g id=\"patch_50\">\r\n    <path clip-path=\"url(#p5751eee557)\" d=\"M 275.70919 239.758125 \r\nL 280.120257 239.758125 \r\nL 280.120257 40.955839 \r\nL 275.70919 40.955839 \r\nz\r\n\" style=\"fill:#1f77b4;\"/>\r\n   </g>\r\n   <g id=\"patch_51\">\r\n    <path clip-path=\"url(#p5751eee557)\" d=\"M 280.120257 239.758125 \r\nL 284.531324 239.758125 \r\nL 284.531324 239.758125 \r\nL 280.120257 239.758125 \r\nz\r\n\" style=\"fill:#1f77b4;\"/>\r\n   </g>\r\n   <g id=\"patch_52\">\r\n    <path clip-path=\"url(#p5751eee557)\" d=\"M 284.531324 239.758125 \r\nL 288.942391 239.758125 \r\nL 288.942391 239.758125 \r\nL 284.531324 239.758125 \r\nz\r\n\" style=\"fill:#1f77b4;\"/>\r\n   </g>\r\n   <g id=\"patch_53\">\r\n    <path clip-path=\"url(#p5751eee557)\" d=\"M 288.942391 239.758125 \r\nL 293.353458 239.758125 \r\nL 293.353458 32.672411 \r\nL 288.942391 32.672411 \r\nz\r\n\" style=\"fill:#1f77b4;\"/>\r\n   </g>\r\n   <g id=\"patch_54\">\r\n    <path clip-path=\"url(#p5751eee557)\" d=\"M 293.353458 239.758125 \r\nL 297.764526 239.758125 \r\nL 297.764526 239.758125 \r\nL 293.353458 239.758125 \r\nz\r\n\" style=\"fill:#1f77b4;\"/>\r\n   </g>\r\n   <g id=\"patch_55\">\r\n    <path clip-path=\"url(#p5751eee557)\" d=\"M 297.764526 239.758125 \r\nL 302.175593 239.758125 \r\nL 302.175593 239.758125 \r\nL 297.764526 239.758125 \r\nz\r\n\" style=\"fill:#1f77b4;\"/>\r\n   </g>\r\n   <g id=\"patch_56\">\r\n    <path clip-path=\"url(#p5751eee557)\" d=\"M 302.175593 239.758125 \r\nL 306.58666 239.758125 \r\nL 306.58666 54.761554 \r\nL 302.175593 54.761554 \r\nz\r\n\" style=\"fill:#1f77b4;\"/>\r\n   </g>\r\n   <g id=\"patch_57\">\r\n    <path clip-path=\"url(#p5751eee557)\" d=\"M 306.58666 239.758125 \r\nL 310.997727 239.758125 \r\nL 310.997727 239.758125 \r\nL 306.58666 239.758125 \r\nz\r\n\" style=\"fill:#1f77b4;\"/>\r\n   </g>\r\n   <g id=\"patch_58\">\r\n    <path clip-path=\"url(#p5751eee557)\" d=\"M 310.997727 239.758125 \r\nL 315.408794 239.758125 \r\nL 315.408794 239.758125 \r\nL 310.997727 239.758125 \r\nz\r\n\" style=\"fill:#1f77b4;\"/>\r\n   </g>\r\n   <g id=\"patch_59\">\r\n    <path clip-path=\"url(#p5751eee557)\" d=\"M 315.408794 239.758125 \r\nL 319.819862 239.758125 \r\nL 319.819862 154.162696 \r\nL 315.408794 154.162696 \r\nz\r\n\" style=\"fill:#1f77b4;\"/>\r\n   </g>\r\n   <g id=\"patch_60\">\r\n    <path clip-path=\"url(#p5751eee557)\" d=\"M 319.819862 239.758125 \r\nL 324.230929 239.758125 \r\nL 324.230929 239.758125 \r\nL 319.819862 239.758125 \r\nz\r\n\" style=\"fill:#1f77b4;\"/>\r\n   </g>\r\n   <g id=\"patch_61\">\r\n    <path clip-path=\"url(#p5751eee557)\" d=\"M 324.230929 239.758125 \r\nL 328.641996 239.758125 \r\nL 328.641996 239.758125 \r\nL 324.230929 239.758125 \r\nz\r\n\" style=\"fill:#1f77b4;\"/>\r\n   </g>\r\n   <g id=\"patch_62\">\r\n    <path clip-path=\"url(#p5751eee557)\" d=\"M 328.641996 239.758125 \r\nL 333.053063 239.758125 \r\nL 333.053063 209.385554 \r\nL 328.641996 209.385554 \r\nz\r\n\" style=\"fill:#1f77b4;\"/>\r\n   </g>\r\n   <g id=\"patch_63\">\r\n    <path clip-path=\"url(#p5751eee557)\" d=\"M 333.053063 239.758125 \r\nL 337.46413 239.758125 \r\nL 337.46413 239.758125 \r\nL 333.053063 239.758125 \r\nz\r\n\" style=\"fill:#1f77b4;\"/>\r\n   </g>\r\n   <g id=\"patch_64\">\r\n    <path clip-path=\"url(#p5751eee557)\" d=\"M 337.46413 239.758125 \r\nL 341.875198 239.758125 \r\nL 341.875198 239.758125 \r\nL 337.46413 239.758125 \r\nz\r\n\" style=\"fill:#1f77b4;\"/>\r\n   </g>\r\n   <g id=\"patch_65\">\r\n    <path clip-path=\"url(#p5751eee557)\" d=\"M 341.875198 239.758125 \r\nL 346.286265 239.758125 \r\nL 346.286265 214.907839 \r\nL 341.875198 214.907839 \r\nz\r\n\" style=\"fill:#1f77b4;\"/>\r\n   </g>\r\n   <g id=\"patch_66\">\r\n    <path clip-path=\"url(#p5751eee557)\" d=\"M 346.286265 239.758125 \r\nL 350.697332 239.758125 \r\nL 350.697332 239.758125 \r\nL 346.286265 239.758125 \r\nz\r\n\" style=\"fill:#1f77b4;\"/>\r\n   </g>\r\n   <g id=\"patch_67\">\r\n    <path clip-path=\"url(#p5751eee557)\" d=\"M 350.697332 239.758125 \r\nL 355.108399 239.758125 \r\nL 355.108399 234.235839 \r\nL 350.697332 234.235839 \r\nz\r\n\" style=\"fill:#1f77b4;\"/>\r\n   </g>\r\n   <g id=\"matplotlib.axis_3\">\r\n    <g id=\"xtick_4\">\r\n     <g id=\"line2d_21\">\r\n      <path clip-path=\"url(#p5751eee557)\" d=\"M 222.776383 239.758125 \r\nL 222.776383 22.318125 \r\n\" style=\"fill:none;stroke:#b0b0b0;stroke-linecap:square;stroke-width:0.8;\"/>\r\n     </g>\r\n     <g id=\"line2d_22\">\r\n      <g>\r\n       <use style=\"stroke:#000000;stroke-width:0.8;\" x=\"222.776383\" xlink:href=\"#ma51211a87d\" y=\"239.758125\"/>\r\n      </g>\r\n     </g>\r\n     <g id=\"text_12\">\r\n      <!-- 5 -->\r\n      <g transform=\"translate(219.595133 254.356563)scale(0.1 -0.1)\">\r\n       <use xlink:href=\"#DejaVuSans-53\"/>\r\n      </g>\r\n     </g>\r\n    </g>\r\n    <g id=\"xtick_5\">\r\n     <g id=\"line2d_23\">\r\n      <path clip-path=\"url(#p5751eee557)\" d=\"M 288.942391 239.758125 \r\nL 288.942391 22.318125 \r\n\" style=\"fill:none;stroke:#b0b0b0;stroke-linecap:square;stroke-width:0.8;\"/>\r\n     </g>\r\n     <g id=\"line2d_24\">\r\n      <g>\r\n       <use style=\"stroke:#000000;stroke-width:0.8;\" x=\"288.942391\" xlink:href=\"#ma51211a87d\" y=\"239.758125\"/>\r\n      </g>\r\n     </g>\r\n     <g id=\"text_13\">\r\n      <!-- 10 -->\r\n      <g transform=\"translate(282.579891 254.356563)scale(0.1 -0.1)\">\r\n       <use xlink:href=\"#DejaVuSans-49\"/>\r\n       <use x=\"63.623047\" xlink:href=\"#DejaVuSans-48\"/>\r\n      </g>\r\n     </g>\r\n    </g>\r\n    <g id=\"xtick_6\">\r\n     <g id=\"line2d_25\">\r\n      <path clip-path=\"url(#p5751eee557)\" d=\"M 355.108399 239.758125 \r\nL 355.108399 22.318125 \r\n\" style=\"fill:none;stroke:#b0b0b0;stroke-linecap:square;stroke-width:0.8;\"/>\r\n     </g>\r\n     <g id=\"line2d_26\">\r\n      <g>\r\n       <use style=\"stroke:#000000;stroke-width:0.8;\" x=\"355.108399\" xlink:href=\"#ma51211a87d\" y=\"239.758125\"/>\r\n      </g>\r\n     </g>\r\n     <g id=\"text_14\">\r\n      <!-- 15 -->\r\n      <g transform=\"translate(348.745899 254.356563)scale(0.1 -0.1)\">\r\n       <use xlink:href=\"#DejaVuSans-49\"/>\r\n       <use x=\"63.623047\" xlink:href=\"#DejaVuSans-53\"/>\r\n      </g>\r\n     </g>\r\n    </g>\r\n   </g>\r\n   <g id=\"matplotlib.axis_4\">\r\n    <g id=\"ytick_8\">\r\n     <g id=\"line2d_27\">\r\n      <path clip-path=\"url(#p5751eee557)\" d=\"M 216.159783 239.758125 \r\nL 361.725 239.758125 \r\n\" style=\"fill:none;stroke:#b0b0b0;stroke-linecap:square;stroke-width:0.8;\"/>\r\n     </g>\r\n     <g id=\"line2d_28\">\r\n      <g>\r\n       <use style=\"stroke:#000000;stroke-width:0.8;\" x=\"216.159783\" xlink:href=\"#m1e8e1b6ad5\" y=\"239.758125\"/>\r\n      </g>\r\n     </g>\r\n     <g id=\"text_15\">\r\n      <!-- 0 -->\r\n      <g transform=\"translate(202.797283 243.557344)scale(0.1 -0.1)\">\r\n       <use xlink:href=\"#DejaVuSans-48\"/>\r\n      </g>\r\n     </g>\r\n    </g>\r\n    <g id=\"ytick_9\">\r\n     <g id=\"line2d_29\">\r\n      <path clip-path=\"url(#p5751eee557)\" d=\"M 216.159783 212.146696 \r\nL 361.725 212.146696 \r\n\" style=\"fill:none;stroke:#b0b0b0;stroke-linecap:square;stroke-width:0.8;\"/>\r\n     </g>\r\n     <g id=\"line2d_30\">\r\n      <g>\r\n       <use style=\"stroke:#000000;stroke-width:0.8;\" x=\"216.159783\" xlink:href=\"#m1e8e1b6ad5\" y=\"212.146696\"/>\r\n      </g>\r\n     </g>\r\n     <g id=\"text_16\">\r\n      <!-- 10 -->\r\n      <g transform=\"translate(196.434783 215.945915)scale(0.1 -0.1)\">\r\n       <use xlink:href=\"#DejaVuSans-49\"/>\r\n       <use x=\"63.623047\" xlink:href=\"#DejaVuSans-48\"/>\r\n      </g>\r\n     </g>\r\n    </g>\r\n    <g id=\"ytick_10\">\r\n     <g id=\"line2d_31\">\r\n      <path clip-path=\"url(#p5751eee557)\" d=\"M 216.159783 184.535268 \r\nL 361.725 184.535268 \r\n\" style=\"fill:none;stroke:#b0b0b0;stroke-linecap:square;stroke-width:0.8;\"/>\r\n     </g>\r\n     <g id=\"line2d_32\">\r\n      <g>\r\n       <use style=\"stroke:#000000;stroke-width:0.8;\" x=\"216.159783\" xlink:href=\"#m1e8e1b6ad5\" y=\"184.535268\"/>\r\n      </g>\r\n     </g>\r\n     <g id=\"text_17\">\r\n      <!-- 20 -->\r\n      <g transform=\"translate(196.434783 188.334487)scale(0.1 -0.1)\">\r\n       <use xlink:href=\"#DejaVuSans-50\"/>\r\n       <use x=\"63.623047\" xlink:href=\"#DejaVuSans-48\"/>\r\n      </g>\r\n     </g>\r\n    </g>\r\n    <g id=\"ytick_11\">\r\n     <g id=\"line2d_33\">\r\n      <path clip-path=\"url(#p5751eee557)\" d=\"M 216.159783 156.923839 \r\nL 361.725 156.923839 \r\n\" style=\"fill:none;stroke:#b0b0b0;stroke-linecap:square;stroke-width:0.8;\"/>\r\n     </g>\r\n     <g id=\"line2d_34\">\r\n      <g>\r\n       <use style=\"stroke:#000000;stroke-width:0.8;\" x=\"216.159783\" xlink:href=\"#m1e8e1b6ad5\" y=\"156.923839\"/>\r\n      </g>\r\n     </g>\r\n     <g id=\"text_18\">\r\n      <!-- 30 -->\r\n      <g transform=\"translate(196.434783 160.723058)scale(0.1 -0.1)\">\r\n       <use xlink:href=\"#DejaVuSans-51\"/>\r\n       <use x=\"63.623047\" xlink:href=\"#DejaVuSans-48\"/>\r\n      </g>\r\n     </g>\r\n    </g>\r\n    <g id=\"ytick_12\">\r\n     <g id=\"line2d_35\">\r\n      <path clip-path=\"url(#p5751eee557)\" d=\"M 216.159783 129.312411 \r\nL 361.725 129.312411 \r\n\" style=\"fill:none;stroke:#b0b0b0;stroke-linecap:square;stroke-width:0.8;\"/>\r\n     </g>\r\n     <g id=\"line2d_36\">\r\n      <g>\r\n       <use style=\"stroke:#000000;stroke-width:0.8;\" x=\"216.159783\" xlink:href=\"#m1e8e1b6ad5\" y=\"129.312411\"/>\r\n      </g>\r\n     </g>\r\n     <g id=\"text_19\">\r\n      <!-- 40 -->\r\n      <g transform=\"translate(196.434783 133.111629)scale(0.1 -0.1)\">\r\n       <defs>\r\n        <path d=\"M 37.796875 64.3125 \r\nL 12.890625 25.390625 \r\nL 37.796875 25.390625 \r\nz\r\nM 35.203125 72.90625 \r\nL 47.609375 72.90625 \r\nL 47.609375 25.390625 \r\nL 58.015625 25.390625 \r\nL 58.015625 17.1875 \r\nL 47.609375 17.1875 \r\nL 47.609375 0 \r\nL 37.796875 0 \r\nL 37.796875 17.1875 \r\nL 4.890625 17.1875 \r\nL 4.890625 26.703125 \r\nz\r\n\" id=\"DejaVuSans-52\"/>\r\n       </defs>\r\n       <use xlink:href=\"#DejaVuSans-52\"/>\r\n       <use x=\"63.623047\" xlink:href=\"#DejaVuSans-48\"/>\r\n      </g>\r\n     </g>\r\n    </g>\r\n    <g id=\"ytick_13\">\r\n     <g id=\"line2d_37\">\r\n      <path clip-path=\"url(#p5751eee557)\" d=\"M 216.159783 101.700982 \r\nL 361.725 101.700982 \r\n\" style=\"fill:none;stroke:#b0b0b0;stroke-linecap:square;stroke-width:0.8;\"/>\r\n     </g>\r\n     <g id=\"line2d_38\">\r\n      <g>\r\n       <use style=\"stroke:#000000;stroke-width:0.8;\" x=\"216.159783\" xlink:href=\"#m1e8e1b6ad5\" y=\"101.700982\"/>\r\n      </g>\r\n     </g>\r\n     <g id=\"text_20\">\r\n      <!-- 50 -->\r\n      <g transform=\"translate(196.434783 105.500201)scale(0.1 -0.1)\">\r\n       <use xlink:href=\"#DejaVuSans-53\"/>\r\n       <use x=\"63.623047\" xlink:href=\"#DejaVuSans-48\"/>\r\n      </g>\r\n     </g>\r\n    </g>\r\n    <g id=\"ytick_14\">\r\n     <g id=\"line2d_39\">\r\n      <path clip-path=\"url(#p5751eee557)\" d=\"M 216.159783 74.089554 \r\nL 361.725 74.089554 \r\n\" style=\"fill:none;stroke:#b0b0b0;stroke-linecap:square;stroke-width:0.8;\"/>\r\n     </g>\r\n     <g id=\"line2d_40\">\r\n      <g>\r\n       <use style=\"stroke:#000000;stroke-width:0.8;\" x=\"216.159783\" xlink:href=\"#m1e8e1b6ad5\" y=\"74.089554\"/>\r\n      </g>\r\n     </g>\r\n     <g id=\"text_21\">\r\n      <!-- 60 -->\r\n      <g transform=\"translate(196.434783 77.888772)scale(0.1 -0.1)\">\r\n       <defs>\r\n        <path d=\"M 33.015625 40.375 \r\nQ 26.375 40.375 22.484375 35.828125 \r\nQ 18.609375 31.296875 18.609375 23.390625 \r\nQ 18.609375 15.53125 22.484375 10.953125 \r\nQ 26.375 6.390625 33.015625 6.390625 \r\nQ 39.65625 6.390625 43.53125 10.953125 \r\nQ 47.40625 15.53125 47.40625 23.390625 \r\nQ 47.40625 31.296875 43.53125 35.828125 \r\nQ 39.65625 40.375 33.015625 40.375 \r\nz\r\nM 52.59375 71.296875 \r\nL 52.59375 62.3125 \r\nQ 48.875 64.0625 45.09375 64.984375 \r\nQ 41.3125 65.921875 37.59375 65.921875 \r\nQ 27.828125 65.921875 22.671875 59.328125 \r\nQ 17.53125 52.734375 16.796875 39.40625 \r\nQ 19.671875 43.65625 24.015625 45.921875 \r\nQ 28.375 48.1875 33.59375 48.1875 \r\nQ 44.578125 48.1875 50.953125 41.515625 \r\nQ 57.328125 34.859375 57.328125 23.390625 \r\nQ 57.328125 12.15625 50.6875 5.359375 \r\nQ 44.046875 -1.421875 33.015625 -1.421875 \r\nQ 20.359375 -1.421875 13.671875 8.265625 \r\nQ 6.984375 17.96875 6.984375 36.375 \r\nQ 6.984375 53.65625 15.1875 63.9375 \r\nQ 23.390625 74.21875 37.203125 74.21875 \r\nQ 40.921875 74.21875 44.703125 73.484375 \r\nQ 48.484375 72.75 52.59375 71.296875 \r\nz\r\n\" id=\"DejaVuSans-54\"/>\r\n       </defs>\r\n       <use xlink:href=\"#DejaVuSans-54\"/>\r\n       <use x=\"63.623047\" xlink:href=\"#DejaVuSans-48\"/>\r\n      </g>\r\n     </g>\r\n    </g>\r\n    <g id=\"ytick_15\">\r\n     <g id=\"line2d_41\">\r\n      <path clip-path=\"url(#p5751eee557)\" d=\"M 216.159783 46.478125 \r\nL 361.725 46.478125 \r\n\" style=\"fill:none;stroke:#b0b0b0;stroke-linecap:square;stroke-width:0.8;\"/>\r\n     </g>\r\n     <g id=\"line2d_42\">\r\n      <g>\r\n       <use style=\"stroke:#000000;stroke-width:0.8;\" x=\"216.159783\" xlink:href=\"#m1e8e1b6ad5\" y=\"46.478125\"/>\r\n      </g>\r\n     </g>\r\n     <g id=\"text_22\">\r\n      <!-- 70 -->\r\n      <g transform=\"translate(196.434783 50.277344)scale(0.1 -0.1)\">\r\n       <use xlink:href=\"#DejaVuSans-55\"/>\r\n       <use x=\"63.623047\" xlink:href=\"#DejaVuSans-48\"/>\r\n      </g>\r\n     </g>\r\n    </g>\r\n   </g>\r\n   <g id=\"patch_68\">\r\n    <path d=\"M 216.159783 239.758125 \r\nL 216.159783 22.318125 \r\n\" style=\"fill:none;stroke:#000000;stroke-linecap:square;stroke-linejoin:miter;stroke-width:0.8;\"/>\r\n   </g>\r\n   <g id=\"patch_69\">\r\n    <path d=\"M 361.725 239.758125 \r\nL 361.725 22.318125 \r\n\" style=\"fill:none;stroke:#000000;stroke-linecap:square;stroke-linejoin:miter;stroke-width:0.8;\"/>\r\n   </g>\r\n   <g id=\"patch_70\">\r\n    <path d=\"M 216.159783 239.758125 \r\nL 361.725 239.758125 \r\n\" style=\"fill:none;stroke:#000000;stroke-linecap:square;stroke-linejoin:miter;stroke-width:0.8;\"/>\r\n   </g>\r\n   <g id=\"patch_71\">\r\n    <path d=\"M 216.159783 22.318125 \r\nL 361.725 22.318125 \r\n\" style=\"fill:none;stroke:#000000;stroke-linecap:square;stroke-linejoin:miter;stroke-width:0.8;\"/>\r\n   </g>\r\n   <g id=\"text_23\">\r\n    <!-- summary -->\r\n    <g transform=\"translate(260.630829 16.318125)scale(0.12 -0.12)\">\r\n     <defs>\r\n      <path d=\"M 44.28125 53.078125 \r\nL 44.28125 44.578125 \r\nQ 40.484375 46.53125 36.375 47.5 \r\nQ 32.28125 48.484375 27.875 48.484375 \r\nQ 21.1875 48.484375 17.84375 46.4375 \r\nQ 14.5 44.390625 14.5 40.28125 \r\nQ 14.5 37.15625 16.890625 35.375 \r\nQ 19.28125 33.59375 26.515625 31.984375 \r\nL 29.59375 31.296875 \r\nQ 39.15625 29.25 43.1875 25.515625 \r\nQ 47.21875 21.78125 47.21875 15.09375 \r\nQ 47.21875 7.46875 41.1875 3.015625 \r\nQ 35.15625 -1.421875 24.609375 -1.421875 \r\nQ 20.21875 -1.421875 15.453125 -0.5625 \r\nQ 10.6875 0.296875 5.421875 2 \r\nL 5.421875 11.28125 \r\nQ 10.40625 8.6875 15.234375 7.390625 \r\nQ 20.0625 6.109375 24.8125 6.109375 \r\nQ 31.15625 6.109375 34.5625 8.28125 \r\nQ 37.984375 10.453125 37.984375 14.40625 \r\nQ 37.984375 18.0625 35.515625 20.015625 \r\nQ 33.0625 21.96875 24.703125 23.78125 \r\nL 21.578125 24.515625 \r\nQ 13.234375 26.265625 9.515625 29.90625 \r\nQ 5.8125 33.546875 5.8125 39.890625 \r\nQ 5.8125 47.609375 11.28125 51.796875 \r\nQ 16.75 56 26.8125 56 \r\nQ 31.78125 56 36.171875 55.265625 \r\nQ 40.578125 54.546875 44.28125 53.078125 \r\nz\r\n\" id=\"DejaVuSans-115\"/>\r\n      <path d=\"M 8.5 21.578125 \r\nL 8.5 54.6875 \r\nL 17.484375 54.6875 \r\nL 17.484375 21.921875 \r\nQ 17.484375 14.15625 20.5 10.265625 \r\nQ 23.53125 6.390625 29.59375 6.390625 \r\nQ 36.859375 6.390625 41.078125 11.03125 \r\nQ 45.3125 15.671875 45.3125 23.6875 \r\nL 45.3125 54.6875 \r\nL 54.296875 54.6875 \r\nL 54.296875 0 \r\nL 45.3125 0 \r\nL 45.3125 8.40625 \r\nQ 42.046875 3.421875 37.71875 1 \r\nQ 33.40625 -1.421875 27.6875 -1.421875 \r\nQ 18.265625 -1.421875 13.375 4.4375 \r\nQ 8.5 10.296875 8.5 21.578125 \r\nz\r\nM 31.109375 56 \r\nz\r\n\" id=\"DejaVuSans-117\"/>\r\n      <path d=\"M 52 44.1875 \r\nQ 55.375 50.25 60.0625 53.125 \r\nQ 64.75 56 71.09375 56 \r\nQ 79.640625 56 84.28125 50.015625 \r\nQ 88.921875 44.046875 88.921875 33.015625 \r\nL 88.921875 0 \r\nL 79.890625 0 \r\nL 79.890625 32.71875 \r\nQ 79.890625 40.578125 77.09375 44.375 \r\nQ 74.3125 48.1875 68.609375 48.1875 \r\nQ 61.625 48.1875 57.5625 43.546875 \r\nQ 53.515625 38.921875 53.515625 30.90625 \r\nL 53.515625 0 \r\nL 44.484375 0 \r\nL 44.484375 32.71875 \r\nQ 44.484375 40.625 41.703125 44.40625 \r\nQ 38.921875 48.1875 33.109375 48.1875 \r\nQ 26.21875 48.1875 22.15625 43.53125 \r\nQ 18.109375 38.875 18.109375 30.90625 \r\nL 18.109375 0 \r\nL 9.078125 0 \r\nL 9.078125 54.6875 \r\nL 18.109375 54.6875 \r\nL 18.109375 46.1875 \r\nQ 21.1875 51.21875 25.484375 53.609375 \r\nQ 29.78125 56 35.6875 56 \r\nQ 41.65625 56 45.828125 52.96875 \r\nQ 50 49.953125 52 44.1875 \r\nz\r\n\" id=\"DejaVuSans-109\"/>\r\n      <path d=\"M 34.28125 27.484375 \r\nQ 23.390625 27.484375 19.1875 25 \r\nQ 14.984375 22.515625 14.984375 16.5 \r\nQ 14.984375 11.71875 18.140625 8.90625 \r\nQ 21.296875 6.109375 26.703125 6.109375 \r\nQ 34.1875 6.109375 38.703125 11.40625 \r\nQ 43.21875 16.703125 43.21875 25.484375 \r\nL 43.21875 27.484375 \r\nz\r\nM 52.203125 31.203125 \r\nL 52.203125 0 \r\nL 43.21875 0 \r\nL 43.21875 8.296875 \r\nQ 40.140625 3.328125 35.546875 0.953125 \r\nQ 30.953125 -1.421875 24.3125 -1.421875 \r\nQ 15.921875 -1.421875 10.953125 3.296875 \r\nQ 6 8.015625 6 15.921875 \r\nQ 6 25.140625 12.171875 29.828125 \r\nQ 18.359375 34.515625 30.609375 34.515625 \r\nL 43.21875 34.515625 \r\nL 43.21875 35.40625 \r\nQ 43.21875 41.609375 39.140625 45 \r\nQ 35.0625 48.390625 27.6875 48.390625 \r\nQ 23 48.390625 18.546875 47.265625 \r\nQ 14.109375 46.140625 10.015625 43.890625 \r\nL 10.015625 52.203125 \r\nQ 14.9375 54.109375 19.578125 55.046875 \r\nQ 24.21875 56 28.609375 56 \r\nQ 40.484375 56 46.34375 49.84375 \r\nQ 52.203125 43.703125 52.203125 31.203125 \r\nz\r\n\" id=\"DejaVuSans-97\"/>\r\n      <path d=\"M 41.109375 46.296875 \r\nQ 39.59375 47.171875 37.8125 47.578125 \r\nQ 36.03125 48 33.890625 48 \r\nQ 26.265625 48 22.1875 43.046875 \r\nQ 18.109375 38.09375 18.109375 28.8125 \r\nL 18.109375 0 \r\nL 9.078125 0 \r\nL 9.078125 54.6875 \r\nL 18.109375 54.6875 \r\nL 18.109375 46.1875 \r\nQ 20.953125 51.171875 25.484375 53.578125 \r\nQ 30.03125 56 36.53125 56 \r\nQ 37.453125 56 38.578125 55.875 \r\nQ 39.703125 55.765625 41.0625 55.515625 \r\nz\r\n\" id=\"DejaVuSans-114\"/>\r\n      <path d=\"M 32.171875 -5.078125 \r\nQ 28.375 -14.84375 24.75 -17.8125 \r\nQ 21.140625 -20.796875 15.09375 -20.796875 \r\nL 7.90625 -20.796875 \r\nL 7.90625 -13.28125 \r\nL 13.1875 -13.28125 \r\nQ 16.890625 -13.28125 18.9375 -11.515625 \r\nQ 21 -9.765625 23.484375 -3.21875 \r\nL 25.09375 0.875 \r\nL 2.984375 54.6875 \r\nL 12.5 54.6875 \r\nL 29.59375 11.921875 \r\nL 46.6875 54.6875 \r\nL 56.203125 54.6875 \r\nz\r\n\" id=\"DejaVuSans-121\"/>\r\n     </defs>\r\n     <use xlink:href=\"#DejaVuSans-115\"/>\r\n     <use x=\"52.099609\" xlink:href=\"#DejaVuSans-117\"/>\r\n     <use x=\"115.478516\" xlink:href=\"#DejaVuSans-109\"/>\r\n     <use x=\"212.890625\" xlink:href=\"#DejaVuSans-109\"/>\r\n     <use x=\"310.302734\" xlink:href=\"#DejaVuSans-97\"/>\r\n     <use x=\"371.582031\" xlink:href=\"#DejaVuSans-114\"/>\r\n     <use x=\"412.695312\" xlink:href=\"#DejaVuSans-121\"/>\r\n    </g>\r\n   </g>\r\n  </g>\r\n </g>\r\n <defs>\r\n  <clipPath id=\"p0dba1c9fc3\">\r\n   <rect height=\"217.44\" width=\"145.565217\" x=\"26.925\" y=\"22.318125\"/>\r\n  </clipPath>\r\n  <clipPath id=\"p5751eee557\">\r\n   <rect height=\"217.44\" width=\"145.565217\" x=\"216.159783\" y=\"22.318125\"/>\r\n  </clipPath>\r\n </defs>\r\n</svg>\r\n",
            "image/png": "[encoded data removed]"
          },
          "metadata": {
            "needs_background": "light"
          }
        }
      ]
    },
    {
      "cell_type": "code",
      "metadata": {
        "id": "85x_0XiZQoNq",
        "outputId": "81e129ce-32d8-4b89-c4ad-a5228466c951"
      },
      "source": [
        "cnt=0\n",
        "for i in data['cleaned_highlight']:\n",
        "    if(len(i.split())<=14):\n",
        "        cnt=cnt+1\n",
        "print(cnt/len(data['cleaned_highlight']))"
      ],
      "execution_count": 36,
      "outputs": [
        {
          "output_type": "stream",
          "name": "stdout",
          "text": [
            "0.9942528735632183\n"
          ]
        }
      ]
    },
    {
      "cell_type": "code",
      "metadata": {
        "id": "bDLPt4zfQoNr"
      },
      "source": [
        "max_text_len=300\n",
        "max_summary_len=12"
      ],
      "execution_count": 37,
      "outputs": []
    },
    {
      "cell_type": "code",
      "metadata": {
        "id": "Kfyo6JlvQoNr"
      },
      "source": [
        "#convert text sequences into integer sequences\n",
        "x_test_seq = x_tokenizer.texts_to_sequences(x_test) \n",
        "\n"
      ],
      "execution_count": 39,
      "outputs": []
    },
    {
      "cell_type": "code",
      "metadata": {
        "id": "muN-lf-9QoNs"
      },
      "source": [
        "#padding zero upto maximum length\n",
        "x_test = pad_sequences(x_test_seq,  maxlen=max_text_len, padding='post')\n",
        "\n"
      ],
      "execution_count": 40,
      "outputs": []
    },
    {
      "cell_type": "code",
      "metadata": {
        "id": "-TERcYllQoNv",
        "outputId": "779efe89-8baa-445a-836e-3ce2d46d0b85"
      },
      "source": [
        "thresh=6\n",
        "\n",
        "cnt=0\n",
        "tot_cnt=0\n",
        "freq=0\n",
        "tot_freq=0\n",
        "\n",
        "for key,value in y_tokenizer.word_counts.items():\n",
        "    tot_cnt=tot_cnt+1\n",
        "    tot_freq=tot_freq+value\n",
        "    if(value<thresh):\n",
        "        cnt=cnt+1\n",
        "        freq=freq+value\n",
        "    \n",
        "print(\"% of rare words in vocabulary:\",(cnt/tot_cnt)*100)\n",
        "print(\"Total Coverage of rare words:\",(freq/tot_freq)*100)"
      ],
      "execution_count": 41,
      "outputs": [
        {
          "output_type": "stream",
          "name": "stdout",
          "text": [
            "% of rare words in vocabulary: 75.13038910359836\nTotal Coverage of rare words: 12.006825652323979\n"
          ]
        }
      ]
    },
    {
      "cell_type": "code",
      "metadata": {
        "id": "DDbrdUH-QoNw"
      },
      "source": [
        "#convert text sequences into integer sequences\n",
        "y_test_seq    =   y_tokenizer.texts_to_sequences(y_test) \n",
        "\n",
        "#padding zero upto maximum length\n",
        "y_test    =   pad_sequences(y_test_seq, maxlen=max_summary_len, padding='post')\n"
      ],
      "execution_count": 42,
      "outputs": []
    },
    {
      "cell_type": "code",
      "metadata": {
        "id": "XT54VIVJQoNy"
      },
      "source": [
        "ind=[]\n",
        "for i in range(len(y_test)):\n",
        "    cnt=0\n",
        "    for j in y_test[i]:\n",
        "        if j!=0:\n",
        "            cnt=cnt+1\n",
        "    if(cnt==2):\n",
        "        ind.append(i)\n",
        "\n",
        "y_test=np.delete(y_test,ind, axis=0)\n",
        "x_test=np.delete(x_test,ind, axis=0)"
      ],
      "execution_count": 45,
      "outputs": []
    },
    {
      "cell_type": "markdown",
      "metadata": {
        "id": "PgffxXwQQoNy"
      },
      "source": [
        "# Saving the data"
      ]
    },
    {
      "cell_type": "code",
      "metadata": {
        "id": "EKXRJq6-QoNz"
      },
      "source": [
        "np.save(\"../final_data/x_test.npy\", x_test)\n",
        "np.save(\"../final_data/y_test.npy\", y_test)\n"
      ],
      "execution_count": 46,
      "outputs": []
    },
    {
      "cell_type": "code",
      "metadata": {
        "id": "qwFnkYLhQoOB"
      },
      "source": [],
      "execution_count": null,
      "outputs": []
    }
  ]
}