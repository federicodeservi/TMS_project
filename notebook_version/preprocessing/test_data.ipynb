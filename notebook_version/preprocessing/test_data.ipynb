{
  "nbformat": 4,
  "nbformat_minor": 0,
  "metadata": {
    "language_info": {
      "codemirror_mode": {
        "name": "ipython",
        "version": 3
      },
      "file_extension": ".py",
      "mimetype": "text/x-python",
      "name": "python",
      "nbconvert_exporter": "python",
      "pygments_lexer": "ipython3",
      "version": "3.8.5-final"
    },
    "orig_nbformat": 2,
    "kernelspec": {
      "name": "python3",
      "display_name": "Python 3.8.5 64-bit ('dsim': conda)",
      "metadata": {
        "interpreter": {
          "hash": "5db4922bf968224b7264651ce9cfe92d565015e9e8f9433dac9b1b05577b1c8f"
        }
      }
    },
    "colab": {
      "name": "model.ipynb",
      "provenance": [],
      "toc_visible": true
    },
    "accelerator": "GPU"
  },
  "cells": [
    {
      "cell_type": "markdown",
      "metadata": {
        "id": "RvkTTztiQoND"
      },
      "source": [
        "# Libraries"
      ]
    },
    {
      "cell_type": "code",
      "metadata": {
        "id": "HBf9FBoWQoNQ"
      },
      "source": [
        "# Import libraries\n",
        "\n",
        "from os import listdir\n",
        "import string\n",
        "import pandas as pd\n",
        "import numpy as np  \n",
        "import pandas as pd \n",
        "import re           \n",
        "from bs4 import BeautifulSoup \n",
        "from tensorflow.keras.preprocessing.text import Tokenizer \n",
        "from tensorflow.keras.preprocessing.sequence import pad_sequences\n",
        "from nltk.corpus import stopwords   \n",
        "from tensorflow.keras.layers import Input, LSTM, Embedding, Dense, Concatenate, TimeDistributed, Bidirectional\n",
        "from tensorflow.compat.v1.keras.layers import CuDNNLSTM\n",
        "from tensorflow.keras.models import Model\n",
        "from tensorflow.keras.callbacks import EarlyStopping\n",
        "import warnings\n",
        "import re, string, unicodedata\n",
        "import contractions\n",
        "import nltk\n",
        "import pickle\n",
        "import inflect\n",
        "from bs4 import BeautifulSoup\n",
        "import tensorflow as tf\n",
        "from nltk import word_tokenize, sent_tokenize\n",
        "from nltk.corpus import stopwords\n",
        "from nltk.stem import LancasterStemmer, WordNetLemmatizer\n",
        "lemmatizer = WordNetLemmatizer() \n",
        "\n",
        "pd.set_option(\"display.max_colwidth\", 200)\n",
        "warnings.filterwarnings(\"ignore\")"
      ],
      "execution_count": 1,
      "outputs": []
    },
    {
      "cell_type": "code",
      "metadata": {
        "colab": {
          "base_uri": "https://localhost:8080/"
        },
        "id": "_ThM5ZHZQoNU",
        "outputId": "d2589387-b2bd-4e4a-9a97-4603c5d3cc18"
      },
      "source": [
        "if tf.test.gpu_device_name(): \n",
        "    print('Default GPU Device:{}'.format(tf.test.gpu_device_name()))\n",
        "else:\n",
        "   print(\"Please install GPU version of TF\")"
      ],
      "execution_count": 2,
      "outputs": [
        {
          "output_type": "stream",
          "name": "stdout",
          "text": [
            "Default GPU Device:/device:GPU:0\n"
          ]
        }
      ]
    },
    {
      "cell_type": "markdown",
      "metadata": {
        "id": "awXv39CkQoNW"
      },
      "source": [
        "# Loading data"
      ]
    },
    {
      "cell_type": "code",
      "metadata": {
        "id": "B6v8HpO4QoNa"
      },
      "source": [
        "# load doc into memory\n",
        "def load_doc(filename):\n",
        "\tfile = open(filename, encoding='utf-8')\n",
        "\ttext = file.read()\n",
        "\tfile.close()\n",
        "\treturn text\n",
        "\n",
        "# split a document into news story and highlights\n",
        "def split_story(doc):\n",
        "\t# find first highlight\n",
        "\tindex = doc.find('@highlight')\n",
        "\t# split into story and highlights\n",
        "\tstory, highlights = doc[:index], doc[index:].split('@highlight')\n",
        "\t# strip extra white space around each highlight\n",
        "\thighlights = [h.strip() for h in highlights if len(h) > 0]\n",
        "\treturn story, highlights\n",
        "\n",
        "# load all stories in a directory\n",
        "def load_stories(directory):\n",
        "    stories = []\n",
        "    highlights =[]\n",
        "    for name in listdir(directory)[14000:16001]:\n",
        "        filename = directory + '/' + name\n",
        "\t\t# load document\n",
        "        doc = load_doc(filename)\n",
        "\t\t# split into story and highlights\n",
        "        story, highlight = split_story(doc)\n",
        "\t\t# store\n",
        "        stories.append(story)\n",
        "        highlights.append(highlight)\n",
        "    data = pd.DataFrame()\n",
        "    data[\"story\"] = stories\n",
        "    data[\"highlight\"] = highlights\n",
        "    \n",
        "    return  data"
      ],
      "execution_count": 3,
      "outputs": []
    },
    {
      "cell_type": "code",
      "metadata": {
        "id": "GmjCsvg8QoNb"
      },
      "source": [
        "# load stories\n",
        "directory = r\"C:\\Users\\feder\\Desktop\\cnn\\stories\"\n",
        "data = load_stories(directory)\n"
      ],
      "execution_count": 4,
      "outputs": []
    },
    {
      "cell_type": "code",
      "metadata": {
        "id": "UfonXeOjQoNb",
        "outputId": "87cfdcf8-b243-4758-96d2-1c20d20748ba"
      },
      "source": [
        "print('Loaded Stories %d' % len(data))"
      ],
      "execution_count": 5,
      "outputs": [
        {
          "output_type": "stream",
          "name": "stdout",
          "text": [
            "Loaded Stories 2001\n"
          ]
        }
      ]
    },
    {
      "cell_type": "markdown",
      "metadata": {
        "id": "Q-038jE7QoNc"
      },
      "source": [
        "# Cleaning and preprocessing\n"
      ]
    },
    {
      "cell_type": "code",
      "metadata": {
        "id": "dCoJrdJkQoNd",
        "outputId": "c91a27a6-681a-4874-e891-754b7f058aa4"
      },
      "source": [
        "data.head()"
      ],
      "execution_count": 6,
      "outputs": [
        {
          "output_type": "execute_result",
          "data": {
            "text/plain": [
              "                                                                                                                                                                                                     story  \\\n",
              "0  (CNN) -- United States President Barack Obama has now paved the way for imposing economic sanctions against Russia. However, these would be an ineffective and naive response by the U.S. to the cri...   \n",
              "1  (EW.com) -- Yes, you read that headline right. We now have proof that Marilyn Monroe was the sexiest woman to ever walk the earth: More than 50 years after her death, people are still willing to s...   \n",
              "2  (WIRED) -- An anarchist social worker raided by the feds wants his computers, manuscripts and pick axes back. He argues that authorities violated the U.S. Constitution and the rights of his mental...   \n",
              "3  (CNN) -- The cast of Marvel's \"Avengers: Age of Ultron\" just keeps getting better.\\n\\nOn Sunday, \"Thor\" co-star Idris Elba let it slip in an interview with the UK's Telegraph that he and Tom Hiddl...   \n",
              "4  (CNN) -- British world champion Amir Khan retained his World Boxing Association (WBA) light-welterweight title on Saturday night with a clinical stopppage victory over challenger Paulie Malignaggi...   \n",
              "\n",
              "                                                                                                                                                                                                 highlight  \n",
              "0  [Robert Pape argues economic sanctions against Russia would not work, He argues that while sanctions can hurt a regime, they cannot break it, In many cases, sanctions will make the political situa...  \n",
              "1              [Six facial x-rays of Marilyn Monroe have surfaced, They are marked with the alias name \"Joan Newman\", Executive director of Julien's Auctions says there is still demand for Monroe items]  \n",
              "2  [Elliott Madison's home is raided by the FBI on October 1, Authorities purportedly look for evidence Madison started a riot on Twitter, Madison challenges the search, saying his rights were violat...  \n",
              "3                                [Idris Elba's confirmed he'll be in \"Avengers: Age of Ultron\", The actor added that Tom Hiddleston will appear in the movie, too, \"Avengers: Age of Ultron\" opens in May]  \n",
              "4  [British world champion Amir Khan retains his WBA light-welterweight title, The 23-year-old Khan stops American Paulie Malignaggi in the 11th round, The Madison Square Garden fight marked Khan's b...  "
            ],
            "text/html": "<div>\n<style scoped>\n    .dataframe tbody tr th:only-of-type {\n        vertical-align: middle;\n    }\n\n    .dataframe tbody tr th {\n        vertical-align: top;\n    }\n\n    .dataframe thead th {\n        text-align: right;\n    }\n</style>\n<table border=\"1\" class=\"dataframe\">\n  <thead>\n    <tr style=\"text-align: right;\">\n      <th></th>\n      <th>story</th>\n      <th>highlight</th>\n    </tr>\n  </thead>\n  <tbody>\n    <tr>\n      <th>0</th>\n      <td>(CNN) -- United States President Barack Obama has now paved the way for imposing economic sanctions against Russia. However, these would be an ineffective and naive response by the U.S. to the cri...</td>\n      <td>[Robert Pape argues economic sanctions against Russia would not work, He argues that while sanctions can hurt a regime, they cannot break it, In many cases, sanctions will make the political situa...</td>\n    </tr>\n    <tr>\n      <th>1</th>\n      <td>(EW.com) -- Yes, you read that headline right. We now have proof that Marilyn Monroe was the sexiest woman to ever walk the earth: More than 50 years after her death, people are still willing to s...</td>\n      <td>[Six facial x-rays of Marilyn Monroe have surfaced, They are marked with the alias name \"Joan Newman\", Executive director of Julien's Auctions says there is still demand for Monroe items]</td>\n    </tr>\n    <tr>\n      <th>2</th>\n      <td>(WIRED) -- An anarchist social worker raided by the feds wants his computers, manuscripts and pick axes back. He argues that authorities violated the U.S. Constitution and the rights of his mental...</td>\n      <td>[Elliott Madison's home is raided by the FBI on October 1, Authorities purportedly look for evidence Madison started a riot on Twitter, Madison challenges the search, saying his rights were violat...</td>\n    </tr>\n    <tr>\n      <th>3</th>\n      <td>(CNN) -- The cast of Marvel's \"Avengers: Age of Ultron\" just keeps getting better.\\n\\nOn Sunday, \"Thor\" co-star Idris Elba let it slip in an interview with the UK's Telegraph that he and Tom Hiddl...</td>\n      <td>[Idris Elba's confirmed he'll be in \"Avengers: Age of Ultron\", The actor added that Tom Hiddleston will appear in the movie, too, \"Avengers: Age of Ultron\" opens in May]</td>\n    </tr>\n    <tr>\n      <th>4</th>\n      <td>(CNN) -- British world champion Amir Khan retained his World Boxing Association (WBA) light-welterweight title on Saturday night with a clinical stopppage victory over challenger Paulie Malignaggi...</td>\n      <td>[British world champion Amir Khan retains his WBA light-welterweight title, The 23-year-old Khan stops American Paulie Malignaggi in the 11th round, The Madison Square Garden fight marked Khan's b...</td>\n    </tr>\n  </tbody>\n</table>\n</div>"
          },
          "metadata": {},
          "execution_count": 6
        }
      ]
    },
    {
      "cell_type": "code",
      "metadata": {
        "id": "QJG1Q6RlQoNe"
      },
      "source": [
        "data = data.explode(\"highlight\")"
      ],
      "execution_count": 7,
      "outputs": []
    },
    {
      "cell_type": "code",
      "execution_count": 8,
      "metadata": {},
      "outputs": [],
      "source": [
        "data = data.drop_duplicates(subset=\"story\")"
      ]
    },
    {
      "cell_type": "markdown",
      "metadata": {
        "id": "b5m6gQtZQoNf"
      },
      "source": [
        "## Normalization"
      ]
    },
    {
      "cell_type": "code",
      "metadata": {
        "id": "aUyY22aYQoNf"
      },
      "source": [
        "stop_words = set(stopwords.words('english')) \n",
        "\n",
        "def remove_non_ascii(words):\n",
        "    \"\"\"Remove non-ASCII characters\"\"\"\n",
        "    new_words = unicodedata.normalize('NFKD', words).encode('ascii', 'ignore').decode('utf-8', 'ignore')\n",
        "    return new_words\n",
        "\n",
        "def to_lowercase(words):\n",
        "    \"\"\"Convert all characters to lowercase\"\"\"\n",
        "    new_words = words.lower()\n",
        "    return new_words\n",
        "\n",
        "def remove_punctuation(words):\n",
        "    \"\"\"Remove punctuation\"\"\"\n",
        "    new_words = re.sub(r'\\([^)]*\\)', '', words)\n",
        "    return new_words\n",
        "\n",
        "def replace_numbers(words):\n",
        "    \"\"\"Replace all integer occurrences\"\"\"\n",
        "    new_words = re.sub(\"[^a-zA-Z]\", \" \", words) \n",
        "    return new_words\n",
        "\n",
        "def remove_stopwords(words):\n",
        "    \"\"\"Remove stop words\"\"\"\n",
        "    new_words = [w for w in words.split() if not w in stop_words]\n",
        "    long_words=[]\n",
        "    for i in new_words:\n",
        "        if len(i)>=1:                  \n",
        "            long_words.append(i)   \n",
        "\n",
        "    return (\" \".join(long_words)).strip()\n",
        "\n",
        "\n",
        "def replace_contractions(words):\n",
        "    \"\"\"Replace contractions in string of text\"\"\"\n",
        "    return contractions.fix(words)\n",
        "\n",
        "def normalize(words):\n",
        "    words = remove_non_ascii(words)\n",
        "    words = to_lowercase(words)\n",
        "    words = remove_punctuation(words)\n",
        "    words = replace_numbers(words)\n",
        "    words = replace_contractions(words)\n",
        "    words = remove_stopwords(words)\n",
        "\n",
        "    return words"
      ],
      "execution_count": 9,
      "outputs": []
    },
    {
      "cell_type": "code",
      "metadata": {
        "id": "sr9PmvO4QoNg"
      },
      "source": [
        "#Call the above function\n",
        "\n",
        "cleaned_story = []\n",
        "for t in data['story']:\n",
        "    cleaned_story.append(normalize(t))\n",
        "\n",
        "cleaned_highlight = []\n",
        "for t in data['highlight']:\n",
        "    cleaned_highlight.append(normalize(t))\n",
        "\n",
        "data['normalized_text']=cleaned_story\n",
        "data['normalized_highlight']=cleaned_highlight\n",
        "data['normalized_highlight'].replace('', np.nan, inplace=True)\n",
        "data.dropna(axis=0,inplace=True)"
      ],
      "execution_count": 10,
      "outputs": []
    },
    {
      "cell_type": "markdown",
      "metadata": {
        "id": "jc4oFZUQQoNh"
      },
      "source": [
        "## Lemmatization"
      ]
    },
    {
      "cell_type": "code",
      "metadata": {
        "id": "qFvxbXBrQoNh"
      },
      "source": [
        "def lemmatize(words):\n",
        "    words = lemmatizer.lemmatize(words)\n",
        "    return words"
      ],
      "execution_count": 11,
      "outputs": []
    },
    {
      "cell_type": "code",
      "metadata": {
        "id": "B-sWoBTaQoNi"
      },
      "source": [
        "#Call the above function\n",
        "\n",
        "lemmatized_story = []\n",
        "for t in data['normalized_text']:\n",
        "    lemmatized_story.append(lemmatize(t))\n",
        "    \n",
        "lemmatized_highlight = []\n",
        "for t in data['normalized_highlight']:\n",
        "    lemmatized_highlight.append(lemmatize(t))\n",
        "\n",
        "data['cleaned_text']=lemmatized_story\n",
        "data['cleaned_highlight']=lemmatized_highlight\n",
        "data['cleaned_highlight'].replace('', np.nan, inplace=True)\n",
        "data.dropna(axis=0,inplace=True)"
      ],
      "execution_count": 12,
      "outputs": []
    },
    {
      "cell_type": "markdown",
      "metadata": {
        "id": "XvE3FYZeQoNi"
      },
      "source": [
        "## Add start and end tokens for the summarizer"
      ]
    },
    {
      "cell_type": "code",
      "metadata": {
        "id": "yT_UnkzuQoNj"
      },
      "source": [
        "data['cleaned_highlight'] = data['cleaned_highlight'].apply(lambda x : 'starttoken '+ x + ' endtoken')\n"
      ],
      "execution_count": 13,
      "outputs": []
    },
    {
      "cell_type": "markdown",
      "metadata": {
        "id": "mfe0hDOaQoNj"
      },
      "source": [
        "## Visualize results"
      ]
    },
    {
      "cell_type": "code",
      "metadata": {
        "id": "PecYGLp5QoNk",
        "outputId": "40d917ad-455e-4a0a-d934-ea99ac957db3"
      },
      "source": [
        "data = data[[\"cleaned_text\", \"cleaned_highlight\"]]\n",
        "data"
      ],
      "execution_count": 14,
      "outputs": [
        {
          "output_type": "execute_result",
          "data": {
            "text/plain": [
              "                                                                                                                                                                                                 cleaned_text  \\\n",
              "0     united states president barack obama paved way imposing economic sanctions russia however would ineffective naive response crisis ukraine economic sanctions little independent usefulness pursuit n...   \n",
              "1     yes read headline right proof marilyn monroe sexiest woman ever walk earth years death people still willing spend money facial x rays auctioned julien auctions according vanity fair six facial x r...   \n",
              "2     anarchist social worker raided feds wants computers manuscripts pick axes back argues authorities violated constitution rights mentally ill clients searching evidence broke anti rioting law twitte...   \n",
              "3     cast marvel avengers age ultron keeps getting better sunday thor co star idris elba let slip interview uk telegraph tom hiddleston appear next may avengers sequel elba played asgard guardian heimd...   \n",
              "4     british world champion amir khan retained world boxing association light welterweight title saturday night clinical stopppage victory challenger paulie malignaggi madison square garden new york ye...   \n",
              "...                                                                                                                                                                                                       ...   \n",
              "1996  former president george w bush briefly jumped back national conversation tuesday night interview tonight show bush told host jay leno miss spotlight thoroughly enjoying post presidential life wedn...   \n",
              "1997  new york governors massachusetts new hampshire declared states emergency friday high winds rain snow swept northeast leaving least million homes businesses without power ireporter candy novoa says...   \n",
              "1998  port au prince haiti like many people done time haiti gary garner needs good cry past five days salt lake city utah physician held dying man arms amputated fingers toes remember needs rest friday ...   \n",
              "1999  paul schaefer former nazi fled germany founded cult like commune chile died saturday prison hospital schaefer serving year sentence national penitentiary santiago sexually abusing children notorio...   \n",
              "2000  silver sochi austria marcel hirscher back top winning world cup slalom crystal globe hirscher defeated germany felix neureuther recording time minutes seconds win overall world cup title third yea...   \n",
              "\n",
              "                                                                              cleaned_highlight  \n",
              "0                   starttoken robert pape argues economic sanctions russia would work endtoken  \n",
              "1                                 starttoken six facial x rays marilyn monroe surfaced endtoken  \n",
              "2                                   starttoken elliott madison home raided fbi october endtoken  \n",
              "3                                  starttoken idris elba confirmed avengers age ultron endtoken  \n",
              "4     starttoken british world champion amir khan retains wba light welterweight title endtoken  \n",
              "...                                                                                         ...  \n",
              "1996        starttoken george w bush goes tonight show bill clinton gets medal freedom endtoken  \n",
              "1997        starttoken new least million without power across four northeastern states endtoken  \n",
              "1998                           starttoken doctor utah looks way home days volunteering endtoken  \n",
              "1999    starttoken former nazi officer paul schaefer dies chile cardiopulmonary arrest endtoken  \n",
              "2000                    starttoken marcel hirscher wins world cup slalom crystal globe endtoken  \n",
              "\n",
              "[1999 rows x 2 columns]"
            ],
            "text/html": "<div>\n<style scoped>\n    .dataframe tbody tr th:only-of-type {\n        vertical-align: middle;\n    }\n\n    .dataframe tbody tr th {\n        vertical-align: top;\n    }\n\n    .dataframe thead th {\n        text-align: right;\n    }\n</style>\n<table border=\"1\" class=\"dataframe\">\n  <thead>\n    <tr style=\"text-align: right;\">\n      <th></th>\n      <th>cleaned_text</th>\n      <th>cleaned_highlight</th>\n    </tr>\n  </thead>\n  <tbody>\n    <tr>\n      <th>0</th>\n      <td>united states president barack obama paved way imposing economic sanctions russia however would ineffective naive response crisis ukraine economic sanctions little independent usefulness pursuit n...</td>\n      <td>starttoken robert pape argues economic sanctions russia would work endtoken</td>\n    </tr>\n    <tr>\n      <th>1</th>\n      <td>yes read headline right proof marilyn monroe sexiest woman ever walk earth years death people still willing spend money facial x rays auctioned julien auctions according vanity fair six facial x r...</td>\n      <td>starttoken six facial x rays marilyn monroe surfaced endtoken</td>\n    </tr>\n    <tr>\n      <th>2</th>\n      <td>anarchist social worker raided feds wants computers manuscripts pick axes back argues authorities violated constitution rights mentally ill clients searching evidence broke anti rioting law twitte...</td>\n      <td>starttoken elliott madison home raided fbi october endtoken</td>\n    </tr>\n    <tr>\n      <th>3</th>\n      <td>cast marvel avengers age ultron keeps getting better sunday thor co star idris elba let slip interview uk telegraph tom hiddleston appear next may avengers sequel elba played asgard guardian heimd...</td>\n      <td>starttoken idris elba confirmed avengers age ultron endtoken</td>\n    </tr>\n    <tr>\n      <th>4</th>\n      <td>british world champion amir khan retained world boxing association light welterweight title saturday night clinical stopppage victory challenger paulie malignaggi madison square garden new york ye...</td>\n      <td>starttoken british world champion amir khan retains wba light welterweight title endtoken</td>\n    </tr>\n    <tr>\n      <th>...</th>\n      <td>...</td>\n      <td>...</td>\n    </tr>\n    <tr>\n      <th>1996</th>\n      <td>former president george w bush briefly jumped back national conversation tuesday night interview tonight show bush told host jay leno miss spotlight thoroughly enjoying post presidential life wedn...</td>\n      <td>starttoken george w bush goes tonight show bill clinton gets medal freedom endtoken</td>\n    </tr>\n    <tr>\n      <th>1997</th>\n      <td>new york governors massachusetts new hampshire declared states emergency friday high winds rain snow swept northeast leaving least million homes businesses without power ireporter candy novoa says...</td>\n      <td>starttoken new least million without power across four northeastern states endtoken</td>\n    </tr>\n    <tr>\n      <th>1998</th>\n      <td>port au prince haiti like many people done time haiti gary garner needs good cry past five days salt lake city utah physician held dying man arms amputated fingers toes remember needs rest friday ...</td>\n      <td>starttoken doctor utah looks way home days volunteering endtoken</td>\n    </tr>\n    <tr>\n      <th>1999</th>\n      <td>paul schaefer former nazi fled germany founded cult like commune chile died saturday prison hospital schaefer serving year sentence national penitentiary santiago sexually abusing children notorio...</td>\n      <td>starttoken former nazi officer paul schaefer dies chile cardiopulmonary arrest endtoken</td>\n    </tr>\n    <tr>\n      <th>2000</th>\n      <td>silver sochi austria marcel hirscher back top winning world cup slalom crystal globe hirscher defeated germany felix neureuther recording time minutes seconds win overall world cup title third yea...</td>\n      <td>starttoken marcel hirscher wins world cup slalom crystal globe endtoken</td>\n    </tr>\n  </tbody>\n</table>\n<p>1999 rows × 2 columns</p>\n</div>"
          },
          "metadata": {},
          "execution_count": 14
        }
      ]
    },
    {
      "cell_type": "code",
      "execution_count": 16,
      "metadata": {},
      "outputs": [],
      "source": [
        "data.to_csv(\"test_dataset.csv\", index=False)"
      ]
    },
    {
      "cell_type": "code",
      "execution_count": 17,
      "metadata": {},
      "outputs": [],
      "source": [
        "x_test = data['cleaned_text']\n",
        "y_test = data['cleaned_highlight']"
      ]
    },
    {
      "cell_type": "markdown",
      "metadata": {
        "id": "_jClMn9lQoNl"
      },
      "source": [
        "## Tokenization"
      ]
    },
    {
      "cell_type": "code",
      "execution_count": 18,
      "metadata": {},
      "outputs": [],
      "source": [
        "#!pip install pickle5\n",
        "import  pickle"
      ]
    },
    {
      "cell_type": "code",
      "execution_count": 19,
      "metadata": {},
      "outputs": [],
      "source": [
        "def open_test_data_y():\n",
        "    return open('../tokenizers_vars/y_tokenizer.pickle', 'rb')\n",
        "\n",
        "with open_test_data_y() as f:\n",
        "    y_tokenizer = pickle.load(f) \n",
        "\n",
        "def open_test_data_x():\n",
        "    return open('../tokenizers_vars/x_tokenizer.pickle', 'rb')\n",
        "\n",
        "with open_test_data_x() as f:\n",
        "    x_tokenizer = pickle.load(f) "
      ]
    },
    {
      "cell_type": "code",
      "metadata": {
        "id": "C9PdWeMzQoNm"
      },
      "source": [
        "from tensorflow.keras.preprocessing.text import Tokenizer \n",
        "from tensorflow.keras.preprocessing.sequence import pad_sequences\n"
      ],
      "execution_count": 20,
      "outputs": []
    },
    {
      "cell_type": "code",
      "metadata": {
        "id": "mwmnl_JxQoNm",
        "outputId": "1326a63a-1e19-4a01-b0ec-acc4e3ac9a31"
      },
      "source": [
        "thresh=4\n",
        "\n",
        "cnt=0\n",
        "tot_cnt=0\n",
        "freq=0\n",
        "tot_freq=0\n",
        "\n",
        "for key,value in x_tokenizer.word_counts.items():\n",
        "    tot_cnt=tot_cnt+1\n",
        "    tot_freq=tot_freq+value\n",
        "    if(value<thresh):\n",
        "        cnt=cnt+1\n",
        "        freq=freq+value\n",
        "    \n",
        "print(\"% of rare words in vocabulary:\",(cnt/tot_cnt)*100)\n",
        "print(\"Total Coverage of rare words:\",(freq/tot_freq)*100)"
      ],
      "execution_count": 21,
      "outputs": [
        {
          "output_type": "stream",
          "name": "stdout",
          "text": [
            "% of rare words in vocabulary: 20.37335164184758\nTotal Coverage of rare words: 0.39457576608869416\n"
          ]
        }
      ]
    },
    {
      "cell_type": "code",
      "metadata": {
        "id": "fIgnP_dtQoNo",
        "outputId": "b1b430e5-bff3-4e57-d7f0-dc5e946f27a0"
      },
      "source": [
        "\n",
        "import matplotlib.pyplot as plt\n",
        "\n",
        "text_word_count = []\n",
        "summary_word_count = []\n",
        "\n",
        "# populate the lists with sentence lengths\n",
        "for i in data['cleaned_text']:\n",
        "      text_word_count.append(len(i.split()))\n",
        "\n",
        "for i in data['cleaned_highlight']:\n",
        "      summary_word_count.append(len(i.split()))\n",
        "\n",
        "length_df = pd.DataFrame({'text':text_word_count, 'summary':summary_word_count})\n",
        "\n",
        "length_df.hist(bins = 30)\n",
        "plt.show()"
      ],
      "execution_count": 22,
      "outputs": [
        {
          "output_type": "display_data",
          "data": {
            "text/plain": "<Figure size 432x288 with 2 Axes>",
            "image/svg+xml": "<?xml version=\"1.0\" encoding=\"utf-8\" standalone=\"no\"?>\r\n<!DOCTYPE svg PUBLIC \"-//W3C//DTD SVG 1.1//EN\"\r\n  \"http://www.w3.org/Graphics/SVG/1.1/DTD/svg11.dtd\">\r\n<!-- Created with matplotlib (https://matplotlib.org/) -->\r\n<svg height=\"263.63625pt\" version=\"1.1\" viewBox=\"0 0 375.2875 263.63625\" width=\"375.2875pt\" xmlns=\"http://www.w3.org/2000/svg\" xmlns:xlink=\"http://www.w3.org/1999/xlink\">\r\n <metadata>\r\n  <rdf:RDF xmlns:cc=\"http://creativecommons.org/ns#\" xmlns:dc=\"http://purl.org/dc/elements/1.1/\" xmlns:rdf=\"http://www.w3.org/1999/02/22-rdf-syntax-ns#\">\r\n   <cc:Work>\r\n    <dc:type rdf:resource=\"http://purl.org/dc/dcmitype/StillImage\"/>\r\n    <dc:date>2021-02-06T12:15:14.486012</dc:date>\r\n    <dc:format>image/svg+xml</dc:format>\r\n    <dc:creator>\r\n     <cc:Agent>\r\n      <dc:title>Matplotlib v3.3.2, https://matplotlib.org/</dc:title>\r\n     </cc:Agent>\r\n    </dc:creator>\r\n   </cc:Work>\r\n  </rdf:RDF>\r\n </metadata>\r\n <defs>\r\n  <style type=\"text/css\">*{stroke-linecap:butt;stroke-linejoin:round;}</style>\r\n </defs>\r\n <g id=\"figure_1\">\r\n  <g id=\"patch_1\">\r\n   <path d=\"M 0 263.63625 \r\nL 375.2875 263.63625 \r\nL 375.2875 0 \r\nL 0 0 \r\nz\r\n\" style=\"fill:none;\"/>\r\n  </g>\r\n  <g id=\"axes_1\">\r\n   <g id=\"patch_2\">\r\n    <path d=\"M 33.2875 239.758125 \r\nL 178.852717 239.758125 \r\nL 178.852717 22.318125 \r\nL 33.2875 22.318125 \r\nz\r\n\" style=\"fill:#ffffff;\"/>\r\n   </g>\r\n   <g id=\"patch_3\">\r\n    <path clip-path=\"url(#p4207e2121b)\" d=\"M 39.904101 239.758125 \r\nL 44.315168 239.758125 \r\nL 44.315168 226.567952 \r\nL 39.904101 226.567952 \r\nz\r\n\" style=\"fill:#1f77b4;\"/>\r\n   </g>\r\n   <g id=\"patch_4\">\r\n    <path clip-path=\"url(#p4207e2121b)\" d=\"M 44.315168 239.758125 \r\nL 48.726235 239.758125 \r\nL 48.726235 192.273503 \r\nL 44.315168 192.273503 \r\nz\r\n\" style=\"fill:#1f77b4;\"/>\r\n   </g>\r\n   <g id=\"patch_5\">\r\n    <path clip-path=\"url(#p4207e2121b)\" d=\"M 48.726235 239.758125 \r\nL 53.137302 239.758125 \r\nL 53.137302 132.917725 \r\nL 48.726235 132.917725 \r\nz\r\n\" style=\"fill:#1f77b4;\"/>\r\n   </g>\r\n   <g id=\"patch_6\">\r\n    <path clip-path=\"url(#p4207e2121b)\" d=\"M 53.137302 239.758125 \r\nL 57.54837 239.758125 \r\nL 57.54837 84.114085 \r\nL 53.137302 84.114085 \r\nz\r\n\" style=\"fill:#1f77b4;\"/>\r\n   </g>\r\n   <g id=\"patch_7\">\r\n    <path clip-path=\"url(#p4207e2121b)\" d=\"M 57.54837 239.758125 \r\nL 61.959437 239.758125 \r\nL 61.959437 66.96686 \r\nL 57.54837 66.96686 \r\nz\r\n\" style=\"fill:#1f77b4;\"/>\r\n   </g>\r\n   <g id=\"patch_8\">\r\n    <path clip-path=\"url(#p4207e2121b)\" d=\"M 61.959437 239.758125 \r\nL 66.370504 239.758125 \r\nL 66.370504 56.414722 \r\nL 61.959437 56.414722 \r\nz\r\n\" style=\"fill:#1f77b4;\"/>\r\n   </g>\r\n   <g id=\"patch_9\">\r\n    <path clip-path=\"url(#p4207e2121b)\" d=\"M 66.370504 239.758125 \r\nL 70.781571 239.758125 \r\nL 70.781571 32.672411 \r\nL 66.370504 32.672411 \r\nz\r\n\" style=\"fill:#1f77b4;\"/>\r\n   </g>\r\n   <g id=\"patch_10\">\r\n    <path clip-path=\"url(#p4207e2121b)\" d=\"M 70.781571 239.758125 \r\nL 75.192638 239.758125 \r\nL 75.192638 43.224549 \r\nL 70.781571 43.224549 \r\nz\r\n\" style=\"fill:#1f77b4;\"/>\r\n   </g>\r\n   <g id=\"patch_11\">\r\n    <path clip-path=\"url(#p4207e2121b)\" d=\"M 75.192638 239.758125 \r\nL 79.603706 239.758125 \r\nL 79.603706 95.985241 \r\nL 75.192638 95.985241 \r\nz\r\n\" style=\"fill:#1f77b4;\"/>\r\n   </g>\r\n   <g id=\"patch_12\">\r\n    <path clip-path=\"url(#p4207e2121b)\" d=\"M 79.603706 239.758125 \r\nL 84.014773 239.758125 \r\nL 84.014773 65.647843 \r\nL 79.603706 65.647843 \r\nz\r\n\" style=\"fill:#1f77b4;\"/>\r\n   </g>\r\n   <g id=\"patch_13\">\r\n    <path clip-path=\"url(#p4207e2121b)\" d=\"M 84.014773 239.758125 \r\nL 88.42584 239.758125 \r\nL 88.42584 92.028189 \r\nL 84.014773 92.028189 \r\nz\r\n\" style=\"fill:#1f77b4;\"/>\r\n   </g>\r\n   <g id=\"patch_14\">\r\n    <path clip-path=\"url(#p4207e2121b)\" d=\"M 88.42584 239.758125 \r\nL 92.836907 239.758125 \r\nL 92.836907 82.795068 \r\nL 88.42584 82.795068 \r\nz\r\n\" style=\"fill:#1f77b4;\"/>\r\n   </g>\r\n   <g id=\"patch_15\">\r\n    <path clip-path=\"url(#p4207e2121b)\" d=\"M 92.836907 239.758125 \r\nL 97.247974 239.758125 \r\nL 97.247974 94.666223 \r\nL 92.836907 94.666223 \r\nz\r\n\" style=\"fill:#1f77b4;\"/>\r\n   </g>\r\n   <g id=\"patch_16\">\r\n    <path clip-path=\"url(#p4207e2121b)\" d=\"M 97.247974 239.758125 \r\nL 101.659042 239.758125 \r\nL 101.659042 113.132465 \r\nL 97.247974 113.132465 \r\nz\r\n\" style=\"fill:#1f77b4;\"/>\r\n   </g>\r\n   <g id=\"patch_17\">\r\n    <path clip-path=\"url(#p4207e2121b)\" d=\"M 101.659042 239.758125 \r\nL 106.070109 239.758125 \r\nL 106.070109 125.003621 \r\nL 101.659042 125.003621 \r\nz\r\n\" style=\"fill:#1f77b4;\"/>\r\n   </g>\r\n   <g id=\"patch_18\">\r\n    <path clip-path=\"url(#p4207e2121b)\" d=\"M 106.070109 239.758125 \r\nL 110.481176 239.758125 \r\nL 110.481176 143.469863 \r\nL 106.070109 143.469863 \r\nz\r\n\" style=\"fill:#1f77b4;\"/>\r\n   </g>\r\n   <g id=\"patch_19\">\r\n    <path clip-path=\"url(#p4207e2121b)\" d=\"M 110.481176 239.758125 \r\nL 114.892243 239.758125 \r\nL 114.892243 146.107898 \r\nL 110.481176 146.107898 \r\nz\r\n\" style=\"fill:#1f77b4;\"/>\r\n   </g>\r\n   <g id=\"patch_20\">\r\n    <path clip-path=\"url(#p4207e2121b)\" d=\"M 114.892243 239.758125 \r\nL 119.30331 239.758125 \r\nL 119.30331 163.255122 \r\nL 114.892243 163.255122 \r\nz\r\n\" style=\"fill:#1f77b4;\"/>\r\n   </g>\r\n   <g id=\"patch_21\">\r\n    <path clip-path=\"url(#p4207e2121b)\" d=\"M 119.30331 239.758125 \r\nL 123.714377 239.758125 \r\nL 123.714377 205.463676 \r\nL 119.30331 205.463676 \r\nz\r\n\" style=\"fill:#1f77b4;\"/>\r\n   </g>\r\n   <g id=\"patch_22\">\r\n    <path clip-path=\"url(#p4207e2121b)\" d=\"M 123.714377 239.758125 \r\nL 128.125445 239.758125 \r\nL 128.125445 177.764312 \r\nL 123.714377 177.764312 \r\nz\r\n\" style=\"fill:#1f77b4;\"/>\r\n   </g>\r\n   <g id=\"patch_23\">\r\n    <path clip-path=\"url(#p4207e2121b)\" d=\"M 128.125445 239.758125 \r\nL 132.536512 239.758125 \r\nL 132.536512 197.549572 \r\nL 128.125445 197.549572 \r\nz\r\n\" style=\"fill:#1f77b4;\"/>\r\n   </g>\r\n   <g id=\"patch_24\">\r\n    <path clip-path=\"url(#p4207e2121b)\" d=\"M 132.536512 239.758125 \r\nL 136.947579 239.758125 \r\nL 136.947579 208.10171 \r\nL 132.536512 208.10171 \r\nz\r\n\" style=\"fill:#1f77b4;\"/>\r\n   </g>\r\n   <g id=\"patch_25\">\r\n    <path clip-path=\"url(#p4207e2121b)\" d=\"M 136.947579 239.758125 \r\nL 141.358646 239.758125 \r\nL 141.358646 214.696797 \r\nL 136.947579 214.696797 \r\nz\r\n\" style=\"fill:#1f77b4;\"/>\r\n   </g>\r\n   <g id=\"patch_26\">\r\n    <path clip-path=\"url(#p4207e2121b)\" d=\"M 141.358646 239.758125 \r\nL 145.769713 239.758125 \r\nL 145.769713 223.929918 \r\nL 141.358646 223.929918 \r\nz\r\n\" style=\"fill:#1f77b4;\"/>\r\n   </g>\r\n   <g id=\"patch_27\">\r\n    <path clip-path=\"url(#p4207e2121b)\" d=\"M 145.769713 239.758125 \r\nL 150.180781 239.758125 \r\nL 150.180781 216.015814 \r\nL 145.769713 216.015814 \r\nz\r\n\" style=\"fill:#1f77b4;\"/>\r\n   </g>\r\n   <g id=\"patch_28\">\r\n    <path clip-path=\"url(#p4207e2121b)\" d=\"M 150.180781 239.758125 \r\nL 154.591848 239.758125 \r\nL 154.591848 231.844021 \r\nL 150.180781 231.844021 \r\nz\r\n\" style=\"fill:#1f77b4;\"/>\r\n   </g>\r\n   <g id=\"patch_29\">\r\n    <path clip-path=\"url(#p4207e2121b)\" d=\"M 154.591848 239.758125 \r\nL 159.002915 239.758125 \r\nL 159.002915 227.886969 \r\nL 154.591848 227.886969 \r\nz\r\n\" style=\"fill:#1f77b4;\"/>\r\n   </g>\r\n   <g id=\"patch_30\">\r\n    <path clip-path=\"url(#p4207e2121b)\" d=\"M 159.002915 239.758125 \r\nL 163.413982 239.758125 \r\nL 163.413982 230.525004 \r\nL 159.002915 230.525004 \r\nz\r\n\" style=\"fill:#1f77b4;\"/>\r\n   </g>\r\n   <g id=\"patch_31\">\r\n    <path clip-path=\"url(#p4207e2121b)\" d=\"M 163.413982 239.758125 \r\nL 167.825049 239.758125 \r\nL 167.825049 230.525004 \r\nL 163.413982 230.525004 \r\nz\r\n\" style=\"fill:#1f77b4;\"/>\r\n   </g>\r\n   <g id=\"patch_32\">\r\n    <path clip-path=\"url(#p4207e2121b)\" d=\"M 167.825049 239.758125 \r\nL 172.236117 239.758125 \r\nL 172.236117 234.482056 \r\nL 167.825049 234.482056 \r\nz\r\n\" style=\"fill:#1f77b4;\"/>\r\n   </g>\r\n   <g id=\"matplotlib.axis_1\">\r\n    <g id=\"xtick_1\">\r\n     <g id=\"line2d_1\">\r\n      <path clip-path=\"url(#p4207e2121b)\" d=\"M 36.66662 239.758125 \r\nL 36.66662 22.318125 \r\n\" style=\"fill:none;stroke:#b0b0b0;stroke-linecap:square;stroke-width:0.8;\"/>\r\n     </g>\r\n     <g id=\"line2d_2\">\r\n      <defs>\r\n       <path d=\"M 0 0 \r\nL 0 3.5 \r\n\" id=\"m7401a64f15\" style=\"stroke:#000000;stroke-width:0.8;\"/>\r\n      </defs>\r\n      <g>\r\n       <use style=\"stroke:#000000;stroke-width:0.8;\" x=\"36.66662\" xlink:href=\"#m7401a64f15\" y=\"239.758125\"/>\r\n      </g>\r\n     </g>\r\n     <g id=\"text_1\">\r\n      <!-- 0 -->\r\n      <g transform=\"translate(33.48537 254.356563)scale(0.1 -0.1)\">\r\n       <defs>\r\n        <path d=\"M 31.78125 66.40625 \r\nQ 24.171875 66.40625 20.328125 58.90625 \r\nQ 16.5 51.421875 16.5 36.375 \r\nQ 16.5 21.390625 20.328125 13.890625 \r\nQ 24.171875 6.390625 31.78125 6.390625 \r\nQ 39.453125 6.390625 43.28125 13.890625 \r\nQ 47.125 21.390625 47.125 36.375 \r\nQ 47.125 51.421875 43.28125 58.90625 \r\nQ 39.453125 66.40625 31.78125 66.40625 \r\nz\r\nM 31.78125 74.21875 \r\nQ 44.046875 74.21875 50.515625 64.515625 \r\nQ 56.984375 54.828125 56.984375 36.375 \r\nQ 56.984375 17.96875 50.515625 8.265625 \r\nQ 44.046875 -1.421875 31.78125 -1.421875 \r\nQ 19.53125 -1.421875 13.0625 8.265625 \r\nQ 6.59375 17.96875 6.59375 36.375 \r\nQ 6.59375 54.828125 13.0625 64.515625 \r\nQ 19.53125 74.21875 31.78125 74.21875 \r\nz\r\n\" id=\"DejaVuSans-48\"/>\r\n       </defs>\r\n       <use xlink:href=\"#DejaVuSans-48\"/>\r\n      </g>\r\n     </g>\r\n    </g>\r\n    <g id=\"xtick_2\">\r\n     <g id=\"line2d_3\">\r\n      <path clip-path=\"url(#p4207e2121b)\" d=\"M 104.114131 239.758125 \r\nL 104.114131 22.318125 \r\n\" style=\"fill:none;stroke:#b0b0b0;stroke-linecap:square;stroke-width:0.8;\"/>\r\n     </g>\r\n     <g id=\"line2d_4\">\r\n      <g>\r\n       <use style=\"stroke:#000000;stroke-width:0.8;\" x=\"104.114131\" xlink:href=\"#m7401a64f15\" y=\"239.758125\"/>\r\n      </g>\r\n     </g>\r\n     <g id=\"text_2\">\r\n      <!-- 500 -->\r\n      <g transform=\"translate(94.570381 254.356563)scale(0.1 -0.1)\">\r\n       <defs>\r\n        <path d=\"M 10.796875 72.90625 \r\nL 49.515625 72.90625 \r\nL 49.515625 64.59375 \r\nL 19.828125 64.59375 \r\nL 19.828125 46.734375 \r\nQ 21.96875 47.46875 24.109375 47.828125 \r\nQ 26.265625 48.1875 28.421875 48.1875 \r\nQ 40.625 48.1875 47.75 41.5 \r\nQ 54.890625 34.8125 54.890625 23.390625 \r\nQ 54.890625 11.625 47.5625 5.09375 \r\nQ 40.234375 -1.421875 26.90625 -1.421875 \r\nQ 22.3125 -1.421875 17.546875 -0.640625 \r\nQ 12.796875 0.140625 7.71875 1.703125 \r\nL 7.71875 11.625 \r\nQ 12.109375 9.234375 16.796875 8.0625 \r\nQ 21.484375 6.890625 26.703125 6.890625 \r\nQ 35.15625 6.890625 40.078125 11.328125 \r\nQ 45.015625 15.765625 45.015625 23.390625 \r\nQ 45.015625 31 40.078125 35.4375 \r\nQ 35.15625 39.890625 26.703125 39.890625 \r\nQ 22.75 39.890625 18.8125 39.015625 \r\nQ 14.890625 38.140625 10.796875 36.28125 \r\nz\r\n\" id=\"DejaVuSans-53\"/>\r\n       </defs>\r\n       <use xlink:href=\"#DejaVuSans-53\"/>\r\n       <use x=\"63.623047\" xlink:href=\"#DejaVuSans-48\"/>\r\n       <use x=\"127.246094\" xlink:href=\"#DejaVuSans-48\"/>\r\n      </g>\r\n     </g>\r\n    </g>\r\n    <g id=\"xtick_3\">\r\n     <g id=\"line2d_5\">\r\n      <path clip-path=\"url(#p4207e2121b)\" d=\"M 171.561641 239.758125 \r\nL 171.561641 22.318125 \r\n\" style=\"fill:none;stroke:#b0b0b0;stroke-linecap:square;stroke-width:0.8;\"/>\r\n     </g>\r\n     <g id=\"line2d_6\">\r\n      <g>\r\n       <use style=\"stroke:#000000;stroke-width:0.8;\" x=\"171.561641\" xlink:href=\"#m7401a64f15\" y=\"239.758125\"/>\r\n      </g>\r\n     </g>\r\n     <g id=\"text_3\">\r\n      <!-- 1000 -->\r\n      <g transform=\"translate(158.836641 254.356563)scale(0.1 -0.1)\">\r\n       <defs>\r\n        <path d=\"M 12.40625 8.296875 \r\nL 28.515625 8.296875 \r\nL 28.515625 63.921875 \r\nL 10.984375 60.40625 \r\nL 10.984375 69.390625 \r\nL 28.421875 72.90625 \r\nL 38.28125 72.90625 \r\nL 38.28125 8.296875 \r\nL 54.390625 8.296875 \r\nL 54.390625 0 \r\nL 12.40625 0 \r\nz\r\n\" id=\"DejaVuSans-49\"/>\r\n       </defs>\r\n       <use xlink:href=\"#DejaVuSans-49\"/>\r\n       <use x=\"63.623047\" xlink:href=\"#DejaVuSans-48\"/>\r\n       <use x=\"127.246094\" xlink:href=\"#DejaVuSans-48\"/>\r\n       <use x=\"190.869141\" xlink:href=\"#DejaVuSans-48\"/>\r\n      </g>\r\n     </g>\r\n    </g>\r\n   </g>\r\n   <g id=\"matplotlib.axis_2\">\r\n    <g id=\"ytick_1\">\r\n     <g id=\"line2d_7\">\r\n      <path clip-path=\"url(#p4207e2121b)\" d=\"M 33.2875 239.758125 \r\nL 178.852717 239.758125 \r\n\" style=\"fill:none;stroke:#b0b0b0;stroke-linecap:square;stroke-width:0.8;\"/>\r\n     </g>\r\n     <g id=\"line2d_8\">\r\n      <defs>\r\n       <path d=\"M 0 0 \r\nL -3.5 0 \r\n\" id=\"m48141eb55d\" style=\"stroke:#000000;stroke-width:0.8;\"/>\r\n      </defs>\r\n      <g>\r\n       <use style=\"stroke:#000000;stroke-width:0.8;\" x=\"33.2875\" xlink:href=\"#m48141eb55d\" y=\"239.758125\"/>\r\n      </g>\r\n     </g>\r\n     <g id=\"text_4\">\r\n      <!-- 0 -->\r\n      <g transform=\"translate(19.925 243.557344)scale(0.1 -0.1)\">\r\n       <use xlink:href=\"#DejaVuSans-48\"/>\r\n      </g>\r\n     </g>\r\n    </g>\r\n    <g id=\"ytick_2\">\r\n     <g id=\"line2d_9\">\r\n      <path clip-path=\"url(#p4207e2121b)\" d=\"M 33.2875 213.377779 \r\nL 178.852717 213.377779 \r\n\" style=\"fill:none;stroke:#b0b0b0;stroke-linecap:square;stroke-width:0.8;\"/>\r\n     </g>\r\n     <g id=\"line2d_10\">\r\n      <g>\r\n       <use style=\"stroke:#000000;stroke-width:0.8;\" x=\"33.2875\" xlink:href=\"#m48141eb55d\" y=\"213.377779\"/>\r\n      </g>\r\n     </g>\r\n     <g id=\"text_5\">\r\n      <!-- 20 -->\r\n      <g transform=\"translate(13.5625 217.176998)scale(0.1 -0.1)\">\r\n       <defs>\r\n        <path d=\"M 19.1875 8.296875 \r\nL 53.609375 8.296875 \r\nL 53.609375 0 \r\nL 7.328125 0 \r\nL 7.328125 8.296875 \r\nQ 12.9375 14.109375 22.625 23.890625 \r\nQ 32.328125 33.6875 34.8125 36.53125 \r\nQ 39.546875 41.84375 41.421875 45.53125 \r\nQ 43.3125 49.21875 43.3125 52.78125 \r\nQ 43.3125 58.59375 39.234375 62.25 \r\nQ 35.15625 65.921875 28.609375 65.921875 \r\nQ 23.96875 65.921875 18.8125 64.3125 \r\nQ 13.671875 62.703125 7.8125 59.421875 \r\nL 7.8125 69.390625 \r\nQ 13.765625 71.78125 18.9375 73 \r\nQ 24.125 74.21875 28.421875 74.21875 \r\nQ 39.75 74.21875 46.484375 68.546875 \r\nQ 53.21875 62.890625 53.21875 53.421875 \r\nQ 53.21875 48.921875 51.53125 44.890625 \r\nQ 49.859375 40.875 45.40625 35.40625 \r\nQ 44.1875 33.984375 37.640625 27.21875 \r\nQ 31.109375 20.453125 19.1875 8.296875 \r\nz\r\n\" id=\"DejaVuSans-50\"/>\r\n       </defs>\r\n       <use xlink:href=\"#DejaVuSans-50\"/>\r\n       <use x=\"63.623047\" xlink:href=\"#DejaVuSans-48\"/>\r\n      </g>\r\n     </g>\r\n    </g>\r\n    <g id=\"ytick_3\">\r\n     <g id=\"line2d_11\">\r\n      <path clip-path=\"url(#p4207e2121b)\" d=\"M 33.2875 186.997433 \r\nL 178.852717 186.997433 \r\n\" style=\"fill:none;stroke:#b0b0b0;stroke-linecap:square;stroke-width:0.8;\"/>\r\n     </g>\r\n     <g id=\"line2d_12\">\r\n      <g>\r\n       <use style=\"stroke:#000000;stroke-width:0.8;\" x=\"33.2875\" xlink:href=\"#m48141eb55d\" y=\"186.997433\"/>\r\n      </g>\r\n     </g>\r\n     <g id=\"text_6\">\r\n      <!-- 40 -->\r\n      <g transform=\"translate(13.5625 190.796652)scale(0.1 -0.1)\">\r\n       <defs>\r\n        <path d=\"M 37.796875 64.3125 \r\nL 12.890625 25.390625 \r\nL 37.796875 25.390625 \r\nz\r\nM 35.203125 72.90625 \r\nL 47.609375 72.90625 \r\nL 47.609375 25.390625 \r\nL 58.015625 25.390625 \r\nL 58.015625 17.1875 \r\nL 47.609375 17.1875 \r\nL 47.609375 0 \r\nL 37.796875 0 \r\nL 37.796875 17.1875 \r\nL 4.890625 17.1875 \r\nL 4.890625 26.703125 \r\nz\r\n\" id=\"DejaVuSans-52\"/>\r\n       </defs>\r\n       <use xlink:href=\"#DejaVuSans-52\"/>\r\n       <use x=\"63.623047\" xlink:href=\"#DejaVuSans-48\"/>\r\n      </g>\r\n     </g>\r\n    </g>\r\n    <g id=\"ytick_4\">\r\n     <g id=\"line2d_13\">\r\n      <path clip-path=\"url(#p4207e2121b)\" d=\"M 33.2875 160.617088 \r\nL 178.852717 160.617088 \r\n\" style=\"fill:none;stroke:#b0b0b0;stroke-linecap:square;stroke-width:0.8;\"/>\r\n     </g>\r\n     <g id=\"line2d_14\">\r\n      <g>\r\n       <use style=\"stroke:#000000;stroke-width:0.8;\" x=\"33.2875\" xlink:href=\"#m48141eb55d\" y=\"160.617088\"/>\r\n      </g>\r\n     </g>\r\n     <g id=\"text_7\">\r\n      <!-- 60 -->\r\n      <g transform=\"translate(13.5625 164.416306)scale(0.1 -0.1)\">\r\n       <defs>\r\n        <path d=\"M 33.015625 40.375 \r\nQ 26.375 40.375 22.484375 35.828125 \r\nQ 18.609375 31.296875 18.609375 23.390625 \r\nQ 18.609375 15.53125 22.484375 10.953125 \r\nQ 26.375 6.390625 33.015625 6.390625 \r\nQ 39.65625 6.390625 43.53125 10.953125 \r\nQ 47.40625 15.53125 47.40625 23.390625 \r\nQ 47.40625 31.296875 43.53125 35.828125 \r\nQ 39.65625 40.375 33.015625 40.375 \r\nz\r\nM 52.59375 71.296875 \r\nL 52.59375 62.3125 \r\nQ 48.875 64.0625 45.09375 64.984375 \r\nQ 41.3125 65.921875 37.59375 65.921875 \r\nQ 27.828125 65.921875 22.671875 59.328125 \r\nQ 17.53125 52.734375 16.796875 39.40625 \r\nQ 19.671875 43.65625 24.015625 45.921875 \r\nQ 28.375 48.1875 33.59375 48.1875 \r\nQ 44.578125 48.1875 50.953125 41.515625 \r\nQ 57.328125 34.859375 57.328125 23.390625 \r\nQ 57.328125 12.15625 50.6875 5.359375 \r\nQ 44.046875 -1.421875 33.015625 -1.421875 \r\nQ 20.359375 -1.421875 13.671875 8.265625 \r\nQ 6.984375 17.96875 6.984375 36.375 \r\nQ 6.984375 53.65625 15.1875 63.9375 \r\nQ 23.390625 74.21875 37.203125 74.21875 \r\nQ 40.921875 74.21875 44.703125 73.484375 \r\nQ 48.484375 72.75 52.59375 71.296875 \r\nz\r\n\" id=\"DejaVuSans-54\"/>\r\n       </defs>\r\n       <use xlink:href=\"#DejaVuSans-54\"/>\r\n       <use x=\"63.623047\" xlink:href=\"#DejaVuSans-48\"/>\r\n      </g>\r\n     </g>\r\n    </g>\r\n    <g id=\"ytick_5\">\r\n     <g id=\"line2d_15\">\r\n      <path clip-path=\"url(#p4207e2121b)\" d=\"M 33.2875 134.236742 \r\nL 178.852717 134.236742 \r\n\" style=\"fill:none;stroke:#b0b0b0;stroke-linecap:square;stroke-width:0.8;\"/>\r\n     </g>\r\n     <g id=\"line2d_16\">\r\n      <g>\r\n       <use style=\"stroke:#000000;stroke-width:0.8;\" x=\"33.2875\" xlink:href=\"#m48141eb55d\" y=\"134.236742\"/>\r\n      </g>\r\n     </g>\r\n     <g id=\"text_8\">\r\n      <!-- 80 -->\r\n      <g transform=\"translate(13.5625 138.035961)scale(0.1 -0.1)\">\r\n       <defs>\r\n        <path d=\"M 31.78125 34.625 \r\nQ 24.75 34.625 20.71875 30.859375 \r\nQ 16.703125 27.09375 16.703125 20.515625 \r\nQ 16.703125 13.921875 20.71875 10.15625 \r\nQ 24.75 6.390625 31.78125 6.390625 \r\nQ 38.8125 6.390625 42.859375 10.171875 \r\nQ 46.921875 13.96875 46.921875 20.515625 \r\nQ 46.921875 27.09375 42.890625 30.859375 \r\nQ 38.875 34.625 31.78125 34.625 \r\nz\r\nM 21.921875 38.8125 \r\nQ 15.578125 40.375 12.03125 44.71875 \r\nQ 8.5 49.078125 8.5 55.328125 \r\nQ 8.5 64.0625 14.71875 69.140625 \r\nQ 20.953125 74.21875 31.78125 74.21875 \r\nQ 42.671875 74.21875 48.875 69.140625 \r\nQ 55.078125 64.0625 55.078125 55.328125 \r\nQ 55.078125 49.078125 51.53125 44.71875 \r\nQ 48 40.375 41.703125 38.8125 \r\nQ 48.828125 37.15625 52.796875 32.3125 \r\nQ 56.78125 27.484375 56.78125 20.515625 \r\nQ 56.78125 9.90625 50.3125 4.234375 \r\nQ 43.84375 -1.421875 31.78125 -1.421875 \r\nQ 19.734375 -1.421875 13.25 4.234375 \r\nQ 6.78125 9.90625 6.78125 20.515625 \r\nQ 6.78125 27.484375 10.78125 32.3125 \r\nQ 14.796875 37.15625 21.921875 38.8125 \r\nz\r\nM 18.3125 54.390625 \r\nQ 18.3125 48.734375 21.84375 45.5625 \r\nQ 25.390625 42.390625 31.78125 42.390625 \r\nQ 38.140625 42.390625 41.71875 45.5625 \r\nQ 45.3125 48.734375 45.3125 54.390625 \r\nQ 45.3125 60.0625 41.71875 63.234375 \r\nQ 38.140625 66.40625 31.78125 66.40625 \r\nQ 25.390625 66.40625 21.84375 63.234375 \r\nQ 18.3125 60.0625 18.3125 54.390625 \r\nz\r\n\" id=\"DejaVuSans-56\"/>\r\n       </defs>\r\n       <use xlink:href=\"#DejaVuSans-56\"/>\r\n       <use x=\"63.623047\" xlink:href=\"#DejaVuSans-48\"/>\r\n      </g>\r\n     </g>\r\n    </g>\r\n    <g id=\"ytick_6\">\r\n     <g id=\"line2d_17\">\r\n      <path clip-path=\"url(#p4207e2121b)\" d=\"M 33.2875 107.856396 \r\nL 178.852717 107.856396 \r\n\" style=\"fill:none;stroke:#b0b0b0;stroke-linecap:square;stroke-width:0.8;\"/>\r\n     </g>\r\n     <g id=\"line2d_18\">\r\n      <g>\r\n       <use style=\"stroke:#000000;stroke-width:0.8;\" x=\"33.2875\" xlink:href=\"#m48141eb55d\" y=\"107.856396\"/>\r\n      </g>\r\n     </g>\r\n     <g id=\"text_9\">\r\n      <!-- 100 -->\r\n      <g transform=\"translate(7.2 111.655615)scale(0.1 -0.1)\">\r\n       <use xlink:href=\"#DejaVuSans-49\"/>\r\n       <use x=\"63.623047\" xlink:href=\"#DejaVuSans-48\"/>\r\n       <use x=\"127.246094\" xlink:href=\"#DejaVuSans-48\"/>\r\n      </g>\r\n     </g>\r\n    </g>\r\n    <g id=\"ytick_7\">\r\n     <g id=\"line2d_19\">\r\n      <path clip-path=\"url(#p4207e2121b)\" d=\"M 33.2875 81.47605 \r\nL 178.852717 81.47605 \r\n\" style=\"fill:none;stroke:#b0b0b0;stroke-linecap:square;stroke-width:0.8;\"/>\r\n     </g>\r\n     <g id=\"line2d_20\">\r\n      <g>\r\n       <use style=\"stroke:#000000;stroke-width:0.8;\" x=\"33.2875\" xlink:href=\"#m48141eb55d\" y=\"81.47605\"/>\r\n      </g>\r\n     </g>\r\n     <g id=\"text_10\">\r\n      <!-- 120 -->\r\n      <g transform=\"translate(7.2 85.275269)scale(0.1 -0.1)\">\r\n       <use xlink:href=\"#DejaVuSans-49\"/>\r\n       <use x=\"63.623047\" xlink:href=\"#DejaVuSans-50\"/>\r\n       <use x=\"127.246094\" xlink:href=\"#DejaVuSans-48\"/>\r\n      </g>\r\n     </g>\r\n    </g>\r\n    <g id=\"ytick_8\">\r\n     <g id=\"line2d_21\">\r\n      <path clip-path=\"url(#p4207e2121b)\" d=\"M 33.2875 55.095705 \r\nL 178.852717 55.095705 \r\n\" style=\"fill:none;stroke:#b0b0b0;stroke-linecap:square;stroke-width:0.8;\"/>\r\n     </g>\r\n     <g id=\"line2d_22\">\r\n      <g>\r\n       <use style=\"stroke:#000000;stroke-width:0.8;\" x=\"33.2875\" xlink:href=\"#m48141eb55d\" y=\"55.095705\"/>\r\n      </g>\r\n     </g>\r\n     <g id=\"text_11\">\r\n      <!-- 140 -->\r\n      <g transform=\"translate(7.2 58.894923)scale(0.1 -0.1)\">\r\n       <use xlink:href=\"#DejaVuSans-49\"/>\r\n       <use x=\"63.623047\" xlink:href=\"#DejaVuSans-52\"/>\r\n       <use x=\"127.246094\" xlink:href=\"#DejaVuSans-48\"/>\r\n      </g>\r\n     </g>\r\n    </g>\r\n    <g id=\"ytick_9\">\r\n     <g id=\"line2d_23\">\r\n      <path clip-path=\"url(#p4207e2121b)\" d=\"M 33.2875 28.715359 \r\nL 178.852717 28.715359 \r\n\" style=\"fill:none;stroke:#b0b0b0;stroke-linecap:square;stroke-width:0.8;\"/>\r\n     </g>\r\n     <g id=\"line2d_24\">\r\n      <g>\r\n       <use style=\"stroke:#000000;stroke-width:0.8;\" x=\"33.2875\" xlink:href=\"#m48141eb55d\" y=\"28.715359\"/>\r\n      </g>\r\n     </g>\r\n     <g id=\"text_12\">\r\n      <!-- 160 -->\r\n      <g transform=\"translate(7.2 32.514578)scale(0.1 -0.1)\">\r\n       <use xlink:href=\"#DejaVuSans-49\"/>\r\n       <use x=\"63.623047\" xlink:href=\"#DejaVuSans-54\"/>\r\n       <use x=\"127.246094\" xlink:href=\"#DejaVuSans-48\"/>\r\n      </g>\r\n     </g>\r\n    </g>\r\n   </g>\r\n   <g id=\"patch_33\">\r\n    <path d=\"M 33.2875 239.758125 \r\nL 33.2875 22.318125 \r\n\" style=\"fill:none;stroke:#000000;stroke-linecap:square;stroke-linejoin:miter;stroke-width:0.8;\"/>\r\n   </g>\r\n   <g id=\"patch_34\">\r\n    <path d=\"M 178.852717 239.758125 \r\nL 178.852717 22.318125 \r\n\" style=\"fill:none;stroke:#000000;stroke-linecap:square;stroke-linejoin:miter;stroke-width:0.8;\"/>\r\n   </g>\r\n   <g id=\"patch_35\">\r\n    <path d=\"M 33.2875 239.758125 \r\nL 178.852717 239.758125 \r\n\" style=\"fill:none;stroke:#000000;stroke-linecap:square;stroke-linejoin:miter;stroke-width:0.8;\"/>\r\n   </g>\r\n   <g id=\"patch_36\">\r\n    <path d=\"M 33.2875 22.318125 \r\nL 178.852717 22.318125 \r\n\" style=\"fill:none;stroke:#000000;stroke-linecap:square;stroke-linejoin:miter;stroke-width:0.8;\"/>\r\n   </g>\r\n   <g id=\"text_13\">\r\n    <!-- text -->\r\n    <g transform=\"translate(94.227609 16.318125)scale(0.12 -0.12)\">\r\n     <defs>\r\n      <path d=\"M 18.3125 70.21875 \r\nL 18.3125 54.6875 \r\nL 36.8125 54.6875 \r\nL 36.8125 47.703125 \r\nL 18.3125 47.703125 \r\nL 18.3125 18.015625 \r\nQ 18.3125 11.328125 20.140625 9.421875 \r\nQ 21.96875 7.515625 27.59375 7.515625 \r\nL 36.8125 7.515625 \r\nL 36.8125 0 \r\nL 27.59375 0 \r\nQ 17.1875 0 13.234375 3.875 \r\nQ 9.28125 7.765625 9.28125 18.015625 \r\nL 9.28125 47.703125 \r\nL 2.6875 47.703125 \r\nL 2.6875 54.6875 \r\nL 9.28125 54.6875 \r\nL 9.28125 70.21875 \r\nz\r\n\" id=\"DejaVuSans-116\"/>\r\n      <path d=\"M 56.203125 29.59375 \r\nL 56.203125 25.203125 \r\nL 14.890625 25.203125 \r\nQ 15.484375 15.921875 20.484375 11.0625 \r\nQ 25.484375 6.203125 34.421875 6.203125 \r\nQ 39.59375 6.203125 44.453125 7.46875 \r\nQ 49.3125 8.734375 54.109375 11.28125 \r\nL 54.109375 2.78125 \r\nQ 49.265625 0.734375 44.1875 -0.34375 \r\nQ 39.109375 -1.421875 33.890625 -1.421875 \r\nQ 20.796875 -1.421875 13.15625 6.1875 \r\nQ 5.515625 13.8125 5.515625 26.8125 \r\nQ 5.515625 40.234375 12.765625 48.109375 \r\nQ 20.015625 56 32.328125 56 \r\nQ 43.359375 56 49.78125 48.890625 \r\nQ 56.203125 41.796875 56.203125 29.59375 \r\nz\r\nM 47.21875 32.234375 \r\nQ 47.125 39.59375 43.09375 43.984375 \r\nQ 39.0625 48.390625 32.421875 48.390625 \r\nQ 24.90625 48.390625 20.390625 44.140625 \r\nQ 15.875 39.890625 15.1875 32.171875 \r\nz\r\n\" id=\"DejaVuSans-101\"/>\r\n      <path d=\"M 54.890625 54.6875 \r\nL 35.109375 28.078125 \r\nL 55.90625 0 \r\nL 45.3125 0 \r\nL 29.390625 21.484375 \r\nL 13.484375 0 \r\nL 2.875 0 \r\nL 24.125 28.609375 \r\nL 4.6875 54.6875 \r\nL 15.28125 54.6875 \r\nL 29.78125 35.203125 \r\nL 44.28125 54.6875 \r\nz\r\n\" id=\"DejaVuSans-120\"/>\r\n     </defs>\r\n     <use xlink:href=\"#DejaVuSans-116\"/>\r\n     <use x=\"39.208984\" xlink:href=\"#DejaVuSans-101\"/>\r\n     <use x=\"98.982422\" xlink:href=\"#DejaVuSans-120\"/>\r\n     <use x=\"158.162109\" xlink:href=\"#DejaVuSans-116\"/>\r\n    </g>\r\n   </g>\r\n  </g>\r\n  <g id=\"axes_2\">\r\n   <g id=\"patch_37\">\r\n    <path d=\"M 222.522283 239.758125 \r\nL 368.0875 239.758125 \r\nL 368.0875 22.318125 \r\nL 222.522283 22.318125 \r\nz\r\n\" style=\"fill:#ffffff;\"/>\r\n   </g>\r\n   <g id=\"patch_38\">\r\n    <path clip-path=\"url(#p4893b1409c)\" d=\"M 229.138883 239.758125 \r\nL 233.549951 239.758125 \r\nL 233.549951 239.323983 \r\nL 229.138883 239.323983 \r\nz\r\n\" style=\"fill:#1f77b4;\"/>\r\n   </g>\r\n   <g id=\"patch_39\">\r\n    <path clip-path=\"url(#p4893b1409c)\" d=\"M 233.549951 239.758125 \r\nL 237.961018 239.758125 \r\nL 237.961018 239.758125 \r\nL 233.549951 239.758125 \r\nz\r\n\" style=\"fill:#1f77b4;\"/>\r\n   </g>\r\n   <g id=\"patch_40\">\r\n    <path clip-path=\"url(#p4893b1409c)\" d=\"M 237.961018 239.758125 \r\nL 242.372085 239.758125 \r\nL 242.372085 234.548421 \r\nL 237.961018 234.548421 \r\nz\r\n\" style=\"fill:#1f77b4;\"/>\r\n   </g>\r\n   <g id=\"patch_41\">\r\n    <path clip-path=\"url(#p4893b1409c)\" d=\"M 242.372085 239.758125 \r\nL 246.783152 239.758125 \r\nL 246.783152 239.758125 \r\nL 242.372085 239.758125 \r\nz\r\n\" style=\"fill:#1f77b4;\"/>\r\n   </g>\r\n   <g id=\"patch_42\">\r\n    <path clip-path=\"url(#p4893b1409c)\" d=\"M 246.783152 239.758125 \r\nL 251.194219 239.758125 \r\nL 251.194219 217.616885 \r\nL 246.783152 217.616885 \r\nz\r\n\" style=\"fill:#1f77b4;\"/>\r\n   </g>\r\n   <g id=\"patch_43\">\r\n    <path clip-path=\"url(#p4893b1409c)\" d=\"M 251.194219 239.758125 \r\nL 255.605287 239.758125 \r\nL 255.605287 239.758125 \r\nL 251.194219 239.758125 \r\nz\r\n\" style=\"fill:#1f77b4;\"/>\r\n   </g>\r\n   <g id=\"patch_44\">\r\n    <path clip-path=\"url(#p4893b1409c)\" d=\"M 255.605287 239.758125 \r\nL 260.016354 239.758125 \r\nL 260.016354 196.343929 \r\nL 255.605287 196.343929 \r\nz\r\n\" style=\"fill:#1f77b4;\"/>\r\n   </g>\r\n   <g id=\"patch_45\">\r\n    <path clip-path=\"url(#p4893b1409c)\" d=\"M 260.016354 239.758125 \r\nL 264.427421 239.758125 \r\nL 264.427421 239.758125 \r\nL 260.016354 239.758125 \r\nz\r\n\" style=\"fill:#1f77b4;\"/>\r\n   </g>\r\n   <g id=\"patch_46\">\r\n    <path clip-path=\"url(#p4893b1409c)\" d=\"M 264.427421 239.758125 \r\nL 268.838488 239.758125 \r\nL 268.838488 239.758125 \r\nL 264.427421 239.758125 \r\nz\r\n\" style=\"fill:#1f77b4;\"/>\r\n   </g>\r\n   <g id=\"patch_47\">\r\n    <path clip-path=\"url(#p4893b1409c)\" d=\"M 268.838488 239.758125 \r\nL 273.249555 239.758125 \r\nL 273.249555 148.588314 \r\nL 268.838488 148.588314 \r\nz\r\n\" style=\"fill:#1f77b4;\"/>\r\n   </g>\r\n   <g id=\"patch_48\">\r\n    <path clip-path=\"url(#p4893b1409c)\" d=\"M 273.249555 239.758125 \r\nL 277.660623 239.758125 \r\nL 277.660623 239.758125 \r\nL 273.249555 239.758125 \r\nz\r\n\" style=\"fill:#1f77b4;\"/>\r\n   </g>\r\n   <g id=\"patch_49\">\r\n    <path clip-path=\"url(#p4893b1409c)\" d=\"M 277.660623 239.758125 \r\nL 282.07169 239.758125 \r\nL 282.07169 81.730452 \r\nL 277.660623 81.730452 \r\nz\r\n\" style=\"fill:#1f77b4;\"/>\r\n   </g>\r\n   <g id=\"patch_50\">\r\n    <path clip-path=\"url(#p4893b1409c)\" d=\"M 282.07169 239.758125 \r\nL 286.482757 239.758125 \r\nL 286.482757 239.758125 \r\nL 282.07169 239.758125 \r\nz\r\n\" style=\"fill:#1f77b4;\"/>\r\n   </g>\r\n   <g id=\"patch_51\">\r\n    <path clip-path=\"url(#p4893b1409c)\" d=\"M 286.482757 239.758125 \r\nL 290.893824 239.758125 \r\nL 290.893824 32.672411 \r\nL 286.482757 32.672411 \r\nz\r\n\" style=\"fill:#1f77b4;\"/>\r\n   </g>\r\n   <g id=\"patch_52\">\r\n    <path clip-path=\"url(#p4893b1409c)\" d=\"M 290.893824 239.758125 \r\nL 295.304891 239.758125 \r\nL 295.304891 239.758125 \r\nL 290.893824 239.758125 \r\nz\r\n\" style=\"fill:#1f77b4;\"/>\r\n   </g>\r\n   <g id=\"patch_53\">\r\n    <path clip-path=\"url(#p4893b1409c)\" d=\"M 295.304891 239.758125 \r\nL 299.715958 239.758125 \r\nL 299.715958 239.758125 \r\nL 295.304891 239.758125 \r\nz\r\n\" style=\"fill:#1f77b4;\"/>\r\n   </g>\r\n   <g id=\"patch_54\">\r\n    <path clip-path=\"url(#p4893b1409c)\" d=\"M 299.715958 239.758125 \r\nL 304.127026 239.758125 \r\nL 304.127026 66.535483 \r\nL 299.715958 66.535483 \r\nz\r\n\" style=\"fill:#1f77b4;\"/>\r\n   </g>\r\n   <g id=\"patch_55\">\r\n    <path clip-path=\"url(#p4893b1409c)\" d=\"M 304.127026 239.758125 \r\nL 308.538093 239.758125 \r\nL 308.538093 239.758125 \r\nL 304.127026 239.758125 \r\nz\r\n\" style=\"fill:#1f77b4;\"/>\r\n   </g>\r\n   <g id=\"patch_56\">\r\n    <path clip-path=\"url(#p4893b1409c)\" d=\"M 308.538093 239.758125 \r\nL 312.94916 239.758125 \r\nL 312.94916 138.603049 \r\nL 308.538093 138.603049 \r\nz\r\n\" style=\"fill:#1f77b4;\"/>\r\n   </g>\r\n   <g id=\"patch_57\">\r\n    <path clip-path=\"url(#p4893b1409c)\" d=\"M 312.94916 239.758125 \r\nL 317.360227 239.758125 \r\nL 317.360227 239.758125 \r\nL 312.94916 239.758125 \r\nz\r\n\" style=\"fill:#1f77b4;\"/>\r\n   </g>\r\n   <g id=\"patch_58\">\r\n    <path clip-path=\"url(#p4893b1409c)\" d=\"M 317.360227 239.758125 \r\nL 321.771294 239.758125 \r\nL 321.771294 193.304935 \r\nL 317.360227 193.304935 \r\nz\r\n\" style=\"fill:#1f77b4;\"/>\r\n   </g>\r\n   <g id=\"patch_59\">\r\n    <path clip-path=\"url(#p4893b1409c)\" d=\"M 321.771294 239.758125 \r\nL 326.182362 239.758125 \r\nL 326.182362 239.758125 \r\nL 321.771294 239.758125 \r\nz\r\n\" style=\"fill:#1f77b4;\"/>\r\n   </g>\r\n   <g id=\"patch_60\">\r\n    <path clip-path=\"url(#p4893b1409c)\" d=\"M 326.182362 239.758125 \r\nL 330.593429 239.758125 \r\nL 330.593429 239.758125 \r\nL 326.182362 239.758125 \r\nz\r\n\" style=\"fill:#1f77b4;\"/>\r\n   </g>\r\n   <g id=\"patch_61\">\r\n    <path clip-path=\"url(#p4893b1409c)\" d=\"M 330.593429 239.758125 \r\nL 335.004496 239.758125 \r\nL 335.004496 227.168008 \r\nL 330.593429 227.168008 \r\nz\r\n\" style=\"fill:#1f77b4;\"/>\r\n   </g>\r\n   <g id=\"patch_62\">\r\n    <path clip-path=\"url(#p4893b1409c)\" d=\"M 335.004496 239.758125 \r\nL 339.415563 239.758125 \r\nL 339.415563 239.758125 \r\nL 335.004496 239.758125 \r\nz\r\n\" style=\"fill:#1f77b4;\"/>\r\n   </g>\r\n   <g id=\"patch_63\">\r\n    <path clip-path=\"url(#p4893b1409c)\" d=\"M 339.415563 239.758125 \r\nL 343.82663 239.758125 \r\nL 343.82663 234.11428 \r\nL 339.415563 234.11428 \r\nz\r\n\" style=\"fill:#1f77b4;\"/>\r\n   </g>\r\n   <g id=\"patch_64\">\r\n    <path clip-path=\"url(#p4893b1409c)\" d=\"M 343.82663 239.758125 \r\nL 348.237698 239.758125 \r\nL 348.237698 239.758125 \r\nL 343.82663 239.758125 \r\nz\r\n\" style=\"fill:#1f77b4;\"/>\r\n   </g>\r\n   <g id=\"patch_65\">\r\n    <path clip-path=\"url(#p4893b1409c)\" d=\"M 348.237698 239.758125 \r\nL 352.648765 239.758125 \r\nL 352.648765 238.889841 \r\nL 348.237698 238.889841 \r\nz\r\n\" style=\"fill:#1f77b4;\"/>\r\n   </g>\r\n   <g id=\"patch_66\">\r\n    <path clip-path=\"url(#p4893b1409c)\" d=\"M 352.648765 239.758125 \r\nL 357.059832 239.758125 \r\nL 357.059832 239.758125 \r\nL 352.648765 239.758125 \r\nz\r\n\" style=\"fill:#1f77b4;\"/>\r\n   </g>\r\n   <g id=\"patch_67\">\r\n    <path clip-path=\"url(#p4893b1409c)\" d=\"M 357.059832 239.758125 \r\nL 361.470899 239.758125 \r\nL 361.470899 239.323983 \r\nL 357.059832 239.323983 \r\nz\r\n\" style=\"fill:#1f77b4;\"/>\r\n   </g>\r\n   <g id=\"matplotlib.axis_3\">\r\n    <g id=\"xtick_4\">\r\n     <g id=\"line2d_25\">\r\n      <path clip-path=\"url(#p4893b1409c)\" d=\"M 239.318269 239.758125 \r\nL 239.318269 22.318125 \r\n\" style=\"fill:none;stroke:#b0b0b0;stroke-linecap:square;stroke-width:0.8;\"/>\r\n     </g>\r\n     <g id=\"line2d_26\">\r\n      <g>\r\n       <use style=\"stroke:#000000;stroke-width:0.8;\" x=\"239.318269\" xlink:href=\"#m7401a64f15\" y=\"239.758125\"/>\r\n      </g>\r\n     </g>\r\n     <g id=\"text_14\">\r\n      <!-- 5 -->\r\n      <g transform=\"translate(236.137019 254.356563)scale(0.1 -0.1)\">\r\n       <use xlink:href=\"#DejaVuSans-53\"/>\r\n      </g>\r\n     </g>\r\n    </g>\r\n    <g id=\"xtick_5\">\r\n     <g id=\"line2d_27\">\r\n      <path clip-path=\"url(#p4893b1409c)\" d=\"M 290.215198 239.758125 \r\nL 290.215198 22.318125 \r\n\" style=\"fill:none;stroke:#b0b0b0;stroke-linecap:square;stroke-width:0.8;\"/>\r\n     </g>\r\n     <g id=\"line2d_28\">\r\n      <g>\r\n       <use style=\"stroke:#000000;stroke-width:0.8;\" x=\"290.215198\" xlink:href=\"#m7401a64f15\" y=\"239.758125\"/>\r\n      </g>\r\n     </g>\r\n     <g id=\"text_15\">\r\n      <!-- 10 -->\r\n      <g transform=\"translate(283.852698 254.356563)scale(0.1 -0.1)\">\r\n       <use xlink:href=\"#DejaVuSans-49\"/>\r\n       <use x=\"63.623047\" xlink:href=\"#DejaVuSans-48\"/>\r\n      </g>\r\n     </g>\r\n    </g>\r\n    <g id=\"xtick_6\">\r\n     <g id=\"line2d_29\">\r\n      <path clip-path=\"url(#p4893b1409c)\" d=\"M 341.112128 239.758125 \r\nL 341.112128 22.318125 \r\n\" style=\"fill:none;stroke:#b0b0b0;stroke-linecap:square;stroke-width:0.8;\"/>\r\n     </g>\r\n     <g id=\"line2d_30\">\r\n      <g>\r\n       <use style=\"stroke:#000000;stroke-width:0.8;\" x=\"341.112128\" xlink:href=\"#m7401a64f15\" y=\"239.758125\"/>\r\n      </g>\r\n     </g>\r\n     <g id=\"text_16\">\r\n      <!-- 15 -->\r\n      <g transform=\"translate(334.749628 254.356563)scale(0.1 -0.1)\">\r\n       <use xlink:href=\"#DejaVuSans-49\"/>\r\n       <use x=\"63.623047\" xlink:href=\"#DejaVuSans-53\"/>\r\n      </g>\r\n     </g>\r\n    </g>\r\n   </g>\r\n   <g id=\"matplotlib.axis_4\">\r\n    <g id=\"ytick_10\">\r\n     <g id=\"line2d_31\">\r\n      <path clip-path=\"url(#p4893b1409c)\" d=\"M 222.522283 239.758125 \r\nL 368.0875 239.758125 \r\n\" style=\"fill:none;stroke:#b0b0b0;stroke-linecap:square;stroke-width:0.8;\"/>\r\n     </g>\r\n     <g id=\"line2d_32\">\r\n      <g>\r\n       <use style=\"stroke:#000000;stroke-width:0.8;\" x=\"222.522283\" xlink:href=\"#m48141eb55d\" y=\"239.758125\"/>\r\n      </g>\r\n     </g>\r\n     <g id=\"text_17\">\r\n      <!-- 0 -->\r\n      <g transform=\"translate(209.159783 243.557344)scale(0.1 -0.1)\">\r\n       <use xlink:href=\"#DejaVuSans-48\"/>\r\n      </g>\r\n     </g>\r\n    </g>\r\n    <g id=\"ytick_11\">\r\n     <g id=\"line2d_33\">\r\n      <path clip-path=\"url(#p4893b1409c)\" d=\"M 222.522283 196.343929 \r\nL 368.0875 196.343929 \r\n\" style=\"fill:none;stroke:#b0b0b0;stroke-linecap:square;stroke-width:0.8;\"/>\r\n     </g>\r\n     <g id=\"line2d_34\">\r\n      <g>\r\n       <use style=\"stroke:#000000;stroke-width:0.8;\" x=\"222.522283\" xlink:href=\"#m48141eb55d\" y=\"196.343929\"/>\r\n      </g>\r\n     </g>\r\n     <g id=\"text_18\">\r\n      <!-- 100 -->\r\n      <g transform=\"translate(196.434783 200.143148)scale(0.1 -0.1)\">\r\n       <use xlink:href=\"#DejaVuSans-49\"/>\r\n       <use x=\"63.623047\" xlink:href=\"#DejaVuSans-48\"/>\r\n       <use x=\"127.246094\" xlink:href=\"#DejaVuSans-48\"/>\r\n      </g>\r\n     </g>\r\n    </g>\r\n    <g id=\"ytick_12\">\r\n     <g id=\"line2d_35\">\r\n      <path clip-path=\"url(#p4893b1409c)\" d=\"M 222.522283 152.929733 \r\nL 368.0875 152.929733 \r\n\" style=\"fill:none;stroke:#b0b0b0;stroke-linecap:square;stroke-width:0.8;\"/>\r\n     </g>\r\n     <g id=\"line2d_36\">\r\n      <g>\r\n       <use style=\"stroke:#000000;stroke-width:0.8;\" x=\"222.522283\" xlink:href=\"#m48141eb55d\" y=\"152.929733\"/>\r\n      </g>\r\n     </g>\r\n     <g id=\"text_19\">\r\n      <!-- 200 -->\r\n      <g transform=\"translate(196.434783 156.728952)scale(0.1 -0.1)\">\r\n       <use xlink:href=\"#DejaVuSans-50\"/>\r\n       <use x=\"63.623047\" xlink:href=\"#DejaVuSans-48\"/>\r\n       <use x=\"127.246094\" xlink:href=\"#DejaVuSans-48\"/>\r\n      </g>\r\n     </g>\r\n    </g>\r\n    <g id=\"ytick_13\">\r\n     <g id=\"line2d_37\">\r\n      <path clip-path=\"url(#p4893b1409c)\" d=\"M 222.522283 109.515537 \r\nL 368.0875 109.515537 \r\n\" style=\"fill:none;stroke:#b0b0b0;stroke-linecap:square;stroke-width:0.8;\"/>\r\n     </g>\r\n     <g id=\"line2d_38\">\r\n      <g>\r\n       <use style=\"stroke:#000000;stroke-width:0.8;\" x=\"222.522283\" xlink:href=\"#m48141eb55d\" y=\"109.515537\"/>\r\n      </g>\r\n     </g>\r\n     <g id=\"text_20\">\r\n      <!-- 300 -->\r\n      <g transform=\"translate(196.434783 113.314756)scale(0.1 -0.1)\">\r\n       <defs>\r\n        <path d=\"M 40.578125 39.3125 \r\nQ 47.65625 37.796875 51.625 33 \r\nQ 55.609375 28.21875 55.609375 21.1875 \r\nQ 55.609375 10.40625 48.1875 4.484375 \r\nQ 40.765625 -1.421875 27.09375 -1.421875 \r\nQ 22.515625 -1.421875 17.65625 -0.515625 \r\nQ 12.796875 0.390625 7.625 2.203125 \r\nL 7.625 11.71875 \r\nQ 11.71875 9.328125 16.59375 8.109375 \r\nQ 21.484375 6.890625 26.8125 6.890625 \r\nQ 36.078125 6.890625 40.9375 10.546875 \r\nQ 45.796875 14.203125 45.796875 21.1875 \r\nQ 45.796875 27.640625 41.28125 31.265625 \r\nQ 36.765625 34.90625 28.71875 34.90625 \r\nL 20.21875 34.90625 \r\nL 20.21875 43.015625 \r\nL 29.109375 43.015625 \r\nQ 36.375 43.015625 40.234375 45.921875 \r\nQ 44.09375 48.828125 44.09375 54.296875 \r\nQ 44.09375 59.90625 40.109375 62.90625 \r\nQ 36.140625 65.921875 28.71875 65.921875 \r\nQ 24.65625 65.921875 20.015625 65.03125 \r\nQ 15.375 64.15625 9.8125 62.3125 \r\nL 9.8125 71.09375 \r\nQ 15.4375 72.65625 20.34375 73.4375 \r\nQ 25.25 74.21875 29.59375 74.21875 \r\nQ 40.828125 74.21875 47.359375 69.109375 \r\nQ 53.90625 64.015625 53.90625 55.328125 \r\nQ 53.90625 49.265625 50.4375 45.09375 \r\nQ 46.96875 40.921875 40.578125 39.3125 \r\nz\r\n\" id=\"DejaVuSans-51\"/>\r\n       </defs>\r\n       <use xlink:href=\"#DejaVuSans-51\"/>\r\n       <use x=\"63.623047\" xlink:href=\"#DejaVuSans-48\"/>\r\n       <use x=\"127.246094\" xlink:href=\"#DejaVuSans-48\"/>\r\n      </g>\r\n     </g>\r\n    </g>\r\n    <g id=\"ytick_14\">\r\n     <g id=\"line2d_39\">\r\n      <path clip-path=\"url(#p4893b1409c)\" d=\"M 222.522283 66.101342 \r\nL 368.0875 66.101342 \r\n\" style=\"fill:none;stroke:#b0b0b0;stroke-linecap:square;stroke-width:0.8;\"/>\r\n     </g>\r\n     <g id=\"line2d_40\">\r\n      <g>\r\n       <use style=\"stroke:#000000;stroke-width:0.8;\" x=\"222.522283\" xlink:href=\"#m48141eb55d\" y=\"66.101342\"/>\r\n      </g>\r\n     </g>\r\n     <g id=\"text_21\">\r\n      <!-- 400 -->\r\n      <g transform=\"translate(196.434783 69.90056)scale(0.1 -0.1)\">\r\n       <use xlink:href=\"#DejaVuSans-52\"/>\r\n       <use x=\"63.623047\" xlink:href=\"#DejaVuSans-48\"/>\r\n       <use x=\"127.246094\" xlink:href=\"#DejaVuSans-48\"/>\r\n      </g>\r\n     </g>\r\n    </g>\r\n    <g id=\"ytick_15\">\r\n     <g id=\"line2d_41\">\r\n      <path clip-path=\"url(#p4893b1409c)\" d=\"M 222.522283 22.687146 \r\nL 368.0875 22.687146 \r\n\" style=\"fill:none;stroke:#b0b0b0;stroke-linecap:square;stroke-width:0.8;\"/>\r\n     </g>\r\n     <g id=\"line2d_42\">\r\n      <g>\r\n       <use style=\"stroke:#000000;stroke-width:0.8;\" x=\"222.522283\" xlink:href=\"#m48141eb55d\" y=\"22.687146\"/>\r\n      </g>\r\n     </g>\r\n     <g id=\"text_22\">\r\n      <!-- 500 -->\r\n      <g transform=\"translate(196.434783 26.486364)scale(0.1 -0.1)\">\r\n       <use xlink:href=\"#DejaVuSans-53\"/>\r\n       <use x=\"63.623047\" xlink:href=\"#DejaVuSans-48\"/>\r\n       <use x=\"127.246094\" xlink:href=\"#DejaVuSans-48\"/>\r\n      </g>\r\n     </g>\r\n    </g>\r\n   </g>\r\n   <g id=\"patch_68\">\r\n    <path d=\"M 222.522283 239.758125 \r\nL 222.522283 22.318125 \r\n\" style=\"fill:none;stroke:#000000;stroke-linecap:square;stroke-linejoin:miter;stroke-width:0.8;\"/>\r\n   </g>\r\n   <g id=\"patch_69\">\r\n    <path d=\"M 368.0875 239.758125 \r\nL 368.0875 22.318125 \r\n\" style=\"fill:none;stroke:#000000;stroke-linecap:square;stroke-linejoin:miter;stroke-width:0.8;\"/>\r\n   </g>\r\n   <g id=\"patch_70\">\r\n    <path d=\"M 222.522283 239.758125 \r\nL 368.0875 239.758125 \r\n\" style=\"fill:none;stroke:#000000;stroke-linecap:square;stroke-linejoin:miter;stroke-width:0.8;\"/>\r\n   </g>\r\n   <g id=\"patch_71\">\r\n    <path d=\"M 222.522283 22.318125 \r\nL 368.0875 22.318125 \r\n\" style=\"fill:none;stroke:#000000;stroke-linecap:square;stroke-linejoin:miter;stroke-width:0.8;\"/>\r\n   </g>\r\n   <g id=\"text_23\">\r\n    <!-- summary -->\r\n    <g transform=\"translate(266.993329 16.318125)scale(0.12 -0.12)\">\r\n     <defs>\r\n      <path d=\"M 44.28125 53.078125 \r\nL 44.28125 44.578125 \r\nQ 40.484375 46.53125 36.375 47.5 \r\nQ 32.28125 48.484375 27.875 48.484375 \r\nQ 21.1875 48.484375 17.84375 46.4375 \r\nQ 14.5 44.390625 14.5 40.28125 \r\nQ 14.5 37.15625 16.890625 35.375 \r\nQ 19.28125 33.59375 26.515625 31.984375 \r\nL 29.59375 31.296875 \r\nQ 39.15625 29.25 43.1875 25.515625 \r\nQ 47.21875 21.78125 47.21875 15.09375 \r\nQ 47.21875 7.46875 41.1875 3.015625 \r\nQ 35.15625 -1.421875 24.609375 -1.421875 \r\nQ 20.21875 -1.421875 15.453125 -0.5625 \r\nQ 10.6875 0.296875 5.421875 2 \r\nL 5.421875 11.28125 \r\nQ 10.40625 8.6875 15.234375 7.390625 \r\nQ 20.0625 6.109375 24.8125 6.109375 \r\nQ 31.15625 6.109375 34.5625 8.28125 \r\nQ 37.984375 10.453125 37.984375 14.40625 \r\nQ 37.984375 18.0625 35.515625 20.015625 \r\nQ 33.0625 21.96875 24.703125 23.78125 \r\nL 21.578125 24.515625 \r\nQ 13.234375 26.265625 9.515625 29.90625 \r\nQ 5.8125 33.546875 5.8125 39.890625 \r\nQ 5.8125 47.609375 11.28125 51.796875 \r\nQ 16.75 56 26.8125 56 \r\nQ 31.78125 56 36.171875 55.265625 \r\nQ 40.578125 54.546875 44.28125 53.078125 \r\nz\r\n\" id=\"DejaVuSans-115\"/>\r\n      <path d=\"M 8.5 21.578125 \r\nL 8.5 54.6875 \r\nL 17.484375 54.6875 \r\nL 17.484375 21.921875 \r\nQ 17.484375 14.15625 20.5 10.265625 \r\nQ 23.53125 6.390625 29.59375 6.390625 \r\nQ 36.859375 6.390625 41.078125 11.03125 \r\nQ 45.3125 15.671875 45.3125 23.6875 \r\nL 45.3125 54.6875 \r\nL 54.296875 54.6875 \r\nL 54.296875 0 \r\nL 45.3125 0 \r\nL 45.3125 8.40625 \r\nQ 42.046875 3.421875 37.71875 1 \r\nQ 33.40625 -1.421875 27.6875 -1.421875 \r\nQ 18.265625 -1.421875 13.375 4.4375 \r\nQ 8.5 10.296875 8.5 21.578125 \r\nz\r\nM 31.109375 56 \r\nz\r\n\" id=\"DejaVuSans-117\"/>\r\n      <path d=\"M 52 44.1875 \r\nQ 55.375 50.25 60.0625 53.125 \r\nQ 64.75 56 71.09375 56 \r\nQ 79.640625 56 84.28125 50.015625 \r\nQ 88.921875 44.046875 88.921875 33.015625 \r\nL 88.921875 0 \r\nL 79.890625 0 \r\nL 79.890625 32.71875 \r\nQ 79.890625 40.578125 77.09375 44.375 \r\nQ 74.3125 48.1875 68.609375 48.1875 \r\nQ 61.625 48.1875 57.5625 43.546875 \r\nQ 53.515625 38.921875 53.515625 30.90625 \r\nL 53.515625 0 \r\nL 44.484375 0 \r\nL 44.484375 32.71875 \r\nQ 44.484375 40.625 41.703125 44.40625 \r\nQ 38.921875 48.1875 33.109375 48.1875 \r\nQ 26.21875 48.1875 22.15625 43.53125 \r\nQ 18.109375 38.875 18.109375 30.90625 \r\nL 18.109375 0 \r\nL 9.078125 0 \r\nL 9.078125 54.6875 \r\nL 18.109375 54.6875 \r\nL 18.109375 46.1875 \r\nQ 21.1875 51.21875 25.484375 53.609375 \r\nQ 29.78125 56 35.6875 56 \r\nQ 41.65625 56 45.828125 52.96875 \r\nQ 50 49.953125 52 44.1875 \r\nz\r\n\" id=\"DejaVuSans-109\"/>\r\n      <path d=\"M 34.28125 27.484375 \r\nQ 23.390625 27.484375 19.1875 25 \r\nQ 14.984375 22.515625 14.984375 16.5 \r\nQ 14.984375 11.71875 18.140625 8.90625 \r\nQ 21.296875 6.109375 26.703125 6.109375 \r\nQ 34.1875 6.109375 38.703125 11.40625 \r\nQ 43.21875 16.703125 43.21875 25.484375 \r\nL 43.21875 27.484375 \r\nz\r\nM 52.203125 31.203125 \r\nL 52.203125 0 \r\nL 43.21875 0 \r\nL 43.21875 8.296875 \r\nQ 40.140625 3.328125 35.546875 0.953125 \r\nQ 30.953125 -1.421875 24.3125 -1.421875 \r\nQ 15.921875 -1.421875 10.953125 3.296875 \r\nQ 6 8.015625 6 15.921875 \r\nQ 6 25.140625 12.171875 29.828125 \r\nQ 18.359375 34.515625 30.609375 34.515625 \r\nL 43.21875 34.515625 \r\nL 43.21875 35.40625 \r\nQ 43.21875 41.609375 39.140625 45 \r\nQ 35.0625 48.390625 27.6875 48.390625 \r\nQ 23 48.390625 18.546875 47.265625 \r\nQ 14.109375 46.140625 10.015625 43.890625 \r\nL 10.015625 52.203125 \r\nQ 14.9375 54.109375 19.578125 55.046875 \r\nQ 24.21875 56 28.609375 56 \r\nQ 40.484375 56 46.34375 49.84375 \r\nQ 52.203125 43.703125 52.203125 31.203125 \r\nz\r\n\" id=\"DejaVuSans-97\"/>\r\n      <path d=\"M 41.109375 46.296875 \r\nQ 39.59375 47.171875 37.8125 47.578125 \r\nQ 36.03125 48 33.890625 48 \r\nQ 26.265625 48 22.1875 43.046875 \r\nQ 18.109375 38.09375 18.109375 28.8125 \r\nL 18.109375 0 \r\nL 9.078125 0 \r\nL 9.078125 54.6875 \r\nL 18.109375 54.6875 \r\nL 18.109375 46.1875 \r\nQ 20.953125 51.171875 25.484375 53.578125 \r\nQ 30.03125 56 36.53125 56 \r\nQ 37.453125 56 38.578125 55.875 \r\nQ 39.703125 55.765625 41.0625 55.515625 \r\nz\r\n\" id=\"DejaVuSans-114\"/>\r\n      <path d=\"M 32.171875 -5.078125 \r\nQ 28.375 -14.84375 24.75 -17.8125 \r\nQ 21.140625 -20.796875 15.09375 -20.796875 \r\nL 7.90625 -20.796875 \r\nL 7.90625 -13.28125 \r\nL 13.1875 -13.28125 \r\nQ 16.890625 -13.28125 18.9375 -11.515625 \r\nQ 21 -9.765625 23.484375 -3.21875 \r\nL 25.09375 0.875 \r\nL 2.984375 54.6875 \r\nL 12.5 54.6875 \r\nL 29.59375 11.921875 \r\nL 46.6875 54.6875 \r\nL 56.203125 54.6875 \r\nz\r\n\" id=\"DejaVuSans-121\"/>\r\n     </defs>\r\n     <use xlink:href=\"#DejaVuSans-115\"/>\r\n     <use x=\"52.099609\" xlink:href=\"#DejaVuSans-117\"/>\r\n     <use x=\"115.478516\" xlink:href=\"#DejaVuSans-109\"/>\r\n     <use x=\"212.890625\" xlink:href=\"#DejaVuSans-109\"/>\r\n     <use x=\"310.302734\" xlink:href=\"#DejaVuSans-97\"/>\r\n     <use x=\"371.582031\" xlink:href=\"#DejaVuSans-114\"/>\r\n     <use x=\"412.695312\" xlink:href=\"#DejaVuSans-121\"/>\r\n    </g>\r\n   </g>\r\n  </g>\r\n </g>\r\n <defs>\r\n  <clipPath id=\"p4207e2121b\">\r\n   <rect height=\"217.44\" width=\"145.565217\" x=\"33.2875\" y=\"22.318125\"/>\r\n  </clipPath>\r\n  <clipPath id=\"p4893b1409c\">\r\n   <rect height=\"217.44\" width=\"145.565217\" x=\"222.522283\" y=\"22.318125\"/>\r\n  </clipPath>\r\n </defs>\r\n</svg>\r\n",
            "image/png": "[encoded data removed]"
          },
          "metadata": {
            "needs_background": "light"
          }
        }
      ]
    },
    {
      "cell_type": "code",
      "metadata": {
        "id": "85x_0XiZQoNq",
        "outputId": "81e129ce-32d8-4b89-c4ad-a5228466c951"
      },
      "source": [
        "cnt=0\n",
        "for i in data['cleaned_highlight']:\n",
        "    if(len(i.split())<=14):\n",
        "        cnt=cnt+1\n",
        "print(cnt/len(data['cleaned_highlight']))"
      ],
      "execution_count": 23,
      "outputs": [
        {
          "output_type": "stream",
          "name": "stdout",
          "text": [
            "0.9919959979989995\n"
          ]
        }
      ]
    },
    {
      "cell_type": "code",
      "metadata": {
        "id": "bDLPt4zfQoNr"
      },
      "source": [
        "max_text_len=300\n",
        "max_summary_len=12"
      ],
      "execution_count": 24,
      "outputs": []
    },
    {
      "cell_type": "code",
      "metadata": {
        "id": "Kfyo6JlvQoNr"
      },
      "source": [
        "#convert text sequences into integer sequences\n",
        "x_test_seq = x_tokenizer.texts_to_sequences(x_test) \n",
        "\n"
      ],
      "execution_count": 25,
      "outputs": []
    },
    {
      "cell_type": "code",
      "metadata": {
        "id": "muN-lf-9QoNs"
      },
      "source": [
        "#padding zero upto maximum length\n",
        "x_test = pad_sequences(x_test_seq,  maxlen=max_text_len, padding='post')\n",
        "\n"
      ],
      "execution_count": 26,
      "outputs": []
    },
    {
      "cell_type": "code",
      "metadata": {
        "id": "-TERcYllQoNv",
        "outputId": "779efe89-8baa-445a-836e-3ce2d46d0b85"
      },
      "source": [
        "thresh=6\n",
        "\n",
        "cnt=0\n",
        "tot_cnt=0\n",
        "freq=0\n",
        "tot_freq=0\n",
        "\n",
        "for key,value in y_tokenizer.word_counts.items():\n",
        "    tot_cnt=tot_cnt+1\n",
        "    tot_freq=tot_freq+value\n",
        "    if(value<thresh):\n",
        "        cnt=cnt+1\n",
        "        freq=freq+value\n",
        "    \n",
        "print(\"% of rare words in vocabulary:\",(cnt/tot_cnt)*100)\n",
        "print(\"Total Coverage of rare words:\",(freq/tot_freq)*100)"
      ],
      "execution_count": 27,
      "outputs": [
        {
          "output_type": "stream",
          "name": "stdout",
          "text": [
            "% of rare words in vocabulary: 75.13038910359836\nTotal Coverage of rare words: 12.006825652323979\n"
          ]
        }
      ]
    },
    {
      "cell_type": "code",
      "metadata": {
        "id": "DDbrdUH-QoNw"
      },
      "source": [
        "#convert text sequences into integer sequences\n",
        "y_test_seq    =   y_tokenizer.texts_to_sequences(y_test) \n",
        "\n",
        "#padding zero upto maximum length\n",
        "y_test    =   pad_sequences(y_test_seq, maxlen=max_summary_len, padding='post')\n"
      ],
      "execution_count": 28,
      "outputs": []
    },
    {
      "cell_type": "code",
      "metadata": {
        "id": "XT54VIVJQoNy"
      },
      "source": [
        "ind=[]\n",
        "for i in range(len(y_test)):\n",
        "    cnt=0\n",
        "    for j in y_test[i]:\n",
        "        if j!=0:\n",
        "            cnt=cnt+1\n",
        "    if(cnt==2):\n",
        "        ind.append(i)\n",
        "\n",
        "y_test=np.delete(y_test,ind, axis=0)\n",
        "x_test=np.delete(x_test,ind, axis=0)"
      ],
      "execution_count": 29,
      "outputs": []
    },
    {
      "cell_type": "markdown",
      "metadata": {
        "id": "PgffxXwQQoNy"
      },
      "source": [
        "# Saving the data"
      ]
    },
    {
      "cell_type": "code",
      "metadata": {
        "id": "EKXRJq6-QoNz"
      },
      "source": [
        "np.save(\"../final_data/x_test.npy\", x_test)\n",
        "np.save(\"../final_data/y_test.npy\", y_test)\n"
      ],
      "execution_count": 30,
      "outputs": []
    },
    {
      "cell_type": "code",
      "metadata": {
        "id": "qwFnkYLhQoOB"
      },
      "source": [],
      "execution_count": null,
      "outputs": []
    }
  ]
}