{
 "metadata": {
  "language_info": {
   "codemirror_mode": {
    "name": "ipython",
    "version": 3
   },
   "file_extension": ".py",
   "mimetype": "text/x-python",
   "name": "python",
   "nbconvert_exporter": "python",
   "pygments_lexer": "ipython3",
   "version": "3.8.5-final"
  },
  "orig_nbformat": 2,
  "kernelspec": {
   "name": "python3",
   "display_name": "Python 3.8.5 64-bit ('nlp': conda)",
   "metadata": {
    "interpreter": {
     "hash": "16f69d32b6bef5c15060b56b3089012471c28edd066c28e5739c6b1a22d7ae44"
    }
   }
  }
 },
 "nbformat": 4,
 "nbformat_minor": 2,
 "cells": [
  {
   "source": [
    "# Libraries"
   ],
   "cell_type": "markdown",
   "metadata": {}
  },
  {
   "cell_type": "code",
   "execution_count": 1,
   "metadata": {},
   "outputs": [],
   "source": [
    "# Import libraries\n",
    "\n",
    "from os import listdir\n",
    "import string\n",
    "import pandas as pd\n",
    "import numpy as np  \n",
    "import pandas as pd \n",
    "import re           \n",
    "from bs4 import BeautifulSoup \n",
    "from tensorflow.keras.preprocessing.text import Tokenizer \n",
    "from tensorflow.keras.preprocessing.sequence import pad_sequences\n",
    "from nltk.corpus import stopwords   \n",
    "from tensorflow.keras.layers import Input, LSTM, Embedding, Dense, Concatenate, TimeDistributed, Bidirectional\n",
    "from tensorflow.compat.v1.keras.layers import CuDNNLSTM\n",
    "from tensorflow.keras.models import Model\n",
    "from tensorflow.keras.callbacks import EarlyStopping\n",
    "from attention import AttentionLayer\n",
    "import warnings\n",
    "import re, string, unicodedata\n",
    "import nltk\n",
    "import contractions\n",
    "import pickle\n",
    "import inflect\n",
    "from bs4 import BeautifulSoup\n",
    "import tensorflow as tf\n",
    "from nltk import word_tokenize, sent_tokenize\n",
    "from nltk.corpus import stopwords\n",
    "from nltk.stem import LancasterStemmer, WordNetLemmatizer\n",
    "lemmatizer = WordNetLemmatizer() \n",
    "\n",
    "pd.set_option(\"display.max_colwidth\", 200)\n",
    "warnings.filterwarnings(\"ignore\")"
   ]
  },
  {
   "cell_type": "code",
   "execution_count": 2,
   "metadata": {},
   "outputs": [],
   "source": [
    "#os.environ['TF_FORCE_GPU_ALLOW_GROWTH'] = 'true'"
   ]
  },
  {
   "cell_type": "code",
   "execution_count": 3,
   "metadata": {},
   "outputs": [],
   "source": [
    "os.environ['CUDA_VISIBLE_DEVICES'] = '-1'"
   ]
  },
  {
   "cell_type": "code",
   "execution_count": 4,
   "metadata": {},
   "outputs": [
    {
     "output_type": "stream",
     "name": "stdout",
     "text": [
      "Please install GPU version of TF\n"
     ]
    }
   ],
   "source": [
    "if tf.test.gpu_device_name(): \n",
    "    print('Default GPU Device:{}'.format(tf.test.gpu_device_name()))\n",
    "else:\n",
    "   print(\"Please install GPU version of TF\")"
   ]
  },
  {
   "source": [
    "# Loading data"
   ],
   "cell_type": "markdown",
   "metadata": {}
  },
  {
   "cell_type": "code",
   "execution_count": 5,
   "metadata": {},
   "outputs": [],
   "source": [
    "# load doc into memory\n",
    "def load_doc(filename):\n",
    "\tfile = open(filename, encoding='utf-8')\n",
    "\ttext = file.read()\n",
    "\tfile.close()\n",
    "\treturn text\n",
    "\n",
    "# split a document into news story and highlights\n",
    "def split_story(doc):\n",
    "\t# find first highlight\n",
    "\tindex = doc.find('@highlight')\n",
    "\t# split into story and highlights\n",
    "\tstory, highlights = doc[:index], doc[index:].split('@highlight')\n",
    "\t# strip extra white space around each highlight\n",
    "\thighlights = [h.strip() for h in highlights if len(h) > 0]\n",
    "\treturn story, highlights\n",
    "\n",
    "# load all stories in a directory\n",
    "def load_stories(directory):\n",
    "    stories = []\n",
    "    highlights =[]\n",
    "    for name in listdir(directory)[:10000]:\n",
    "        filename = directory + '/' + name\n",
    "\t\t# load document\n",
    "        doc = load_doc(filename)\n",
    "\t\t# split into story and highlights\n",
    "        story, highlight = split_story(doc)\n",
    "\t\t# store\n",
    "        stories.append(story)\n",
    "        highlights.append(highlight)\n",
    "    data = pd.DataFrame()\n",
    "    data[\"story\"] = stories\n",
    "    data[\"highlight\"] = highlights\n",
    "    \n",
    "    return  data"
   ]
  },
  {
   "cell_type": "code",
   "execution_count": 10,
   "metadata": {},
   "outputs": [],
   "source": [
    "# load stories\n",
    "directory = r\"C:\\Users\\feder\\Desktop\\TMS_project\\dati\\cnn\\stories\"\n",
    "data = load_stories(directory)\n"
   ]
  },
  {
   "cell_type": "code",
   "execution_count": 11,
   "metadata": {},
   "outputs": [
    {
     "output_type": "stream",
     "name": "stdout",
     "text": [
      "Loaded Stories 10000\n"
     ]
    }
   ],
   "source": [
    "print('Loaded Stories %d' % len(data))"
   ]
  },
  {
   "source": [
    "# Cleaning and preprocessing\n"
   ],
   "cell_type": "markdown",
   "metadata": {}
  },
  {
   "cell_type": "code",
   "execution_count": 12,
   "metadata": {},
   "outputs": [
    {
     "output_type": "execute_result",
     "data": {
      "text/plain": [
       "                                                                                                                                                                                                     story  \\\n",
       "0  It's official: U.S. President Barack Obama wants lawmakers to weigh in on whether to use military force in Syria.\\n\\nObama sent a letter to the heads of the House and Senate on Saturday night, hou...   \n",
       "1  (CNN) -- Usain Bolt rounded off the world championships Sunday by claiming his third gold in Moscow as he anchored Jamaica to victory in the men's 4x100m relay.\\n\\nThe fastest man in the world cha...   \n",
       "2  Kansas City, Missouri (CNN) -- The General Services Administration, already under investigation for lavish spending, allowed an employee to telecommute from Hawaii even though he is based at the G...   \n",
       "3  Los Angeles (CNN) -- A medical doctor in Vancouver, British Columbia, said Thursday that California arson suspect Harry Burkhart suffered from severe mental illness in 2010, when she examined him ...   \n",
       "4  (CNN) -- Police arrested another teen Thursday, the sixth suspect jailed in connection with the gang rape of a 15-year-old girl on a northern California high school campus.\\n\\nJose Carlos Montano,...   \n",
       "\n",
       "                                                                                                                                                                                                 highlight  \n",
       "0  [Syrian official: Obama climbed to the top of the tree, \"doesn't know how to get down\", Obama sends a letter to the heads of the House and Senate, Obama to seek congressional approval on military ...  \n",
       "1                        [Usain Bolt wins third gold of world championship, Anchors Jamaica to 4x100m relay victory, Eighth gold at the championships for Bolt, Jamaica double up in women's 4x100m relay]  \n",
       "2  [The employee in agency's Kansas City office is among hundreds of \"virtual\" workers, The employee's travel to and from the mainland U.S. last year cost more than $24,000, The telecommuting program...  \n",
       "3  [NEW: A Canadian doctor says she was part of a team examining Harry Burkhart in 2010, NEW: Diagnosis: \"autism, severe anxiety, post-traumatic stress disorder and depression\", Burkhart is also susp...  \n",
       "4  [Another arrest made in gang rape outside California school, Investigators say up to 20 people took part or stood and watched the assault, Four suspects appeared in court Thursday; three wore bull...  "
      ],
      "text/html": "<div>\n<style scoped>\n    .dataframe tbody tr th:only-of-type {\n        vertical-align: middle;\n    }\n\n    .dataframe tbody tr th {\n        vertical-align: top;\n    }\n\n    .dataframe thead th {\n        text-align: right;\n    }\n</style>\n<table border=\"1\" class=\"dataframe\">\n  <thead>\n    <tr style=\"text-align: right;\">\n      <th></th>\n      <th>story</th>\n      <th>highlight</th>\n    </tr>\n  </thead>\n  <tbody>\n    <tr>\n      <th>0</th>\n      <td>It's official: U.S. President Barack Obama wants lawmakers to weigh in on whether to use military force in Syria.\\n\\nObama sent a letter to the heads of the House and Senate on Saturday night, hou...</td>\n      <td>[Syrian official: Obama climbed to the top of the tree, \"doesn't know how to get down\", Obama sends a letter to the heads of the House and Senate, Obama to seek congressional approval on military ...</td>\n    </tr>\n    <tr>\n      <th>1</th>\n      <td>(CNN) -- Usain Bolt rounded off the world championships Sunday by claiming his third gold in Moscow as he anchored Jamaica to victory in the men's 4x100m relay.\\n\\nThe fastest man in the world cha...</td>\n      <td>[Usain Bolt wins third gold of world championship, Anchors Jamaica to 4x100m relay victory, Eighth gold at the championships for Bolt, Jamaica double up in women's 4x100m relay]</td>\n    </tr>\n    <tr>\n      <th>2</th>\n      <td>Kansas City, Missouri (CNN) -- The General Services Administration, already under investigation for lavish spending, allowed an employee to telecommute from Hawaii even though he is based at the G...</td>\n      <td>[The employee in agency's Kansas City office is among hundreds of \"virtual\" workers, The employee's travel to and from the mainland U.S. last year cost more than $24,000, The telecommuting program...</td>\n    </tr>\n    <tr>\n      <th>3</th>\n      <td>Los Angeles (CNN) -- A medical doctor in Vancouver, British Columbia, said Thursday that California arson suspect Harry Burkhart suffered from severe mental illness in 2010, when she examined him ...</td>\n      <td>[NEW: A Canadian doctor says she was part of a team examining Harry Burkhart in 2010, NEW: Diagnosis: \"autism, severe anxiety, post-traumatic stress disorder and depression\", Burkhart is also susp...</td>\n    </tr>\n    <tr>\n      <th>4</th>\n      <td>(CNN) -- Police arrested another teen Thursday, the sixth suspect jailed in connection with the gang rape of a 15-year-old girl on a northern California high school campus.\\n\\nJose Carlos Montano,...</td>\n      <td>[Another arrest made in gang rape outside California school, Investigators say up to 20 people took part or stood and watched the assault, Four suspects appeared in court Thursday; three wore bull...</td>\n    </tr>\n  </tbody>\n</table>\n</div>"
     },
     "metadata": {},
     "execution_count": 12
    }
   ],
   "source": [
    "data.head()"
   ]
  },
  {
   "cell_type": "code",
   "execution_count": 13,
   "metadata": {},
   "outputs": [],
   "source": [
    "data = data.explode(\"highlight\")"
   ]
  },
  {
   "source": [
    "## Normalization"
   ],
   "cell_type": "markdown",
   "metadata": {}
  },
  {
   "cell_type": "code",
   "execution_count": 14,
   "metadata": {},
   "outputs": [],
   "source": [
    "stop_words = set(stopwords.words('english')) \n",
    "\n",
    "def remove_non_ascii(words):\n",
    "    \"\"\"Remove non-ASCII characters\"\"\"\n",
    "    new_words = unicodedata.normalize('NFKD', words).encode('ascii', 'ignore').decode('utf-8', 'ignore')\n",
    "    return new_words\n",
    "\n",
    "def to_lowercase(words):\n",
    "    \"\"\"Convert all characters to lowercase\"\"\"\n",
    "    new_words = words.lower()\n",
    "    return new_words\n",
    "\n",
    "def remove_punctuation(words):\n",
    "    \"\"\"Remove punctuation\"\"\"\n",
    "    new_words = re.sub(r'\\([^)]*\\)', '', words)\n",
    "    return new_words\n",
    "\n",
    "def replace_numbers(words):\n",
    "    \"\"\"Replace all integer occurrences\"\"\"\n",
    "    new_words = re.sub(\"[^a-zA-Z]\", \" \", words) \n",
    "    return new_words\n",
    "\n",
    "def remove_stopwords(words):\n",
    "    \"\"\"Remove stop words\"\"\"\n",
    "    new_words = [w for w in words.split() if not w in stop_words]\n",
    "    long_words=[]\n",
    "    for i in new_words:\n",
    "        if len(i)>=1:                  \n",
    "            long_words.append(i)   \n",
    "\n",
    "    return (\" \".join(long_words)).strip()\n",
    "\n",
    "\n",
    "def replace_contractions(words):\n",
    "    \"\"\"Replace contractions in string of text\"\"\"\n",
    "    return contractions.fix(words)\n",
    "\n",
    "def normalize(words):\n",
    "    words = remove_non_ascii(words)\n",
    "    words = to_lowercase(words)\n",
    "    words = remove_punctuation(words)\n",
    "    words = replace_numbers(words)\n",
    "    words = replace_contractions(words)\n",
    "    words = remove_stopwords(words)\n",
    "\n",
    "    return words"
   ]
  },
  {
   "cell_type": "code",
   "execution_count": 15,
   "metadata": {},
   "outputs": [],
   "source": [
    "#Call the above function\n",
    "\n",
    "cleaned_story = []\n",
    "for t in data['story']:\n",
    "    cleaned_story.append(normalize(t))\n",
    "\n",
    "cleaned_highlight = []\n",
    "for t in data['highlight']:\n",
    "    cleaned_highlight.append(normalize(t))\n",
    "\n",
    "data['normalized_text']=cleaned_story\n",
    "data['normalized_highlight']=cleaned_highlight\n",
    "data['normalized_highlight'].replace('', np.nan, inplace=True)\n",
    "data.dropna(axis=0,inplace=True)"
   ]
  },
  {
   "source": [
    "## Lemmatization"
   ],
   "cell_type": "markdown",
   "metadata": {}
  },
  {
   "cell_type": "code",
   "execution_count": 16,
   "metadata": {},
   "outputs": [],
   "source": [
    "def lemmatize(words):\n",
    "    words = lemmatizer.lemmatize(words)\n",
    "    return words"
   ]
  },
  {
   "cell_type": "code",
   "execution_count": 17,
   "metadata": {},
   "outputs": [],
   "source": [
    "#Call the above function\n",
    "\n",
    "lemmatized_story = []\n",
    "for t in data['normalized_text']:\n",
    "    lemmatized_story.append(lemmatize(t))\n",
    "    \n",
    "lemmatized_highlight = []\n",
    "for t in data['normalized_highlight']:\n",
    "    lemmatized_highlight.append(lemmatize(t))\n",
    "\n",
    "data['cleaned_text']=lemmatized_story\n",
    "data['cleaned_highlight']=lemmatized_highlight\n",
    "data['cleaned_highlight'].replace('', np.nan, inplace=True)\n",
    "data.dropna(axis=0,inplace=True)"
   ]
  },
  {
   "source": [
    "## Add start and end tokens for the summarizer"
   ],
   "cell_type": "markdown",
   "metadata": {}
  },
  {
   "cell_type": "code",
   "execution_count": 18,
   "metadata": {},
   "outputs": [],
   "source": [
    "data['cleaned_highlight'] = data['cleaned_highlight'].apply(lambda x : 'starttoken '+ x + ' endtoken')\n"
   ]
  },
  {
   "source": [
    "## Visualize results"
   ],
   "cell_type": "markdown",
   "metadata": {}
  },
  {
   "cell_type": "code",
   "execution_count": 19,
   "metadata": {},
   "outputs": [
    {
     "output_type": "execute_result",
     "data": {
      "text/plain": [
       "                                                                                                                                                                                                 cleaned_text  \\\n",
       "0     official president barack obama wants lawmakers weigh whether use military force syria obama sent letter heads house senate saturday night hours announcing believes military action syrian targets ...   \n",
       "0     official president barack obama wants lawmakers weigh whether use military force syria obama sent letter heads house senate saturday night hours announcing believes military action syrian targets ...   \n",
       "0     official president barack obama wants lawmakers weigh whether use military force syria obama sent letter heads house senate saturday night hours announcing believes military action syrian targets ...   \n",
       "0     official president barack obama wants lawmakers weigh whether use military force syria obama sent letter heads house senate saturday night hours announcing believes military action syrian targets ...   \n",
       "1     usain bolt rounded world championships sunday claiming third gold moscow anchored jamaica victory men x relay fastest man world charged clear united states rival justin gatlin jamaican quartet nes...   \n",
       "...                                                                                                                                                                                                       ...   \n",
       "9998  rapper fat joe others entourage briefly detained questioned early monday woman reported alleged sexual assault madison wisconsin police said year old madison woman called police complaint inapprop...   \n",
       "9999  johannesburg south africa former south african president nelson mandela led mourning great granddaughter chapel johannesburg south africa thursday office announced zenani mandela buried private ce...   \n",
       "9999  johannesburg south africa former south african president nelson mandela led mourning great granddaughter chapel johannesburg south africa thursday office announced zenani mandela buried private ce...   \n",
       "9999  johannesburg south africa former south african president nelson mandela led mourning great granddaughter chapel johannesburg south africa thursday office announced zenani mandela buried private ce...   \n",
       "9999  johannesburg south africa former south african president nelson mandela led mourning great granddaughter chapel johannesburg south africa thursday office announced zenani mandela buried private ce...   \n",
       "\n",
       "                                                                            cleaned_highlight  \n",
       "0                         starttoken syrian official obama climbed top tree know get endtoken  \n",
       "0                                   starttoken obama sends letter heads house senate endtoken  \n",
       "0                 starttoken obama seek congressional approval military action syria endtoken  \n",
       "0                          starttoken aim determine whether cw used says n spokesman endtoken  \n",
       "1                           starttoken usain bolt wins third gold world championship endtoken  \n",
       "...                                                                                       ...  \n",
       "9998                          starttoken rapper lawyer calls woman groupie pretender endtoken  \n",
       "9999                            starttoken zenani mandela killed car wreck last week endtoken  \n",
       "9999                              starttoken whispered ear love mother says memorial endtoken  \n",
       "9999  starttoken zenani thrilled meeting soccer star cristiano ronaldo two days died endtoken  \n",
       "9999                   starttoken former south african president great grandchildren endtoken  \n",
       "\n",
       "[35511 rows x 2 columns]"
      ],
      "text/html": "<div>\n<style scoped>\n    .dataframe tbody tr th:only-of-type {\n        vertical-align: middle;\n    }\n\n    .dataframe tbody tr th {\n        vertical-align: top;\n    }\n\n    .dataframe thead th {\n        text-align: right;\n    }\n</style>\n<table border=\"1\" class=\"dataframe\">\n  <thead>\n    <tr style=\"text-align: right;\">\n      <th></th>\n      <th>cleaned_text</th>\n      <th>cleaned_highlight</th>\n    </tr>\n  </thead>\n  <tbody>\n    <tr>\n      <th>0</th>\n      <td>official president barack obama wants lawmakers weigh whether use military force syria obama sent letter heads house senate saturday night hours announcing believes military action syrian targets ...</td>\n      <td>starttoken syrian official obama climbed top tree know get endtoken</td>\n    </tr>\n    <tr>\n      <th>0</th>\n      <td>official president barack obama wants lawmakers weigh whether use military force syria obama sent letter heads house senate saturday night hours announcing believes military action syrian targets ...</td>\n      <td>starttoken obama sends letter heads house senate endtoken</td>\n    </tr>\n    <tr>\n      <th>0</th>\n      <td>official president barack obama wants lawmakers weigh whether use military force syria obama sent letter heads house senate saturday night hours announcing believes military action syrian targets ...</td>\n      <td>starttoken obama seek congressional approval military action syria endtoken</td>\n    </tr>\n    <tr>\n      <th>0</th>\n      <td>official president barack obama wants lawmakers weigh whether use military force syria obama sent letter heads house senate saturday night hours announcing believes military action syrian targets ...</td>\n      <td>starttoken aim determine whether cw used says n spokesman endtoken</td>\n    </tr>\n    <tr>\n      <th>1</th>\n      <td>usain bolt rounded world championships sunday claiming third gold moscow anchored jamaica victory men x relay fastest man world charged clear united states rival justin gatlin jamaican quartet nes...</td>\n      <td>starttoken usain bolt wins third gold world championship endtoken</td>\n    </tr>\n    <tr>\n      <th>...</th>\n      <td>...</td>\n      <td>...</td>\n    </tr>\n    <tr>\n      <th>9998</th>\n      <td>rapper fat joe others entourage briefly detained questioned early monday woman reported alleged sexual assault madison wisconsin police said year old madison woman called police complaint inapprop...</td>\n      <td>starttoken rapper lawyer calls woman groupie pretender endtoken</td>\n    </tr>\n    <tr>\n      <th>9999</th>\n      <td>johannesburg south africa former south african president nelson mandela led mourning great granddaughter chapel johannesburg south africa thursday office announced zenani mandela buried private ce...</td>\n      <td>starttoken zenani mandela killed car wreck last week endtoken</td>\n    </tr>\n    <tr>\n      <th>9999</th>\n      <td>johannesburg south africa former south african president nelson mandela led mourning great granddaughter chapel johannesburg south africa thursday office announced zenani mandela buried private ce...</td>\n      <td>starttoken whispered ear love mother says memorial endtoken</td>\n    </tr>\n    <tr>\n      <th>9999</th>\n      <td>johannesburg south africa former south african president nelson mandela led mourning great granddaughter chapel johannesburg south africa thursday office announced zenani mandela buried private ce...</td>\n      <td>starttoken zenani thrilled meeting soccer star cristiano ronaldo two days died endtoken</td>\n    </tr>\n    <tr>\n      <th>9999</th>\n      <td>johannesburg south africa former south african president nelson mandela led mourning great granddaughter chapel johannesburg south africa thursday office announced zenani mandela buried private ce...</td>\n      <td>starttoken former south african president great grandchildren endtoken</td>\n    </tr>\n  </tbody>\n</table>\n<p>35511 rows × 2 columns</p>\n</div>"
     },
     "metadata": {},
     "execution_count": 19
    }
   ],
   "source": [
    "data = data[[\"cleaned_text\", \"cleaned_highlight\"]]\n",
    "data"
   ]
  },
  {
   "source": [
    "## Dataset splitting"
   ],
   "cell_type": "markdown",
   "metadata": {}
  },
  {
   "cell_type": "code",
   "execution_count": 20,
   "metadata": {},
   "outputs": [],
   "source": [
    "from sklearn.model_selection import train_test_split\n",
    "x_tr,x_val,y_tr,y_val=train_test_split(data['cleaned_text'],data['cleaned_highlight'],test_size=0.1,random_state=0,shuffle=True) "
   ]
  },
  {
   "source": [
    "## Tokenization"
   ],
   "cell_type": "markdown",
   "metadata": {}
  },
  {
   "cell_type": "code",
   "execution_count": 21,
   "metadata": {},
   "outputs": [],
   "source": [
    "from tensorflow.keras.preprocessing.text import Tokenizer \n",
    "from tensorflow.keras.preprocessing.sequence import pad_sequences\n",
    "\n",
    "#prepare a tokenizer for reviews on training data\n",
    "x_tokenizer = Tokenizer() \n",
    "x_tokenizer.fit_on_texts(list(x_tr))"
   ]
  },
  {
   "cell_type": "code",
   "execution_count": 22,
   "metadata": {},
   "outputs": [
    {
     "output_type": "stream",
     "name": "stdout",
     "text": [
      "% of rare words in vocabulary: 20.37335164184758\nTotal Coverage of rare words: 0.39457576608869416\n"
     ]
    }
   ],
   "source": [
    "thresh=4\n",
    "\n",
    "cnt=0\n",
    "tot_cnt=0\n",
    "freq=0\n",
    "tot_freq=0\n",
    "\n",
    "for key,value in x_tokenizer.word_counts.items():\n",
    "    tot_cnt=tot_cnt+1\n",
    "    tot_freq=tot_freq+value\n",
    "    if(value<thresh):\n",
    "        cnt=cnt+1\n",
    "        freq=freq+value\n",
    "    \n",
    "print(\"% of rare words in vocabulary:\",(cnt/tot_cnt)*100)\n",
    "print(\"Total Coverage of rare words:\",(freq/tot_freq)*100)"
   ]
  },
  {
   "cell_type": "code",
   "execution_count": 23,
   "metadata": {},
   "outputs": [
    {
     "output_type": "display_data",
     "data": {
      "text/plain": "<Figure size 432x288 with 2 Axes>",
      "image/svg+xml": "<?xml version=\"1.0\" encoding=\"utf-8\" standalone=\"no\"?>\r\n<!DOCTYPE svg PUBLIC \"-//W3C//DTD SVG 1.1//EN\"\r\n  \"http://www.w3.org/Graphics/SVG/1.1/DTD/svg11.dtd\">\r\n<!-- Created with matplotlib (https://matplotlib.org/) -->\r\n<svg height=\"263.63625pt\" version=\"1.1\" viewBox=\"0 0 381.65 263.63625\" width=\"381.65pt\" xmlns=\"http://www.w3.org/2000/svg\" xmlns:xlink=\"http://www.w3.org/1999/xlink\">\r\n <metadata>\r\n  <rdf:RDF xmlns:cc=\"http://creativecommons.org/ns#\" xmlns:dc=\"http://purl.org/dc/elements/1.1/\" xmlns:rdf=\"http://www.w3.org/1999/02/22-rdf-syntax-ns#\">\r\n   <cc:Work>\r\n    <dc:type rdf:resource=\"http://purl.org/dc/dcmitype/StillImage\"/>\r\n    <dc:date>2021-01-06T12:12:37.545240</dc:date>\r\n    <dc:format>image/svg+xml</dc:format>\r\n    <dc:creator>\r\n     <cc:Agent>\r\n      <dc:title>Matplotlib v3.3.3, https://matplotlib.org/</dc:title>\r\n     </cc:Agent>\r\n    </dc:creator>\r\n   </cc:Work>\r\n  </rdf:RDF>\r\n </metadata>\r\n <defs>\r\n  <style type=\"text/css\">*{stroke-linecap:butt;stroke-linejoin:round;}</style>\r\n </defs>\r\n <g id=\"figure_1\">\r\n  <g id=\"patch_1\">\r\n   <path d=\"M -0 263.63625 \r\nL 381.65 263.63625 \r\nL 381.65 0 \r\nL -0 0 \r\nz\r\n\" style=\"fill:none;\"/>\r\n  </g>\r\n  <g id=\"axes_1\">\r\n   <g id=\"patch_2\">\r\n    <path d=\"M 39.65 239.758125 \r\nL 185.215217 239.758125 \r\nL 185.215217 22.318125 \r\nL 39.65 22.318125 \r\nz\r\n\" style=\"fill:#ffffff;\"/>\r\n   </g>\r\n   <g id=\"patch_3\">\r\n    <path clip-path=\"url(#p7238ecbe19)\" d=\"M 46.266601 239.758125 \r\nL 50.677668 239.758125 \r\nL 50.677668 234.425978 \r\nL 46.266601 234.425978 \r\nz\r\n\" style=\"fill:#1f77b4;\"/>\r\n   </g>\r\n   <g id=\"patch_4\">\r\n    <path clip-path=\"url(#p7238ecbe19)\" d=\"M 50.677668 239.758125 \r\nL 55.088735 239.758125 \r\nL 55.088735 214.523429 \r\nL 50.677668 214.523429 \r\nz\r\n\" style=\"fill:#1f77b4;\"/>\r\n   </g>\r\n   <g id=\"patch_5\">\r\n    <path clip-path=\"url(#p7238ecbe19)\" d=\"M 55.088735 239.758125 \r\nL 59.499802 239.758125 \r\nL 59.499802 140.617389 \r\nL 55.088735 140.617389 \r\nz\r\n\" style=\"fill:#1f77b4;\"/>\r\n   </g>\r\n   <g id=\"patch_6\">\r\n    <path clip-path=\"url(#p7238ecbe19)\" d=\"M 59.499802 239.758125 \r\nL 63.91087 239.758125 \r\nL 63.91087 71.79549 \r\nL 59.499802 71.79549 \r\nz\r\n\" style=\"fill:#1f77b4;\"/>\r\n   </g>\r\n   <g id=\"patch_7\">\r\n    <path clip-path=\"url(#p7238ecbe19)\" d=\"M 63.91087 239.758125 \r\nL 68.321937 239.758125 \r\nL 68.321937 39.306594 \r\nL 63.91087 39.306594 \r\nz\r\n\" style=\"fill:#1f77b4;\"/>\r\n   </g>\r\n   <g id=\"patch_8\">\r\n    <path clip-path=\"url(#p7238ecbe19)\" d=\"M 68.321937 239.758125 \r\nL 72.733004 239.758125 \r\nL 72.733004 32.672411 \r\nL 68.321937 32.672411 \r\nz\r\n\" style=\"fill:#1f77b4;\"/>\r\n   </g>\r\n   <g id=\"patch_9\">\r\n    <path clip-path=\"url(#p7238ecbe19)\" d=\"M 72.733004 239.758125 \r\nL 77.144071 239.758125 \r\nL 77.144071 39.988613 \r\nL 72.733004 39.988613 \r\nz\r\n\" style=\"fill:#1f77b4;\"/>\r\n   </g>\r\n   <g id=\"patch_10\">\r\n    <path clip-path=\"url(#p7238ecbe19)\" d=\"M 77.144071 239.758125 \r\nL 81.555138 239.758125 \r\nL 81.555138 41.910666 \r\nL 77.144071 41.910666 \r\nz\r\n\" style=\"fill:#1f77b4;\"/>\r\n   </g>\r\n   <g id=\"patch_11\">\r\n    <path clip-path=\"url(#p7238ecbe19)\" d=\"M 81.555138 239.758125 \r\nL 85.966206 239.758125 \r\nL 85.966206 58.465122 \r\nL 81.555138 58.465122 \r\nz\r\n\" style=\"fill:#1f77b4;\"/>\r\n   </g>\r\n   <g id=\"patch_12\">\r\n    <path clip-path=\"url(#p7238ecbe19)\" d=\"M 85.966206 239.758125 \r\nL 90.377273 239.758125 \r\nL 90.377273 60.697184 \r\nL 85.966206 60.697184 \r\nz\r\n\" style=\"fill:#1f77b4;\"/>\r\n   </g>\r\n   <g id=\"patch_13\">\r\n    <path clip-path=\"url(#p7238ecbe19)\" d=\"M 90.377273 239.758125 \r\nL 94.78834 239.758125 \r\nL 94.78834 84.567843 \r\nL 90.377273 84.567843 \r\nz\r\n\" style=\"fill:#1f77b4;\"/>\r\n   </g>\r\n   <g id=\"patch_14\">\r\n    <path clip-path=\"url(#p7238ecbe19)\" d=\"M 94.78834 239.758125 \r\nL 99.199407 239.758125 \r\nL 99.199407 104.7804 \r\nL 94.78834 104.7804 \r\nz\r\n\" style=\"fill:#1f77b4;\"/>\r\n   </g>\r\n   <g id=\"patch_15\">\r\n    <path clip-path=\"url(#p7238ecbe19)\" d=\"M 99.199407 239.758125 \r\nL 103.610474 239.758125 \r\nL 103.610474 127.039015 \r\nL 99.199407 127.039015 \r\nz\r\n\" style=\"fill:#1f77b4;\"/>\r\n   </g>\r\n   <g id=\"patch_16\">\r\n    <path clip-path=\"url(#p7238ecbe19)\" d=\"M 103.610474 239.758125 \r\nL 108.021542 239.758125 \r\nL 108.021542 160.457937 \r\nL 103.610474 160.457937 \r\nz\r\n\" style=\"fill:#1f77b4;\"/>\r\n   </g>\r\n   <g id=\"patch_17\">\r\n    <path clip-path=\"url(#p7238ecbe19)\" d=\"M 108.021542 239.758125 \r\nL 112.432609 239.758125 \r\nL 112.432609 175.648356 \r\nL 108.021542 175.648356 \r\nz\r\n\" style=\"fill:#1f77b4;\"/>\r\n   </g>\r\n   <g id=\"patch_18\">\r\n    <path clip-path=\"url(#p7238ecbe19)\" d=\"M 112.432609 239.758125 \r\nL 116.843676 239.758125 \r\nL 116.843676 193.19484 \r\nL 112.432609 193.19484 \r\nz\r\n\" style=\"fill:#1f77b4;\"/>\r\n   </g>\r\n   <g id=\"patch_19\">\r\n    <path clip-path=\"url(#p7238ecbe19)\" d=\"M 116.843676 239.758125 \r\nL 121.254743 239.758125 \r\nL 121.254743 194.682881 \r\nL 116.843676 194.682881 \r\nz\r\n\" style=\"fill:#1f77b4;\"/>\r\n   </g>\r\n   <g id=\"patch_20\">\r\n    <path clip-path=\"url(#p7238ecbe19)\" d=\"M 121.254743 239.758125 \r\nL 125.66581 239.758125 \r\nL 125.66581 206.401205 \r\nL 121.254743 206.401205 \r\nz\r\n\" style=\"fill:#1f77b4;\"/>\r\n   </g>\r\n   <g id=\"patch_21\">\r\n    <path clip-path=\"url(#p7238ecbe19)\" d=\"M 125.66581 239.758125 \r\nL 130.076877 239.758125 \r\nL 130.076877 223.885687 \r\nL 125.66581 223.885687 \r\nz\r\n\" style=\"fill:#1f77b4;\"/>\r\n   </g>\r\n   <g id=\"patch_22\">\r\n    <path clip-path=\"url(#p7238ecbe19)\" d=\"M 130.076877 239.758125 \r\nL 134.487945 239.758125 \r\nL 134.487945 223.26567 \r\nL 130.076877 223.26567 \r\nz\r\n\" style=\"fill:#1f77b4;\"/>\r\n   </g>\r\n   <g id=\"patch_23\">\r\n    <path clip-path=\"url(#p7238ecbe19)\" d=\"M 134.487945 239.758125 \r\nL 138.899012 239.758125 \r\nL 138.899012 224.319699 \r\nL 134.487945 224.319699 \r\nz\r\n\" style=\"fill:#1f77b4;\"/>\r\n   </g>\r\n   <g id=\"patch_24\">\r\n    <path clip-path=\"url(#p7238ecbe19)\" d=\"M 138.899012 239.758125 \r\nL 143.310079 239.758125 \r\nL 143.310079 230.705875 \r\nL 138.899012 230.705875 \r\nz\r\n\" style=\"fill:#1f77b4;\"/>\r\n   </g>\r\n   <g id=\"patch_25\">\r\n    <path clip-path=\"url(#p7238ecbe19)\" d=\"M 143.310079 239.758125 \r\nL 147.721146 239.758125 \r\nL 147.721146 232.875935 \r\nL 143.310079 232.875935 \r\nz\r\n\" style=\"fill:#1f77b4;\"/>\r\n   </g>\r\n   <g id=\"patch_26\">\r\n    <path clip-path=\"url(#p7238ecbe19)\" d=\"M 147.721146 239.758125 \r\nL 152.132213 239.758125 \r\nL 152.132213 237.340058 \r\nL 147.721146 237.340058 \r\nz\r\n\" style=\"fill:#1f77b4;\"/>\r\n   </g>\r\n   <g id=\"patch_27\">\r\n    <path clip-path=\"url(#p7238ecbe19)\" d=\"M 152.132213 239.758125 \r\nL 156.543281 239.758125 \r\nL 156.543281 239.076106 \r\nL 152.132213 239.076106 \r\nz\r\n\" style=\"fill:#1f77b4;\"/>\r\n   </g>\r\n   <g id=\"patch_28\">\r\n    <path clip-path=\"url(#p7238ecbe19)\" d=\"M 156.543281 239.758125 \r\nL 160.954348 239.758125 \r\nL 160.954348 239.510118 \r\nL 156.543281 239.510118 \r\nz\r\n\" style=\"fill:#1f77b4;\"/>\r\n   </g>\r\n   <g id=\"patch_29\">\r\n    <path clip-path=\"url(#p7238ecbe19)\" d=\"M 160.954348 239.758125 \r\nL 165.365415 239.758125 \r\nL 165.365415 239.758125 \r\nL 160.954348 239.758125 \r\nz\r\n\" style=\"fill:#1f77b4;\"/>\r\n   </g>\r\n   <g id=\"patch_30\">\r\n    <path clip-path=\"url(#p7238ecbe19)\" d=\"M 165.365415 239.758125 \r\nL 169.776482 239.758125 \r\nL 169.776482 239.758125 \r\nL 165.365415 239.758125 \r\nz\r\n\" style=\"fill:#1f77b4;\"/>\r\n   </g>\r\n   <g id=\"patch_31\">\r\n    <path clip-path=\"url(#p7238ecbe19)\" d=\"M 169.776482 239.758125 \r\nL 174.187549 239.758125 \r\nL 174.187549 239.758125 \r\nL 169.776482 239.758125 \r\nz\r\n\" style=\"fill:#1f77b4;\"/>\r\n   </g>\r\n   <g id=\"patch_32\">\r\n    <path clip-path=\"url(#p7238ecbe19)\" d=\"M 174.187549 239.758125 \r\nL 178.598617 239.758125 \r\nL 178.598617 239.57212 \r\nL 174.187549 239.57212 \r\nz\r\n\" style=\"fill:#1f77b4;\"/>\r\n   </g>\r\n   <g id=\"matplotlib.axis_1\">\r\n    <g id=\"xtick_1\">\r\n     <g id=\"line2d_1\">\r\n      <path clip-path=\"url(#p7238ecbe19)\" d=\"M 46.266601 239.758125 \r\nL 46.266601 22.318125 \r\n\" style=\"fill:none;stroke:#b0b0b0;stroke-linecap:square;stroke-width:0.8;\"/>\r\n     </g>\r\n     <g id=\"line2d_2\">\r\n      <defs>\r\n       <path d=\"M 0 0 \r\nL 0 3.5 \r\n\" id=\"ma0b9b5dab2\" style=\"stroke:#000000;stroke-width:0.8;\"/>\r\n      </defs>\r\n      <g>\r\n       <use style=\"stroke:#000000;stroke-width:0.8;\" x=\"46.266601\" xlink:href=\"#ma0b9b5dab2\" y=\"239.758125\"/>\r\n      </g>\r\n     </g>\r\n     <g id=\"text_1\">\r\n      <!-- 0 -->\r\n      <g transform=\"translate(43.085351 254.356563)scale(0.1 -0.1)\">\r\n       <defs>\r\n        <path d=\"M 31.78125 66.40625 \r\nQ 24.171875 66.40625 20.328125 58.90625 \r\nQ 16.5 51.421875 16.5 36.375 \r\nQ 16.5 21.390625 20.328125 13.890625 \r\nQ 24.171875 6.390625 31.78125 6.390625 \r\nQ 39.453125 6.390625 43.28125 13.890625 \r\nQ 47.125 21.390625 47.125 36.375 \r\nQ 47.125 51.421875 43.28125 58.90625 \r\nQ 39.453125 66.40625 31.78125 66.40625 \r\nz\r\nM 31.78125 74.21875 \r\nQ 44.046875 74.21875 50.515625 64.515625 \r\nQ 56.984375 54.828125 56.984375 36.375 \r\nQ 56.984375 17.96875 50.515625 8.265625 \r\nQ 44.046875 -1.421875 31.78125 -1.421875 \r\nQ 19.53125 -1.421875 13.0625 8.265625 \r\nQ 6.59375 17.96875 6.59375 36.375 \r\nQ 6.59375 54.828125 13.0625 64.515625 \r\nQ 19.53125 74.21875 31.78125 74.21875 \r\nz\r\n\" id=\"DejaVuSans-48\"/>\r\n       </defs>\r\n       <use xlink:href=\"#DejaVuSans-48\"/>\r\n      </g>\r\n     </g>\r\n    </g>\r\n    <g id=\"xtick_2\">\r\n     <g id=\"line2d_3\">\r\n      <path clip-path=\"url(#p7238ecbe19)\" d=\"M 97.597871 239.758125 \r\nL 97.597871 22.318125 \r\n\" style=\"fill:none;stroke:#b0b0b0;stroke-linecap:square;stroke-width:0.8;\"/>\r\n     </g>\r\n     <g id=\"line2d_4\">\r\n      <g>\r\n       <use style=\"stroke:#000000;stroke-width:0.8;\" x=\"97.597871\" xlink:href=\"#ma0b9b5dab2\" y=\"239.758125\"/>\r\n      </g>\r\n     </g>\r\n     <g id=\"text_2\">\r\n      <!-- 500 -->\r\n      <g transform=\"translate(88.054121 254.356563)scale(0.1 -0.1)\">\r\n       <defs>\r\n        <path d=\"M 10.796875 72.90625 \r\nL 49.515625 72.90625 \r\nL 49.515625 64.59375 \r\nL 19.828125 64.59375 \r\nL 19.828125 46.734375 \r\nQ 21.96875 47.46875 24.109375 47.828125 \r\nQ 26.265625 48.1875 28.421875 48.1875 \r\nQ 40.625 48.1875 47.75 41.5 \r\nQ 54.890625 34.8125 54.890625 23.390625 \r\nQ 54.890625 11.625 47.5625 5.09375 \r\nQ 40.234375 -1.421875 26.90625 -1.421875 \r\nQ 22.3125 -1.421875 17.546875 -0.640625 \r\nQ 12.796875 0.140625 7.71875 1.703125 \r\nL 7.71875 11.625 \r\nQ 12.109375 9.234375 16.796875 8.0625 \r\nQ 21.484375 6.890625 26.703125 6.890625 \r\nQ 35.15625 6.890625 40.078125 11.328125 \r\nQ 45.015625 15.765625 45.015625 23.390625 \r\nQ 45.015625 31 40.078125 35.4375 \r\nQ 35.15625 39.890625 26.703125 39.890625 \r\nQ 22.75 39.890625 18.8125 39.015625 \r\nQ 14.890625 38.140625 10.796875 36.28125 \r\nz\r\n\" id=\"DejaVuSans-53\"/>\r\n       </defs>\r\n       <use xlink:href=\"#DejaVuSans-53\"/>\r\n       <use x=\"63.623047\" xlink:href=\"#DejaVuSans-48\"/>\r\n       <use x=\"127.246094\" xlink:href=\"#DejaVuSans-48\"/>\r\n      </g>\r\n     </g>\r\n    </g>\r\n    <g id=\"xtick_3\">\r\n     <g id=\"line2d_5\">\r\n      <path clip-path=\"url(#p7238ecbe19)\" d=\"M 148.929142 239.758125 \r\nL 148.929142 22.318125 \r\n\" style=\"fill:none;stroke:#b0b0b0;stroke-linecap:square;stroke-width:0.8;\"/>\r\n     </g>\r\n     <g id=\"line2d_6\">\r\n      <g>\r\n       <use style=\"stroke:#000000;stroke-width:0.8;\" x=\"148.929142\" xlink:href=\"#ma0b9b5dab2\" y=\"239.758125\"/>\r\n      </g>\r\n     </g>\r\n     <g id=\"text_3\">\r\n      <!-- 1000 -->\r\n      <g transform=\"translate(136.204142 254.356563)scale(0.1 -0.1)\">\r\n       <defs>\r\n        <path d=\"M 12.40625 8.296875 \r\nL 28.515625 8.296875 \r\nL 28.515625 63.921875 \r\nL 10.984375 60.40625 \r\nL 10.984375 69.390625 \r\nL 28.421875 72.90625 \r\nL 38.28125 72.90625 \r\nL 38.28125 8.296875 \r\nL 54.390625 8.296875 \r\nL 54.390625 0 \r\nL 12.40625 0 \r\nz\r\n\" id=\"DejaVuSans-49\"/>\r\n       </defs>\r\n       <use xlink:href=\"#DejaVuSans-49\"/>\r\n       <use x=\"63.623047\" xlink:href=\"#DejaVuSans-48\"/>\r\n       <use x=\"127.246094\" xlink:href=\"#DejaVuSans-48\"/>\r\n       <use x=\"190.869141\" xlink:href=\"#DejaVuSans-48\"/>\r\n      </g>\r\n     </g>\r\n    </g>\r\n   </g>\r\n   <g id=\"matplotlib.axis_2\">\r\n    <g id=\"ytick_1\">\r\n     <g id=\"line2d_7\">\r\n      <path clip-path=\"url(#p7238ecbe19)\" d=\"M 39.65 239.758125 \r\nL 185.215217 239.758125 \r\n\" style=\"fill:none;stroke:#b0b0b0;stroke-linecap:square;stroke-width:0.8;\"/>\r\n     </g>\r\n     <g id=\"line2d_8\">\r\n      <defs>\r\n       <path d=\"M 0 0 \r\nL -3.5 0 \r\n\" id=\"m0262ac126b\" style=\"stroke:#000000;stroke-width:0.8;\"/>\r\n      </defs>\r\n      <g>\r\n       <use style=\"stroke:#000000;stroke-width:0.8;\" x=\"39.65\" xlink:href=\"#m0262ac126b\" y=\"239.758125\"/>\r\n      </g>\r\n     </g>\r\n     <g id=\"text_4\">\r\n      <!-- 0 -->\r\n      <g transform=\"translate(26.2875 243.557344)scale(0.1 -0.1)\">\r\n       <use xlink:href=\"#DejaVuSans-48\"/>\r\n      </g>\r\n     </g>\r\n    </g>\r\n    <g id=\"ytick_2\">\r\n     <g id=\"line2d_9\">\r\n      <path clip-path=\"url(#p7238ecbe19)\" d=\"M 39.65 208.75727 \r\nL 185.215217 208.75727 \r\n\" style=\"fill:none;stroke:#b0b0b0;stroke-linecap:square;stroke-width:0.8;\"/>\r\n     </g>\r\n     <g id=\"line2d_10\">\r\n      <g>\r\n       <use style=\"stroke:#000000;stroke-width:0.8;\" x=\"39.65\" xlink:href=\"#m0262ac126b\" y=\"208.75727\"/>\r\n      </g>\r\n     </g>\r\n     <g id=\"text_5\">\r\n      <!-- 500 -->\r\n      <g transform=\"translate(13.5625 212.556488)scale(0.1 -0.1)\">\r\n       <use xlink:href=\"#DejaVuSans-53\"/>\r\n       <use x=\"63.623047\" xlink:href=\"#DejaVuSans-48\"/>\r\n       <use x=\"127.246094\" xlink:href=\"#DejaVuSans-48\"/>\r\n      </g>\r\n     </g>\r\n    </g>\r\n    <g id=\"ytick_3\">\r\n     <g id=\"line2d_11\">\r\n      <path clip-path=\"url(#p7238ecbe19)\" d=\"M 39.65 177.756414 \r\nL 185.215217 177.756414 \r\n\" style=\"fill:none;stroke:#b0b0b0;stroke-linecap:square;stroke-width:0.8;\"/>\r\n     </g>\r\n     <g id=\"line2d_12\">\r\n      <g>\r\n       <use style=\"stroke:#000000;stroke-width:0.8;\" x=\"39.65\" xlink:href=\"#m0262ac126b\" y=\"177.756414\"/>\r\n      </g>\r\n     </g>\r\n     <g id=\"text_6\">\r\n      <!-- 1000 -->\r\n      <g transform=\"translate(7.2 181.555633)scale(0.1 -0.1)\">\r\n       <use xlink:href=\"#DejaVuSans-49\"/>\r\n       <use x=\"63.623047\" xlink:href=\"#DejaVuSans-48\"/>\r\n       <use x=\"127.246094\" xlink:href=\"#DejaVuSans-48\"/>\r\n       <use x=\"190.869141\" xlink:href=\"#DejaVuSans-48\"/>\r\n      </g>\r\n     </g>\r\n    </g>\r\n    <g id=\"ytick_4\">\r\n     <g id=\"line2d_13\">\r\n      <path clip-path=\"url(#p7238ecbe19)\" d=\"M 39.65 146.755559 \r\nL 185.215217 146.755559 \r\n\" style=\"fill:none;stroke:#b0b0b0;stroke-linecap:square;stroke-width:0.8;\"/>\r\n     </g>\r\n     <g id=\"line2d_14\">\r\n      <g>\r\n       <use style=\"stroke:#000000;stroke-width:0.8;\" x=\"39.65\" xlink:href=\"#m0262ac126b\" y=\"146.755559\"/>\r\n      </g>\r\n     </g>\r\n     <g id=\"text_7\">\r\n      <!-- 1500 -->\r\n      <g transform=\"translate(7.2 150.554777)scale(0.1 -0.1)\">\r\n       <use xlink:href=\"#DejaVuSans-49\"/>\r\n       <use x=\"63.623047\" xlink:href=\"#DejaVuSans-53\"/>\r\n       <use x=\"127.246094\" xlink:href=\"#DejaVuSans-48\"/>\r\n       <use x=\"190.869141\" xlink:href=\"#DejaVuSans-48\"/>\r\n      </g>\r\n     </g>\r\n    </g>\r\n    <g id=\"ytick_5\">\r\n     <g id=\"line2d_15\">\r\n      <path clip-path=\"url(#p7238ecbe19)\" d=\"M 39.65 115.754703 \r\nL 185.215217 115.754703 \r\n\" style=\"fill:none;stroke:#b0b0b0;stroke-linecap:square;stroke-width:0.8;\"/>\r\n     </g>\r\n     <g id=\"line2d_16\">\r\n      <g>\r\n       <use style=\"stroke:#000000;stroke-width:0.8;\" x=\"39.65\" xlink:href=\"#m0262ac126b\" y=\"115.754703\"/>\r\n      </g>\r\n     </g>\r\n     <g id=\"text_8\">\r\n      <!-- 2000 -->\r\n      <g transform=\"translate(7.2 119.553922)scale(0.1 -0.1)\">\r\n       <defs>\r\n        <path d=\"M 19.1875 8.296875 \r\nL 53.609375 8.296875 \r\nL 53.609375 0 \r\nL 7.328125 0 \r\nL 7.328125 8.296875 \r\nQ 12.9375 14.109375 22.625 23.890625 \r\nQ 32.328125 33.6875 34.8125 36.53125 \r\nQ 39.546875 41.84375 41.421875 45.53125 \r\nQ 43.3125 49.21875 43.3125 52.78125 \r\nQ 43.3125 58.59375 39.234375 62.25 \r\nQ 35.15625 65.921875 28.609375 65.921875 \r\nQ 23.96875 65.921875 18.8125 64.3125 \r\nQ 13.671875 62.703125 7.8125 59.421875 \r\nL 7.8125 69.390625 \r\nQ 13.765625 71.78125 18.9375 73 \r\nQ 24.125 74.21875 28.421875 74.21875 \r\nQ 39.75 74.21875 46.484375 68.546875 \r\nQ 53.21875 62.890625 53.21875 53.421875 \r\nQ 53.21875 48.921875 51.53125 44.890625 \r\nQ 49.859375 40.875 45.40625 35.40625 \r\nQ 44.1875 33.984375 37.640625 27.21875 \r\nQ 31.109375 20.453125 19.1875 8.296875 \r\nz\r\n\" id=\"DejaVuSans-50\"/>\r\n       </defs>\r\n       <use xlink:href=\"#DejaVuSans-50\"/>\r\n       <use x=\"63.623047\" xlink:href=\"#DejaVuSans-48\"/>\r\n       <use x=\"127.246094\" xlink:href=\"#DejaVuSans-48\"/>\r\n       <use x=\"190.869141\" xlink:href=\"#DejaVuSans-48\"/>\r\n      </g>\r\n     </g>\r\n    </g>\r\n    <g id=\"ytick_6\">\r\n     <g id=\"line2d_17\">\r\n      <path clip-path=\"url(#p7238ecbe19)\" d=\"M 39.65 84.753848 \r\nL 185.215217 84.753848 \r\n\" style=\"fill:none;stroke:#b0b0b0;stroke-linecap:square;stroke-width:0.8;\"/>\r\n     </g>\r\n     <g id=\"line2d_18\">\r\n      <g>\r\n       <use style=\"stroke:#000000;stroke-width:0.8;\" x=\"39.65\" xlink:href=\"#m0262ac126b\" y=\"84.753848\"/>\r\n      </g>\r\n     </g>\r\n     <g id=\"text_9\">\r\n      <!-- 2500 -->\r\n      <g transform=\"translate(7.2 88.553067)scale(0.1 -0.1)\">\r\n       <use xlink:href=\"#DejaVuSans-50\"/>\r\n       <use x=\"63.623047\" xlink:href=\"#DejaVuSans-53\"/>\r\n       <use x=\"127.246094\" xlink:href=\"#DejaVuSans-48\"/>\r\n       <use x=\"190.869141\" xlink:href=\"#DejaVuSans-48\"/>\r\n      </g>\r\n     </g>\r\n    </g>\r\n    <g id=\"ytick_7\">\r\n     <g id=\"line2d_19\">\r\n      <path clip-path=\"url(#p7238ecbe19)\" d=\"M 39.65 53.752992 \r\nL 185.215217 53.752992 \r\n\" style=\"fill:none;stroke:#b0b0b0;stroke-linecap:square;stroke-width:0.8;\"/>\r\n     </g>\r\n     <g id=\"line2d_20\">\r\n      <g>\r\n       <use style=\"stroke:#000000;stroke-width:0.8;\" x=\"39.65\" xlink:href=\"#m0262ac126b\" y=\"53.752992\"/>\r\n      </g>\r\n     </g>\r\n     <g id=\"text_10\">\r\n      <!-- 3000 -->\r\n      <g transform=\"translate(7.2 57.552211)scale(0.1 -0.1)\">\r\n       <defs>\r\n        <path d=\"M 40.578125 39.3125 \r\nQ 47.65625 37.796875 51.625 33 \r\nQ 55.609375 28.21875 55.609375 21.1875 \r\nQ 55.609375 10.40625 48.1875 4.484375 \r\nQ 40.765625 -1.421875 27.09375 -1.421875 \r\nQ 22.515625 -1.421875 17.65625 -0.515625 \r\nQ 12.796875 0.390625 7.625 2.203125 \r\nL 7.625 11.71875 \r\nQ 11.71875 9.328125 16.59375 8.109375 \r\nQ 21.484375 6.890625 26.8125 6.890625 \r\nQ 36.078125 6.890625 40.9375 10.546875 \r\nQ 45.796875 14.203125 45.796875 21.1875 \r\nQ 45.796875 27.640625 41.28125 31.265625 \r\nQ 36.765625 34.90625 28.71875 34.90625 \r\nL 20.21875 34.90625 \r\nL 20.21875 43.015625 \r\nL 29.109375 43.015625 \r\nQ 36.375 43.015625 40.234375 45.921875 \r\nQ 44.09375 48.828125 44.09375 54.296875 \r\nQ 44.09375 59.90625 40.109375 62.90625 \r\nQ 36.140625 65.921875 28.71875 65.921875 \r\nQ 24.65625 65.921875 20.015625 65.03125 \r\nQ 15.375 64.15625 9.8125 62.3125 \r\nL 9.8125 71.09375 \r\nQ 15.4375 72.65625 20.34375 73.4375 \r\nQ 25.25 74.21875 29.59375 74.21875 \r\nQ 40.828125 74.21875 47.359375 69.109375 \r\nQ 53.90625 64.015625 53.90625 55.328125 \r\nQ 53.90625 49.265625 50.4375 45.09375 \r\nQ 46.96875 40.921875 40.578125 39.3125 \r\nz\r\n\" id=\"DejaVuSans-51\"/>\r\n       </defs>\r\n       <use xlink:href=\"#DejaVuSans-51\"/>\r\n       <use x=\"63.623047\" xlink:href=\"#DejaVuSans-48\"/>\r\n       <use x=\"127.246094\" xlink:href=\"#DejaVuSans-48\"/>\r\n       <use x=\"190.869141\" xlink:href=\"#DejaVuSans-48\"/>\r\n      </g>\r\n     </g>\r\n    </g>\r\n    <g id=\"ytick_8\">\r\n     <g id=\"line2d_21\">\r\n      <path clip-path=\"url(#p7238ecbe19)\" d=\"M 39.65 22.752137 \r\nL 185.215217 22.752137 \r\n\" style=\"fill:none;stroke:#b0b0b0;stroke-linecap:square;stroke-width:0.8;\"/>\r\n     </g>\r\n     <g id=\"line2d_22\">\r\n      <g>\r\n       <use style=\"stroke:#000000;stroke-width:0.8;\" x=\"39.65\" xlink:href=\"#m0262ac126b\" y=\"22.752137\"/>\r\n      </g>\r\n     </g>\r\n     <g id=\"text_11\">\r\n      <!-- 3500 -->\r\n      <g transform=\"translate(7.2 26.551356)scale(0.1 -0.1)\">\r\n       <use xlink:href=\"#DejaVuSans-51\"/>\r\n       <use x=\"63.623047\" xlink:href=\"#DejaVuSans-53\"/>\r\n       <use x=\"127.246094\" xlink:href=\"#DejaVuSans-48\"/>\r\n       <use x=\"190.869141\" xlink:href=\"#DejaVuSans-48\"/>\r\n      </g>\r\n     </g>\r\n    </g>\r\n   </g>\r\n   <g id=\"patch_33\">\r\n    <path d=\"M 39.65 239.758125 \r\nL 39.65 22.318125 \r\n\" style=\"fill:none;stroke:#000000;stroke-linecap:square;stroke-linejoin:miter;stroke-width:0.8;\"/>\r\n   </g>\r\n   <g id=\"patch_34\">\r\n    <path d=\"M 185.215217 239.758125 \r\nL 185.215217 22.318125 \r\n\" style=\"fill:none;stroke:#000000;stroke-linecap:square;stroke-linejoin:miter;stroke-width:0.8;\"/>\r\n   </g>\r\n   <g id=\"patch_35\">\r\n    <path d=\"M 39.65 239.758125 \r\nL 185.215217 239.758125 \r\n\" style=\"fill:none;stroke:#000000;stroke-linecap:square;stroke-linejoin:miter;stroke-width:0.8;\"/>\r\n   </g>\r\n   <g id=\"patch_36\">\r\n    <path d=\"M 39.65 22.318125 \r\nL 185.215217 22.318125 \r\n\" style=\"fill:none;stroke:#000000;stroke-linecap:square;stroke-linejoin:miter;stroke-width:0.8;\"/>\r\n   </g>\r\n   <g id=\"text_12\">\r\n    <!-- text -->\r\n    <g transform=\"translate(100.590109 16.318125)scale(0.12 -0.12)\">\r\n     <defs>\r\n      <path d=\"M 18.3125 70.21875 \r\nL 18.3125 54.6875 \r\nL 36.8125 54.6875 \r\nL 36.8125 47.703125 \r\nL 18.3125 47.703125 \r\nL 18.3125 18.015625 \r\nQ 18.3125 11.328125 20.140625 9.421875 \r\nQ 21.96875 7.515625 27.59375 7.515625 \r\nL 36.8125 7.515625 \r\nL 36.8125 0 \r\nL 27.59375 0 \r\nQ 17.1875 0 13.234375 3.875 \r\nQ 9.28125 7.765625 9.28125 18.015625 \r\nL 9.28125 47.703125 \r\nL 2.6875 47.703125 \r\nL 2.6875 54.6875 \r\nL 9.28125 54.6875 \r\nL 9.28125 70.21875 \r\nz\r\n\" id=\"DejaVuSans-116\"/>\r\n      <path d=\"M 56.203125 29.59375 \r\nL 56.203125 25.203125 \r\nL 14.890625 25.203125 \r\nQ 15.484375 15.921875 20.484375 11.0625 \r\nQ 25.484375 6.203125 34.421875 6.203125 \r\nQ 39.59375 6.203125 44.453125 7.46875 \r\nQ 49.3125 8.734375 54.109375 11.28125 \r\nL 54.109375 2.78125 \r\nQ 49.265625 0.734375 44.1875 -0.34375 \r\nQ 39.109375 -1.421875 33.890625 -1.421875 \r\nQ 20.796875 -1.421875 13.15625 6.1875 \r\nQ 5.515625 13.8125 5.515625 26.8125 \r\nQ 5.515625 40.234375 12.765625 48.109375 \r\nQ 20.015625 56 32.328125 56 \r\nQ 43.359375 56 49.78125 48.890625 \r\nQ 56.203125 41.796875 56.203125 29.59375 \r\nz\r\nM 47.21875 32.234375 \r\nQ 47.125 39.59375 43.09375 43.984375 \r\nQ 39.0625 48.390625 32.421875 48.390625 \r\nQ 24.90625 48.390625 20.390625 44.140625 \r\nQ 15.875 39.890625 15.1875 32.171875 \r\nz\r\n\" id=\"DejaVuSans-101\"/>\r\n      <path d=\"M 54.890625 54.6875 \r\nL 35.109375 28.078125 \r\nL 55.90625 0 \r\nL 45.3125 0 \r\nL 29.390625 21.484375 \r\nL 13.484375 0 \r\nL 2.875 0 \r\nL 24.125 28.609375 \r\nL 4.6875 54.6875 \r\nL 15.28125 54.6875 \r\nL 29.78125 35.203125 \r\nL 44.28125 54.6875 \r\nz\r\n\" id=\"DejaVuSans-120\"/>\r\n     </defs>\r\n     <use xlink:href=\"#DejaVuSans-116\"/>\r\n     <use x=\"39.208984\" xlink:href=\"#DejaVuSans-101\"/>\r\n     <use x=\"98.982422\" xlink:href=\"#DejaVuSans-120\"/>\r\n     <use x=\"158.162109\" xlink:href=\"#DejaVuSans-116\"/>\r\n    </g>\r\n   </g>\r\n  </g>\r\n  <g id=\"axes_2\">\r\n   <g id=\"patch_37\">\r\n    <path d=\"M 228.884783 239.758125 \r\nL 374.45 239.758125 \r\nL 374.45 22.318125 \r\nL 228.884783 22.318125 \r\nz\r\n\" style=\"fill:#ffffff;\"/>\r\n   </g>\r\n   <g id=\"patch_38\">\r\n    <path clip-path=\"url(#pc95a48053b)\" d=\"M 235.501383 239.758125 \r\nL 239.912451 239.758125 \r\nL 239.912451 239.570814 \r\nL 235.501383 239.570814 \r\nz\r\n\" style=\"fill:#1f77b4;\"/>\r\n   </g>\r\n   <g id=\"patch_39\">\r\n    <path clip-path=\"url(#pc95a48053b)\" d=\"M 239.912451 239.758125 \r\nL 244.323518 239.758125 \r\nL 244.323518 237.831497 \r\nL 239.912451 237.831497 \r\nz\r\n\" style=\"fill:#1f77b4;\"/>\r\n   </g>\r\n   <g id=\"patch_40\">\r\n    <path clip-path=\"url(#pc95a48053b)\" d=\"M 244.323518 239.758125 \r\nL 248.734585 239.758125 \r\nL 248.734585 239.758125 \r\nL 244.323518 239.758125 \r\nz\r\n\" style=\"fill:#1f77b4;\"/>\r\n   </g>\r\n   <g id=\"patch_41\">\r\n    <path clip-path=\"url(#pc95a48053b)\" d=\"M 248.734585 239.758125 \r\nL 253.145652 239.758125 \r\nL 253.145652 231.008024 \r\nL 248.734585 231.008024 \r\nz\r\n\" style=\"fill:#1f77b4;\"/>\r\n   </g>\r\n   <g id=\"patch_42\">\r\n    <path clip-path=\"url(#pc95a48053b)\" d=\"M 253.145652 239.758125 \r\nL 257.556719 239.758125 \r\nL 257.556719 208.450426 \r\nL 253.145652 208.450426 \r\nz\r\n\" style=\"fill:#1f77b4;\"/>\r\n   </g>\r\n   <g id=\"patch_43\">\r\n    <path clip-path=\"url(#pc95a48053b)\" d=\"M 257.556719 239.758125 \r\nL 261.967787 239.758125 \r\nL 261.967787 239.758125 \r\nL 257.556719 239.758125 \r\nz\r\n\" style=\"fill:#1f77b4;\"/>\r\n   </g>\r\n   <g id=\"patch_44\">\r\n    <path clip-path=\"url(#pc95a48053b)\" d=\"M 261.967787 239.758125 \r\nL 266.378854 239.758125 \r\nL 266.378854 171.202291 \r\nL 261.967787 171.202291 \r\nz\r\n\" style=\"fill:#1f77b4;\"/>\r\n   </g>\r\n   <g id=\"patch_45\">\r\n    <path clip-path=\"url(#pc95a48053b)\" d=\"M 266.378854 239.758125 \r\nL 270.789921 239.758125 \r\nL 270.789921 109.657241 \r\nL 266.378854 109.657241 \r\nz\r\n\" style=\"fill:#1f77b4;\"/>\r\n   </g>\r\n   <g id=\"patch_46\">\r\n    <path clip-path=\"url(#pc95a48053b)\" d=\"M 270.789921 239.758125 \r\nL 275.200988 239.758125 \r\nL 275.200988 239.758125 \r\nL 270.789921 239.758125 \r\nz\r\n\" style=\"fill:#1f77b4;\"/>\r\n   </g>\r\n   <g id=\"patch_47\">\r\n    <path clip-path=\"url(#pc95a48053b)\" d=\"M 275.200988 239.758125 \r\nL 279.612055 239.758125 \r\nL 279.612055 51.483789 \r\nL 275.200988 51.483789 \r\nz\r\n\" style=\"fill:#1f77b4;\"/>\r\n   </g>\r\n   <g id=\"patch_48\">\r\n    <path clip-path=\"url(#pc95a48053b)\" d=\"M 279.612055 239.758125 \r\nL 284.023123 239.758125 \r\nL 284.023123 239.758125 \r\nL 279.612055 239.758125 \r\nz\r\n\" style=\"fill:#1f77b4;\"/>\r\n   </g>\r\n   <g id=\"patch_49\">\r\n    <path clip-path=\"url(#pc95a48053b)\" d=\"M 284.023123 239.758125 \r\nL 288.43419 239.758125 \r\nL 288.43419 32.672411 \r\nL 284.023123 32.672411 \r\nz\r\n\" style=\"fill:#1f77b4;\"/>\r\n   </g>\r\n   <g id=\"patch_50\">\r\n    <path clip-path=\"url(#pc95a48053b)\" d=\"M 288.43419 239.758125 \r\nL 292.845257 239.758125 \r\nL 292.845257 75.406082 \r\nL 288.43419 75.406082 \r\nz\r\n\" style=\"fill:#1f77b4;\"/>\r\n   </g>\r\n   <g id=\"patch_51\">\r\n    <path clip-path=\"url(#pc95a48053b)\" d=\"M 292.845257 239.758125 \r\nL 297.256324 239.758125 \r\nL 297.256324 239.758125 \r\nL 292.845257 239.758125 \r\nz\r\n\" style=\"fill:#1f77b4;\"/>\r\n   </g>\r\n   <g id=\"patch_52\">\r\n    <path clip-path=\"url(#pc95a48053b)\" d=\"M 297.256324 239.758125 \r\nL 301.667391 239.758125 \r\nL 301.667391 144.844954 \r\nL 297.256324 144.844954 \r\nz\r\n\" style=\"fill:#1f77b4;\"/>\r\n   </g>\r\n   <g id=\"patch_53\">\r\n    <path clip-path=\"url(#pc95a48053b)\" d=\"M 301.667391 239.758125 \r\nL 306.078458 239.758125 \r\nL 306.078458 203.794409 \r\nL 301.667391 203.794409 \r\nz\r\n\" style=\"fill:#1f77b4;\"/>\r\n   </g>\r\n   <g id=\"patch_54\">\r\n    <path clip-path=\"url(#pc95a48053b)\" d=\"M 306.078458 239.758125 \r\nL 310.489526 239.758125 \r\nL 310.489526 239.758125 \r\nL 306.078458 239.758125 \r\nz\r\n\" style=\"fill:#1f77b4;\"/>\r\n   </g>\r\n   <g id=\"patch_55\">\r\n    <path clip-path=\"url(#pc95a48053b)\" d=\"M 310.489526 239.758125 \r\nL 314.900593 239.758125 \r\nL 314.900593 228.064565 \r\nL 310.489526 228.064565 \r\nz\r\n\" style=\"fill:#1f77b4;\"/>\r\n   </g>\r\n   <g id=\"patch_56\">\r\n    <path clip-path=\"url(#pc95a48053b)\" d=\"M 314.900593 239.758125 \r\nL 319.31166 239.758125 \r\nL 319.31166 235.048591 \r\nL 314.900593 235.048591 \r\nz\r\n\" style=\"fill:#1f77b4;\"/>\r\n   </g>\r\n   <g id=\"patch_57\">\r\n    <path clip-path=\"url(#pc95a48053b)\" d=\"M 319.31166 239.758125 \r\nL 323.722727 239.758125 \r\nL 323.722727 239.758125 \r\nL 319.31166 239.758125 \r\nz\r\n\" style=\"fill:#1f77b4;\"/>\r\n   </g>\r\n   <g id=\"patch_58\">\r\n    <path clip-path=\"url(#pc95a48053b)\" d=\"M 323.722727 239.758125 \r\nL 328.133794 239.758125 \r\nL 328.133794 238.420189 \r\nL 323.722727 238.420189 \r\nz\r\n\" style=\"fill:#1f77b4;\"/>\r\n   </g>\r\n   <g id=\"patch_59\">\r\n    <path clip-path=\"url(#pc95a48053b)\" d=\"M 328.133794 239.758125 \r\nL 332.544862 239.758125 \r\nL 332.544862 239.758125 \r\nL 328.133794 239.758125 \r\nz\r\n\" style=\"fill:#1f77b4;\"/>\r\n   </g>\r\n   <g id=\"patch_60\">\r\n    <path clip-path=\"url(#pc95a48053b)\" d=\"M 332.544862 239.758125 \r\nL 336.955929 239.758125 \r\nL 336.955929 239.303227 \r\nL 332.544862 239.303227 \r\nz\r\n\" style=\"fill:#1f77b4;\"/>\r\n   </g>\r\n   <g id=\"patch_61\">\r\n    <path clip-path=\"url(#pc95a48053b)\" d=\"M 336.955929 239.758125 \r\nL 341.366996 239.758125 \r\nL 341.366996 239.677849 \r\nL 336.955929 239.677849 \r\nz\r\n\" style=\"fill:#1f77b4;\"/>\r\n   </g>\r\n   <g id=\"patch_62\">\r\n    <path clip-path=\"url(#pc95a48053b)\" d=\"M 341.366996 239.758125 \r\nL 345.778063 239.758125 \r\nL 345.778063 239.758125 \r\nL 341.366996 239.758125 \r\nz\r\n\" style=\"fill:#1f77b4;\"/>\r\n   </g>\r\n   <g id=\"patch_63\">\r\n    <path clip-path=\"url(#pc95a48053b)\" d=\"M 345.778063 239.758125 \r\nL 350.18913 239.758125 \r\nL 350.18913 239.704608 \r\nL 345.778063 239.704608 \r\nz\r\n\" style=\"fill:#1f77b4;\"/>\r\n   </g>\r\n   <g id=\"patch_64\">\r\n    <path clip-path=\"url(#pc95a48053b)\" d=\"M 350.18913 239.758125 \r\nL 354.600198 239.758125 \r\nL 354.600198 239.704608 \r\nL 350.18913 239.704608 \r\nz\r\n\" style=\"fill:#1f77b4;\"/>\r\n   </g>\r\n   <g id=\"patch_65\">\r\n    <path clip-path=\"url(#pc95a48053b)\" d=\"M 354.600198 239.758125 \r\nL 359.011265 239.758125 \r\nL 359.011265 239.758125 \r\nL 354.600198 239.758125 \r\nz\r\n\" style=\"fill:#1f77b4;\"/>\r\n   </g>\r\n   <g id=\"patch_66\">\r\n    <path clip-path=\"url(#pc95a48053b)\" d=\"M 359.011265 239.758125 \r\nL 363.422332 239.758125 \r\nL 363.422332 239.731366 \r\nL 359.011265 239.731366 \r\nz\r\n\" style=\"fill:#1f77b4;\"/>\r\n   </g>\r\n   <g id=\"patch_67\">\r\n    <path clip-path=\"url(#pc95a48053b)\" d=\"M 363.422332 239.758125 \r\nL 367.833399 239.758125 \r\nL 367.833399 239.356744 \r\nL 363.422332 239.356744 \r\nz\r\n\" style=\"fill:#1f77b4;\"/>\r\n   </g>\r\n   <g id=\"matplotlib.axis_3\">\r\n    <g id=\"xtick_4\">\r\n     <g id=\"line2d_23\">\r\n      <path clip-path=\"url(#pc95a48053b)\" d=\"M 284.255284 239.758125 \r\nL 284.255284 22.318125 \r\n\" style=\"fill:none;stroke:#b0b0b0;stroke-linecap:square;stroke-width:0.8;\"/>\r\n     </g>\r\n     <g id=\"line2d_24\">\r\n      <g>\r\n       <use style=\"stroke:#000000;stroke-width:0.8;\" x=\"284.255284\" xlink:href=\"#ma0b9b5dab2\" y=\"239.758125\"/>\r\n      </g>\r\n     </g>\r\n     <g id=\"text_13\">\r\n      <!-- 10 -->\r\n      <g transform=\"translate(277.892784 254.356563)scale(0.1 -0.1)\">\r\n       <use xlink:href=\"#DejaVuSans-49\"/>\r\n       <use x=\"63.623047\" xlink:href=\"#DejaVuSans-48\"/>\r\n      </g>\r\n     </g>\r\n    </g>\r\n    <g id=\"xtick_5\">\r\n     <g id=\"line2d_25\">\r\n      <path clip-path=\"url(#pc95a48053b)\" d=\"M 353.903713 239.758125 \r\nL 353.903713 22.318125 \r\n\" style=\"fill:none;stroke:#b0b0b0;stroke-linecap:square;stroke-width:0.8;\"/>\r\n     </g>\r\n     <g id=\"line2d_26\">\r\n      <g>\r\n       <use style=\"stroke:#000000;stroke-width:0.8;\" x=\"353.903713\" xlink:href=\"#ma0b9b5dab2\" y=\"239.758125\"/>\r\n      </g>\r\n     </g>\r\n     <g id=\"text_14\">\r\n      <!-- 20 -->\r\n      <g transform=\"translate(347.541213 254.356563)scale(0.1 -0.1)\">\r\n       <use xlink:href=\"#DejaVuSans-50\"/>\r\n       <use x=\"63.623047\" xlink:href=\"#DejaVuSans-48\"/>\r\n      </g>\r\n     </g>\r\n    </g>\r\n   </g>\r\n   <g id=\"matplotlib.axis_4\">\r\n    <g id=\"ytick_9\">\r\n     <g id=\"line2d_27\">\r\n      <path clip-path=\"url(#pc95a48053b)\" d=\"M 228.884783 239.758125 \r\nL 374.45 239.758125 \r\n\" style=\"fill:none;stroke:#b0b0b0;stroke-linecap:square;stroke-width:0.8;\"/>\r\n     </g>\r\n     <g id=\"line2d_28\">\r\n      <g>\r\n       <use style=\"stroke:#000000;stroke-width:0.8;\" x=\"228.884783\" xlink:href=\"#m0262ac126b\" y=\"239.758125\"/>\r\n      </g>\r\n     </g>\r\n     <g id=\"text_15\">\r\n      <!-- 0 -->\r\n      <g transform=\"translate(215.522283 243.557344)scale(0.1 -0.1)\">\r\n       <use xlink:href=\"#DejaVuSans-48\"/>\r\n      </g>\r\n     </g>\r\n    </g>\r\n    <g id=\"ytick_10\">\r\n     <g id=\"line2d_29\">\r\n      <path clip-path=\"url(#pc95a48053b)\" d=\"M 228.884783 212.999408 \r\nL 374.45 212.999408 \r\n\" style=\"fill:none;stroke:#b0b0b0;stroke-linecap:square;stroke-width:0.8;\"/>\r\n     </g>\r\n     <g id=\"line2d_30\">\r\n      <g>\r\n       <use style=\"stroke:#000000;stroke-width:0.8;\" x=\"228.884783\" xlink:href=\"#m0262ac126b\" y=\"212.999408\"/>\r\n      </g>\r\n     </g>\r\n     <g id=\"text_16\">\r\n      <!-- 1000 -->\r\n      <g transform=\"translate(196.434783 216.798626)scale(0.1 -0.1)\">\r\n       <use xlink:href=\"#DejaVuSans-49\"/>\r\n       <use x=\"63.623047\" xlink:href=\"#DejaVuSans-48\"/>\r\n       <use x=\"127.246094\" xlink:href=\"#DejaVuSans-48\"/>\r\n       <use x=\"190.869141\" xlink:href=\"#DejaVuSans-48\"/>\r\n      </g>\r\n     </g>\r\n    </g>\r\n    <g id=\"ytick_11\">\r\n     <g id=\"line2d_31\">\r\n      <path clip-path=\"url(#pc95a48053b)\" d=\"M 228.884783 186.24069 \r\nL 374.45 186.24069 \r\n\" style=\"fill:none;stroke:#b0b0b0;stroke-linecap:square;stroke-width:0.8;\"/>\r\n     </g>\r\n     <g id=\"line2d_32\">\r\n      <g>\r\n       <use style=\"stroke:#000000;stroke-width:0.8;\" x=\"228.884783\" xlink:href=\"#m0262ac126b\" y=\"186.24069\"/>\r\n      </g>\r\n     </g>\r\n     <g id=\"text_17\">\r\n      <!-- 2000 -->\r\n      <g transform=\"translate(196.434783 190.039909)scale(0.1 -0.1)\">\r\n       <use xlink:href=\"#DejaVuSans-50\"/>\r\n       <use x=\"63.623047\" xlink:href=\"#DejaVuSans-48\"/>\r\n       <use x=\"127.246094\" xlink:href=\"#DejaVuSans-48\"/>\r\n       <use x=\"190.869141\" xlink:href=\"#DejaVuSans-48\"/>\r\n      </g>\r\n     </g>\r\n    </g>\r\n    <g id=\"ytick_12\">\r\n     <g id=\"line2d_33\">\r\n      <path clip-path=\"url(#pc95a48053b)\" d=\"M 228.884783 159.481973 \r\nL 374.45 159.481973 \r\n\" style=\"fill:none;stroke:#b0b0b0;stroke-linecap:square;stroke-width:0.8;\"/>\r\n     </g>\r\n     <g id=\"line2d_34\">\r\n      <g>\r\n       <use style=\"stroke:#000000;stroke-width:0.8;\" x=\"228.884783\" xlink:href=\"#m0262ac126b\" y=\"159.481973\"/>\r\n      </g>\r\n     </g>\r\n     <g id=\"text_18\">\r\n      <!-- 3000 -->\r\n      <g transform=\"translate(196.434783 163.281191)scale(0.1 -0.1)\">\r\n       <use xlink:href=\"#DejaVuSans-51\"/>\r\n       <use x=\"63.623047\" xlink:href=\"#DejaVuSans-48\"/>\r\n       <use x=\"127.246094\" xlink:href=\"#DejaVuSans-48\"/>\r\n       <use x=\"190.869141\" xlink:href=\"#DejaVuSans-48\"/>\r\n      </g>\r\n     </g>\r\n    </g>\r\n    <g id=\"ytick_13\">\r\n     <g id=\"line2d_35\">\r\n      <path clip-path=\"url(#pc95a48053b)\" d=\"M 228.884783 132.723255 \r\nL 374.45 132.723255 \r\n\" style=\"fill:none;stroke:#b0b0b0;stroke-linecap:square;stroke-width:0.8;\"/>\r\n     </g>\r\n     <g id=\"line2d_36\">\r\n      <g>\r\n       <use style=\"stroke:#000000;stroke-width:0.8;\" x=\"228.884783\" xlink:href=\"#m0262ac126b\" y=\"132.723255\"/>\r\n      </g>\r\n     </g>\r\n     <g id=\"text_19\">\r\n      <!-- 4000 -->\r\n      <g transform=\"translate(196.434783 136.522474)scale(0.1 -0.1)\">\r\n       <defs>\r\n        <path d=\"M 37.796875 64.3125 \r\nL 12.890625 25.390625 \r\nL 37.796875 25.390625 \r\nz\r\nM 35.203125 72.90625 \r\nL 47.609375 72.90625 \r\nL 47.609375 25.390625 \r\nL 58.015625 25.390625 \r\nL 58.015625 17.1875 \r\nL 47.609375 17.1875 \r\nL 47.609375 0 \r\nL 37.796875 0 \r\nL 37.796875 17.1875 \r\nL 4.890625 17.1875 \r\nL 4.890625 26.703125 \r\nz\r\n\" id=\"DejaVuSans-52\"/>\r\n       </defs>\r\n       <use xlink:href=\"#DejaVuSans-52\"/>\r\n       <use x=\"63.623047\" xlink:href=\"#DejaVuSans-48\"/>\r\n       <use x=\"127.246094\" xlink:href=\"#DejaVuSans-48\"/>\r\n       <use x=\"190.869141\" xlink:href=\"#DejaVuSans-48\"/>\r\n      </g>\r\n     </g>\r\n    </g>\r\n    <g id=\"ytick_14\">\r\n     <g id=\"line2d_37\">\r\n      <path clip-path=\"url(#pc95a48053b)\" d=\"M 228.884783 105.964538 \r\nL 374.45 105.964538 \r\n\" style=\"fill:none;stroke:#b0b0b0;stroke-linecap:square;stroke-width:0.8;\"/>\r\n     </g>\r\n     <g id=\"line2d_38\">\r\n      <g>\r\n       <use style=\"stroke:#000000;stroke-width:0.8;\" x=\"228.884783\" xlink:href=\"#m0262ac126b\" y=\"105.964538\"/>\r\n      </g>\r\n     </g>\r\n     <g id=\"text_20\">\r\n      <!-- 5000 -->\r\n      <g transform=\"translate(196.434783 109.763757)scale(0.1 -0.1)\">\r\n       <use xlink:href=\"#DejaVuSans-53\"/>\r\n       <use x=\"63.623047\" xlink:href=\"#DejaVuSans-48\"/>\r\n       <use x=\"127.246094\" xlink:href=\"#DejaVuSans-48\"/>\r\n       <use x=\"190.869141\" xlink:href=\"#DejaVuSans-48\"/>\r\n      </g>\r\n     </g>\r\n    </g>\r\n    <g id=\"ytick_15\">\r\n     <g id=\"line2d_39\">\r\n      <path clip-path=\"url(#pc95a48053b)\" d=\"M 228.884783 79.20582 \r\nL 374.45 79.20582 \r\n\" style=\"fill:none;stroke:#b0b0b0;stroke-linecap:square;stroke-width:0.8;\"/>\r\n     </g>\r\n     <g id=\"line2d_40\">\r\n      <g>\r\n       <use style=\"stroke:#000000;stroke-width:0.8;\" x=\"228.884783\" xlink:href=\"#m0262ac126b\" y=\"79.20582\"/>\r\n      </g>\r\n     </g>\r\n     <g id=\"text_21\">\r\n      <!-- 6000 -->\r\n      <g transform=\"translate(196.434783 83.005039)scale(0.1 -0.1)\">\r\n       <defs>\r\n        <path d=\"M 33.015625 40.375 \r\nQ 26.375 40.375 22.484375 35.828125 \r\nQ 18.609375 31.296875 18.609375 23.390625 \r\nQ 18.609375 15.53125 22.484375 10.953125 \r\nQ 26.375 6.390625 33.015625 6.390625 \r\nQ 39.65625 6.390625 43.53125 10.953125 \r\nQ 47.40625 15.53125 47.40625 23.390625 \r\nQ 47.40625 31.296875 43.53125 35.828125 \r\nQ 39.65625 40.375 33.015625 40.375 \r\nz\r\nM 52.59375 71.296875 \r\nL 52.59375 62.3125 \r\nQ 48.875 64.0625 45.09375 64.984375 \r\nQ 41.3125 65.921875 37.59375 65.921875 \r\nQ 27.828125 65.921875 22.671875 59.328125 \r\nQ 17.53125 52.734375 16.796875 39.40625 \r\nQ 19.671875 43.65625 24.015625 45.921875 \r\nQ 28.375 48.1875 33.59375 48.1875 \r\nQ 44.578125 48.1875 50.953125 41.515625 \r\nQ 57.328125 34.859375 57.328125 23.390625 \r\nQ 57.328125 12.15625 50.6875 5.359375 \r\nQ 44.046875 -1.421875 33.015625 -1.421875 \r\nQ 20.359375 -1.421875 13.671875 8.265625 \r\nQ 6.984375 17.96875 6.984375 36.375 \r\nQ 6.984375 53.65625 15.1875 63.9375 \r\nQ 23.390625 74.21875 37.203125 74.21875 \r\nQ 40.921875 74.21875 44.703125 73.484375 \r\nQ 48.484375 72.75 52.59375 71.296875 \r\nz\r\n\" id=\"DejaVuSans-54\"/>\r\n       </defs>\r\n       <use xlink:href=\"#DejaVuSans-54\"/>\r\n       <use x=\"63.623047\" xlink:href=\"#DejaVuSans-48\"/>\r\n       <use x=\"127.246094\" xlink:href=\"#DejaVuSans-48\"/>\r\n       <use x=\"190.869141\" xlink:href=\"#DejaVuSans-48\"/>\r\n      </g>\r\n     </g>\r\n    </g>\r\n    <g id=\"ytick_16\">\r\n     <g id=\"line2d_41\">\r\n      <path clip-path=\"url(#pc95a48053b)\" d=\"M 228.884783 52.447103 \r\nL 374.45 52.447103 \r\n\" style=\"fill:none;stroke:#b0b0b0;stroke-linecap:square;stroke-width:0.8;\"/>\r\n     </g>\r\n     <g id=\"line2d_42\">\r\n      <g>\r\n       <use style=\"stroke:#000000;stroke-width:0.8;\" x=\"228.884783\" xlink:href=\"#m0262ac126b\" y=\"52.447103\"/>\r\n      </g>\r\n     </g>\r\n     <g id=\"text_22\">\r\n      <!-- 7000 -->\r\n      <g transform=\"translate(196.434783 56.246322)scale(0.1 -0.1)\">\r\n       <defs>\r\n        <path d=\"M 8.203125 72.90625 \r\nL 55.078125 72.90625 \r\nL 55.078125 68.703125 \r\nL 28.609375 0 \r\nL 18.3125 0 \r\nL 43.21875 64.59375 \r\nL 8.203125 64.59375 \r\nz\r\n\" id=\"DejaVuSans-55\"/>\r\n       </defs>\r\n       <use xlink:href=\"#DejaVuSans-55\"/>\r\n       <use x=\"63.623047\" xlink:href=\"#DejaVuSans-48\"/>\r\n       <use x=\"127.246094\" xlink:href=\"#DejaVuSans-48\"/>\r\n       <use x=\"190.869141\" xlink:href=\"#DejaVuSans-48\"/>\r\n      </g>\r\n     </g>\r\n    </g>\r\n    <g id=\"ytick_17\">\r\n     <g id=\"line2d_43\">\r\n      <path clip-path=\"url(#pc95a48053b)\" d=\"M 228.884783 25.688385 \r\nL 374.45 25.688385 \r\n\" style=\"fill:none;stroke:#b0b0b0;stroke-linecap:square;stroke-width:0.8;\"/>\r\n     </g>\r\n     <g id=\"line2d_44\">\r\n      <g>\r\n       <use style=\"stroke:#000000;stroke-width:0.8;\" x=\"228.884783\" xlink:href=\"#m0262ac126b\" y=\"25.688385\"/>\r\n      </g>\r\n     </g>\r\n     <g id=\"text_23\">\r\n      <!-- 8000 -->\r\n      <g transform=\"translate(196.434783 29.487604)scale(0.1 -0.1)\">\r\n       <defs>\r\n        <path d=\"M 31.78125 34.625 \r\nQ 24.75 34.625 20.71875 30.859375 \r\nQ 16.703125 27.09375 16.703125 20.515625 \r\nQ 16.703125 13.921875 20.71875 10.15625 \r\nQ 24.75 6.390625 31.78125 6.390625 \r\nQ 38.8125 6.390625 42.859375 10.171875 \r\nQ 46.921875 13.96875 46.921875 20.515625 \r\nQ 46.921875 27.09375 42.890625 30.859375 \r\nQ 38.875 34.625 31.78125 34.625 \r\nz\r\nM 21.921875 38.8125 \r\nQ 15.578125 40.375 12.03125 44.71875 \r\nQ 8.5 49.078125 8.5 55.328125 \r\nQ 8.5 64.0625 14.71875 69.140625 \r\nQ 20.953125 74.21875 31.78125 74.21875 \r\nQ 42.671875 74.21875 48.875 69.140625 \r\nQ 55.078125 64.0625 55.078125 55.328125 \r\nQ 55.078125 49.078125 51.53125 44.71875 \r\nQ 48 40.375 41.703125 38.8125 \r\nQ 48.828125 37.15625 52.796875 32.3125 \r\nQ 56.78125 27.484375 56.78125 20.515625 \r\nQ 56.78125 9.90625 50.3125 4.234375 \r\nQ 43.84375 -1.421875 31.78125 -1.421875 \r\nQ 19.734375 -1.421875 13.25 4.234375 \r\nQ 6.78125 9.90625 6.78125 20.515625 \r\nQ 6.78125 27.484375 10.78125 32.3125 \r\nQ 14.796875 37.15625 21.921875 38.8125 \r\nz\r\nM 18.3125 54.390625 \r\nQ 18.3125 48.734375 21.84375 45.5625 \r\nQ 25.390625 42.390625 31.78125 42.390625 \r\nQ 38.140625 42.390625 41.71875 45.5625 \r\nQ 45.3125 48.734375 45.3125 54.390625 \r\nQ 45.3125 60.0625 41.71875 63.234375 \r\nQ 38.140625 66.40625 31.78125 66.40625 \r\nQ 25.390625 66.40625 21.84375 63.234375 \r\nQ 18.3125 60.0625 18.3125 54.390625 \r\nz\r\n\" id=\"DejaVuSans-56\"/>\r\n       </defs>\r\n       <use xlink:href=\"#DejaVuSans-56\"/>\r\n       <use x=\"63.623047\" xlink:href=\"#DejaVuSans-48\"/>\r\n       <use x=\"127.246094\" xlink:href=\"#DejaVuSans-48\"/>\r\n       <use x=\"190.869141\" xlink:href=\"#DejaVuSans-48\"/>\r\n      </g>\r\n     </g>\r\n    </g>\r\n   </g>\r\n   <g id=\"patch_68\">\r\n    <path d=\"M 228.884783 239.758125 \r\nL 228.884783 22.318125 \r\n\" style=\"fill:none;stroke:#000000;stroke-linecap:square;stroke-linejoin:miter;stroke-width:0.8;\"/>\r\n   </g>\r\n   <g id=\"patch_69\">\r\n    <path d=\"M 374.45 239.758125 \r\nL 374.45 22.318125 \r\n\" style=\"fill:none;stroke:#000000;stroke-linecap:square;stroke-linejoin:miter;stroke-width:0.8;\"/>\r\n   </g>\r\n   <g id=\"patch_70\">\r\n    <path d=\"M 228.884783 239.758125 \r\nL 374.45 239.758125 \r\n\" style=\"fill:none;stroke:#000000;stroke-linecap:square;stroke-linejoin:miter;stroke-width:0.8;\"/>\r\n   </g>\r\n   <g id=\"patch_71\">\r\n    <path d=\"M 228.884783 22.318125 \r\nL 374.45 22.318125 \r\n\" style=\"fill:none;stroke:#000000;stroke-linecap:square;stroke-linejoin:miter;stroke-width:0.8;\"/>\r\n   </g>\r\n   <g id=\"text_24\">\r\n    <!-- summary -->\r\n    <g transform=\"translate(273.355829 16.318125)scale(0.12 -0.12)\">\r\n     <defs>\r\n      <path d=\"M 44.28125 53.078125 \r\nL 44.28125 44.578125 \r\nQ 40.484375 46.53125 36.375 47.5 \r\nQ 32.28125 48.484375 27.875 48.484375 \r\nQ 21.1875 48.484375 17.84375 46.4375 \r\nQ 14.5 44.390625 14.5 40.28125 \r\nQ 14.5 37.15625 16.890625 35.375 \r\nQ 19.28125 33.59375 26.515625 31.984375 \r\nL 29.59375 31.296875 \r\nQ 39.15625 29.25 43.1875 25.515625 \r\nQ 47.21875 21.78125 47.21875 15.09375 \r\nQ 47.21875 7.46875 41.1875 3.015625 \r\nQ 35.15625 -1.421875 24.609375 -1.421875 \r\nQ 20.21875 -1.421875 15.453125 -0.5625 \r\nQ 10.6875 0.296875 5.421875 2 \r\nL 5.421875 11.28125 \r\nQ 10.40625 8.6875 15.234375 7.390625 \r\nQ 20.0625 6.109375 24.8125 6.109375 \r\nQ 31.15625 6.109375 34.5625 8.28125 \r\nQ 37.984375 10.453125 37.984375 14.40625 \r\nQ 37.984375 18.0625 35.515625 20.015625 \r\nQ 33.0625 21.96875 24.703125 23.78125 \r\nL 21.578125 24.515625 \r\nQ 13.234375 26.265625 9.515625 29.90625 \r\nQ 5.8125 33.546875 5.8125 39.890625 \r\nQ 5.8125 47.609375 11.28125 51.796875 \r\nQ 16.75 56 26.8125 56 \r\nQ 31.78125 56 36.171875 55.265625 \r\nQ 40.578125 54.546875 44.28125 53.078125 \r\nz\r\n\" id=\"DejaVuSans-115\"/>\r\n      <path d=\"M 8.5 21.578125 \r\nL 8.5 54.6875 \r\nL 17.484375 54.6875 \r\nL 17.484375 21.921875 \r\nQ 17.484375 14.15625 20.5 10.265625 \r\nQ 23.53125 6.390625 29.59375 6.390625 \r\nQ 36.859375 6.390625 41.078125 11.03125 \r\nQ 45.3125 15.671875 45.3125 23.6875 \r\nL 45.3125 54.6875 \r\nL 54.296875 54.6875 \r\nL 54.296875 0 \r\nL 45.3125 0 \r\nL 45.3125 8.40625 \r\nQ 42.046875 3.421875 37.71875 1 \r\nQ 33.40625 -1.421875 27.6875 -1.421875 \r\nQ 18.265625 -1.421875 13.375 4.4375 \r\nQ 8.5 10.296875 8.5 21.578125 \r\nz\r\nM 31.109375 56 \r\nz\r\n\" id=\"DejaVuSans-117\"/>\r\n      <path d=\"M 52 44.1875 \r\nQ 55.375 50.25 60.0625 53.125 \r\nQ 64.75 56 71.09375 56 \r\nQ 79.640625 56 84.28125 50.015625 \r\nQ 88.921875 44.046875 88.921875 33.015625 \r\nL 88.921875 0 \r\nL 79.890625 0 \r\nL 79.890625 32.71875 \r\nQ 79.890625 40.578125 77.09375 44.375 \r\nQ 74.3125 48.1875 68.609375 48.1875 \r\nQ 61.625 48.1875 57.5625 43.546875 \r\nQ 53.515625 38.921875 53.515625 30.90625 \r\nL 53.515625 0 \r\nL 44.484375 0 \r\nL 44.484375 32.71875 \r\nQ 44.484375 40.625 41.703125 44.40625 \r\nQ 38.921875 48.1875 33.109375 48.1875 \r\nQ 26.21875 48.1875 22.15625 43.53125 \r\nQ 18.109375 38.875 18.109375 30.90625 \r\nL 18.109375 0 \r\nL 9.078125 0 \r\nL 9.078125 54.6875 \r\nL 18.109375 54.6875 \r\nL 18.109375 46.1875 \r\nQ 21.1875 51.21875 25.484375 53.609375 \r\nQ 29.78125 56 35.6875 56 \r\nQ 41.65625 56 45.828125 52.96875 \r\nQ 50 49.953125 52 44.1875 \r\nz\r\n\" id=\"DejaVuSans-109\"/>\r\n      <path d=\"M 34.28125 27.484375 \r\nQ 23.390625 27.484375 19.1875 25 \r\nQ 14.984375 22.515625 14.984375 16.5 \r\nQ 14.984375 11.71875 18.140625 8.90625 \r\nQ 21.296875 6.109375 26.703125 6.109375 \r\nQ 34.1875 6.109375 38.703125 11.40625 \r\nQ 43.21875 16.703125 43.21875 25.484375 \r\nL 43.21875 27.484375 \r\nz\r\nM 52.203125 31.203125 \r\nL 52.203125 0 \r\nL 43.21875 0 \r\nL 43.21875 8.296875 \r\nQ 40.140625 3.328125 35.546875 0.953125 \r\nQ 30.953125 -1.421875 24.3125 -1.421875 \r\nQ 15.921875 -1.421875 10.953125 3.296875 \r\nQ 6 8.015625 6 15.921875 \r\nQ 6 25.140625 12.171875 29.828125 \r\nQ 18.359375 34.515625 30.609375 34.515625 \r\nL 43.21875 34.515625 \r\nL 43.21875 35.40625 \r\nQ 43.21875 41.609375 39.140625 45 \r\nQ 35.0625 48.390625 27.6875 48.390625 \r\nQ 23 48.390625 18.546875 47.265625 \r\nQ 14.109375 46.140625 10.015625 43.890625 \r\nL 10.015625 52.203125 \r\nQ 14.9375 54.109375 19.578125 55.046875 \r\nQ 24.21875 56 28.609375 56 \r\nQ 40.484375 56 46.34375 49.84375 \r\nQ 52.203125 43.703125 52.203125 31.203125 \r\nz\r\n\" id=\"DejaVuSans-97\"/>\r\n      <path d=\"M 41.109375 46.296875 \r\nQ 39.59375 47.171875 37.8125 47.578125 \r\nQ 36.03125 48 33.890625 48 \r\nQ 26.265625 48 22.1875 43.046875 \r\nQ 18.109375 38.09375 18.109375 28.8125 \r\nL 18.109375 0 \r\nL 9.078125 0 \r\nL 9.078125 54.6875 \r\nL 18.109375 54.6875 \r\nL 18.109375 46.1875 \r\nQ 20.953125 51.171875 25.484375 53.578125 \r\nQ 30.03125 56 36.53125 56 \r\nQ 37.453125 56 38.578125 55.875 \r\nQ 39.703125 55.765625 41.0625 55.515625 \r\nz\r\n\" id=\"DejaVuSans-114\"/>\r\n      <path d=\"M 32.171875 -5.078125 \r\nQ 28.375 -14.84375 24.75 -17.8125 \r\nQ 21.140625 -20.796875 15.09375 -20.796875 \r\nL 7.90625 -20.796875 \r\nL 7.90625 -13.28125 \r\nL 13.1875 -13.28125 \r\nQ 16.890625 -13.28125 18.9375 -11.515625 \r\nQ 21 -9.765625 23.484375 -3.21875 \r\nL 25.09375 0.875 \r\nL 2.984375 54.6875 \r\nL 12.5 54.6875 \r\nL 29.59375 11.921875 \r\nL 46.6875 54.6875 \r\nL 56.203125 54.6875 \r\nz\r\n\" id=\"DejaVuSans-121\"/>\r\n     </defs>\r\n     <use xlink:href=\"#DejaVuSans-115\"/>\r\n     <use x=\"52.099609\" xlink:href=\"#DejaVuSans-117\"/>\r\n     <use x=\"115.478516\" xlink:href=\"#DejaVuSans-109\"/>\r\n     <use x=\"212.890625\" xlink:href=\"#DejaVuSans-109\"/>\r\n     <use x=\"310.302734\" xlink:href=\"#DejaVuSans-97\"/>\r\n     <use x=\"371.582031\" xlink:href=\"#DejaVuSans-114\"/>\r\n     <use x=\"412.695312\" xlink:href=\"#DejaVuSans-121\"/>\r\n    </g>\r\n   </g>\r\n  </g>\r\n </g>\r\n <defs>\r\n  <clipPath id=\"p7238ecbe19\">\r\n   <rect height=\"217.44\" width=\"145.565217\" x=\"39.65\" y=\"22.318125\"/>\r\n  </clipPath>\r\n  <clipPath id=\"pc95a48053b\">\r\n   <rect height=\"217.44\" width=\"145.565217\" x=\"228.884783\" y=\"22.318125\"/>\r\n  </clipPath>\r\n </defs>\r\n</svg>\r\n",
      "image/png": "[encoded data removed]"
     },
     "metadata": {
      "needs_background": "light"
     }
    }
   ],
   "source": [
    "\n",
    "import matplotlib.pyplot as plt\n",
    "\n",
    "text_word_count = []\n",
    "summary_word_count = []\n",
    "\n",
    "# populate the lists with sentence lengths\n",
    "for i in data['cleaned_text']:\n",
    "      text_word_count.append(len(i.split()))\n",
    "\n",
    "for i in data['cleaned_highlight']:\n",
    "      summary_word_count.append(len(i.split()))\n",
    "\n",
    "length_df = pd.DataFrame({'text':text_word_count, 'summary':summary_word_count})\n",
    "\n",
    "length_df.hist(bins = 30)\n",
    "plt.show()"
   ]
  },
  {
   "cell_type": "code",
   "execution_count": 24,
   "metadata": {},
   "outputs": [
    {
     "output_type": "stream",
     "name": "stdout",
     "text": [
      "0.9925093632958801\n"
     ]
    }
   ],
   "source": [
    "cnt=0\n",
    "for i in data['cleaned_highlight']:\n",
    "    if(len(i.split())<=14):\n",
    "        cnt=cnt+1\n",
    "print(cnt/len(data['cleaned_highlight']))"
   ]
  },
  {
   "cell_type": "code",
   "execution_count": 25,
   "metadata": {},
   "outputs": [],
   "source": [
    "max_text_len=300\n",
    "max_summary_len=12"
   ]
  },
  {
   "cell_type": "code",
   "execution_count": 26,
   "metadata": {},
   "outputs": [],
   "source": [
    "#prepare a tokenizer for reviews on training data\n",
    "x_tokenizer = Tokenizer(num_words=tot_cnt-cnt) \n",
    "x_tokenizer.fit_on_texts(list(x_tr))\n",
    "\n",
    "#convert text sequences into integer sequences\n",
    "x_tr_seq = x_tokenizer.texts_to_sequences(x_tr) \n",
    "x_val_seq = x_tokenizer.texts_to_sequences(x_val)\n"
   ]
  },
  {
   "cell_type": "code",
   "execution_count": 27,
   "metadata": {},
   "outputs": [],
   "source": [
    "#padding zero upto maximum length\n",
    "x_tr = pad_sequences(x_tr_seq,  maxlen=max_text_len, padding='post')\n",
    "x_val = pad_sequences(x_val_seq, maxlen=max_text_len, padding='post')\n",
    "\n",
    "#size of vocabulary ( +1 for padding token)\n",
    "x_voc = x_tokenizer.num_words + 1"
   ]
  },
  {
   "cell_type": "code",
   "execution_count": 28,
   "metadata": {},
   "outputs": [
    {
     "output_type": "execute_result",
     "data": {
      "text/plain": [
       "49234"
      ]
     },
     "metadata": {},
     "execution_count": 28
    }
   ],
   "source": [
    "x_voc"
   ]
  },
  {
   "cell_type": "code",
   "execution_count": null,
   "metadata": {},
   "outputs": [],
   "source": []
  },
  {
   "cell_type": "code",
   "execution_count": 29,
   "metadata": {},
   "outputs": [],
   "source": [
    "#prepare a tokenizer for reviews on training data\n",
    "y_tokenizer = Tokenizer()   \n",
    "y_tokenizer.fit_on_texts(list(y_tr))"
   ]
  },
  {
   "cell_type": "code",
   "execution_count": 30,
   "metadata": {},
   "outputs": [
    {
     "output_type": "stream",
     "name": "stdout",
     "text": [
      "% of rare words in vocabulary: 75.13038910359836\nTotal Coverage of rare words: 12.006825652323979\n"
     ]
    }
   ],
   "source": [
    "thresh=6\n",
    "\n",
    "cnt=0\n",
    "tot_cnt=0\n",
    "freq=0\n",
    "tot_freq=0\n",
    "\n",
    "for key,value in y_tokenizer.word_counts.items():\n",
    "    tot_cnt=tot_cnt+1\n",
    "    tot_freq=tot_freq+value\n",
    "    if(value<thresh):\n",
    "        cnt=cnt+1\n",
    "        freq=freq+value\n",
    "    \n",
    "print(\"% of rare words in vocabulary:\",(cnt/tot_cnt)*100)\n",
    "print(\"Total Coverage of rare words:\",(freq/tot_freq)*100)"
   ]
  },
  {
   "cell_type": "code",
   "execution_count": 31,
   "metadata": {},
   "outputs": [],
   "source": [
    "#prepare a tokenizer for reviews on training data\n",
    "y_tokenizer = Tokenizer(num_words=tot_cnt-cnt) \n",
    "y_tokenizer.fit_on_texts(list(y_tr))\n",
    "\n",
    "#convert text sequences into integer sequences\n",
    "y_tr_seq    =   y_tokenizer.texts_to_sequences(y_tr) \n",
    "y_val_seq   =   y_tokenizer.texts_to_sequences(y_val) \n",
    "\n",
    "#padding zero upto maximum length\n",
    "y_tr    =   pad_sequences(y_tr_seq, maxlen=max_summary_len, padding='post')\n",
    "y_val   =   pad_sequences(y_val_seq, maxlen=max_summary_len, padding='post')\n",
    "\n",
    "#size of vocabulary\n",
    "y_voc  =   y_tokenizer.num_words +1\n"
   ]
  },
  {
   "cell_type": "code",
   "execution_count": 32,
   "metadata": {},
   "outputs": [
    {
     "output_type": "execute_result",
     "data": {
      "text/plain": [
       "6629"
      ]
     },
     "metadata": {},
     "execution_count": 32
    }
   ],
   "source": [
    "y_voc"
   ]
  },
  {
   "cell_type": "code",
   "execution_count": 33,
   "metadata": {},
   "outputs": [
    {
     "output_type": "execute_result",
     "data": {
      "text/plain": [
       "(31959, 31959)"
      ]
     },
     "metadata": {},
     "execution_count": 33
    }
   ],
   "source": [
    "y_tokenizer.word_counts['starttoken'],len(y_tr)\n"
   ]
  },
  {
   "cell_type": "code",
   "execution_count": 34,
   "metadata": {},
   "outputs": [],
   "source": [
    "ind=[]\n",
    "for i in range(len(y_tr)):\n",
    "    cnt=0\n",
    "    for j in y_tr[i]:\n",
    "        if j!=0:\n",
    "            cnt=cnt+1\n",
    "    if(cnt==2):\n",
    "        ind.append(i)\n",
    "\n",
    "y_tr=np.delete(y_tr,ind, axis=0)\n",
    "x_tr=np.delete(x_tr,ind, axis=0)"
   ]
  },
  {
   "cell_type": "code",
   "execution_count": 35,
   "metadata": {},
   "outputs": [],
   "source": [
    "ind=[]\n",
    "for i in range(len(y_val)):\n",
    "    cnt=0\n",
    "    for j in y_val[i]:\n",
    "        if j!=0:\n",
    "            cnt=cnt+1\n",
    "    if(cnt==2):\n",
    "        ind.append(i)\n",
    "\n",
    "y_val=np.delete(y_val,ind, axis=0)\n",
    "x_val=np.delete(x_val,ind, axis=0)"
   ]
  },
  {
   "source": [
    "# Saving the data"
   ],
   "cell_type": "markdown",
   "metadata": {}
  },
  {
   "cell_type": "code",
   "execution_count": 59,
   "metadata": {},
   "outputs": [],
   "source": [
    "np.save(\"final_data/x_tr.npy\", x_tr)\n",
    "np.save(\"final_data/y_tr.npy\", y_tr)\n",
    "np.save(\"final_data/x_val.npy\", x_val)\n",
    "np.save(\"final_data/y_val.npy\", y_val)\n"
   ]
  },
  {
   "cell_type": "code",
   "execution_count": 60,
   "metadata": {},
   "outputs": [],
   "source": [
    "import pickle\n",
    "\n",
    "# saving\n",
    "with open('y_tokenizer.pickle', 'wb') as handle:\n",
    "    pickle.dump(y_tokenizer, handle, protocol=pickle.HIGHEST_PROTOCOL)\n",
    "\n",
    "with open('x_tokenizer.pickle', 'wb') as handle:\n",
    "    pickle.dump(x_tokenizer, handle, protocol=pickle.HIGHEST_PROTOCOL)\n",
    "\n",
    "with open('vars.pkl', 'wb') as f:  \n",
    "    pickle.dump([x_voc, y_voc], f)"
   ]
  },
  {
   "source": [
    "# Load data"
   ],
   "cell_type": "markdown",
   "metadata": {}
  },
  {
   "cell_type": "code",
   "execution_count": 5,
   "metadata": {},
   "outputs": [],
   "source": [
    "x_tr = np.load(\"final_data/x_tr.npy\")\n",
    "y_tr = np.load(\"final_data/y_tr.npy\")\n",
    "x_val = np.load(\"final_data/x_val.npy\")\n",
    "y_val = np.load(\"final_data/y_val.npy\")"
   ]
  },
  {
   "cell_type": "code",
   "execution_count": 6,
   "metadata": {},
   "outputs": [],
   "source": [
    "def open_test_data_y():\n",
    "    return open('y_tokenizer.pickle', 'rb')\n",
    "\n",
    "with open_test_data_y() as f:\n",
    "    y_tokenizer = pickle.load(f) \n",
    "\n",
    "def open_test_data_x():\n",
    "    return open('x_tokenizer.pickle', 'rb')\n",
    "\n",
    "with open_test_data_x() as f:\n",
    "    x_tokenizer = pickle.load(f) \n",
    "\n",
    "def open_vars():\n",
    "    return open('vars.pkl', 'rb')\n",
    "\n",
    "with open_vars() as f:  # Python 3: open(..., 'rb')\n",
    "    x_voc, y_voc = pickle.load(f)"
   ]
  },
  {
   "cell_type": "code",
   "execution_count": 7,
   "metadata": {},
   "outputs": [],
   "source": [
    "max_text_len=300\n",
    "max_summary_len=12"
   ]
  },
  {
   "source": [
    "# Modeling"
   ],
   "cell_type": "markdown",
   "metadata": {}
  },
  {
   "cell_type": "code",
   "execution_count": 13,
   "metadata": {},
   "outputs": [
    {
     "output_type": "stream",
     "name": "stdout",
     "text": [
      "[<KerasTensor: shape=(None, 300, 600) dtype=float32 (created by layer 'bidirectional')>, <KerasTensor: shape=(None, 300) dtype=float32 (created by layer 'bidirectional')>, <KerasTensor: shape=(None, 300) dtype=float32 (created by layer 'bidirectional')>, <KerasTensor: shape=(None, 300) dtype=float32 (created by layer 'bidirectional')>, <KerasTensor: shape=(None, 300) dtype=float32 (created by layer 'bidirectional')>]\n",
      "Model: \"model\"\n",
      "__________________________________________________________________________________________________\n",
      "Layer (type)                    Output Shape         Param #     Connected to                     \n",
      "==================================================================================================\n",
      "input_1 (InputLayer)            [(None, 300)]        0                                            \n",
      "__________________________________________________________________________________________________\n",
      "input_2 (InputLayer)            [(None, 300)]        0                                            \n",
      "__________________________________________________________________________________________________\n",
      "embedding (Embedding)           (None, 300, 100)     4923400     input_1[0][0]                    \n",
      "__________________________________________________________________________________________________\n",
      "embedding_1 (Embedding)         (None, 300, 100)     662900      input_2[0][0]                    \n",
      "__________________________________________________________________________________________________\n",
      "bidirectional (Bidirectional)   [(None, 300, 600), ( 962400      embedding[0][0]                  \n",
      "__________________________________________________________________________________________________\n",
      "bidirectional_1 (Bidirectional) [(None, 300, 600), ( 962400      embedding_1[0][0]                \n",
      "                                                                 bidirectional[1][1]              \n",
      "                                                                 bidirectional[1][2]              \n",
      "                                                                 bidirectional[1][3]              \n",
      "                                                                 bidirectional[1][4]              \n",
      "__________________________________________________________________________________________________\n",
      "attention_layer (AttentionLayer ((None, 300, 600), ( 720600      bidirectional[1][0]              \n",
      "                                                                 bidirectional_1[0][0]            \n",
      "__________________________________________________________________________________________________\n",
      "concat_layer (Concatenate)      (None, 300, 1200)    0           bidirectional_1[0][0]            \n",
      "                                                                 attention_layer[0][0]            \n",
      "__________________________________________________________________________________________________\n",
      "time_distributed (TimeDistribut (None, 300, 6629)    7961429     concat_layer[0][0]               \n",
      "==================================================================================================\n",
      "Total params: 16,193,129\n",
      "Trainable params: 16,193,129\n",
      "Non-trainable params: 0\n",
      "__________________________________________________________________________________________________\n"
     ]
    }
   ],
   "source": [
    "from tensorflow.keras import backend as K \n",
    "K.clear_session()\n",
    "\n",
    "latent_dim = 300\n",
    "embedding_dim=100\n",
    "\n",
    "# Encoder\n",
    "\n",
    "encoder_inputs = Input(shape=(max_text_len,))\n",
    "#embedding layer\n",
    "enc_emb =  Embedding(x_voc, embedding_dim,trainable=True)(encoder_inputs)\n",
    "#encoder lstm 1\n",
    "encoder_lstm1 = Bidirectional(LSTM(latent_dim,return_sequences=True,return_state=True,dropout=0.4,recurrent_dropout=0.4))\n",
    "print(encoder_lstm1(enc_emb))\n",
    "encoder_outputs, forward_h, forward_c, backward_h, backward_c = encoder_lstm1(enc_emb)\n",
    "encoder_states = [forward_h, forward_c, backward_h, backward_c]\n",
    "\n",
    "\n",
    "# Decoder\n",
    "\n",
    "# Set up the decoder, using `encoder_states` as initial state.\n",
    "decoder_inputs = Input(shape=(max_text_len,))\n",
    "#embedding layer\n",
    "dec_emb_layer = Embedding(y_voc, embedding_dim,trainable=True)\n",
    "dec_emb = dec_emb_layer(decoder_inputs)\n",
    "decoder_lstm = Bidirectional(LSTM(latent_dim, return_sequences=True, return_state=True,dropout=0.4,recurrent_dropout=0.2))\n",
    "decoder_outputs,_, _,_,_ = decoder_lstm(dec_emb,initial_state=[forward_h, forward_c, backward_h, backward_c])\n",
    "\n",
    "# Attention layer\n",
    "\n",
    "attn_layer = AttentionLayer(name='attention_layer')\n",
    "attn_out, attn_states = attn_layer([encoder_outputs, decoder_outputs])\n",
    "\n",
    "# Concat attention input and decoder LSTM output\n",
    "decoder_concat_input = Concatenate(axis=-1, name='concat_layer')([decoder_outputs, attn_out])\n",
    "\n",
    "#dense layer\n",
    "decoder_dense =  TimeDistributed(Dense(y_voc, activation='softmax'))\n",
    "decoder_outputs = decoder_dense(decoder_concat_input)\n",
    "\n",
    "# Define the model \n",
    "model = Model([encoder_inputs, decoder_inputs], decoder_outputs)\n",
    "\n",
    "model.summary()"
   ]
  },
  {
   "cell_type": "code",
   "execution_count": 14,
   "metadata": {},
   "outputs": [],
   "source": [
    "model.compile(optimizer='rmsprop', loss='sparse_categorical_crossentropy')\n"
   ]
  },
  {
   "cell_type": "code",
   "execution_count": 15,
   "metadata": {},
   "outputs": [
    {
     "output_type": "error",
     "ename": "ValueError",
     "evalue": "in user code:\n\n    C:\\Users\\feder\\.conda\\envs\\nlp\\lib\\site-packages\\tensorflow\\python\\keras\\engine\\training.py:805 train_function  *\n        return step_function(self, iterator)\n    C:\\Users\\feder\\.conda\\envs\\nlp\\lib\\site-packages\\tensorflow\\python\\keras\\engine\\training.py:795 step_function  **\n        outputs = model.distribute_strategy.run(run_step, args=(data,))\n    C:\\Users\\feder\\.conda\\envs\\nlp\\lib\\site-packages\\tensorflow\\python\\distribute\\distribute_lib.py:1259 run\n        return self._extended.call_for_each_replica(fn, args=args, kwargs=kwargs)\n    C:\\Users\\feder\\.conda\\envs\\nlp\\lib\\site-packages\\tensorflow\\python\\distribute\\distribute_lib.py:2730 call_for_each_replica\n        return self._call_for_each_replica(fn, args, kwargs)\n    C:\\Users\\feder\\.conda\\envs\\nlp\\lib\\site-packages\\tensorflow\\python\\distribute\\distribute_lib.py:3417 _call_for_each_replica\n        return fn(*args, **kwargs)\n    C:\\Users\\feder\\.conda\\envs\\nlp\\lib\\site-packages\\tensorflow\\python\\keras\\engine\\training.py:788 run_step  **\n        outputs = model.train_step(data)\n    C:\\Users\\feder\\.conda\\envs\\nlp\\lib\\site-packages\\tensorflow\\python\\keras\\engine\\training.py:754 train_step\n        y_pred = self(x, training=True)\n    C:\\Users\\feder\\.conda\\envs\\nlp\\lib\\site-packages\\tensorflow\\python\\keras\\engine\\base_layer.py:998 __call__\n        input_spec.assert_input_compatibility(self.input_spec, inputs, self.name)\n    C:\\Users\\feder\\.conda\\envs\\nlp\\lib\\site-packages\\tensorflow\\python\\keras\\engine\\input_spec.py:271 assert_input_compatibility\n        raise ValueError('Input ' + str(input_index) +\n\n    ValueError: Input 1 is incompatible with layer model: expected shape=(None, 300), found shape=(None, 11)\n",
     "traceback": [
      "\u001b[1;31m---------------------------------------------------------------------------\u001b[0m",
      "\u001b[1;31mValueError\u001b[0m                                Traceback (most recent call last)",
      "\u001b[1;32m<ipython-input-15-696d0f983cc6>\u001b[0m in \u001b[0;36m<module>\u001b[1;34m\u001b[0m\n\u001b[1;32m----> 1\u001b[1;33m history=model.fit([x_tr,y_tr[:,:-1]], y_tr.reshape(y_tr.shape[0],y_tr.shape[1], 1)[:,1:] ,\n\u001b[0m\u001b[0;32m      2\u001b[0m                   \u001b[0mepochs\u001b[0m\u001b[1;33m=\u001b[0m\u001b[1;36m1\u001b[0m\u001b[1;33m,\u001b[0m \u001b[0mverbose\u001b[0m \u001b[1;33m=\u001b[0m \u001b[1;36m1\u001b[0m\u001b[1;33m,\u001b[0m\u001b[1;33m\u001b[0m\u001b[1;33m\u001b[0m\u001b[0m\n\u001b[0;32m      3\u001b[0m                   validation_data=([x_val,y_val[:,:-1]], y_val.reshape(y_val.shape[0],y_val.shape[1], 1)[:,1:]))\n",
      "\u001b[1;32m~\\.conda\\envs\\nlp\\lib\\site-packages\\tensorflow\\python\\keras\\engine\\training.py\u001b[0m in \u001b[0;36mfit\u001b[1;34m(self, x, y, batch_size, epochs, verbose, callbacks, validation_split, validation_data, shuffle, class_weight, sample_weight, initial_epoch, steps_per_epoch, validation_steps, validation_batch_size, validation_freq, max_queue_size, workers, use_multiprocessing)\u001b[0m\n\u001b[0;32m   1098\u001b[0m                 _r=1):\n\u001b[0;32m   1099\u001b[0m               \u001b[0mcallbacks\u001b[0m\u001b[1;33m.\u001b[0m\u001b[0mon_train_batch_begin\u001b[0m\u001b[1;33m(\u001b[0m\u001b[0mstep\u001b[0m\u001b[1;33m)\u001b[0m\u001b[1;33m\u001b[0m\u001b[1;33m\u001b[0m\u001b[0m\n\u001b[1;32m-> 1100\u001b[1;33m               \u001b[0mtmp_logs\u001b[0m \u001b[1;33m=\u001b[0m \u001b[0mself\u001b[0m\u001b[1;33m.\u001b[0m\u001b[0mtrain_function\u001b[0m\u001b[1;33m(\u001b[0m\u001b[0miterator\u001b[0m\u001b[1;33m)\u001b[0m\u001b[1;33m\u001b[0m\u001b[1;33m\u001b[0m\u001b[0m\n\u001b[0m\u001b[0;32m   1101\u001b[0m               \u001b[1;32mif\u001b[0m \u001b[0mdata_handler\u001b[0m\u001b[1;33m.\u001b[0m\u001b[0mshould_sync\u001b[0m\u001b[1;33m:\u001b[0m\u001b[1;33m\u001b[0m\u001b[1;33m\u001b[0m\u001b[0m\n\u001b[0;32m   1102\u001b[0m                 \u001b[0mcontext\u001b[0m\u001b[1;33m.\u001b[0m\u001b[0masync_wait\u001b[0m\u001b[1;33m(\u001b[0m\u001b[1;33m)\u001b[0m\u001b[1;33m\u001b[0m\u001b[1;33m\u001b[0m\u001b[0m\n",
      "\u001b[1;32m~\\.conda\\envs\\nlp\\lib\\site-packages\\tensorflow\\python\\eager\\def_function.py\u001b[0m in \u001b[0;36m__call__\u001b[1;34m(self, *args, **kwds)\u001b[0m\n\u001b[0;32m    826\u001b[0m     \u001b[0mtracing_count\u001b[0m \u001b[1;33m=\u001b[0m \u001b[0mself\u001b[0m\u001b[1;33m.\u001b[0m\u001b[0mexperimental_get_tracing_count\u001b[0m\u001b[1;33m(\u001b[0m\u001b[1;33m)\u001b[0m\u001b[1;33m\u001b[0m\u001b[1;33m\u001b[0m\u001b[0m\n\u001b[0;32m    827\u001b[0m     \u001b[1;32mwith\u001b[0m \u001b[0mtrace\u001b[0m\u001b[1;33m.\u001b[0m\u001b[0mTrace\u001b[0m\u001b[1;33m(\u001b[0m\u001b[0mself\u001b[0m\u001b[1;33m.\u001b[0m\u001b[0m_name\u001b[0m\u001b[1;33m)\u001b[0m \u001b[1;32mas\u001b[0m \u001b[0mtm\u001b[0m\u001b[1;33m:\u001b[0m\u001b[1;33m\u001b[0m\u001b[1;33m\u001b[0m\u001b[0m\n\u001b[1;32m--> 828\u001b[1;33m       \u001b[0mresult\u001b[0m \u001b[1;33m=\u001b[0m \u001b[0mself\u001b[0m\u001b[1;33m.\u001b[0m\u001b[0m_call\u001b[0m\u001b[1;33m(\u001b[0m\u001b[1;33m*\u001b[0m\u001b[0margs\u001b[0m\u001b[1;33m,\u001b[0m \u001b[1;33m**\u001b[0m\u001b[0mkwds\u001b[0m\u001b[1;33m)\u001b[0m\u001b[1;33m\u001b[0m\u001b[1;33m\u001b[0m\u001b[0m\n\u001b[0m\u001b[0;32m    829\u001b[0m       \u001b[0mcompiler\u001b[0m \u001b[1;33m=\u001b[0m \u001b[1;34m\"xla\"\u001b[0m \u001b[1;32mif\u001b[0m \u001b[0mself\u001b[0m\u001b[1;33m.\u001b[0m\u001b[0m_experimental_compile\u001b[0m \u001b[1;32melse\u001b[0m \u001b[1;34m\"nonXla\"\u001b[0m\u001b[1;33m\u001b[0m\u001b[1;33m\u001b[0m\u001b[0m\n\u001b[0;32m    830\u001b[0m       \u001b[0mnew_tracing_count\u001b[0m \u001b[1;33m=\u001b[0m \u001b[0mself\u001b[0m\u001b[1;33m.\u001b[0m\u001b[0mexperimental_get_tracing_count\u001b[0m\u001b[1;33m(\u001b[0m\u001b[1;33m)\u001b[0m\u001b[1;33m\u001b[0m\u001b[1;33m\u001b[0m\u001b[0m\n",
      "\u001b[1;32m~\\.conda\\envs\\nlp\\lib\\site-packages\\tensorflow\\python\\eager\\def_function.py\u001b[0m in \u001b[0;36m_call\u001b[1;34m(self, *args, **kwds)\u001b[0m\n\u001b[0;32m    869\u001b[0m       \u001b[1;31m# This is the first call of __call__, so we have to initialize.\u001b[0m\u001b[1;33m\u001b[0m\u001b[1;33m\u001b[0m\u001b[1;33m\u001b[0m\u001b[0m\n\u001b[0;32m    870\u001b[0m       \u001b[0minitializers\u001b[0m \u001b[1;33m=\u001b[0m \u001b[1;33m[\u001b[0m\u001b[1;33m]\u001b[0m\u001b[1;33m\u001b[0m\u001b[1;33m\u001b[0m\u001b[0m\n\u001b[1;32m--> 871\u001b[1;33m       \u001b[0mself\u001b[0m\u001b[1;33m.\u001b[0m\u001b[0m_initialize\u001b[0m\u001b[1;33m(\u001b[0m\u001b[0margs\u001b[0m\u001b[1;33m,\u001b[0m \u001b[0mkwds\u001b[0m\u001b[1;33m,\u001b[0m \u001b[0madd_initializers_to\u001b[0m\u001b[1;33m=\u001b[0m\u001b[0minitializers\u001b[0m\u001b[1;33m)\u001b[0m\u001b[1;33m\u001b[0m\u001b[1;33m\u001b[0m\u001b[0m\n\u001b[0m\u001b[0;32m    872\u001b[0m     \u001b[1;32mfinally\u001b[0m\u001b[1;33m:\u001b[0m\u001b[1;33m\u001b[0m\u001b[1;33m\u001b[0m\u001b[0m\n\u001b[0;32m    873\u001b[0m       \u001b[1;31m# At this point we know that the initialization is complete (or less\u001b[0m\u001b[1;33m\u001b[0m\u001b[1;33m\u001b[0m\u001b[1;33m\u001b[0m\u001b[0m\n",
      "\u001b[1;32m~\\.conda\\envs\\nlp\\lib\\site-packages\\tensorflow\\python\\eager\\def_function.py\u001b[0m in \u001b[0;36m_initialize\u001b[1;34m(self, args, kwds, add_initializers_to)\u001b[0m\n\u001b[0;32m    723\u001b[0m     \u001b[0mself\u001b[0m\u001b[1;33m.\u001b[0m\u001b[0m_graph_deleter\u001b[0m \u001b[1;33m=\u001b[0m \u001b[0mFunctionDeleter\u001b[0m\u001b[1;33m(\u001b[0m\u001b[0mself\u001b[0m\u001b[1;33m.\u001b[0m\u001b[0m_lifted_initializer_graph\u001b[0m\u001b[1;33m)\u001b[0m\u001b[1;33m\u001b[0m\u001b[1;33m\u001b[0m\u001b[0m\n\u001b[0;32m    724\u001b[0m     self._concrete_stateful_fn = (\n\u001b[1;32m--> 725\u001b[1;33m         self._stateful_fn._get_concrete_function_internal_garbage_collected(  # pylint: disable=protected-access\n\u001b[0m\u001b[0;32m    726\u001b[0m             *args, **kwds))\n\u001b[0;32m    727\u001b[0m \u001b[1;33m\u001b[0m\u001b[0m\n",
      "\u001b[1;32m~\\.conda\\envs\\nlp\\lib\\site-packages\\tensorflow\\python\\eager\\function.py\u001b[0m in \u001b[0;36m_get_concrete_function_internal_garbage_collected\u001b[1;34m(self, *args, **kwargs)\u001b[0m\n\u001b[0;32m   2967\u001b[0m       \u001b[0margs\u001b[0m\u001b[1;33m,\u001b[0m \u001b[0mkwargs\u001b[0m \u001b[1;33m=\u001b[0m \u001b[1;32mNone\u001b[0m\u001b[1;33m,\u001b[0m \u001b[1;32mNone\u001b[0m\u001b[1;33m\u001b[0m\u001b[1;33m\u001b[0m\u001b[0m\n\u001b[0;32m   2968\u001b[0m     \u001b[1;32mwith\u001b[0m \u001b[0mself\u001b[0m\u001b[1;33m.\u001b[0m\u001b[0m_lock\u001b[0m\u001b[1;33m:\u001b[0m\u001b[1;33m\u001b[0m\u001b[1;33m\u001b[0m\u001b[0m\n\u001b[1;32m-> 2969\u001b[1;33m       \u001b[0mgraph_function\u001b[0m\u001b[1;33m,\u001b[0m \u001b[0m_\u001b[0m \u001b[1;33m=\u001b[0m \u001b[0mself\u001b[0m\u001b[1;33m.\u001b[0m\u001b[0m_maybe_define_function\u001b[0m\u001b[1;33m(\u001b[0m\u001b[0margs\u001b[0m\u001b[1;33m,\u001b[0m \u001b[0mkwargs\u001b[0m\u001b[1;33m)\u001b[0m\u001b[1;33m\u001b[0m\u001b[1;33m\u001b[0m\u001b[0m\n\u001b[0m\u001b[0;32m   2970\u001b[0m     \u001b[1;32mreturn\u001b[0m \u001b[0mgraph_function\u001b[0m\u001b[1;33m\u001b[0m\u001b[1;33m\u001b[0m\u001b[0m\n\u001b[0;32m   2971\u001b[0m \u001b[1;33m\u001b[0m\u001b[0m\n",
      "\u001b[1;32m~\\.conda\\envs\\nlp\\lib\\site-packages\\tensorflow\\python\\eager\\function.py\u001b[0m in \u001b[0;36m_maybe_define_function\u001b[1;34m(self, args, kwargs)\u001b[0m\n\u001b[0;32m   3359\u001b[0m \u001b[1;33m\u001b[0m\u001b[0m\n\u001b[0;32m   3360\u001b[0m           \u001b[0mself\u001b[0m\u001b[1;33m.\u001b[0m\u001b[0m_function_cache\u001b[0m\u001b[1;33m.\u001b[0m\u001b[0mmissed\u001b[0m\u001b[1;33m.\u001b[0m\u001b[0madd\u001b[0m\u001b[1;33m(\u001b[0m\u001b[0mcall_context_key\u001b[0m\u001b[1;33m)\u001b[0m\u001b[1;33m\u001b[0m\u001b[1;33m\u001b[0m\u001b[0m\n\u001b[1;32m-> 3361\u001b[1;33m           \u001b[0mgraph_function\u001b[0m \u001b[1;33m=\u001b[0m \u001b[0mself\u001b[0m\u001b[1;33m.\u001b[0m\u001b[0m_create_graph_function\u001b[0m\u001b[1;33m(\u001b[0m\u001b[0margs\u001b[0m\u001b[1;33m,\u001b[0m \u001b[0mkwargs\u001b[0m\u001b[1;33m)\u001b[0m\u001b[1;33m\u001b[0m\u001b[1;33m\u001b[0m\u001b[0m\n\u001b[0m\u001b[0;32m   3362\u001b[0m           \u001b[0mself\u001b[0m\u001b[1;33m.\u001b[0m\u001b[0m_function_cache\u001b[0m\u001b[1;33m.\u001b[0m\u001b[0mprimary\u001b[0m\u001b[1;33m[\u001b[0m\u001b[0mcache_key\u001b[0m\u001b[1;33m]\u001b[0m \u001b[1;33m=\u001b[0m \u001b[0mgraph_function\u001b[0m\u001b[1;33m\u001b[0m\u001b[1;33m\u001b[0m\u001b[0m\n\u001b[0;32m   3363\u001b[0m \u001b[1;33m\u001b[0m\u001b[0m\n",
      "\u001b[1;32m~\\.conda\\envs\\nlp\\lib\\site-packages\\tensorflow\\python\\eager\\function.py\u001b[0m in \u001b[0;36m_create_graph_function\u001b[1;34m(self, args, kwargs, override_flat_arg_shapes)\u001b[0m\n\u001b[0;32m   3194\u001b[0m     \u001b[0marg_names\u001b[0m \u001b[1;33m=\u001b[0m \u001b[0mbase_arg_names\u001b[0m \u001b[1;33m+\u001b[0m \u001b[0mmissing_arg_names\u001b[0m\u001b[1;33m\u001b[0m\u001b[1;33m\u001b[0m\u001b[0m\n\u001b[0;32m   3195\u001b[0m     graph_function = ConcreteFunction(\n\u001b[1;32m-> 3196\u001b[1;33m         func_graph_module.func_graph_from_py_func(\n\u001b[0m\u001b[0;32m   3197\u001b[0m             \u001b[0mself\u001b[0m\u001b[1;33m.\u001b[0m\u001b[0m_name\u001b[0m\u001b[1;33m,\u001b[0m\u001b[1;33m\u001b[0m\u001b[1;33m\u001b[0m\u001b[0m\n\u001b[0;32m   3198\u001b[0m             \u001b[0mself\u001b[0m\u001b[1;33m.\u001b[0m\u001b[0m_python_function\u001b[0m\u001b[1;33m,\u001b[0m\u001b[1;33m\u001b[0m\u001b[1;33m\u001b[0m\u001b[0m\n",
      "\u001b[1;32m~\\.conda\\envs\\nlp\\lib\\site-packages\\tensorflow\\python\\framework\\func_graph.py\u001b[0m in \u001b[0;36mfunc_graph_from_py_func\u001b[1;34m(name, python_func, args, kwargs, signature, func_graph, autograph, autograph_options, add_control_dependencies, arg_names, op_return_value, collections, capture_by_value, override_flat_arg_shapes)\u001b[0m\n\u001b[0;32m    988\u001b[0m         \u001b[0m_\u001b[0m\u001b[1;33m,\u001b[0m \u001b[0moriginal_func\u001b[0m \u001b[1;33m=\u001b[0m \u001b[0mtf_decorator\u001b[0m\u001b[1;33m.\u001b[0m\u001b[0munwrap\u001b[0m\u001b[1;33m(\u001b[0m\u001b[0mpython_func\u001b[0m\u001b[1;33m)\u001b[0m\u001b[1;33m\u001b[0m\u001b[1;33m\u001b[0m\u001b[0m\n\u001b[0;32m    989\u001b[0m \u001b[1;33m\u001b[0m\u001b[0m\n\u001b[1;32m--> 990\u001b[1;33m       \u001b[0mfunc_outputs\u001b[0m \u001b[1;33m=\u001b[0m \u001b[0mpython_func\u001b[0m\u001b[1;33m(\u001b[0m\u001b[1;33m*\u001b[0m\u001b[0mfunc_args\u001b[0m\u001b[1;33m,\u001b[0m \u001b[1;33m**\u001b[0m\u001b[0mfunc_kwargs\u001b[0m\u001b[1;33m)\u001b[0m\u001b[1;33m\u001b[0m\u001b[1;33m\u001b[0m\u001b[0m\n\u001b[0m\u001b[0;32m    991\u001b[0m \u001b[1;33m\u001b[0m\u001b[0m\n\u001b[0;32m    992\u001b[0m       \u001b[1;31m# invariant: `func_outputs` contains only Tensors, CompositeTensors,\u001b[0m\u001b[1;33m\u001b[0m\u001b[1;33m\u001b[0m\u001b[1;33m\u001b[0m\u001b[0m\n",
      "\u001b[1;32m~\\.conda\\envs\\nlp\\lib\\site-packages\\tensorflow\\python\\eager\\def_function.py\u001b[0m in \u001b[0;36mwrapped_fn\u001b[1;34m(*args, **kwds)\u001b[0m\n\u001b[0;32m    632\u001b[0m             \u001b[0mxla_context\u001b[0m\u001b[1;33m.\u001b[0m\u001b[0mExit\u001b[0m\u001b[1;33m(\u001b[0m\u001b[1;33m)\u001b[0m\u001b[1;33m\u001b[0m\u001b[1;33m\u001b[0m\u001b[0m\n\u001b[0;32m    633\u001b[0m         \u001b[1;32melse\u001b[0m\u001b[1;33m:\u001b[0m\u001b[1;33m\u001b[0m\u001b[1;33m\u001b[0m\u001b[0m\n\u001b[1;32m--> 634\u001b[1;33m           \u001b[0mout\u001b[0m \u001b[1;33m=\u001b[0m \u001b[0mweak_wrapped_fn\u001b[0m\u001b[1;33m(\u001b[0m\u001b[1;33m)\u001b[0m\u001b[1;33m.\u001b[0m\u001b[0m__wrapped__\u001b[0m\u001b[1;33m(\u001b[0m\u001b[1;33m*\u001b[0m\u001b[0margs\u001b[0m\u001b[1;33m,\u001b[0m \u001b[1;33m**\u001b[0m\u001b[0mkwds\u001b[0m\u001b[1;33m)\u001b[0m\u001b[1;33m\u001b[0m\u001b[1;33m\u001b[0m\u001b[0m\n\u001b[0m\u001b[0;32m    635\u001b[0m         \u001b[1;32mreturn\u001b[0m \u001b[0mout\u001b[0m\u001b[1;33m\u001b[0m\u001b[1;33m\u001b[0m\u001b[0m\n\u001b[0;32m    636\u001b[0m \u001b[1;33m\u001b[0m\u001b[0m\n",
      "\u001b[1;32m~\\.conda\\envs\\nlp\\lib\\site-packages\\tensorflow\\python\\framework\\func_graph.py\u001b[0m in \u001b[0;36mwrapper\u001b[1;34m(*args, **kwargs)\u001b[0m\n\u001b[0;32m    975\u001b[0m           \u001b[1;32mexcept\u001b[0m \u001b[0mException\u001b[0m \u001b[1;32mas\u001b[0m \u001b[0me\u001b[0m\u001b[1;33m:\u001b[0m  \u001b[1;31m# pylint:disable=broad-except\u001b[0m\u001b[1;33m\u001b[0m\u001b[1;33m\u001b[0m\u001b[0m\n\u001b[0;32m    976\u001b[0m             \u001b[1;32mif\u001b[0m \u001b[0mhasattr\u001b[0m\u001b[1;33m(\u001b[0m\u001b[0me\u001b[0m\u001b[1;33m,\u001b[0m \u001b[1;34m\"ag_error_metadata\"\u001b[0m\u001b[1;33m)\u001b[0m\u001b[1;33m:\u001b[0m\u001b[1;33m\u001b[0m\u001b[1;33m\u001b[0m\u001b[0m\n\u001b[1;32m--> 977\u001b[1;33m               \u001b[1;32mraise\u001b[0m \u001b[0me\u001b[0m\u001b[1;33m.\u001b[0m\u001b[0mag_error_metadata\u001b[0m\u001b[1;33m.\u001b[0m\u001b[0mto_exception\u001b[0m\u001b[1;33m(\u001b[0m\u001b[0me\u001b[0m\u001b[1;33m)\u001b[0m\u001b[1;33m\u001b[0m\u001b[1;33m\u001b[0m\u001b[0m\n\u001b[0m\u001b[0;32m    978\u001b[0m             \u001b[1;32melse\u001b[0m\u001b[1;33m:\u001b[0m\u001b[1;33m\u001b[0m\u001b[1;33m\u001b[0m\u001b[0m\n\u001b[0;32m    979\u001b[0m               \u001b[1;32mraise\u001b[0m\u001b[1;33m\u001b[0m\u001b[1;33m\u001b[0m\u001b[0m\n",
      "\u001b[1;31mValueError\u001b[0m: in user code:\n\n    C:\\Users\\feder\\.conda\\envs\\nlp\\lib\\site-packages\\tensorflow\\python\\keras\\engine\\training.py:805 train_function  *\n        return step_function(self, iterator)\n    C:\\Users\\feder\\.conda\\envs\\nlp\\lib\\site-packages\\tensorflow\\python\\keras\\engine\\training.py:795 step_function  **\n        outputs = model.distribute_strategy.run(run_step, args=(data,))\n    C:\\Users\\feder\\.conda\\envs\\nlp\\lib\\site-packages\\tensorflow\\python\\distribute\\distribute_lib.py:1259 run\n        return self._extended.call_for_each_replica(fn, args=args, kwargs=kwargs)\n    C:\\Users\\feder\\.conda\\envs\\nlp\\lib\\site-packages\\tensorflow\\python\\distribute\\distribute_lib.py:2730 call_for_each_replica\n        return self._call_for_each_replica(fn, args, kwargs)\n    C:\\Users\\feder\\.conda\\envs\\nlp\\lib\\site-packages\\tensorflow\\python\\distribute\\distribute_lib.py:3417 _call_for_each_replica\n        return fn(*args, **kwargs)\n    C:\\Users\\feder\\.conda\\envs\\nlp\\lib\\site-packages\\tensorflow\\python\\keras\\engine\\training.py:788 run_step  **\n        outputs = model.train_step(data)\n    C:\\Users\\feder\\.conda\\envs\\nlp\\lib\\site-packages\\tensorflow\\python\\keras\\engine\\training.py:754 train_step\n        y_pred = self(x, training=True)\n    C:\\Users\\feder\\.conda\\envs\\nlp\\lib\\site-packages\\tensorflow\\python\\keras\\engine\\base_layer.py:998 __call__\n        input_spec.assert_input_compatibility(self.input_spec, inputs, self.name)\n    C:\\Users\\feder\\.conda\\envs\\nlp\\lib\\site-packages\\tensorflow\\python\\keras\\engine\\input_spec.py:271 assert_input_compatibility\n        raise ValueError('Input ' + str(input_index) +\n\n    ValueError: Input 1 is incompatible with layer model: expected shape=(None, 300), found shape=(None, 11)\n"
     ]
    }
   ],
   "source": [
    "history=model.fit([x_tr,y_tr[:,:-1]], y_tr.reshape(y_tr.shape[0],y_tr.shape[1], 1)[:,1:] ,\n",
    "                  epochs=1, verbose = 1,\n",
    "                  validation_data=([x_val,y_val[:,:-1]], y_val.reshape(y_val.shape[0],y_val.shape[1], 1)[:,1:]))"
   ]
  },
  {
   "cell_type": "code",
   "execution_count": 43,
   "metadata": {},
   "outputs": [],
   "source": [
    "model.save_weights(\"weights.h5\")"
   ]
  },
  {
   "cell_type": "code",
   "execution_count": 44,
   "metadata": {},
   "outputs": [
    {
     "output_type": "execute_result",
     "data": {
      "text/plain": [
       "<matplotlib.legend.Legend at 0x1df27020b20>"
      ]
     },
     "metadata": {},
     "execution_count": 44
    },
    {
     "output_type": "display_data",
     "data": {
      "text/plain": "<Figure size 432x288 with 1 Axes>",
      "image/svg+xml": "<?xml version=\"1.0\" encoding=\"utf-8\" standalone=\"no\"?>\r\n<!DOCTYPE svg PUBLIC \"-//W3C//DTD SVG 1.1//EN\"\r\n  \"http://www.w3.org/Graphics/SVG/1.1/DTD/svg11.dtd\">\r\n<!-- Created with matplotlib (https://matplotlib.org/) -->\r\n<svg height=\"248.518125pt\" version=\"1.1\" viewBox=\"0 0 372.103125 248.518125\" width=\"372.103125pt\" xmlns=\"http://www.w3.org/2000/svg\" xmlns:xlink=\"http://www.w3.org/1999/xlink\">\r\n <metadata>\r\n  <rdf:RDF xmlns:cc=\"http://creativecommons.org/ns#\" xmlns:dc=\"http://purl.org/dc/elements/1.1/\" xmlns:rdf=\"http://www.w3.org/1999/02/22-rdf-syntax-ns#\">\r\n   <cc:Work>\r\n    <dc:type rdf:resource=\"http://purl.org/dc/dcmitype/StillImage\"/>\r\n    <dc:date>2021-01-06T21:56:32.042278</dc:date>\r\n    <dc:format>image/svg+xml</dc:format>\r\n    <dc:creator>\r\n     <cc:Agent>\r\n      <dc:title>Matplotlib v3.3.3, https://matplotlib.org/</dc:title>\r\n     </cc:Agent>\r\n    </dc:creator>\r\n   </cc:Work>\r\n  </rdf:RDF>\r\n </metadata>\r\n <defs>\r\n  <style type=\"text/css\">*{stroke-linecap:butt;stroke-linejoin:round;}</style>\r\n </defs>\r\n <g id=\"figure_1\">\r\n  <g id=\"patch_1\">\r\n   <path d=\"M 0 248.518125 \r\nL 372.103125 248.518125 \r\nL 372.103125 0 \r\nL 0 0 \r\nz\r\n\" style=\"fill:none;\"/>\r\n  </g>\r\n  <g id=\"axes_1\">\r\n   <g id=\"patch_2\">\r\n    <path d=\"M 30.103125 224.64 \r\nL 364.903125 224.64 \r\nL 364.903125 7.2 \r\nL 30.103125 7.2 \r\nz\r\n\" style=\"fill:#ffffff;\"/>\r\n   </g>\r\n   <g id=\"matplotlib.axis_1\">\r\n    <g id=\"xtick_1\">\r\n     <g id=\"line2d_1\">\r\n      <defs>\r\n       <path d=\"M 0 0 \r\nL 0 3.5 \r\n\" id=\"m3e21872170\" style=\"stroke:#000000;stroke-width:0.8;\"/>\r\n      </defs>\r\n      <g>\r\n       <use style=\"stroke:#000000;stroke-width:0.8;\" x=\"45.321307\" xlink:href=\"#m3e21872170\" y=\"224.64\"/>\r\n      </g>\r\n     </g>\r\n     <g id=\"text_1\">\r\n      <!-- 0 -->\r\n      <g transform=\"translate(42.140057 239.238438)scale(0.1 -0.1)\">\r\n       <defs>\r\n        <path d=\"M 31.78125 66.40625 \r\nQ 24.171875 66.40625 20.328125 58.90625 \r\nQ 16.5 51.421875 16.5 36.375 \r\nQ 16.5 21.390625 20.328125 13.890625 \r\nQ 24.171875 6.390625 31.78125 6.390625 \r\nQ 39.453125 6.390625 43.28125 13.890625 \r\nQ 47.125 21.390625 47.125 36.375 \r\nQ 47.125 51.421875 43.28125 58.90625 \r\nQ 39.453125 66.40625 31.78125 66.40625 \r\nz\r\nM 31.78125 74.21875 \r\nQ 44.046875 74.21875 50.515625 64.515625 \r\nQ 56.984375 54.828125 56.984375 36.375 \r\nQ 56.984375 17.96875 50.515625 8.265625 \r\nQ 44.046875 -1.421875 31.78125 -1.421875 \r\nQ 19.53125 -1.421875 13.0625 8.265625 \r\nQ 6.59375 17.96875 6.59375 36.375 \r\nQ 6.59375 54.828125 13.0625 64.515625 \r\nQ 19.53125 74.21875 31.78125 74.21875 \r\nz\r\n\" id=\"DejaVuSans-48\"/>\r\n       </defs>\r\n       <use xlink:href=\"#DejaVuSans-48\"/>\r\n      </g>\r\n     </g>\r\n    </g>\r\n    <g id=\"xtick_2\">\r\n     <g id=\"line2d_2\">\r\n      <g>\r\n       <use style=\"stroke:#000000;stroke-width:0.8;\" x=\"112.95767\" xlink:href=\"#m3e21872170\" y=\"224.64\"/>\r\n      </g>\r\n     </g>\r\n     <g id=\"text_2\">\r\n      <!-- 2 -->\r\n      <g transform=\"translate(109.77642 239.238438)scale(0.1 -0.1)\">\r\n       <defs>\r\n        <path d=\"M 19.1875 8.296875 \r\nL 53.609375 8.296875 \r\nL 53.609375 0 \r\nL 7.328125 0 \r\nL 7.328125 8.296875 \r\nQ 12.9375 14.109375 22.625 23.890625 \r\nQ 32.328125 33.6875 34.8125 36.53125 \r\nQ 39.546875 41.84375 41.421875 45.53125 \r\nQ 43.3125 49.21875 43.3125 52.78125 \r\nQ 43.3125 58.59375 39.234375 62.25 \r\nQ 35.15625 65.921875 28.609375 65.921875 \r\nQ 23.96875 65.921875 18.8125 64.3125 \r\nQ 13.671875 62.703125 7.8125 59.421875 \r\nL 7.8125 69.390625 \r\nQ 13.765625 71.78125 18.9375 73 \r\nQ 24.125 74.21875 28.421875 74.21875 \r\nQ 39.75 74.21875 46.484375 68.546875 \r\nQ 53.21875 62.890625 53.21875 53.421875 \r\nQ 53.21875 48.921875 51.53125 44.890625 \r\nQ 49.859375 40.875 45.40625 35.40625 \r\nQ 44.1875 33.984375 37.640625 27.21875 \r\nQ 31.109375 20.453125 19.1875 8.296875 \r\nz\r\n\" id=\"DejaVuSans-50\"/>\r\n       </defs>\r\n       <use xlink:href=\"#DejaVuSans-50\"/>\r\n      </g>\r\n     </g>\r\n    </g>\r\n    <g id=\"xtick_3\">\r\n     <g id=\"line2d_3\">\r\n      <g>\r\n       <use style=\"stroke:#000000;stroke-width:0.8;\" x=\"180.594034\" xlink:href=\"#m3e21872170\" y=\"224.64\"/>\r\n      </g>\r\n     </g>\r\n     <g id=\"text_3\">\r\n      <!-- 4 -->\r\n      <g transform=\"translate(177.412784 239.238438)scale(0.1 -0.1)\">\r\n       <defs>\r\n        <path d=\"M 37.796875 64.3125 \r\nL 12.890625 25.390625 \r\nL 37.796875 25.390625 \r\nz\r\nM 35.203125 72.90625 \r\nL 47.609375 72.90625 \r\nL 47.609375 25.390625 \r\nL 58.015625 25.390625 \r\nL 58.015625 17.1875 \r\nL 47.609375 17.1875 \r\nL 47.609375 0 \r\nL 37.796875 0 \r\nL 37.796875 17.1875 \r\nL 4.890625 17.1875 \r\nL 4.890625 26.703125 \r\nz\r\n\" id=\"DejaVuSans-52\"/>\r\n       </defs>\r\n       <use xlink:href=\"#DejaVuSans-52\"/>\r\n      </g>\r\n     </g>\r\n    </g>\r\n    <g id=\"xtick_4\">\r\n     <g id=\"line2d_4\">\r\n      <g>\r\n       <use style=\"stroke:#000000;stroke-width:0.8;\" x=\"248.230398\" xlink:href=\"#m3e21872170\" y=\"224.64\"/>\r\n      </g>\r\n     </g>\r\n     <g id=\"text_4\">\r\n      <!-- 6 -->\r\n      <g transform=\"translate(245.049148 239.238438)scale(0.1 -0.1)\">\r\n       <defs>\r\n        <path d=\"M 33.015625 40.375 \r\nQ 26.375 40.375 22.484375 35.828125 \r\nQ 18.609375 31.296875 18.609375 23.390625 \r\nQ 18.609375 15.53125 22.484375 10.953125 \r\nQ 26.375 6.390625 33.015625 6.390625 \r\nQ 39.65625 6.390625 43.53125 10.953125 \r\nQ 47.40625 15.53125 47.40625 23.390625 \r\nQ 47.40625 31.296875 43.53125 35.828125 \r\nQ 39.65625 40.375 33.015625 40.375 \r\nz\r\nM 52.59375 71.296875 \r\nL 52.59375 62.3125 \r\nQ 48.875 64.0625 45.09375 64.984375 \r\nQ 41.3125 65.921875 37.59375 65.921875 \r\nQ 27.828125 65.921875 22.671875 59.328125 \r\nQ 17.53125 52.734375 16.796875 39.40625 \r\nQ 19.671875 43.65625 24.015625 45.921875 \r\nQ 28.375 48.1875 33.59375 48.1875 \r\nQ 44.578125 48.1875 50.953125 41.515625 \r\nQ 57.328125 34.859375 57.328125 23.390625 \r\nQ 57.328125 12.15625 50.6875 5.359375 \r\nQ 44.046875 -1.421875 33.015625 -1.421875 \r\nQ 20.359375 -1.421875 13.671875 8.265625 \r\nQ 6.984375 17.96875 6.984375 36.375 \r\nQ 6.984375 53.65625 15.1875 63.9375 \r\nQ 23.390625 74.21875 37.203125 74.21875 \r\nQ 40.921875 74.21875 44.703125 73.484375 \r\nQ 48.484375 72.75 52.59375 71.296875 \r\nz\r\n\" id=\"DejaVuSans-54\"/>\r\n       </defs>\r\n       <use xlink:href=\"#DejaVuSans-54\"/>\r\n      </g>\r\n     </g>\r\n    </g>\r\n    <g id=\"xtick_5\">\r\n     <g id=\"line2d_5\">\r\n      <g>\r\n       <use style=\"stroke:#000000;stroke-width:0.8;\" x=\"315.866761\" xlink:href=\"#m3e21872170\" y=\"224.64\"/>\r\n      </g>\r\n     </g>\r\n     <g id=\"text_5\">\r\n      <!-- 8 -->\r\n      <g transform=\"translate(312.685511 239.238438)scale(0.1 -0.1)\">\r\n       <defs>\r\n        <path d=\"M 31.78125 34.625 \r\nQ 24.75 34.625 20.71875 30.859375 \r\nQ 16.703125 27.09375 16.703125 20.515625 \r\nQ 16.703125 13.921875 20.71875 10.15625 \r\nQ 24.75 6.390625 31.78125 6.390625 \r\nQ 38.8125 6.390625 42.859375 10.171875 \r\nQ 46.921875 13.96875 46.921875 20.515625 \r\nQ 46.921875 27.09375 42.890625 30.859375 \r\nQ 38.875 34.625 31.78125 34.625 \r\nz\r\nM 21.921875 38.8125 \r\nQ 15.578125 40.375 12.03125 44.71875 \r\nQ 8.5 49.078125 8.5 55.328125 \r\nQ 8.5 64.0625 14.71875 69.140625 \r\nQ 20.953125 74.21875 31.78125 74.21875 \r\nQ 42.671875 74.21875 48.875 69.140625 \r\nQ 55.078125 64.0625 55.078125 55.328125 \r\nQ 55.078125 49.078125 51.53125 44.71875 \r\nQ 48 40.375 41.703125 38.8125 \r\nQ 48.828125 37.15625 52.796875 32.3125 \r\nQ 56.78125 27.484375 56.78125 20.515625 \r\nQ 56.78125 9.90625 50.3125 4.234375 \r\nQ 43.84375 -1.421875 31.78125 -1.421875 \r\nQ 19.734375 -1.421875 13.25 4.234375 \r\nQ 6.78125 9.90625 6.78125 20.515625 \r\nQ 6.78125 27.484375 10.78125 32.3125 \r\nQ 14.796875 37.15625 21.921875 38.8125 \r\nz\r\nM 18.3125 54.390625 \r\nQ 18.3125 48.734375 21.84375 45.5625 \r\nQ 25.390625 42.390625 31.78125 42.390625 \r\nQ 38.140625 42.390625 41.71875 45.5625 \r\nQ 45.3125 48.734375 45.3125 54.390625 \r\nQ 45.3125 60.0625 41.71875 63.234375 \r\nQ 38.140625 66.40625 31.78125 66.40625 \r\nQ 25.390625 66.40625 21.84375 63.234375 \r\nQ 18.3125 60.0625 18.3125 54.390625 \r\nz\r\n\" id=\"DejaVuSans-56\"/>\r\n       </defs>\r\n       <use xlink:href=\"#DejaVuSans-56\"/>\r\n      </g>\r\n     </g>\r\n    </g>\r\n   </g>\r\n   <g id=\"matplotlib.axis_2\">\r\n    <g id=\"ytick_1\">\r\n     <g id=\"line2d_6\">\r\n      <defs>\r\n       <path d=\"M 0 0 \r\nL -3.5 0 \r\n\" id=\"m9137bafc1b\" style=\"stroke:#000000;stroke-width:0.8;\"/>\r\n      </defs>\r\n      <g>\r\n       <use style=\"stroke:#000000;stroke-width:0.8;\" x=\"30.103125\" xlink:href=\"#m9137bafc1b\" y=\"223.870385\"/>\r\n      </g>\r\n     </g>\r\n     <g id=\"text_6\">\r\n      <!-- 4.3 -->\r\n      <g transform=\"translate(7.2 227.669604)scale(0.1 -0.1)\">\r\n       <defs>\r\n        <path d=\"M 10.6875 12.40625 \r\nL 21 12.40625 \r\nL 21 0 \r\nL 10.6875 0 \r\nz\r\n\" id=\"DejaVuSans-46\"/>\r\n        <path d=\"M 40.578125 39.3125 \r\nQ 47.65625 37.796875 51.625 33 \r\nQ 55.609375 28.21875 55.609375 21.1875 \r\nQ 55.609375 10.40625 48.1875 4.484375 \r\nQ 40.765625 -1.421875 27.09375 -1.421875 \r\nQ 22.515625 -1.421875 17.65625 -0.515625 \r\nQ 12.796875 0.390625 7.625 2.203125 \r\nL 7.625 11.71875 \r\nQ 11.71875 9.328125 16.59375 8.109375 \r\nQ 21.484375 6.890625 26.8125 6.890625 \r\nQ 36.078125 6.890625 40.9375 10.546875 \r\nQ 45.796875 14.203125 45.796875 21.1875 \r\nQ 45.796875 27.640625 41.28125 31.265625 \r\nQ 36.765625 34.90625 28.71875 34.90625 \r\nL 20.21875 34.90625 \r\nL 20.21875 43.015625 \r\nL 29.109375 43.015625 \r\nQ 36.375 43.015625 40.234375 45.921875 \r\nQ 44.09375 48.828125 44.09375 54.296875 \r\nQ 44.09375 59.90625 40.109375 62.90625 \r\nQ 36.140625 65.921875 28.71875 65.921875 \r\nQ 24.65625 65.921875 20.015625 65.03125 \r\nQ 15.375 64.15625 9.8125 62.3125 \r\nL 9.8125 71.09375 \r\nQ 15.4375 72.65625 20.34375 73.4375 \r\nQ 25.25 74.21875 29.59375 74.21875 \r\nQ 40.828125 74.21875 47.359375 69.109375 \r\nQ 53.90625 64.015625 53.90625 55.328125 \r\nQ 53.90625 49.265625 50.4375 45.09375 \r\nQ 46.96875 40.921875 40.578125 39.3125 \r\nz\r\n\" id=\"DejaVuSans-51\"/>\r\n       </defs>\r\n       <use xlink:href=\"#DejaVuSans-52\"/>\r\n       <use x=\"63.623047\" xlink:href=\"#DejaVuSans-46\"/>\r\n       <use x=\"95.410156\" xlink:href=\"#DejaVuSans-51\"/>\r\n      </g>\r\n     </g>\r\n    </g>\r\n    <g id=\"ytick_2\">\r\n     <g id=\"line2d_7\">\r\n      <g>\r\n       <use style=\"stroke:#000000;stroke-width:0.8;\" x=\"30.103125\" xlink:href=\"#m9137bafc1b\" y=\"192.915563\"/>\r\n      </g>\r\n     </g>\r\n     <g id=\"text_7\">\r\n      <!-- 4.4 -->\r\n      <g transform=\"translate(7.2 196.714782)scale(0.1 -0.1)\">\r\n       <use xlink:href=\"#DejaVuSans-52\"/>\r\n       <use x=\"63.623047\" xlink:href=\"#DejaVuSans-46\"/>\r\n       <use x=\"95.410156\" xlink:href=\"#DejaVuSans-52\"/>\r\n      </g>\r\n     </g>\r\n    </g>\r\n    <g id=\"ytick_3\">\r\n     <g id=\"line2d_8\">\r\n      <g>\r\n       <use style=\"stroke:#000000;stroke-width:0.8;\" x=\"30.103125\" xlink:href=\"#m9137bafc1b\" y=\"161.960742\"/>\r\n      </g>\r\n     </g>\r\n     <g id=\"text_8\">\r\n      <!-- 4.5 -->\r\n      <g transform=\"translate(7.2 165.759961)scale(0.1 -0.1)\">\r\n       <defs>\r\n        <path d=\"M 10.796875 72.90625 \r\nL 49.515625 72.90625 \r\nL 49.515625 64.59375 \r\nL 19.828125 64.59375 \r\nL 19.828125 46.734375 \r\nQ 21.96875 47.46875 24.109375 47.828125 \r\nQ 26.265625 48.1875 28.421875 48.1875 \r\nQ 40.625 48.1875 47.75 41.5 \r\nQ 54.890625 34.8125 54.890625 23.390625 \r\nQ 54.890625 11.625 47.5625 5.09375 \r\nQ 40.234375 -1.421875 26.90625 -1.421875 \r\nQ 22.3125 -1.421875 17.546875 -0.640625 \r\nQ 12.796875 0.140625 7.71875 1.703125 \r\nL 7.71875 11.625 \r\nQ 12.109375 9.234375 16.796875 8.0625 \r\nQ 21.484375 6.890625 26.703125 6.890625 \r\nQ 35.15625 6.890625 40.078125 11.328125 \r\nQ 45.015625 15.765625 45.015625 23.390625 \r\nQ 45.015625 31 40.078125 35.4375 \r\nQ 35.15625 39.890625 26.703125 39.890625 \r\nQ 22.75 39.890625 18.8125 39.015625 \r\nQ 14.890625 38.140625 10.796875 36.28125 \r\nz\r\n\" id=\"DejaVuSans-53\"/>\r\n       </defs>\r\n       <use xlink:href=\"#DejaVuSans-52\"/>\r\n       <use x=\"63.623047\" xlink:href=\"#DejaVuSans-46\"/>\r\n       <use x=\"95.410156\" xlink:href=\"#DejaVuSans-53\"/>\r\n      </g>\r\n     </g>\r\n    </g>\r\n    <g id=\"ytick_4\">\r\n     <g id=\"line2d_9\">\r\n      <g>\r\n       <use style=\"stroke:#000000;stroke-width:0.8;\" x=\"30.103125\" xlink:href=\"#m9137bafc1b\" y=\"131.00592\"/>\r\n      </g>\r\n     </g>\r\n     <g id=\"text_9\">\r\n      <!-- 4.6 -->\r\n      <g transform=\"translate(7.2 134.805139)scale(0.1 -0.1)\">\r\n       <use xlink:href=\"#DejaVuSans-52\"/>\r\n       <use x=\"63.623047\" xlink:href=\"#DejaVuSans-46\"/>\r\n       <use x=\"95.410156\" xlink:href=\"#DejaVuSans-54\"/>\r\n      </g>\r\n     </g>\r\n    </g>\r\n    <g id=\"ytick_5\">\r\n     <g id=\"line2d_10\">\r\n      <g>\r\n       <use style=\"stroke:#000000;stroke-width:0.8;\" x=\"30.103125\" xlink:href=\"#m9137bafc1b\" y=\"100.051099\"/>\r\n      </g>\r\n     </g>\r\n     <g id=\"text_10\">\r\n      <!-- 4.7 -->\r\n      <g transform=\"translate(7.2 103.850318)scale(0.1 -0.1)\">\r\n       <defs>\r\n        <path d=\"M 8.203125 72.90625 \r\nL 55.078125 72.90625 \r\nL 55.078125 68.703125 \r\nL 28.609375 0 \r\nL 18.3125 0 \r\nL 43.21875 64.59375 \r\nL 8.203125 64.59375 \r\nz\r\n\" id=\"DejaVuSans-55\"/>\r\n       </defs>\r\n       <use xlink:href=\"#DejaVuSans-52\"/>\r\n       <use x=\"63.623047\" xlink:href=\"#DejaVuSans-46\"/>\r\n       <use x=\"95.410156\" xlink:href=\"#DejaVuSans-55\"/>\r\n      </g>\r\n     </g>\r\n    </g>\r\n    <g id=\"ytick_6\">\r\n     <g id=\"line2d_11\">\r\n      <g>\r\n       <use style=\"stroke:#000000;stroke-width:0.8;\" x=\"30.103125\" xlink:href=\"#m9137bafc1b\" y=\"69.096277\"/>\r\n      </g>\r\n     </g>\r\n     <g id=\"text_11\">\r\n      <!-- 4.8 -->\r\n      <g transform=\"translate(7.2 72.895496)scale(0.1 -0.1)\">\r\n       <use xlink:href=\"#DejaVuSans-52\"/>\r\n       <use x=\"63.623047\" xlink:href=\"#DejaVuSans-46\"/>\r\n       <use x=\"95.410156\" xlink:href=\"#DejaVuSans-56\"/>\r\n      </g>\r\n     </g>\r\n    </g>\r\n    <g id=\"ytick_7\">\r\n     <g id=\"line2d_12\">\r\n      <g>\r\n       <use style=\"stroke:#000000;stroke-width:0.8;\" x=\"30.103125\" xlink:href=\"#m9137bafc1b\" y=\"38.141456\"/>\r\n      </g>\r\n     </g>\r\n     <g id=\"text_12\">\r\n      <!-- 4.9 -->\r\n      <g transform=\"translate(7.2 41.940675)scale(0.1 -0.1)\">\r\n       <defs>\r\n        <path d=\"M 10.984375 1.515625 \r\nL 10.984375 10.5 \r\nQ 14.703125 8.734375 18.5 7.8125 \r\nQ 22.3125 6.890625 25.984375 6.890625 \r\nQ 35.75 6.890625 40.890625 13.453125 \r\nQ 46.046875 20.015625 46.78125 33.40625 \r\nQ 43.953125 29.203125 39.59375 26.953125 \r\nQ 35.25 24.703125 29.984375 24.703125 \r\nQ 19.046875 24.703125 12.671875 31.3125 \r\nQ 6.296875 37.9375 6.296875 49.421875 \r\nQ 6.296875 60.640625 12.9375 67.421875 \r\nQ 19.578125 74.21875 30.609375 74.21875 \r\nQ 43.265625 74.21875 49.921875 64.515625 \r\nQ 56.59375 54.828125 56.59375 36.375 \r\nQ 56.59375 19.140625 48.40625 8.859375 \r\nQ 40.234375 -1.421875 26.421875 -1.421875 \r\nQ 22.703125 -1.421875 18.890625 -0.6875 \r\nQ 15.09375 0.046875 10.984375 1.515625 \r\nz\r\nM 30.609375 32.421875 \r\nQ 37.25 32.421875 41.125 36.953125 \r\nQ 45.015625 41.5 45.015625 49.421875 \r\nQ 45.015625 57.28125 41.125 61.84375 \r\nQ 37.25 66.40625 30.609375 66.40625 \r\nQ 23.96875 66.40625 20.09375 61.84375 \r\nQ 16.21875 57.28125 16.21875 49.421875 \r\nQ 16.21875 41.5 20.09375 36.953125 \r\nQ 23.96875 32.421875 30.609375 32.421875 \r\nz\r\n\" id=\"DejaVuSans-57\"/>\r\n       </defs>\r\n       <use xlink:href=\"#DejaVuSans-52\"/>\r\n       <use x=\"63.623047\" xlink:href=\"#DejaVuSans-46\"/>\r\n       <use x=\"95.410156\" xlink:href=\"#DejaVuSans-57\"/>\r\n      </g>\r\n     </g>\r\n    </g>\r\n   </g>\r\n   <g id=\"line2d_13\">\r\n    <path clip-path=\"url(#p6653520e1d)\" d=\"M 45.321307 17.083636 \r\nL 79.139489 82.577638 \r\nL 112.95767 109.673321 \r\nL 146.775852 132.994325 \r\nL 180.594034 154.009752 \r\nL 214.412216 171.069095 \r\nL 248.230398 183.678617 \r\nL 282.04858 196.4877 \r\nL 315.866761 207.120361 \r\nL 349.684943 214.756364 \r\n\" style=\"fill:none;stroke:#1f77b4;stroke-linecap:square;stroke-width:1.5;\"/>\r\n   </g>\r\n   <g id=\"line2d_14\">\r\n    <path clip-path=\"url(#p6653520e1d)\" d=\"M 45.321307 103.002649 \r\nL 79.139489 119.674089 \r\nL 112.95767 144.370172 \r\nL 146.775852 159.680554 \r\nL 180.594034 169.96605 \r\nL 214.412216 175.212194 \r\nL 248.230398 177.801023 \r\nL 282.04858 182.743693 \r\nL 315.866761 180.785872 \r\nL 349.684943 180.550887 \r\n\" style=\"fill:none;stroke:#ff7f0e;stroke-linecap:square;stroke-width:1.5;\"/>\r\n   </g>\r\n   <g id=\"patch_3\">\r\n    <path d=\"M 30.103125 224.64 \r\nL 30.103125 7.2 \r\n\" style=\"fill:none;stroke:#000000;stroke-linecap:square;stroke-linejoin:miter;stroke-width:0.8;\"/>\r\n   </g>\r\n   <g id=\"patch_4\">\r\n    <path d=\"M 364.903125 224.64 \r\nL 364.903125 7.2 \r\n\" style=\"fill:none;stroke:#000000;stroke-linecap:square;stroke-linejoin:miter;stroke-width:0.8;\"/>\r\n   </g>\r\n   <g id=\"patch_5\">\r\n    <path d=\"M 30.103125 224.64 \r\nL 364.903125 224.64 \r\n\" style=\"fill:none;stroke:#000000;stroke-linecap:square;stroke-linejoin:miter;stroke-width:0.8;\"/>\r\n   </g>\r\n   <g id=\"patch_6\">\r\n    <path d=\"M 30.103125 7.2 \r\nL 364.903125 7.2 \r\n\" style=\"fill:none;stroke:#000000;stroke-linecap:square;stroke-linejoin:miter;stroke-width:0.8;\"/>\r\n   </g>\r\n   <g id=\"legend_1\">\r\n    <g id=\"patch_7\">\r\n     <path d=\"M 302.628125 44.55625 \r\nL 357.903125 44.55625 \r\nQ 359.903125 44.55625 359.903125 42.55625 \r\nL 359.903125 14.2 \r\nQ 359.903125 12.2 357.903125 12.2 \r\nL 302.628125 12.2 \r\nQ 300.628125 12.2 300.628125 14.2 \r\nL 300.628125 42.55625 \r\nQ 300.628125 44.55625 302.628125 44.55625 \r\nz\r\n\" style=\"fill:#ffffff;opacity:0.8;stroke:#cccccc;stroke-linejoin:miter;\"/>\r\n    </g>\r\n    <g id=\"line2d_15\">\r\n     <path d=\"M 304.628125 20.298438 \r\nL 324.628125 20.298438 \r\n\" style=\"fill:none;stroke:#1f77b4;stroke-linecap:square;stroke-width:1.5;\"/>\r\n    </g>\r\n    <g id=\"line2d_16\"/>\r\n    <g id=\"text_13\">\r\n     <!-- train -->\r\n     <g transform=\"translate(332.628125 23.798438)scale(0.1 -0.1)\">\r\n      <defs>\r\n       <path d=\"M 18.3125 70.21875 \r\nL 18.3125 54.6875 \r\nL 36.8125 54.6875 \r\nL 36.8125 47.703125 \r\nL 18.3125 47.703125 \r\nL 18.3125 18.015625 \r\nQ 18.3125 11.328125 20.140625 9.421875 \r\nQ 21.96875 7.515625 27.59375 7.515625 \r\nL 36.8125 7.515625 \r\nL 36.8125 0 \r\nL 27.59375 0 \r\nQ 17.1875 0 13.234375 3.875 \r\nQ 9.28125 7.765625 9.28125 18.015625 \r\nL 9.28125 47.703125 \r\nL 2.6875 47.703125 \r\nL 2.6875 54.6875 \r\nL 9.28125 54.6875 \r\nL 9.28125 70.21875 \r\nz\r\n\" id=\"DejaVuSans-116\"/>\r\n       <path d=\"M 41.109375 46.296875 \r\nQ 39.59375 47.171875 37.8125 47.578125 \r\nQ 36.03125 48 33.890625 48 \r\nQ 26.265625 48 22.1875 43.046875 \r\nQ 18.109375 38.09375 18.109375 28.8125 \r\nL 18.109375 0 \r\nL 9.078125 0 \r\nL 9.078125 54.6875 \r\nL 18.109375 54.6875 \r\nL 18.109375 46.1875 \r\nQ 20.953125 51.171875 25.484375 53.578125 \r\nQ 30.03125 56 36.53125 56 \r\nQ 37.453125 56 38.578125 55.875 \r\nQ 39.703125 55.765625 41.0625 55.515625 \r\nz\r\n\" id=\"DejaVuSans-114\"/>\r\n       <path d=\"M 34.28125 27.484375 \r\nQ 23.390625 27.484375 19.1875 25 \r\nQ 14.984375 22.515625 14.984375 16.5 \r\nQ 14.984375 11.71875 18.140625 8.90625 \r\nQ 21.296875 6.109375 26.703125 6.109375 \r\nQ 34.1875 6.109375 38.703125 11.40625 \r\nQ 43.21875 16.703125 43.21875 25.484375 \r\nL 43.21875 27.484375 \r\nz\r\nM 52.203125 31.203125 \r\nL 52.203125 0 \r\nL 43.21875 0 \r\nL 43.21875 8.296875 \r\nQ 40.140625 3.328125 35.546875 0.953125 \r\nQ 30.953125 -1.421875 24.3125 -1.421875 \r\nQ 15.921875 -1.421875 10.953125 3.296875 \r\nQ 6 8.015625 6 15.921875 \r\nQ 6 25.140625 12.171875 29.828125 \r\nQ 18.359375 34.515625 30.609375 34.515625 \r\nL 43.21875 34.515625 \r\nL 43.21875 35.40625 \r\nQ 43.21875 41.609375 39.140625 45 \r\nQ 35.0625 48.390625 27.6875 48.390625 \r\nQ 23 48.390625 18.546875 47.265625 \r\nQ 14.109375 46.140625 10.015625 43.890625 \r\nL 10.015625 52.203125 \r\nQ 14.9375 54.109375 19.578125 55.046875 \r\nQ 24.21875 56 28.609375 56 \r\nQ 40.484375 56 46.34375 49.84375 \r\nQ 52.203125 43.703125 52.203125 31.203125 \r\nz\r\n\" id=\"DejaVuSans-97\"/>\r\n       <path d=\"M 9.421875 54.6875 \r\nL 18.40625 54.6875 \r\nL 18.40625 0 \r\nL 9.421875 0 \r\nz\r\nM 9.421875 75.984375 \r\nL 18.40625 75.984375 \r\nL 18.40625 64.59375 \r\nL 9.421875 64.59375 \r\nz\r\n\" id=\"DejaVuSans-105\"/>\r\n       <path d=\"M 54.890625 33.015625 \r\nL 54.890625 0 \r\nL 45.90625 0 \r\nL 45.90625 32.71875 \r\nQ 45.90625 40.484375 42.875 44.328125 \r\nQ 39.84375 48.1875 33.796875 48.1875 \r\nQ 26.515625 48.1875 22.3125 43.546875 \r\nQ 18.109375 38.921875 18.109375 30.90625 \r\nL 18.109375 0 \r\nL 9.078125 0 \r\nL 9.078125 54.6875 \r\nL 18.109375 54.6875 \r\nL 18.109375 46.1875 \r\nQ 21.34375 51.125 25.703125 53.5625 \r\nQ 30.078125 56 35.796875 56 \r\nQ 45.21875 56 50.046875 50.171875 \r\nQ 54.890625 44.34375 54.890625 33.015625 \r\nz\r\n\" id=\"DejaVuSans-110\"/>\r\n      </defs>\r\n      <use xlink:href=\"#DejaVuSans-116\"/>\r\n      <use x=\"39.208984\" xlink:href=\"#DejaVuSans-114\"/>\r\n      <use x=\"80.322266\" xlink:href=\"#DejaVuSans-97\"/>\r\n      <use x=\"141.601562\" xlink:href=\"#DejaVuSans-105\"/>\r\n      <use x=\"169.384766\" xlink:href=\"#DejaVuSans-110\"/>\r\n     </g>\r\n    </g>\r\n    <g id=\"line2d_17\">\r\n     <path d=\"M 304.628125 34.976562 \r\nL 324.628125 34.976562 \r\n\" style=\"fill:none;stroke:#ff7f0e;stroke-linecap:square;stroke-width:1.5;\"/>\r\n    </g>\r\n    <g id=\"line2d_18\"/>\r\n    <g id=\"text_14\">\r\n     <!-- test -->\r\n     <g transform=\"translate(332.628125 38.476562)scale(0.1 -0.1)\">\r\n      <defs>\r\n       <path d=\"M 56.203125 29.59375 \r\nL 56.203125 25.203125 \r\nL 14.890625 25.203125 \r\nQ 15.484375 15.921875 20.484375 11.0625 \r\nQ 25.484375 6.203125 34.421875 6.203125 \r\nQ 39.59375 6.203125 44.453125 7.46875 \r\nQ 49.3125 8.734375 54.109375 11.28125 \r\nL 54.109375 2.78125 \r\nQ 49.265625 0.734375 44.1875 -0.34375 \r\nQ 39.109375 -1.421875 33.890625 -1.421875 \r\nQ 20.796875 -1.421875 13.15625 6.1875 \r\nQ 5.515625 13.8125 5.515625 26.8125 \r\nQ 5.515625 40.234375 12.765625 48.109375 \r\nQ 20.015625 56 32.328125 56 \r\nQ 43.359375 56 49.78125 48.890625 \r\nQ 56.203125 41.796875 56.203125 29.59375 \r\nz\r\nM 47.21875 32.234375 \r\nQ 47.125 39.59375 43.09375 43.984375 \r\nQ 39.0625 48.390625 32.421875 48.390625 \r\nQ 24.90625 48.390625 20.390625 44.140625 \r\nQ 15.875 39.890625 15.1875 32.171875 \r\nz\r\n\" id=\"DejaVuSans-101\"/>\r\n       <path d=\"M 44.28125 53.078125 \r\nL 44.28125 44.578125 \r\nQ 40.484375 46.53125 36.375 47.5 \r\nQ 32.28125 48.484375 27.875 48.484375 \r\nQ 21.1875 48.484375 17.84375 46.4375 \r\nQ 14.5 44.390625 14.5 40.28125 \r\nQ 14.5 37.15625 16.890625 35.375 \r\nQ 19.28125 33.59375 26.515625 31.984375 \r\nL 29.59375 31.296875 \r\nQ 39.15625 29.25 43.1875 25.515625 \r\nQ 47.21875 21.78125 47.21875 15.09375 \r\nQ 47.21875 7.46875 41.1875 3.015625 \r\nQ 35.15625 -1.421875 24.609375 -1.421875 \r\nQ 20.21875 -1.421875 15.453125 -0.5625 \r\nQ 10.6875 0.296875 5.421875 2 \r\nL 5.421875 11.28125 \r\nQ 10.40625 8.6875 15.234375 7.390625 \r\nQ 20.0625 6.109375 24.8125 6.109375 \r\nQ 31.15625 6.109375 34.5625 8.28125 \r\nQ 37.984375 10.453125 37.984375 14.40625 \r\nQ 37.984375 18.0625 35.515625 20.015625 \r\nQ 33.0625 21.96875 24.703125 23.78125 \r\nL 21.578125 24.515625 \r\nQ 13.234375 26.265625 9.515625 29.90625 \r\nQ 5.8125 33.546875 5.8125 39.890625 \r\nQ 5.8125 47.609375 11.28125 51.796875 \r\nQ 16.75 56 26.8125 56 \r\nQ 31.78125 56 36.171875 55.265625 \r\nQ 40.578125 54.546875 44.28125 53.078125 \r\nz\r\n\" id=\"DejaVuSans-115\"/>\r\n      </defs>\r\n      <use xlink:href=\"#DejaVuSans-116\"/>\r\n      <use x=\"39.208984\" xlink:href=\"#DejaVuSans-101\"/>\r\n      <use x=\"100.732422\" xlink:href=\"#DejaVuSans-115\"/>\r\n      <use x=\"152.832031\" xlink:href=\"#DejaVuSans-116\"/>\r\n     </g>\r\n    </g>\r\n   </g>\r\n  </g>\r\n </g>\r\n <defs>\r\n  <clipPath id=\"p6653520e1d\">\r\n   <rect height=\"217.44\" width=\"334.8\" x=\"30.103125\" y=\"7.2\"/>\r\n  </clipPath>\r\n </defs>\r\n</svg>\r\n",
      "image/png": "[encoded data removed]"
     },
     "metadata": {
      "needs_background": "light"
     }
    }
   ],
   "source": [
    "from matplotlib import pyplot\n",
    "pyplot.plot(history.history['loss'], label='train')\n",
    "pyplot.plot(history.history['val_loss'], label='test')\n",
    "pyplot.legend()"
   ]
  },
  {
   "source": [
    "# Inference"
   ],
   "cell_type": "markdown",
   "metadata": {}
  },
  {
   "cell_type": "code",
   "execution_count": 9,
   "metadata": {},
   "outputs": [],
   "source": [
    "model.load_weights(\"weights.h5\")"
   ]
  },
  {
   "cell_type": "code",
   "execution_count": 10,
   "metadata": {},
   "outputs": [],
   "source": [
    "reverse_target_word_index=y_tokenizer.index_word\n",
    "reverse_source_word_index=x_tokenizer.index_word\n",
    "target_word_index=y_tokenizer.word_index"
   ]
  },
  {
   "cell_type": "code",
   "execution_count": 11,
   "metadata": {},
   "outputs": [],
   "source": [
    "# Encode the input sequence to get the feature vector\n",
    "encoder_model = Model(inputs=encoder_inputs,outputs=[encoder_outputs, state_h, state_c])\n",
    "\n",
    "# Decoder setup\n",
    "# Below tensors will hold the states of the previous time step\n",
    "decoder_state_input_h = Input(shape=(latent_dim,))\n",
    "decoder_state_input_c = Input(shape=(latent_dim,))\n",
    "decoder_hidden_state_input = Input(shape=(max_text_len,latent_dim))\n",
    "\n",
    "# Get the embeddings of the decoder sequence\n",
    "dec_emb2= dec_emb_layer(decoder_inputs) \n",
    "# To predict the next word in the sequence, set the initial states to the states from the previous time step\n",
    "decoder_outputs2, state_h2, state_c2 = decoder_lstm(dec_emb2, initial_state=[decoder_state_input_h, decoder_state_input_c])\n",
    "\n",
    "#attention inference\n",
    "attn_out_inf, attn_states_inf = attn_layer([decoder_hidden_state_input, decoder_outputs2])\n",
    "decoder_inf_concat = Concatenate(axis=-1, name='concat')([decoder_outputs2, attn_out_inf])\n",
    "\n",
    "# A dense softmax layer to generate prob dist. over the target vocabulary\n",
    "decoder_outputs2 = decoder_dense(decoder_inf_concat) \n",
    "\n",
    "# Final decoder model\n",
    "decoder_model = Model(\n",
    "    [decoder_inputs] + [decoder_hidden_state_input,decoder_state_input_h, decoder_state_input_c],\n",
    "    [decoder_outputs2] + [state_h2, state_c2])"
   ]
  },
  {
   "cell_type": "code",
   "execution_count": 12,
   "metadata": {},
   "outputs": [],
   "source": [
    "def decode_sequence(input_seq):\n",
    "    # Encode the input as state vectors.\n",
    "    e_out, e_h, e_c = encoder_model.predict(input_seq)\n",
    "    \n",
    "    # Generate empty target sequence of length 1.\n",
    "    target_seq = np.zeros((1,1))\n",
    "    \n",
    "    # Populate the first word of target sequence with the start word.\n",
    "    target_seq[0, 0] = target_word_index['starttoken']\n",
    "\n",
    "    stop_condition = False\n",
    "    decoded_sentence = ''\n",
    "    while not stop_condition:\n",
    "      \n",
    "        output_tokens, h, c = decoder_model.predict([target_seq] + [e_out, e_h, e_c])\n",
    "\n",
    "        # Sample a token\n",
    "        sampled_token_index = np.argmax(output_tokens[0, -1, :])\n",
    "        sampled_token = reverse_target_word_index[sampled_token_index]\n",
    "        \n",
    "        if(sampled_token!='endtoken'):\n",
    "            decoded_sentence += ' '+sampled_token\n",
    "\n",
    "        # Exit condition: either hit max length or find stop word.\n",
    "        if (sampled_token == 'endtoken'  or len(decoded_sentence.split()) >= (max_summary_len-1)):\n",
    "            stop_condition = True\n",
    "\n",
    "        # Update the target sequence (of length 1).\n",
    "        target_seq = np.zeros((1,1))\n",
    "        target_seq[0, 0] = sampled_token_index\n",
    "\n",
    "        # Update internal states\n",
    "        e_h, e_c = h, c\n",
    "\n",
    "    return decoded_sentence"
   ]
  },
  {
   "cell_type": "code",
   "execution_count": 13,
   "metadata": {},
   "outputs": [],
   "source": [
    "def seq2summary(input_seq):\n",
    "    newString=''\n",
    "    for i in input_seq:\n",
    "        if((i!=0 and i!=target_word_index['starttoken']) and i!=target_word_index['endtoken']):\n",
    "            newString=newString+reverse_target_word_index[i]+' '\n",
    "    return newString\n",
    "\n",
    "def seq2text(input_seq):\n",
    "    newString=''\n",
    "    for i in input_seq:\n",
    "        if(i!=0):\n",
    "            newString=newString+reverse_source_word_index[i]+' '\n",
    "    return newString"
   ]
  },
  {
   "cell_type": "code",
   "execution_count": 14,
   "metadata": {},
   "outputs": [
    {
     "output_type": "stream",
     "name": "stdout",
     "text": [
      "Review: man hated britain story accompanied website picture later removed miliband senior burial plot captioned grave socialist mail certainly commercially successful one papers still selling good numbers visited newspaper website world many people public life along campaigners protested outside mail offices west london view mail group worst standards public life something argued many years one two people though far fewer supported attacks feel gone top describing editor chief paul dacre biggest poison british public life bully hypocrite coward even defend actions public things even ludicrous attempts get minions tv justifying attack miliband dead father claimed labour leader wants state control press politicians decide goes newspapers opposite miliband said leveson inquiry editors furious dacre tactical fearing one possible consequence mail vicious attack miliband may bring tougher regulation britain press fact think politicians sufficient commitment freedom press allow vicious row sidetrack seeking implement kind system press public support clear cannot bellowing voice dacre papers setting agenda last spoke dacre last century realised point even trying reasonable rational debate deputy prime minister nick clegg pointed last week labour dacre hates hates anyone anything fit narrow twisted view sociopathic view world forefathers daily mail owner jonathan supported adolf hitler congratulated nazi leader annexation czechoslovakia today mail says irrelevant yet basis wrote piece headlined man hated britain something miliband dad wrote diary yet one rule another everyone else like complained wednesday tv reporters staff irony justice sunday also alleged paper owned shore funds based tax havens much backing britain mail sunday forced issue apology gate crashing private memorial event ed miliband uncle week editor said totally odds values practices paper contrary totally consistent operated like years dacre career reputation ending always knew basic british decency would ensure would gutter dragged british journalism paul dacre daily mail replied cnn request comment opinions expressed commentary solely alastair campbell \n",
      "Original summary: says mail worst standards public life \n",
      "Predicted summary:  says mother must make\n",
      "\n",
      "\n",
      "Review: governor spokesman attack high profile attack pretty significant suicide vehicle bomb gen john allen commander coalition forces afghanistan told cnn suzanne malveaux sunday taliban claimed responsibility assault nato international security assistance force confirmed attack carried taliban suicide bomber allen said attack indicates much taliban unable able ejected population many places around country ability influence battlefield many occasions simply go high profile attack view particular attack said shahid said three people died nato said two nato also said personnel injured provincial government said people injured uncommon local government nato varying accounts attack attacker driving truck carrying firewood detonated explosives entry point base isaf said statement force explosion absorbed protective barrier outpost entrance though significant number injuries none immediately life threatening statement said video issued isaf saturday allen spoke anniversary long war saying still much work done fight taliban militants prevail also praised troops nations serving isaf coalition protracted war began month al qaeda terror network sheltered time ruling taliban militants attacked united states september led forces kicked operation enduring freedom october ousted taliban coalition afghan troops fighting tenacious taliban militants afghan pakistani region allen noted september marks th anniversary event changed world ever since day said troops crippled insurgents honored victims terrorism worldwide said coalition committed making sure afghanistan never safe al qaeda helped afghan people build nation democratic government ever strengthening security force said saying afghanistan made advances security economic development governance coalition death toll war nearing according cnn count united states sustaining casualties operation enduring freedom august deadliest month forces afghanistan since conflict began seventy one american troops died august topping july troops died according cnn tally surge deaths comes nato drawing handing security control national forces troops scheduled depart year end military personnel afghanistan end cnn joe sterling adam levine matiullah mati claudia dominguez tom evans contributed report \n",
      "Original summary: ability influence battlefield often go high profile attack says \n",
      "Predicted summary:  new taliban says taliban\n",
      "\n",
      "\n",
      "Review: former gunsmoke actor james arness played marshal matt dillon western tv series years died friday natural causes according website two decades gunsmoke episodes arness worked hundreds actors comers harrison ford burt reynolds charles also worked bette davis arness left behind letter fans posted website death wonderful life blessed many loving people great friends best part life family especially wife janet many met dodge city understand special person arness wrote wanted take time thank many years fan gunsmoke thing west fun projects lucky enough allowed part privilege working many great actors years ew arness greatest tv western lawman honored served army country anzio wwii makes realize precious life arness wrote thank many letters cards emails gifts received years always truly appreciated concluded born minneapolis minnesota may arness later served army sent anzio italian beach army said setting largest violent armed conflict history mankind arness wounded right leg received purple heart according army website four months anzio campaign allied vi corps experienced combat casualties noncombat casualties german combat losses estimated according army arness acting debut movie called farmer daughter opposite loretta young worked john wayne film production company made movies wayne including islands sky hondo sea chase big jim mclain arness also acted sci fi classic thing foot height made creature believable according website gunsmoke arness continued acting television mini series west mclain law addition wife arness survived two sons six grandchildren services private \n",
      "Original summary: world war ii hero received purple heart \n",
      "Predicted summary:  actor says actor movie\n",
      "\n",
      "\n",
      "Review: sprint last weekend reported ambiguous non confirmation non denial memo sent mobile employees ceo philip given nature wireless networks current business landscape mobile probably needs make kind major move hopes survive form big picture takes lot capital build high speed wireless broadband networks support ever growing number data hungry devices smartphones tablets especially streaming mobile video becomes popular obama administration serious national wireless initiative make wireless broadband available population carriers largest customer base especially customers locked pricey two year contracts best financial position build g networks networks turn makes largest carriers even likely attract even customers economic dynamic could turn wireless market verizon duopoly discount carriers surviving fringes mobile users wireless market consolidation good news bad news situation offers promise ubiquitous high speed wireless broadband networks available markets outside major metro areas would lessen geographic aspect mobile digital divide wireless broadband available region mean everyone afford use less competitive wireless market could mean wireless broadband get much cheaper could even get costly especially tiered data plans become norm would make sense carriers less competitive environment would bad news income class front mobile digital divide lately mobile taking bit beating market bloomberg noted mobile lost customers accelerated rate trailed rivals building third generation mobile network missed able sell apple iphone customers abandoned mobile usa last year sprint verizon wireless boosted counts consequently may pleased sprint may willing offer mobile knows merger happen furthermore mobile sprint merger might difficult technical reasons wireless week noted mobile currently markets hspa network g lacks bandwidth deploy lte sprint mobile use different network technology operate different spectrum bands would complicate possible merger companies wireless services mobile hopes survive intact need access much bandwidth locations sprint merger happen mobile options mainly leasing additional spectrum access providers networks wholesale wireless lte network opinions expressed post solely amy gahran \n",
      "Original summary: customers abandoned mobile usa last year \n",
      "Predicted summary:  google apple apple apple apple\n",
      "\n",
      "\n",
      "Review: five men el salvador including police officer arrested wednesday connection killing last week french filmmaker photographer christian poveda country attorney general office said two five men arrested wednesday connection killing french filmmaker christian poveda sixth man allegedly ordered murder already prison according statement agency poveda recently finished documentary violent street gang part mara gang el salvador found shot dead town miles northeast capital san salvador september authorities said four arrested members mara gang subject poveda film attorney general office said national civil police officer juan napoleon espinoza also arrested said poveda documentary la vida follows lives members mara gang screened handful film festivals slated wider release later month body found area controlled gang local reports said \n",
      "Original summary: men el salvador arrested killing french filmmaker christian \n",
      "Predicted summary:  police arrested three people killed charged murder\n",
      "\n",
      "\n",
      "Review: fifth one high school model women interested national political office wait run kids grown former alaska gov sarah palin opened door idea young mom could run white house even voters fans palin political views became new face women arena someone knee deep details child rearing well policymaking vote counting vision resonated mothers america working mothers juggling careers families growing list female contenders whose work life balance stories resonate female voters also trying find right mix working hours support families time home kids one name remember kirsten gillibrand democratic senator new york firmly ensconced political career also mother two sons ages gillibrand least one short list potential democratic candidates white house launch recent bipartisan sidelines project encourage women run office well online book club certainly looks like laying social media groundwork something four years republican women got year old cathy mcmorris rodgers representative washington know name probably recognize face usually one standing behind speaker house john boehner news conferences mcmorris mother year old daughter year old son wields plenty political power influence highest ranking republican woman congress major voice issues make vote two high profile political mothers easily naturally manage washington power game children homework play dates soccer schedules political women embrace electoral leadership parenting young children becoming much common others include rep debbie wasserman schultz florida also head democratic national committee republican south carolina gov nikki haley gop sen kelly ayotte new hampshire new generation political women bring office set life experiences inform national policy issues new way would able discussions paid family leave paid sick time paid maternity leave viewed lens commander chief would real time experience means leave work pick sick child plenty moms choose increasing powerful national leadership roles many female voters choreograph work life balance dance woman knows struggle firsthand might kind candidate elected oval office \n",
      "Original summary: mother day think idea woman white house \n",
      "Predicted summary:  says women women take women\n",
      "\n",
      "\n",
      "Review: said dispatchers identified robinson according audio obtained wkow little later dispatcher says apparently tony hit one friends um weapons seen four minutes later dispatcher says got another call suspect address tried strangle another patron seconds later unidentified officer says shots fired shots fired kenny went apartment heard commotion forced way koval said inside home subject involved incident one allegedly traffic battered someone assaulted officer koval said according chief officer draw revolver subsequently shot subject backup officers others scene performed cpr young man later died hospital kenny suffered blow head treated released koval said kenny placed administrative leave pay koval said sure robinson house first place relationship home unclear although certainly familiar acquaintances random place hung statement saturday state attorney general brad said imagine heartbreak robinson parents added concerned officer imagine experiencing great trauma well thoughts prayers said wisconsin law officer involved shootings investigated outside agency case division criminal investigation completes investigation report go local district attorney koval said demanding answers sooner rather later friday night dozens demonstrators came area around apartment police blocked group also moved toward city hall dispersing early saturday trust called prompting response one another refrain chanted black lives matter protesters sentiments echoed online adopted hashtag reference williamson street shooting happened praying madison tonight wrote one activist stand sit walk get answers hashtag eulogies mayor paul spoke raw feelings calling happened enormous tragedy got family really hurting said according wkow got city neighborhood feeling pretty well hurt protesters members young gifted black coalition formed last summer michael brown shooting ferguson group wants reactive policing african american neighborhoods said group member grayson said madison police park street corners african american neighborhoods wait something happen leads residents happen white neighborhoods said said young gifted black working church groups sunday hold rallies tuesday wednesday cnn faith kristina sgueglia contributed report \n",
      "Original summary: officer involved fatal shooting duty chief says \n",
      "Predicted summary:  police say man killed people killed home\n",
      "\n",
      "\n",
      "Review: head hezbollah created oppose israel occupation lebanon throughout waged violence chief target israel sparking violence nations proxy fanning tension among allies inside lebanon runs hospitals schools provides college counseling employs traffic cops group reinforces message al manar satellite television channel broadcast station stopped amassing substantial political power inside lebanon according author journalist provide fair efficient way hezbollah also authoritarian power hungry militaristic said reported extensively region boston globe new york times believe religious pious society embraces fundamentalist shia islam believe self sufficiency war iran syria support hezbollah ideology countries provided group military wing financial backing weapons years hezbollah also makes millions illegal businesses around world including global drug trafficking charged widespread protests lebanon protests isolated al hassan funeral sunday angry protesters clashed security forces rushed toward mikati office central beirut calling dismissal mob hurled sticks stones flags smaller peaceful demonstration continued later sunday government figures called calm protesters allied sunni coalitions long sharply critical lebanese government perceived closeness syrian regime blaming preventing friday deadly car bomb could syria problems become lebanon two different countries major concern lebanon syria troubles reopen wounds lebanon year long civil war ended lebanon always struggled maintain balance among religious ethnic sects current tensions mirror syria countries shiite alawite muslim sects tend support syrian regime support growing among sunni muslims syrian rebels country also large christian population sunni shiite groups lobbied christian support past conflicts sunnis majority northern lebanon clashed small strong enclave pro al assad alawites core syrian president support lebanon southern part country good news war exhaustion factor high lebanon phillips explained beirut still recovering israel shelling city day conflict sparked hezbollah kidnapping israeli troops near lebanese border many wounds civil war yet heal assumption several years lebanese people fed exhausted civil war phillips said civil war ended resolution simply people lost keep fighting \n",
      "Original summary: syria still plays major role lebanon despite troops \n",
      "Predicted summary:  new president says al qaeda syria\n",
      "\n",
      "\n",
      "Review: year old man flying california hawaii forced ditch plane pacific ocean friday night miles coast hilo running gas coast guard said man flying delivery cessna twin engine aircraft monterey california hilo radioed federal aviation authorities miles low fuel said petty officer rd class angela henderson spokeswoman coast guard estimated would run fuel miles short island according coast guard statement coast guard deployed rescue crews aboard c hercules mh dolphin helicopter intercept pilot escort plane hope coaching safe landing said coast guard lt gene coast guard ship also scene plane make running fuel pilot predicted pilot ditched airplane approximately p climbed cockpit onto wing coast guard said statement video released saturday coast guard shows small aircraft skimming along water coming stop eventually settles floats water seemingly intact nose pointed opposite direction came man shown pulled water toward helicopter rescued pilot transported hilo medical center evaluation henderson said reported coherent significant injuries statement said american king air services airplane ferry service said website saturday pilot successfully ditched said good condition national transportation safety board investigating incident plane registered mount pleasant south carolina company neither american king air coast guard immediately released pilot identity waiting right hear coast guard aircraft pablo company vice president told cnn hilo miles west monterey pilot flight began according aviation site airliners net cessna aircraft range miles depending various factors including cruising altitude weight amount reserve fuel specific model \n",
      "Original summary: miles california plane \n",
      "Predicted summary:  new plane plane crash\n",
      "\n",
      "\n",
      "Review: former first lady barbara bush discharged houston methodist hospital saturday family spokesman said cannot thank doctors nurses houston methodist enough making sure got best treatment got back george dogs quickly possible bush said released six days treatment pneumonia family statement said bush wife st president george h w bush mother rd george w bush president barack obama former president bill clinton sent best wishes mrs bush full recovery role first lady championed literacy formed barbara bush foundation family literacy year made public diagnosed graves disease autoimmune disease commonly affects thyroid hospitalized doctors time described recurrence graves disease underwent heart surgery doctors found hardening one part aorta hospitalized suffering abdominal pain underwent surgery perforated \n",
      "Original summary: treated pneumonia houston hospital \n",
      "Predicted summary:  bush bush bush bush bush bush\n",
      "\n",
      "\n",
      "Review: broad swaths coastline north carolina massachusetts experienced dune failure massive overwash sand washed onto across barrier islands filling roads yards living rooms overwash sand instantly added several feet elevation islands natural barrier island new elevation reduces chance inundation next storm new yorkers learned couple feet make difference inconvenience catastrophe army bulldozers earth moving equipment deployed along coast suggests current efforts appear headed restore islands pre storm state pushing sand streets back onto beach removes elevation would added freeboard future floods developed shore excavation roads absolutely necessary regain dunes first line defense everyone must understand resetting island back pre storm conditions long term risks increased issue rising seas sea level risen inches along new jersey coast since last big storm residents say storm barely reached doorstep time superstorm sandy flooded foot although sandy storm differ details years sea level rise certainly allowed water reach areas would reached otherwise know storms sea level rise barrier island response applied redevelopment new jersey coast either try thwart natural response requiring increasing investment construction maintenance storm protection structures adapt relocating farther away beachfront upward barrier islands move historical precedent adaptation moving new jersey pre wwii beachfront communities moveable houses brighton beach hotel coney island moved several hundred feet back ocean six steam locomotives difficult choices made response superstorm sandy nothing rebuilding easy choice least expensive near term unless next superstorm comes next year even winter hundreds miles east coast dunes eroded longer exist vulnerable ever protecting entire coast coastal structures like sea walls feasible even desirable aspects coastal negative consequences practical response blend realistic options requires identifying areas adapt best prioritizing receive protection receive least even none challenging process undertaken jointly citizens policymakers scientists could refreshing response yield coastal environment resilient economically environmentally sound opinions expressed commentary solely e robert nathaniel g plant hilary f \n",
      "Original summary: plant better move away \n",
      "Predicted summary:  weather says people killed\n",
      "\n",
      "\n",
      "Review: facebook says recently hacked though says data billion users compromised company described sophisticated attack blog post friday saying took place january small number employees visited compromised website installed malware machines soon discovered presence malware infected machines informed law enforcement began significant investigation continues day facebook security said post facebook largest social network world latest high profile site hacked year twitter announced similar intrusion earlier month major news organizations including new york times wall street journal washington post also admitted hacked news sites attributed breaches hackers working chinese government neither facebook twitter mention china describing attacks facebook alone attack clear others attacked infiltrated recently well said blog post one first companies discover malware immediately took steps start sharing details infiltration companies entities affected unlike twitter facebook said found evidence user information compromised twitter said user names encrypted passwords e mail addresses many users potentially grabbed hackers reset passwords affected accounts string hacks primarily exploited vulnerabilities programming language java installed computers default facebook said site responsible attack took advantage previously unknown java vulnerability oracle patched february january department homeland security issued alert security challenged software recommended people turn computers apple turned java default os x users precaution full instructions disable java computer found oracle website must use java make sure downloaded latest updates include key security patches facebook said continue work law enforcement others industry prevent future attacks \n",
      "Original summary: facebook says hacked january employees visited website \n",
      "Predicted summary:  facebook says users users users media media media\n",
      "\n",
      "\n",
      "Review: prodded central government implement national stabilization strategy focused promoting national local reconciliation facilitating tribal disputes devolving power local regional administrations lack governance security main source local grievances al shabaab frequently exploits yemen diplomats offered million assistance encourage president abdu rabu mansour hadi convert national dialogue conference sustainable peace plan fractured country include constitutional reform like somalia yemen desperate need strong plan disarmament demobilization reintegration devolves power local districts places security forces rule law guaranteeing religious freedoms nuclear armed pakistan northern tribal badlands situation complex governance deficiencies similar somalia south yemen east united states given billions improve local infrastructure supported democracy billion aid pakistan conditioned strengthening pakistani democracy passage th amendment pakistani constitution small encouraging effort transfer power center provinces moreover recent protests islamabad pakistani military restrained directly intervening besides helping improve local governance united states spent years training equipping yemeni somali pakistani militaries subtly encouraging ethnic diversity pakistan example trainers helped transform ragtag frontier corps commanded punjabi outsiders counterinsurgency force several units commanded pashtuns course investments paid tribal religious divisions continue threaten somali yemeni armies pakistani military intelligence services widely seen sympathetic afghan taliban although troops finally put pressure militants north waziristan territory say tackle isis true group trumps al qaeda affiliates across greater middle east terms finances numbers territorial control defeated president obama push representative iraqi government improved vetting syrian rebels steps right direction realistically united states expecting send additional service members help gather intelligence train syrian rebels revive iraqi army build national guard protect advisers mark targets conduct raids high profile targets cannot realistically done without troops likely take two years meanwhile diplomats pushing better iraqi governance including ensuring major ethnic religious groups represented iraqi syrian security forces defeating foe like isis easy require political courage united states follow multi pronged commitment absolutely necessary one conflict cannot air \n",
      "Original summary: says countries kind presence needed ground \n",
      "Predicted summary:  says isis isis isis isis\n",
      "\n",
      "\n",
      "Review: must seen peek internal policy debate tehran situation iraq iran options kind least tacit cooperation washington one options studied politically already happening tehran washington agree need airstrikes isis also agreement iraq needs new political leadership prime minister maliki go since monday developments baghdad nomination new premier iraq president fouad iran reaction one approval turn events maliki fate today ali shamkhani head iran supreme national security council gave unequivocal approval new prime minister take baghdad iranian fate maliki seems fact shamkhani heavily involved recent weeks seek alternative maliki including trip made iraq late july consult various iraqi political circles americans quicker recognize maliki heart iraq malaise iranians finally come around conclusion matters lot given tehran immense leverage within iraq shia also kurdish political factions shia iran fight extremists islamic state critical threat tehran desperately wants keep iraq intact nation state particularly adamantly opposed iraqi kurdistan iraqi kurds threatening equation maliki become unbearable burden iranian policy kurdish leadership tehran hard trying cultivate steer away independence bid want maliki gone maliki woeful management iraqi military response newly declared islamic state made iranians wonder good reports iranian military engaged supporting kurdish peshmerga forces isis militants true goes show depth iranian anxieties islamic state rise iraq driver seat far role combating islamic state concerned iranian debate likely remain split moderates hawks moderates like focus practical challenge hand iraq ways tehran washington collaborate comfortable limited tactical cooperation come readily admit isis needs american military involvement hawks immersed historic cloak hostility cannot yet bear admit reality even cannot fail see inevitability recent trends suggest moderate viewpoint tehran upper hand policy question iraq iran best serve interests president rouhani seems eager days battle hawkish critics question need iran negotiate cooperate nuclear program told detractors week go hell time show rouhani moderate wing continue sit driver seat question iraq \n",
      "Original summary: recent trends suggest tehran upper hand suggests \n",
      "Predicted summary:  obama says syria syria\n",
      "\n",
      "\n",
      "Review: free winning prize earning money home says need find resources offer helpful information point right direction get started keep motivated give opinion get paid linda childers california based freelance writer says many friends participate focus groups contributing hour time earn sometimes online surveys phone surveys product trials also earn anywhere check free paid surveys sell junk terri jay earns per month selling junk ebay jay sells stuff using hits local thrift stores cent days garage sales tack sales looking things knows value says best sale drink tray paid cents sold trick sell know advises therefore list correct prices get picked searches ebay join direct selling company direct selling one easiest ways earn extra cash especially sell products love avon example allows start business take home depends efforts full time representatives earn six figure salaries others licensed avon beauty centers many sell avon part time around family schedules macintyre started avon business june earn supplemental income full time job husband laid since joining avon macintyre averages month sales husband helping run business avon earnings help pay bills provide extras three kids hoping earn enough put towards college tuition goes back school get masters social work secret shopper keen eyes detail well good memory really takes succeed secret shopper says sandler mystery shopping years registering secret shopping company paid basically go undercover report company operation customer point view sandler decided start secret shopping earn money eating traveling shopping also learn customer service skills pass along employees managed retail store depending clients shopping sandler says earned everywhere per month sell photos stock agencies matter amateur seasoned photographer anyone submit photos stock photo agencies like com images accepted available download subscribers time someone downloads photos get cents copyright careerbuilder com rights reserved information contained article may published broadcast otherwise distributed without prior written authority \n",
      "Original summary: get paid opinion enter local online \n",
      "Predicted summary:  use toll people help\n",
      "\n",
      "\n",
      "Review: conceived milos milisavljevic still student belgrade university strawberry tree contains chargers variety mobile phones tablets well wi fi usb sockets creation verge accelerate startup competition san francisco end october company outside america take part already boasts european union sustainable energy award rely heavily cell phones many essential tasks day says milisavljevic founded company strawberry energy received first order charger communicate cell phone using maps taking photos basically phone becomes life huge problem run battery carrying brick pocket adds strawberry tree named symbolism strawberries first fruit summer work days without sunlight thanks built solar batteries contains reused steel recycled fascinated clean technology wanted find way could benefit people everyday life solving common problem running battery says milisavljevic replenishing cell phone batteries device main function milisavljevic wants strawberry tree become core item infrastructure calls smart connected city future charger equipped sensors measure conditions like air pollution noise levels uv radiation vicinity milisavljevic says hopes sensors could future enable people access locally focused environmental data though app smartphone example network strawberry trees spread around city could check ice road street park quietest want relax explains milisavljevic asthma allergies could see air quality area planning go adds company ambitious plans stop serbia hit devastating floods may large swathes country lost power preventing many people contacting families several days milisavljevic thinks creation could become invaluable resource similar scenarios strawberry tree could emergency button would send signal emergency services danger kind disaster example power grid tree would place could call help get touch loved ones adds milisavljevic also stresses spite dramatic changes way people communicate last years cities remained almost frozen time street signs still street signs city lights city lights benches still benches hardly innovation city living dream bring new technology outdoor public spaces improve quality life cities says read europe best festival road serbia \n",
      "Original summary: currently trees spread across serbia bosnia \n",
      "Predicted summary:  google apple new york city\n",
      "\n",
      "\n",
      "Review: london england three aid groups called thursday immediate halt new adoptions haitian children last week earthquake save children world vision unit british red cross said focus first must tracing family members children may still reuniting hasty new adoptions would risk permanently breaking families causing long term damage already vulnerable children could distract aid efforts haiti agencies said joint statement full coverage latest news updates twitter updates disaster haiti led outpouring support around world united states alone donating million wednesday according chronicle philanthropy newspaper covering nonprofit organizations stories haitian orphanages struggling quake plight children also led many ask adopting children reading cnn report haitian orphans cnn com reader dana fanning wrote broke heart husband children want know could adopt children orphaned earthquake list missing found impact world save children chief executive jasmine whitbread said vast majority children haiti orphans simply separated families chaos family members may still alive said desperate reunited taking children country would permanently separate thousands children families separation would compound acute trauma already suffering inflict long term damage chances recovery whitbread said allowing flood new adoptions also could open door traffickers said world vision chief executive justin byworth poverty haiti already makes children extremely vulnerable exploitation abuse byworth said concerned premature overseas adoption also children increasingly sent unaccompanied dominican republic said aid groups said adoptions already progress january earthquake go ahead long right legal documents place meet haitian international law want help haitian children whitbread said donate aid agencies working reuniting children families international committee red cross opened office headquarters haitian red cross de help people locate relatives said pete disaster response manager british red cross icrc also set web site help people searching relatives said \n",
      "Original summary: reports plight children haiti led many ask adoptions \n",
      "Predicted summary:  new york city says\n",
      "\n",
      "\n",
      "Review: washington neglected spotlight wednesday obama scheduled announce administration proposals crack gun violence indignation guns growing united states reforms mexico long awaited may come medina said mexico keep pushing better gun regulation said noting assault weapons ban one constitutional option end ban impacted mexico said certainly statistical correlation end measure increase firepower foreign criminal groups particular operate country said monday prominent mexican peace activists renewed call united states stop weapons trafficking across border saying connecticut shooting made need action clear wish convey deepest condolences repeated slaughter innocents country parents grandparents killing innocent children newtown moved us deeply mexico movement peace justice dignity said petition delivered embassy mexico city consequently petition continued offended indifference united states toward massacres daily plunge mexico mourning weapons used drug related violence mexico traced back united states group said citing government statistics nearly weapons seized mexico came united states bureau alcohol tobacco firearms explosives said last year issue surged fore washington last year amid congressional inquiry operation fast furious operation run federal agents authorities said operation intended track flow illegally purchased american guns mexican cartels practice atf agents allowed called straw buyers take weapons across border without intercepted mexico capital authorities started exchange program try stem gun violence one mexico city neighborhood last month residents handed hundreds guns exchange money vouchers handguns high caliber weapons even hand grenade among weapons authorities collected part program children also swapped toy guns bicycles electronic devices toys last year mexico government used decommissioned weapons build massive sign near border said weapons americans side border intended audience english language sign president felipe calderon said time saying increase violence mexico directly connected expiration assault weapons ban criminals become vicious eagerness spark fear anxiety society said one main factors allow criminals strengthen unlimited access high powered weapons sold freely also indiscriminately united states america \n",
      "Original summary: mexico blames brutal drug violence guns united states \n",
      "Predicted summary:  new mexico united states\n",
      "\n",
      "\n",
      "Review: christine mcvie ventured tour fleetwood mac years ready get back road starting september five members fleetwood mac mcvie ex husband john mcvie lindsey buckingham stevie nicks mick fleetwood launching tour called show trek begin minneapolis stretch across north america shows cities rep legendary band confirmed january mcvie rejoining group departure hinted tour works years mcvie number reasons exit including fact missed native england today show thursday also admitted persistent fear got way fear flying said flown years keyboardist singer mcvie joined fleetwood mac original guitarist peter green left married bassist john mcvie time drummer fleetwood added two members group nicks buckingham chemistry talent among five gave us albums like rumours mirage established fleetwood mac one successful bands pop music even band members weathered personal storms christine mcvie left group soldiered touring new music foursome yet fleetwood mac went london last fall performance got christine mcvie join stage rendition stop helped spark pivotal moment would inspire return fleetwood mac walking london sensational said today adding rejoined fleetwood mac definite capital yes tickets fleetwood mac upcoming tour go sale general public april cnn todd leopold contributed report \n",
      "Original summary: mac capital yes \n",
      "Predicted summary:  new york star says\n",
      "\n",
      "\n",
      "Review: founder university phoenix dr john g sperling died according statement posted apollo education group website statement said sperling passed away friday hospital san francisco bay area given dr sperling vision pioneering spirit boundless resolve improve world accessible higher education working adult students provided roadmap families nations economies evolve advance grow prosper wrote apollo chairman sperling son peter sperling company chief executive officer greg dr sperling indomitable ideas life work served catalyst innovations widely accepted made higher education accessible adult students statement read sperling founded institute professional development followed university phoenix degree program aimed working adults profit university one first develop online degree programs university phoenix one largest private universities united states million students alumni faculty employees according apollo group parent company sperling born january rural northwest missouri served army air corps worked history professor sperling survived longtime companion joan hawthorne former wife virginia sperling son peter daughter law stephanie two grandchildren chuck johnston contributed report \n",
      "Original summary: new death given \n",
      "Predicted summary:  new year old woman\n",
      "\n",
      "\n",
      "Review: surface complexities syrian conflict middle east whole founded humanitarian aid organization learned enough know know anything said finishing semester back united states returned lebanon time plan way saw choice put guess hopeless romantic idealist believe hopeless causes kassig founded sera summer moved base operations gaziantep turkey kassig family said sera dedicated providing first response humanitarian aid refugees fleeing widening civil war syria doctor nurse said interview guy clean bandages help clean patients swap bandages help run ivs make people quality life little bit better something meaning purpose converted islam kassig family said converted islam held hostage goes abdul rahman family said understand speaking former hostages kassig faith provided comfort long captivity working hospitals kassig helped treat rebel fighters vowed would return battlefield soon could others innocent victims spiraling conflict one patient year old said three children run military jeep tried escape syrian military siege village spinal cord crushed leaving unable move neck smuggled across border lebanon surgery smiled bravely unable stop tears rolling face want able hold children arms said softly trying failing imitate cradling child despite dangers doctors honor oath secret syrian field hospital bonded doctors patients kassig said direct exposure something alien conflict culture transformed perspective mentality come back home little bit problem said want get political soap box time think country choose help certain people others think chalk middle east complex enigma never understand different us end day really whether willing go limb understand something said peter tell american people said marwan syrian nurse worked regime says terrorists al qaeda peter knows good people love joking laughter want live kassig struck resilience syrians met ability smile somehow joke even darkest circumstances real scary stuff sad happening people said people back home need know need know sometimes got take stand got draw line somewhere outrage enough take intervene \n",
      "Original summary: ed urge isis release son \n",
      "Predicted summary:  says one people killed\n",
      "\n",
      "\n",
      "Review: hong kong china building significant presence disputed waters south china sea land reclamation new analysis shows satellite images late january analyzed ihs jane defence weekly show china reclaiming significant amount land three sites islands addition two sites previously documented defense publication used small concrete platforms full islands harbors facilities support large numbers troops james hardy jane asia pacific editor told cnn see methodical well planned campaign create chain air sea capable fortresses across center islands chain november publication reported china building air strip capable island least meters long fiery cross reef south china sea subject numerous rival often messy territorial claims china brunei malaysia philippines taiwan vietnam disputing sovereignty several island chains nearby waters areas dispute include fertile fishing grounds potentially rich reserves undersea natural resources latest images show first time reclamation hughes reef large facility constructed square meters reclaimed land jane also said significant progress made johnson south reefs buildings hughes reef reefs almost identical footprints main square building appears anti aircraft tower corner suggests china standardized design key facilities rolling across new islands hardy said taiwan vietnam philippines also claim disputed archipelago modifying existing islands reclaiming land large scale said reclamation would technically little bolster china claims islands united nations convention law sea based naturally occurring features said china ground heavily armed going nigh impossible anyone challenge remove international law moot one hardy said china ministry defense immediately respond request comment \n",
      "Original summary: land taking place five sites jane defence weekly says \n",
      "Predicted summary:  new year old oil oil oil\n",
      "\n",
      "\n",
      "Review: husband shoot anyone reeves responded pointing finger saying according hamilton shut f king mouth say another word friday dade city courtroom got hear reeves took stand audio interview police played court interview reeves told police reason believe going kick ass reeves confronted year old navy veteran texting previews lone survivor widow whole world got shattered reeves wife told police oulson began using foul language reeves left talk theater manager returned oulson stood turned confront reeves said see explosive unnecessarily reeves told police scared crap oulson edged toward reeves virtually top reeves told either whoa whoa whoa remember told police interrogator hit something assume fist reeves told police think cell phone hand saw blur screen face went sideways glasses came partially interview police vivian reeves backed much husband story spelling f word police described oulson language altercation asked though whether saw chad oulson strike curtis reeves replied though said husband told shooting went various theater witnesses testified earlier prosecution none said saw reeves getting hit anything beyond perhaps bag kernels popcorn opened fire surveillance video captures theater shooting beyond hearing various witnesses public thanks gathered media got glimpse happened inside movie theater thanks surveillance video jumpy grainy footage shows reeves return seat p according video time stamp six seconds later reeves appears lean forward second p video stops likely motion sensors activated according previous testimony reeves bail hearing week starts recording five seconds later hand extends front reeves seat victim chad oulson reportedly sitting appears snatch something reeves defense repeatedly said oulson threw popcorn throws reeves face reeves right hand one reeves told police used shoot oulson thrusts forward p strange dust falls front surveillance video lens theater patrons begin walking area reeves remains seated row behind mortally wounded oulson stumbling collapsing another moviegoer taking last breaths couple describes encounter reeves \n",
      "Original summary: judge pat sides prosecutors said reeves allowed bail \n",
      "Predicted summary:  jury charged murder\n",
      "\n",
      "\n",
      "Review: impaired students face considerable difficulties visually oriented parts exam association rules require students take valid reliable test binno lawsuit counters lsat widely used commercially available exam assessing law school applicants leaving effect alternative suit says according aba policy schools could face sanctions put probation lose accreditation fail comply binno says violates protections disabled provided americans disabilities act want help disabled disadvantaged people otherwise would struggle voices heard binno said spokesperson aba said lawyers yet seen lawsuit served documentation association could comment time law school admissions council private profit group based newtown pennsylvania administers annually according website law schools could decide whether blind people must take exam according binno lawyer richard bernstein also blind lsat waived bernstein graduated northwestern university school law litigation focuses analytical reasoning called logic games section test requires spatial reasoning visual concepts successful completion applicants according suit complaint includes copy logic games lsat given directions atop section test say may useful draw rough diagram figuring answers questions situation blind visually impaired people interpret diagram since spatial perceptions bernstein said fair require type question get law school end day blind people draw according binno lawsuit unable competitively answer questions quarter exam causes plaintiff substantial embarrassment emotional distress mental anguish exam adversely impacts overall performance binno suing monetary damages retains right wants aba change policies blind applicants lsat want american bar association stop telling blind people draw pictures order go law school binno said binno fluent three languages finished high school three years graduated wayne state university detroit worked unit department homeland security high level security clearance handling applications credentials immigrants according lawsuit laid focused getting law school past three years binno blind birth condition called retinitis pigmentosa fighting disabled attorneys going create disabled rights said bernstein teaches social justice university michigan said runs marathons completed iron man triathlon \n",
      "Original summary: suing american bar association claiming discrimination testing \n",
      "Predicted summary:  new york city says\n",
      "\n",
      "\n",
      "Review: united nations n officials pleading immediate economic assistance four african countries people facing malnutrition wake drought last year coming weeks ahead toughest countries sahel stretch african countries including niger chad mali mauritania make way rainy season scrape little food since last year harvest officials said humanitarian agencies relief organizations pushed continued economic support international community behalf drought ridden african countries united nations tuesday levels food insecurity begun spiral control affect number countries across region n secretary general john holmes said niger center crisis country far worst affected million people suffering severe moderate food insecurity almost fifty percent country population holmes said million people sahel risk food shortages according n situation unlikely improve coming harvest october long stretch last year harvest one coming said sheeran executive director world food programme via telephone niger six weeks agreed severe danger zone ramp happen weeks difficult time sheeran said chad thousands children suffering severe acute malnutrition number severely malnourished children doubled year end day kills children suffering malnutrition disease kind affecting weakened states particularly concerned rainy season starting diseases like malaria diarrhea respiratory diseases spread always time year death rates affected children go rapidly holmes said world food programme expected increase number health centers around coming weeks centers placed strategically vulnerable areas seeing highest rates acute malnutrition said sheeran sahel enters rainy season many roads become impassable sheeran said aim assistance go severely affected areas ensure adequate distribution reach families cut roads becoming much difficult leaders relief organizations urged international community step economic support people sahel policy adviser aid organization oxfam said assistance needed need urgent action international leaders donors make sure people access food future said future indeed invest long term measure avoid type crisis happening moment urgent short term action \n",
      "Original summary: coming weeks difficult niger chad mali \n",
      "Predicted summary:  new n says people died\n",
      "\n",
      "\n",
      "Review: longini simulations fictional killer flu ordered centers disease control prevention show importance steps health officials take prevent spread virus measures include social distancing encouraging sickened flu stay home seek medical treatment closing places groups people gather making anti flu medications available large portions population simulations longini said forms containment reduce sickness nearly two thirds name game slow transmission well matched vaccine made distributed fairly optimistic said watch computer models simulate outbreak spread far longini said appears everyone sickened swine flu united states contracted disease traveling mexico apparent epicenter outbreak cautioned could change fast obviously people communities could also get airplanes go places get buses cars trucks move around picture may change rapidly basically influenza going go people go health officials agree worst may still yet come soon us say spectrum dr richard besser acting director cdc said monday larry king live going see cases country severe individuals hospitalized would surprised see deaths country longini said health officials everything mitigate widely swine flu spreads united states even authorities examined everyone entering country longini said would solve problem simulations mathematical work shown travel restrictions although potentially useful slowing spread swine flu going stop longini said screen airline passengers asymptomatic people would miss really deal outbreaks locally everywhere occurring watch countries scanning travelers longini said hopes data come outbreak help answer questions researchers swine flu appears deadly mexico cases ones united states researchers also hope find large percentage fatalities mexico young people whose healthy immune systems usually protect flu good news longini said least temporarily populations certain areas north america europe summer soon begin ending traditional flu season even outbreaks swine flu tend follow standard flu season patterns said parts world may lucky timing terrible people southern hemisphere places like new zealand australia south africa parts south america longini said coming flu season \n",
      "Original summary: still worst swine flu outbreak may yet come health officials warn \n",
      "Predicted summary:  new york city ebola ebola ebola\n",
      "\n",
      "\n",
      "Review: embleton launched brave foundation bomberos resourceful valiant efforts provide emergency response training equipment volunteer firefighters guatemala know someone cnn hero nominations open cnn com heroes first trip openly criticized firefighters lack resources training firefighters turn asked hold class gone back hotel try think going teach limited resources embleton said cut hotel bed sheets made triangular bandages got cardboard boxes utilize help year old interpreter embleton taught roughly students techniques basic bleeding control david alvarez chief fire station guatemala among embleton first students really primitive alvarez said basic techniques firefighters outside guatemala never learned wanted learn assistance fellow washington firefighters rotary international brave foundation established pilot emergency medical training program guatemala city using emergency medical technician curriculum translated spanish since emt training program expanded training programs throughout country watch embleton describe made take action guatemala things improved drastically since program began said embleton skill level firefighters increased immensely confidence respect hospitals providing pre hospital care citizens noticed years shy retirement embleton granted leave absence work washington firefighter sold private internet based business relocated guatemala volunteer full time group building fire station training firefighters company newest company firefighters remote lake community san juan la laguna moved country support indigenous mayan community needs great embleton said never anybody call nobody available respond educating people firefighters help watch embleton volunteers provide rescue services remote community date embleton brave foundation organized delivery firefighting vehicles million worth medical rescue equipment group provided emt training firefighters firefighters motivation get heart see well states embleton said guys poor try hard resources make program like work watch day life firefighter guatemala despite personal sacrifice embleton quick share credit brave efforts success citing help volunteers private donors firefighters rotary guatemala community see good said embleton people call firefighters trouble know firemen always want get involved check brave foundation see help \n",
      "Original summary: emergency rescue often came trucks \n",
      "Predicted summary:  know hero nominations open cnn heroes\n",
      "\n",
      "\n",
      "Review: hail king queen catfish greg bernal florissant missouri girlfriend janet momphard st charles missouri tuesday hauled believed world record catfish boat fishing missouri river monster blue catfish weighed pounds inches girth inches long dan zarlenga spokesman missouri department conservation said tuesday hit yet still shock bernal said tuesday bernal said call day decided give one last shot threw rod minutes later rod took said put pressure tried work towards surface head broke water man knew record breaker bernal said jim blair keeps state certified scale feed store new notified tuesday morning missouri department conservation couple may caught state record catfish needed use scale get official weight scale inspected every year certified state said blair catfish put scale momphard said least weigh pounds weighed generator bernal kept back truck girlfriend jumping went pounds knew state record went pounds really excited said blair considered royalty fishing world although several official witnesses site scale read pounds international game fish association still sign whether world record broken tim pruitt godfrey missouri holds official world record reeled pound catfish may general area missouri river according zarlenga curious called honey hole bernal caught monster fish sorry talking back caught illinois state record catfish blue weighed pounds said bernal said everybody knew started tracking every move cut running lights boat one time boats following zarlenga says bernal keeping quiet exact location understandable expects see people fishing general area along missouri river dream catch bernal keeping catfish time friend deep freezer like see one stores interested making replication like bass pro shops said bernal meanwhile catching sleep hopes celebrate soon couple cold beers fishing monster whole life chance came hook actually got lucky going argue world record bernal said \n",
      "Original summary: hit yet still shock greg says \n",
      "Predicted summary:  new world cup star says\n",
      "\n",
      "\n",
      "Review: soon great white shark torso steven robles thought everything really thought might thought might dying said instead long distance swimmer recovering wounds might never return water trauma attack still vivid saturday foot long shark near manhattan beach california became agitated fisherman hook apparently took frustration robles swimming nearby saw sharp left turn lunged right even hesitate robles said could feel vibration entire shark gnawing skin said could feel whole body shaking digging torso burning sensation bite hard forget bite mark like jellyfish sting keeps penetrating deeper deeper bone robles said terrifying grabbed shark nose hand tried pry fortunately shark left darted away witness cell phone video posted cnn affiliate ktla showed robles screaming loudly fellow swimmers tried help shore witnesses pier screamed shark still close swimmers water made shore safely human remains found search woman taken large shark police closed manhattan beach pier remain closed tuesday shark attacks rare increased steady rate since decade attacks previous according international shark attack file based gainesville florida isaf says unprovoked shark attacks humans lowest number global attacks since attacks occurred group emphasized increasing number shark attacks mean rate attacks increasing isaf research shows people spending time sea increases interactions humans sharks robles said even though thought might dying survival instincts kicked life half second ending fight life said attack robles said planning another long distance swim says might never swim open water one ton shark headed texas coast devoured great white shark rare goblin shark thing surfaced cnn shelby lin erdman contributed report \n",
      "Original summary: shark attacks humans \n",
      "Predicted summary:  new people died hospital\n",
      "\n",
      "\n",
      "Review: scientists captured antimatter atoms first time breakthrough could eventually help us understand nature origins universe researchers cern geneva based particle physics laboratory managed confine single antihydrogen atoms magnetic trap allow conduct detailed study antihydrogen turn allow scientists compare matter antimatter understanding antimatter one biggest challenges facing science theoretical physicists believe big bang universe created matter antimatter produced equal amounts however world made matter antimatter seems disappeared understanding antimatter could would light almost everything known universe consists matter antimatter difficult handle matter antimatter get destroying instantly contact violent flash energy precursor today experiment scientists cern produced antihydrogen atoms large quantities incredibly short lifespan several milliseconds antihydrogen came contact walls containers two annihilated latest experiment lifespan antihydrogen atoms extended using magnetic fields trap thus prevent coming contact matter researchers created antihydrogen atoms held tenth second long enough study says professor jeffrey hangst one team cern scientists worked program hangst colleagues produced magnet field strongest near walls trap falling minimum center causing atoms collect vacuum could held much longer full joy relief taken us five years get big milestone hangst told cnn trap atoms run experiment times says nature published report findings hangst added ten thousand times difficult creating antihydrogen atoms help us understand structure space time reasons one yet understands nature ruled antimatter inspires us work much harder see antimatter holds secret malcolm professor natural philosophy cambridge university told cnn cern results considerable achievement big bang believe temperatures high understand theory antimatter disappeared physical theory back antimatter first predicted british physicist paul theorized antimatter ordinary matter reverse cern next ambition create beam antimatter hope allow mysteries surrounding \n",
      "Original summary: trapped field \n",
      "Predicted summary:  new york city\n",
      "\n",
      "\n"
     ]
    }
   ],
   "source": [
    "for i in range(0,30):\n",
    "    print(\"Review:\",seq2text(x_tr[i]))\n",
    "    print(\"Original summary:\",seq2summary(y_tr[i]))\n",
    "    print(\"Predicted summary:\",decode_sequence(x_tr[i].reshape(1,max_text_len)))\n",
    "    print(\"\\n\")"
   ]
  },
  {
   "cell_type": "code",
   "execution_count": 15,
   "metadata": {},
   "outputs": [],
   "source": [
    "original_text = []\n",
    "original_summary = []\n",
    "created_summary = []\n",
    "\n",
    "for i in range(0,30):\n",
    "    original_text.append(seq2text(x_tr[i]))\n",
    "    original_summary.append(seq2summary(y_tr[i]))\n",
    "    created_summary.append(decode_sequence(x_tr[i].reshape(1,max_text_len)))"
   ]
  },
  {
   "cell_type": "code",
   "execution_count": 16,
   "metadata": {},
   "outputs": [],
   "source": [
    "results = pd.DataFrame()\n",
    "results[\"Original_text\"] = original_text\n",
    "results[\"Original_summary\"] = original_summary\n",
    "results[\"Created_summary\"] = created_summary"
   ]
  },
  {
   "cell_type": "code",
   "execution_count": 17,
   "metadata": {},
   "outputs": [],
   "source": [
    "results.to_csv(\"results_predictions.csv\")"
   ]
  },
  {
   "cell_type": "code",
   "execution_count": 18,
   "metadata": {},
   "outputs": [],
   "source": [
    "results=pd.read_csv(\"results_predictions.csv\")"
   ]
  },
  {
   "cell_type": "code",
   "execution_count": 19,
   "metadata": {},
   "outputs": [],
   "source": [
    "reference_sentences = results[\"Original_summary\"].to_list()\n",
    "summary_sentences = results[\"Created_summary\"].to_list()"
   ]
  },
  {
   "cell_type": "code",
   "execution_count": 21,
   "metadata": {},
   "outputs": [
    {
     "output_type": "stream",
     "name": "stdout",
     "text": [
      "0.011794871794871795\n"
     ]
    }
   ],
   "source": [
    "from rouge import rouge_n_sentence_level\n",
    "from rouge import rouge_l_sentence_level\n",
    "from rouge import rouge_n_summary_level\n",
    "from rouge import rouge_l_summary_level\n",
    "from rouge import rouge_w_sentence_level\n",
    "from rouge import rouge_w_summary_level\n",
    "\n",
    "list_rouge = []\n",
    "list_recall = []\n",
    "list_precision = []\n",
    "\n",
    "for i in range(0, len(reference_sentences)):\n",
    "    reference_sentence = reference_sentences[i].split()\n",
    "    summary_sentence = summary_sentences[i].split()\n",
    "    \n",
    "    # Calculate ROUGE-2.\n",
    "    recall, precision, rouge = rouge_n_sentence_level(summary_sentence, reference_sentence, 2)\n",
    "    #print('ROUGE-2-R', recall)\n",
    "    #print('ROUGE-2-P', precision)\n",
    "    #print('ROUGE-2-F', rouge)\n",
    "\n",
    "    list_rouge.append(rouge)\n",
    "    list_recall.append(recall)\n",
    "    list_precision.append(precision)\n",
    "\n",
    "import statistics\n",
    "\n",
    "\n",
    "mean_rouge = statistics.mean(list_rouge)  \n",
    "print(mean_rouge)"
   ]
  },
  {
   "cell_type": "code",
   "execution_count": 51,
   "metadata": {},
   "outputs": [],
   "source": [
    "os.environ['CUDA_VISIBLE_DEVICES'] = ''"
   ]
  },
  {
   "cell_type": "code",
   "execution_count": null,
   "metadata": {},
   "outputs": [],
   "source": []
  }
 ]
}