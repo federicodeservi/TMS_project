{
  "nbformat": 4,
  "nbformat_minor": 0,
  "metadata": {
    "language_info": {
      "codemirror_mode": {
        "name": "ipython",
        "version": 3
      },
      "file_extension": ".py",
      "mimetype": "text/x-python",
      "name": "python",
      "nbconvert_exporter": "python",
      "pygments_lexer": "ipython3",
      "version": "3.8.5-final"
    },
    "orig_nbformat": 2,
    "kernelspec": {
      "name": "python3",
      "display_name": "Python 3.8.5 64-bit ('nlp': conda)",
      "metadata": {
        "interpreter": {
          "hash": "08da0f045c22bfc9d0ca1ec99ede9ebdd7a7506fb229c3025070bc74466ac14d"
        }
      }
    },
    "colab": {
      "name": "model.ipynb",
      "provenance": [],
      "toc_visible": true
    },
    "accelerator": "GPU"
  },
  "cells": [
    {
      "cell_type": "markdown",
      "metadata": {
        "id": "RvkTTztiQoND"
      },
      "source": [
        "# Libraries"
      ]
    },
    {
      "cell_type": "code",
      "metadata": {
        "id": "HBf9FBoWQoNQ"
      },
      "source": [
        "# Import libraries\n",
        "\n",
        "from os import listdir\n",
        "import string\n",
        "import pandas as pd\n",
        "import numpy as np  \n",
        "import pandas as pd \n",
        "from IPython.display import display, clear_output\n",
        "import re           \n",
        "from bs4 import BeautifulSoup \n",
        "from tensorflow.keras.preprocessing.text import Tokenizer \n",
        "from tensorflow.keras.preprocessing.sequence import pad_sequences\n",
        "from nltk.corpus import stopwords   \n",
        "from tensorflow.keras.layers import Input, LSTM, Embedding, Dense, Concatenate, TimeDistributed, Bidirectional\n",
        "from tensorflow.compat.v1.keras.layers import CuDNNLSTM\n",
        "from tensorflow.keras.models import Model\n",
        "from tensorflow.keras.callbacks import EarlyStopping\n",
        "import warnings\n",
        "import re, string, unicodedata\n",
        "import nltk\n",
        "import pickle\n",
        "import inflect\n",
        "from bs4 import BeautifulSoup\n",
        "import tensorflow as tf\n",
        "\n",
        "import transformers\n",
        "\n",
        "from nltk import word_tokenize, sent_tokenize\n",
        "from nltk.corpus import stopwords\n",
        "from nltk.stem import LancasterStemmer, WordNetLemmatizer\n",
        "lemmatizer = WordNetLemmatizer() \n",
        "\n",
        "pd.set_option(\"display.max_colwidth\", 200)\n",
        "warnings.filterwarnings(\"ignore\")"
      ],
      "execution_count": 8,
      "outputs": []
    },
    {
      "cell_type": "code",
      "metadata": {
        "colab": {
          "base_uri": "https://localhost:8080/"
        },
        "id": "_ThM5ZHZQoNU",
        "outputId": "d2589387-b2bd-4e4a-9a97-4603c5d3cc18"
      },
      "source": [
        "if tf.test.gpu_device_name(): \n",
        "    print('Default GPU Device:{}'.format(tf.test.gpu_device_name()))\n",
        "else:\n",
        "   print(\"Please install GPU version of TF\")"
      ],
      "execution_count": 9,
      "outputs": [
        {
          "output_type": "stream",
          "name": "stdout",
          "text": [
            "Please install GPU version of TF\n"
          ]
        }
      ]
    },
    {
      "source": [
        "# Load data"
      ],
      "cell_type": "markdown",
      "metadata": {}
    },
    {
      "cell_type": "code",
      "execution_count": 10,
      "metadata": {},
      "outputs": [],
      "source": [
        "data = pd.read_csv(\"../../preprocessing/test_dataset.csv\")"
      ]
    },
    {
      "cell_type": "code",
      "execution_count": 11,
      "metadata": {},
      "outputs": [],
      "source": [
        "data[\"cleaned_highlight\"] = data[\"cleaned_highlight\"].str.replace(\"starttoken\", \"\")\n",
        "data[\"cleaned_highlight\"] = data[\"cleaned_highlight\"].str.replace(\"endtoken\", \"\")\n"
      ]
    },
    {
      "cell_type": "code",
      "execution_count": 12,
      "metadata": {},
      "outputs": [],
      "source": [
        "stories = data[\"cleaned_text\"]\n",
        "summaries = data[\"cleaned_highlight\"]"
      ]
    },
    {
      "source": [
        "# Model"
      ],
      "cell_type": "markdown",
      "metadata": {}
    },
    {
      "cell_type": "code",
      "execution_count": 13,
      "metadata": {},
      "outputs": [
        {
          "output_type": "stream",
          "name": "stderr",
          "text": [
            "Some weights of the model checkpoint at t5-base were not used when initializing T5ForConditionalGeneration: ['decoder.block.0.layer.1.EncDecAttention.relative_attention_bias.weight']\n- This IS expected if you are initializing T5ForConditionalGeneration from the checkpoint of a model trained on another task or with another architecture (e.g. initializing a BertForSequenceClassification model from a BertForPreTraining model).\n- This IS NOT expected if you are initializing T5ForConditionalGeneration from the checkpoint of a model that you expect to be exactly identical (initializing a BertForSequenceClassification model from a BertForSequenceClassification model).\n"
          ]
        }
      ],
      "source": [
        "from transformers import T5ForConditionalGeneration, T5Tokenizer, BartForConditionalGeneration,  BartTokenizer, PegasusForConditionalGeneration, PegasusTokenizer\n",
        "\n",
        "# initialize the model architecture and weights\n",
        "model_t5 = T5ForConditionalGeneration.from_pretrained(\"t5-base\")\n",
        "model_bart = BartForConditionalGeneration.from_pretrained(\"facebook/bart-base\")\n",
        "\n",
        "# initialize the model tokenizer\n",
        "tokenizer_t5 = T5Tokenizer.from_pretrained(\"t5-base\")\n",
        "tokenizer_bart = BartTokenizer.from_pretrained(\"facebook/bart-base\")\n",
        "\n"
      ]
    },
    {
      "cell_type": "markdown",
      "metadata": {
        "id": "rGmvYD07QoN5"
      },
      "source": [
        "# Inference"
      ]
    },
    {
      "cell_type": "code",
      "metadata": {
        "id": "EQUkioFEQoN9"
      },
      "source": [
        "original_text = []\n",
        "original_summary = []\n",
        "created_summary_t5 = []\n",
        "created_summary_bart = []\n",
        "created_summary_pegasus = []\n",
        "\n",
        "for i in range(0,2000):\n",
        "    clear_output(wait=True)\n",
        "    print(i)\n",
        "    original_text.append(stories[i])\n",
        "    original_summary.append(summaries[i])\n",
        "    #t5\n",
        "    inputs_t5 = tokenizer_t5.encode(\"summarize: \" + stories[i], return_tensors=\"pt\", max_length=300, truncation=True)\n",
        "    outputs_t5 = model_t5.generate(\n",
        "        inputs_t5, \n",
        "        max_length=12, \n",
        "        min_length=3, \n",
        "        length_penalty=1.0,  \n",
        "        early_stopping=True)\n",
        "    created_summary_t5.append(tokenizer_t5.decode(outputs_t5[0]))\n",
        "    #bart\n",
        "    inputs_bart = tokenizer_bart.encode(stories[i], return_tensors=\"pt\", max_length=300, truncation=True)\n",
        "    outputs_bart = model_bart.generate(\n",
        "        inputs_bart, \n",
        "        max_length=12, \n",
        "        min_length=3, \n",
        "        length_penalty=1.0,  \n",
        "        early_stopping=True)\n",
        "    created_summary_bart.append(tokenizer_bart.decode(outputs_bart[0]))\n",
        "    "
      ],
      "execution_count": 14,
      "outputs": [
        {
          "output_type": "stream",
          "name": "stdout",
          "text": [
            "1999\n"
          ]
        },
        {
          "output_type": "error",
          "ename": "KeyError",
          "evalue": "1999",
          "traceback": [
            "\u001b[1;31m---------------------------------------------------------------------------\u001b[0m",
            "\u001b[1;31mValueError\u001b[0m                                Traceback (most recent call last)",
            "\u001b[1;32m~\\anaconda3\\envs\\nlp\\lib\\site-packages\\pandas\\core\\indexes\\range.py\u001b[0m in \u001b[0;36mget_loc\u001b[1;34m(self, key, method, tolerance)\u001b[0m\n\u001b[0;32m    354\u001b[0m                 \u001b[1;32mtry\u001b[0m\u001b[1;33m:\u001b[0m\u001b[1;33m\u001b[0m\u001b[1;33m\u001b[0m\u001b[0m\n\u001b[1;32m--> 355\u001b[1;33m                     \u001b[1;32mreturn\u001b[0m \u001b[0mself\u001b[0m\u001b[1;33m.\u001b[0m\u001b[0m_range\u001b[0m\u001b[1;33m.\u001b[0m\u001b[0mindex\u001b[0m\u001b[1;33m(\u001b[0m\u001b[0mnew_key\u001b[0m\u001b[1;33m)\u001b[0m\u001b[1;33m\u001b[0m\u001b[1;33m\u001b[0m\u001b[0m\n\u001b[0m\u001b[0;32m    356\u001b[0m                 \u001b[1;32mexcept\u001b[0m \u001b[0mValueError\u001b[0m \u001b[1;32mas\u001b[0m \u001b[0merr\u001b[0m\u001b[1;33m:\u001b[0m\u001b[1;33m\u001b[0m\u001b[1;33m\u001b[0m\u001b[0m\n",
            "\u001b[1;31mValueError\u001b[0m: 1999 is not in range",
            "\nThe above exception was the direct cause of the following exception:\n",
            "\u001b[1;31mKeyError\u001b[0m                                  Traceback (most recent call last)",
            "\u001b[1;32m<ipython-input-14-af4696b93631>\u001b[0m in \u001b[0;36m<module>\u001b[1;34m\u001b[0m\n\u001b[0;32m      8\u001b[0m     \u001b[0mclear_output\u001b[0m\u001b[1;33m(\u001b[0m\u001b[0mwait\u001b[0m\u001b[1;33m=\u001b[0m\u001b[1;32mTrue\u001b[0m\u001b[1;33m)\u001b[0m\u001b[1;33m\u001b[0m\u001b[1;33m\u001b[0m\u001b[0m\n\u001b[0;32m      9\u001b[0m     \u001b[0mprint\u001b[0m\u001b[1;33m(\u001b[0m\u001b[0mi\u001b[0m\u001b[1;33m)\u001b[0m\u001b[1;33m\u001b[0m\u001b[1;33m\u001b[0m\u001b[0m\n\u001b[1;32m---> 10\u001b[1;33m     \u001b[0moriginal_text\u001b[0m\u001b[1;33m.\u001b[0m\u001b[0mappend\u001b[0m\u001b[1;33m(\u001b[0m\u001b[0mstories\u001b[0m\u001b[1;33m[\u001b[0m\u001b[0mi\u001b[0m\u001b[1;33m]\u001b[0m\u001b[1;33m)\u001b[0m\u001b[1;33m\u001b[0m\u001b[1;33m\u001b[0m\u001b[0m\n\u001b[0m\u001b[0;32m     11\u001b[0m     \u001b[0moriginal_summary\u001b[0m\u001b[1;33m.\u001b[0m\u001b[0mappend\u001b[0m\u001b[1;33m(\u001b[0m\u001b[0msummaries\u001b[0m\u001b[1;33m[\u001b[0m\u001b[0mi\u001b[0m\u001b[1;33m]\u001b[0m\u001b[1;33m)\u001b[0m\u001b[1;33m\u001b[0m\u001b[1;33m\u001b[0m\u001b[0m\n\u001b[0;32m     12\u001b[0m     \u001b[1;31m#t5\u001b[0m\u001b[1;33m\u001b[0m\u001b[1;33m\u001b[0m\u001b[1;33m\u001b[0m\u001b[0m\n",
            "\u001b[1;32m~\\anaconda3\\envs\\nlp\\lib\\site-packages\\pandas\\core\\series.py\u001b[0m in \u001b[0;36m__getitem__\u001b[1;34m(self, key)\u001b[0m\n\u001b[0;32m    880\u001b[0m \u001b[1;33m\u001b[0m\u001b[0m\n\u001b[0;32m    881\u001b[0m         \u001b[1;32melif\u001b[0m \u001b[0mkey_is_scalar\u001b[0m\u001b[1;33m:\u001b[0m\u001b[1;33m\u001b[0m\u001b[1;33m\u001b[0m\u001b[0m\n\u001b[1;32m--> 882\u001b[1;33m             \u001b[1;32mreturn\u001b[0m \u001b[0mself\u001b[0m\u001b[1;33m.\u001b[0m\u001b[0m_get_value\u001b[0m\u001b[1;33m(\u001b[0m\u001b[0mkey\u001b[0m\u001b[1;33m)\u001b[0m\u001b[1;33m\u001b[0m\u001b[1;33m\u001b[0m\u001b[0m\n\u001b[0m\u001b[0;32m    883\u001b[0m \u001b[1;33m\u001b[0m\u001b[0m\n\u001b[0;32m    884\u001b[0m         \u001b[1;32mif\u001b[0m \u001b[0mis_hashable\u001b[0m\u001b[1;33m(\u001b[0m\u001b[0mkey\u001b[0m\u001b[1;33m)\u001b[0m\u001b[1;33m:\u001b[0m\u001b[1;33m\u001b[0m\u001b[1;33m\u001b[0m\u001b[0m\n",
            "\u001b[1;32m~\\anaconda3\\envs\\nlp\\lib\\site-packages\\pandas\\core\\series.py\u001b[0m in \u001b[0;36m_get_value\u001b[1;34m(self, label, takeable)\u001b[0m\n\u001b[0;32m    988\u001b[0m \u001b[1;33m\u001b[0m\u001b[0m\n\u001b[0;32m    989\u001b[0m         \u001b[1;31m# Similar to Index.get_value, but we do not fall back to positional\u001b[0m\u001b[1;33m\u001b[0m\u001b[1;33m\u001b[0m\u001b[1;33m\u001b[0m\u001b[0m\n\u001b[1;32m--> 990\u001b[1;33m         \u001b[0mloc\u001b[0m \u001b[1;33m=\u001b[0m \u001b[0mself\u001b[0m\u001b[1;33m.\u001b[0m\u001b[0mindex\u001b[0m\u001b[1;33m.\u001b[0m\u001b[0mget_loc\u001b[0m\u001b[1;33m(\u001b[0m\u001b[0mlabel\u001b[0m\u001b[1;33m)\u001b[0m\u001b[1;33m\u001b[0m\u001b[1;33m\u001b[0m\u001b[0m\n\u001b[0m\u001b[0;32m    991\u001b[0m         \u001b[1;32mreturn\u001b[0m \u001b[0mself\u001b[0m\u001b[1;33m.\u001b[0m\u001b[0mindex\u001b[0m\u001b[1;33m.\u001b[0m\u001b[0m_get_values_for_loc\u001b[0m\u001b[1;33m(\u001b[0m\u001b[0mself\u001b[0m\u001b[1;33m,\u001b[0m \u001b[0mloc\u001b[0m\u001b[1;33m,\u001b[0m \u001b[0mlabel\u001b[0m\u001b[1;33m)\u001b[0m\u001b[1;33m\u001b[0m\u001b[1;33m\u001b[0m\u001b[0m\n\u001b[0;32m    992\u001b[0m \u001b[1;33m\u001b[0m\u001b[0m\n",
            "\u001b[1;32m~\\anaconda3\\envs\\nlp\\lib\\site-packages\\pandas\\core\\indexes\\range.py\u001b[0m in \u001b[0;36mget_loc\u001b[1;34m(self, key, method, tolerance)\u001b[0m\n\u001b[0;32m    355\u001b[0m                     \u001b[1;32mreturn\u001b[0m \u001b[0mself\u001b[0m\u001b[1;33m.\u001b[0m\u001b[0m_range\u001b[0m\u001b[1;33m.\u001b[0m\u001b[0mindex\u001b[0m\u001b[1;33m(\u001b[0m\u001b[0mnew_key\u001b[0m\u001b[1;33m)\u001b[0m\u001b[1;33m\u001b[0m\u001b[1;33m\u001b[0m\u001b[0m\n\u001b[0;32m    356\u001b[0m                 \u001b[1;32mexcept\u001b[0m \u001b[0mValueError\u001b[0m \u001b[1;32mas\u001b[0m \u001b[0merr\u001b[0m\u001b[1;33m:\u001b[0m\u001b[1;33m\u001b[0m\u001b[1;33m\u001b[0m\u001b[0m\n\u001b[1;32m--> 357\u001b[1;33m                     \u001b[1;32mraise\u001b[0m \u001b[0mKeyError\u001b[0m\u001b[1;33m(\u001b[0m\u001b[0mkey\u001b[0m\u001b[1;33m)\u001b[0m \u001b[1;32mfrom\u001b[0m \u001b[0merr\u001b[0m\u001b[1;33m\u001b[0m\u001b[1;33m\u001b[0m\u001b[0m\n\u001b[0m\u001b[0;32m    358\u001b[0m             \u001b[1;32mraise\u001b[0m \u001b[0mKeyError\u001b[0m\u001b[1;33m(\u001b[0m\u001b[0mkey\u001b[0m\u001b[1;33m)\u001b[0m\u001b[1;33m\u001b[0m\u001b[1;33m\u001b[0m\u001b[0m\n\u001b[0;32m    359\u001b[0m         \u001b[1;32mreturn\u001b[0m \u001b[0msuper\u001b[0m\u001b[1;33m(\u001b[0m\u001b[1;33m)\u001b[0m\u001b[1;33m.\u001b[0m\u001b[0mget_loc\u001b[0m\u001b[1;33m(\u001b[0m\u001b[0mkey\u001b[0m\u001b[1;33m,\u001b[0m \u001b[0mmethod\u001b[0m\u001b[1;33m=\u001b[0m\u001b[0mmethod\u001b[0m\u001b[1;33m,\u001b[0m \u001b[0mtolerance\u001b[0m\u001b[1;33m=\u001b[0m\u001b[0mtolerance\u001b[0m\u001b[1;33m)\u001b[0m\u001b[1;33m\u001b[0m\u001b[1;33m\u001b[0m\u001b[0m\n",
            "\u001b[1;31mKeyError\u001b[0m: 1999"
          ]
        }
      ]
    },
    {
      "cell_type": "code",
      "metadata": {
        "id": "cJ2YQxmMQoN-"
      },
      "source": [
        "results = pd.DataFrame()\n",
        "results[\"Original_text\"] = original_text\n",
        "results[\"Original_summary\"] = original_summary\n",
        "results[\"Created_summary_t5\"] = created_summary_t5\n",
        "results[\"Created_summary_bart\"] = created_summary_bart\n",
        "results[\"Created_summary_t5\"] = results[\"Created_summary_t5\"].str.replace(\"<pad> \", \"\")\n",
        "results[\"Created_summary_bart\"] = results[\"Created_summary_bart\"].str.replace(\"</s><s>\", \"\")\n",
        "results[\"Created_summary_bart\"] = results[\"Created_summary_bart\"].str.replace(\"</s>\", \"\")\n"
      ],
      "execution_count": 22,
      "outputs": []
    },
    {
      "cell_type": "code",
      "execution_count": 23,
      "metadata": {},
      "outputs": [
        {
          "output_type": "execute_result",
          "data": {
            "text/plain": [
              "                                                                                                                                                                                                Original_text  \\\n",
              "0     united states president barack obama paved way imposing economic sanctions russia however would ineffective naive response crisis ukraine economic sanctions little independent usefulness pursuit n...   \n",
              "1     yes read headline right proof marilyn monroe sexiest woman ever walk earth years death people still willing spend money facial x rays auctioned julien auctions according vanity fair six facial x r...   \n",
              "2     anarchist social worker raided feds wants computers manuscripts pick axes back argues authorities violated constitution rights mentally ill clients searching evidence broke anti rioting law twitte...   \n",
              "3     cast marvel avengers age ultron keeps getting better sunday thor co star idris elba let slip interview uk telegraph tom hiddleston appear next may avengers sequel elba played asgard guardian heimd...   \n",
              "4     british world champion amir khan retained world boxing association light welterweight title saturday night clinical stopppage victory challenger paulie malignaggi madison square garden new york ye...   \n",
              "...                                                                                                                                                                                                       ...   \n",
              "1994  former president george w bush briefly jumped back national conversation tuesday night interview tonight show bush told host jay leno miss spotlight thoroughly enjoying post presidential life wedn...   \n",
              "1995  new york governors massachusetts new hampshire declared states emergency friday high winds rain snow swept northeast leaving least million homes businesses without power ireporter candy novoa says...   \n",
              "1996  port au prince haiti like many people done time haiti gary garner needs good cry past five days salt lake city utah physician held dying man arms amputated fingers toes remember needs rest friday ...   \n",
              "1997  paul schaefer former nazi fled germany founded cult like commune chile died saturday prison hospital schaefer serving year sentence national penitentiary santiago sexually abusing children notorio...   \n",
              "1998  silver sochi austria marcel hirscher back top winning world cup slalom crystal globe hirscher defeated germany felix neureuther recording time minutes seconds win overall world cup title third yea...   \n",
              "\n",
              "                                                             Original_summary  \\\n",
              "0                    robert pape argues economic sanctions russia would work    \n",
              "1                                  six facial x rays marilyn monroe surfaced    \n",
              "2                                    elliott madison home raided fbi october    \n",
              "3                                   idris elba confirmed avengers age ultron    \n",
              "4      british world champion amir khan retains wba light welterweight title    \n",
              "...                                                                       ...   \n",
              "1994         george w bush goes tonight show bill clinton gets medal freedom    \n",
              "1995         new least million without power across four northeastern states    \n",
              "1996                            doctor utah looks way home days volunteering    \n",
              "1997     former nazi officer paul schaefer dies chile cardiopulmonary arrest    \n",
              "1998                     marcel hirscher wins world cup slalom crystal globe    \n",
              "\n",
              "                                               Created_summary_t5  \\\n",
              "0             russia would ineffective ukraine economic sanctions   \n",
              "1                                            marilyn monroe x ray   \n",
              "2                       anarchist social worker raided feds house   \n",
              "3                                                 idris elba says   \n",
              "4                                    amir khan retains light welt   \n",
              "...                                                           ...   \n",
              "1994                former president george w bush briefly jumped   \n",
              "1995                     new hampshire declares states emergency.   \n",
              "1996  gary garner said low voice quietly gently suffering showing   \n",
              "1997                                        paul schaefer dies in   \n",
              "1998                            marcel hirscher wins world cup sl   \n",
              "\n",
              "                                     Created_summary_bart  \n",
              "0          united states president barack obama paved way  \n",
              "1            yes read headline right proof marilyn monroe  \n",
              "2     anarchist social worker raided feds wants computers  \n",
              "3           cast marvel avengers age ultron keeps getting  \n",
              "4                        british world champion amir khan  \n",
              "...                                                   ...  \n",
              "1994   former president george w bush briefly jumped back  \n",
              "1995            new york governors massachusetts new hamp  \n",
              "1996           port au prince haiti like many people done  \n",
              "1997                       paul schaefer former nazi fled  \n",
              "1998                      silver sochi austria marcel hir  \n",
              "\n",
              "[1999 rows x 4 columns]"
            ],
            "text/html": "<div>\n<style scoped>\n    .dataframe tbody tr th:only-of-type {\n        vertical-align: middle;\n    }\n\n    .dataframe tbody tr th {\n        vertical-align: top;\n    }\n\n    .dataframe thead th {\n        text-align: right;\n    }\n</style>\n<table border=\"1\" class=\"dataframe\">\n  <thead>\n    <tr style=\"text-align: right;\">\n      <th></th>\n      <th>Original_text</th>\n      <th>Original_summary</th>\n      <th>Created_summary_t5</th>\n      <th>Created_summary_bart</th>\n    </tr>\n  </thead>\n  <tbody>\n    <tr>\n      <th>0</th>\n      <td>united states president barack obama paved way imposing economic sanctions russia however would ineffective naive response crisis ukraine economic sanctions little independent usefulness pursuit n...</td>\n      <td>robert pape argues economic sanctions russia would work</td>\n      <td>russia would ineffective ukraine economic sanctions</td>\n      <td>united states president barack obama paved way</td>\n    </tr>\n    <tr>\n      <th>1</th>\n      <td>yes read headline right proof marilyn monroe sexiest woman ever walk earth years death people still willing spend money facial x rays auctioned julien auctions according vanity fair six facial x r...</td>\n      <td>six facial x rays marilyn monroe surfaced</td>\n      <td>marilyn monroe x ray</td>\n      <td>yes read headline right proof marilyn monroe</td>\n    </tr>\n    <tr>\n      <th>2</th>\n      <td>anarchist social worker raided feds wants computers manuscripts pick axes back argues authorities violated constitution rights mentally ill clients searching evidence broke anti rioting law twitte...</td>\n      <td>elliott madison home raided fbi october</td>\n      <td>anarchist social worker raided feds house</td>\n      <td>anarchist social worker raided feds wants computers</td>\n    </tr>\n    <tr>\n      <th>3</th>\n      <td>cast marvel avengers age ultron keeps getting better sunday thor co star idris elba let slip interview uk telegraph tom hiddleston appear next may avengers sequel elba played asgard guardian heimd...</td>\n      <td>idris elba confirmed avengers age ultron</td>\n      <td>idris elba says</td>\n      <td>cast marvel avengers age ultron keeps getting</td>\n    </tr>\n    <tr>\n      <th>4</th>\n      <td>british world champion amir khan retained world boxing association light welterweight title saturday night clinical stopppage victory challenger paulie malignaggi madison square garden new york ye...</td>\n      <td>british world champion amir khan retains wba light welterweight title</td>\n      <td>amir khan retains light welt</td>\n      <td>british world champion amir khan</td>\n    </tr>\n    <tr>\n      <th>...</th>\n      <td>...</td>\n      <td>...</td>\n      <td>...</td>\n      <td>...</td>\n    </tr>\n    <tr>\n      <th>1994</th>\n      <td>former president george w bush briefly jumped back national conversation tuesday night interview tonight show bush told host jay leno miss spotlight thoroughly enjoying post presidential life wedn...</td>\n      <td>george w bush goes tonight show bill clinton gets medal freedom</td>\n      <td>former president george w bush briefly jumped</td>\n      <td>former president george w bush briefly jumped back</td>\n    </tr>\n    <tr>\n      <th>1995</th>\n      <td>new york governors massachusetts new hampshire declared states emergency friday high winds rain snow swept northeast leaving least million homes businesses without power ireporter candy novoa says...</td>\n      <td>new least million without power across four northeastern states</td>\n      <td>new hampshire declares states emergency.</td>\n      <td>new york governors massachusetts new hamp</td>\n    </tr>\n    <tr>\n      <th>1996</th>\n      <td>port au prince haiti like many people done time haiti gary garner needs good cry past five days salt lake city utah physician held dying man arms amputated fingers toes remember needs rest friday ...</td>\n      <td>doctor utah looks way home days volunteering</td>\n      <td>gary garner said low voice quietly gently suffering showing</td>\n      <td>port au prince haiti like many people done</td>\n    </tr>\n    <tr>\n      <th>1997</th>\n      <td>paul schaefer former nazi fled germany founded cult like commune chile died saturday prison hospital schaefer serving year sentence national penitentiary santiago sexually abusing children notorio...</td>\n      <td>former nazi officer paul schaefer dies chile cardiopulmonary arrest</td>\n      <td>paul schaefer dies in</td>\n      <td>paul schaefer former nazi fled</td>\n    </tr>\n    <tr>\n      <th>1998</th>\n      <td>silver sochi austria marcel hirscher back top winning world cup slalom crystal globe hirscher defeated germany felix neureuther recording time minutes seconds win overall world cup title third yea...</td>\n      <td>marcel hirscher wins world cup slalom crystal globe</td>\n      <td>marcel hirscher wins world cup sl</td>\n      <td>silver sochi austria marcel hir</td>\n    </tr>\n  </tbody>\n</table>\n<p>1999 rows × 4 columns</p>\n</div>"
          },
          "metadata": {},
          "execution_count": 23
        }
      ],
      "source": [
        "results"
      ]
    },
    {
      "cell_type": "code",
      "metadata": {
        "id": "g-aN4j8-QoN-"
      },
      "source": [
        "results.to_csv(\"results_predictions_transformers.csv\")"
      ],
      "execution_count": 24,
      "outputs": []
    },
    {
      "cell_type": "code",
      "metadata": {
        "id": "RaW0LAO2QoN_"
      },
      "source": [
        "results=pd.read_csv(\"results_predictions_transformers.csv\")"
      ],
      "execution_count": 25,
      "outputs": []
    },
    {
      "cell_type": "code",
      "metadata": {
        "id": "7erDJMdsQoOA"
      },
      "source": [
        "reference_sentences = results[\"Original_summary\"].to_list()\n",
        "summary_sentences_t5 = results[\"Created_summary_t5\"].to_list()\n",
        "summary_sentences_bart = results[\"Created_summary_bart\"].to_list()\n"
      ],
      "execution_count": 26,
      "outputs": []
    },
    {
      "source": [
        "# Evaluation"
      ],
      "cell_type": "markdown",
      "metadata": {}
    },
    {
      "cell_type": "code",
      "metadata": {
        "id": "4q5fwxZZQoOA",
        "outputId": "e52f0ec4-0e1b-4b84-912c-dc83eb40148c"
      },
      "source": [
        "from rouge import rouge_n_sentence_level\n",
        "from rouge import rouge_l_sentence_level\n",
        "from rouge import rouge_n_summary_level\n",
        "from rouge import rouge_l_summary_level\n",
        "from rouge import rouge_w_sentence_level\n",
        "from rouge import rouge_w_summary_level\n",
        "import statistics\n",
        "\n",
        "mean_rouge_r2_t5 = 0\n",
        "mean_rouge_r1_t5= 0\n",
        "mean_rouge_r2_bart= 0\n",
        "mean_rouge_r1_bart= 0\n",
        "\n",
        "summary_sentences_list = [summary_sentences_t5, summary_sentences_bart]\n",
        "mean_rouge_r2_list = [mean_rouge_r2_t5, mean_rouge_r2_bart]\n",
        "mean_rouge_r1_list = [mean_rouge_r1_t5, mean_rouge_r1_bart]\n",
        "\n",
        "for iteration in range(2):\n",
        "    print(\"Model: \", iteration)\n",
        "    \n",
        "    list_rouge_r2 = []\n",
        "    list_recall_r2 = []\n",
        "    list_precision_r2 = []\n",
        "    list_rouge_r1= []\n",
        "    list_recall_r1 = []\n",
        "    list_precision_r1 = []\n",
        "\n",
        "    for i in range(0, len(reference_sentences)):\n",
        "        clear_output(wait=True)\n",
        "        print(i)\n",
        "        reference_sentence = reference_sentences[i].split()\n",
        "        summary_sentence = summary_sentences_list[iteration][i].split()\n",
        "        \n",
        "        # Calculate ROUGE-2.\n",
        "        recall_r2, precision_r2, rouge_r2 = rouge_n_sentence_level(summary_sentence, reference_sentence, 2)\n",
        "\n",
        "        list_rouge_r2.append(rouge_r2)\n",
        "        list_recall_r2.append(recall_r2)\n",
        "        list_precision_r2.append(precision_r2)\n",
        "\n",
        "        # Calculate ROUGE-1.\n",
        "        recall_r1, precision_r1, rouge_r1 = rouge_n_sentence_level(summary_sentence, reference_sentence, 1)\n",
        "\n",
        "        list_rouge_r1.append(rouge_r1)\n",
        "        list_recall_r1.append(recall_r1)\n",
        "        list_precision_r1.append(precision_r1)\n",
        "\n",
        "\n",
        "    mean_rouge_r2_list[iteration] = statistics.mean(list_rouge_r2)  \n",
        "    mean_rouge_r1_list[iteration] = statistics.mean(list_rouge_r1)  \n",
        "\n",
        "    print(\"Mean ROUGE-2 : \", mean_rouge_r2_list[iteration])\n",
        "    print(\"Mean ROUGE-1 : \", mean_rouge_r1_list[iteration])"
      ],
      "execution_count": 27,
      "outputs": [
        {
          "output_type": "stream",
          "name": "stdout",
          "text": [
            "1998\nMean ROUGE-2 :  0.07226925170227316\nMean ROUGE-1 :  0.17462091734026464\n"
          ]
        }
      ]
    },
    {
      "cell_type": "code",
      "execution_count": 31,
      "metadata": {},
      "outputs": [
        {
          "output_type": "stream",
          "name": "stdout",
          "text": [
            "Model T5\nRouge 2:  0.08805643454159663 Rouge 1:  0.20506368791354937\nModel BART\nRouge 2:  0.07226925170227316 Rouge 1:  0.17462091734026464\n"
          ]
        }
      ],
      "source": [
        "print(\"Model T5\")\n",
        "print(\"Rouge 2: \", mean_rouge_r2_list[0], \"Rouge 1: \",mean_rouge_r1_list[0])\n",
        "print(\"Model BART\")\n",
        "print(\"Rouge 2: \", mean_rouge_r2_list[1], \"Rouge 1: \",mean_rouge_r1_list[1])"
      ]
    },
    {
      "cell_type": "code",
      "execution_count": null,
      "metadata": {},
      "outputs": [],
      "source": []
    }
  ]
}