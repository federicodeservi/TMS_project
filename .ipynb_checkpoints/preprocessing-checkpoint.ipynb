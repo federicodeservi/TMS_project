{
 "cells": [
  {
   "cell_type": "markdown",
   "metadata": {},
   "source": [
    "# Libraries"
   ]
  },
  {
   "cell_type": "code",
   "execution_count": 47,
   "metadata": {},
   "outputs": [],
   "source": [
    "# Import libraries\n",
    "from attention import AttentionLayer\n",
    "from os import listdir\n",
    "import string\n",
    "import pandas as pd\n",
    "import numpy as np  \n",
    "import nltk\n",
    "import pandas as pd \n",
    "import re           \n",
    "from bs4 import BeautifulSoup \n",
    "from tensorflow.keras.preprocessing.text import Tokenizer \n",
    "from tensorflow.keras.preprocessing.sequence import pad_sequences\n",
    "from nltk.corpus import stopwords   \n",
    "from tensorflow.keras.layers import Input, LSTM, Embedding, Dense, Concatenate, TimeDistributed, Bidirectional\n",
    "from tensorflow.compat.v1.keras.layers import CuDNNLSTM\n",
    "from tensorflow.keras.models import Model\n",
    "from tensorflow.keras.callbacks import EarlyStopping\n",
    "import warnings\n",
    "pd.set_option(\"display.max_colwidth\", 200)\n",
    "warnings.filterwarnings(\"ignore\")\n",
    "#nltk.download()"
   ]
  },
  {
   "cell_type": "markdown",
   "metadata": {},
   "source": [
    "# Loading data"
   ]
  },
  {
   "cell_type": "code",
   "execution_count": 48,
   "metadata": {},
   "outputs": [],
   "source": [
    "# load doc into memory\n",
    "def load_doc(filename):\n",
    "\tfile = open(filename, encoding='utf-8')\n",
    "\ttext = file.read()\n",
    "\tfile.close()\n",
    "\treturn text\n",
    "\n",
    "# split a document into news story and highlights\n",
    "def split_story(doc):\n",
    "\t# find first highlight\n",
    "\tindex = doc.find('@highlight')\n",
    "\t# split into story and highlights\n",
    "\tstory, highlights = doc[:index], doc[index:].split('@highlight')\n",
    "\t# strip extra white space around each highlight\n",
    "\thighlights = [h.strip() for h in highlights if len(h) > 0]\n",
    "\treturn story, highlights\n",
    "\n",
    "# load all stories in a directory\n",
    "def load_stories(directory):\n",
    "    stories = []\n",
    "    highlights =[]\n",
    "    for name in listdir(directory)[:100]:\n",
    "        filename = directory + '/' + name\n",
    "\t\t# load document\n",
    "        doc = load_doc(filename)\n",
    "\t\t# split into story and highlights\n",
    "        story, highlight = split_story(doc)\n",
    "\t\t# store\n",
    "        stories.append(story)\n",
    "        highlights.append(highlight)\n",
    "    data = pd.DataFrame()\n",
    "    data[\"story\"] = stories\n",
    "    data[\"highlight\"] = highlights\n",
    "    \n",
    "    return  data"
   ]
  },
  {
   "cell_type": "code",
   "execution_count": 49,
   "metadata": {},
   "outputs": [],
   "source": [
    "# load stories\n",
    "directory = 'dati/cnn/stories/'\n",
    "data = load_stories(directory)"
   ]
  },
  {
   "cell_type": "code",
   "execution_count": 50,
   "metadata": {},
   "outputs": [
    {
     "name": "stdout",
     "output_type": "stream",
     "text": [
      "Loaded Stories 100\n"
     ]
    }
   ],
   "source": [
    "print('Loaded Stories %d' % len(data))"
   ]
  },
  {
   "cell_type": "markdown",
   "metadata": {},
   "source": [
    "# Cleaning and preprocessing\n"
   ]
  },
  {
   "cell_type": "code",
   "execution_count": 51,
   "metadata": {},
   "outputs": [
    {
     "data": {
      "text/html": [
       "<div>\n",
       "<style scoped>\n",
       "    .dataframe tbody tr th:only-of-type {\n",
       "        vertical-align: middle;\n",
       "    }\n",
       "\n",
       "    .dataframe tbody tr th {\n",
       "        vertical-align: top;\n",
       "    }\n",
       "\n",
       "    .dataframe thead th {\n",
       "        text-align: right;\n",
       "    }\n",
       "</style>\n",
       "<table border=\"1\" class=\"dataframe\">\n",
       "  <thead>\n",
       "    <tr style=\"text-align: right;\">\n",
       "      <th></th>\n",
       "      <th>story</th>\n",
       "      <th>highlight</th>\n",
       "    </tr>\n",
       "  </thead>\n",
       "  <tbody>\n",
       "    <tr>\n",
       "      <th>0</th>\n",
       "      <td>At the start of a big week for the Higgs boson, the most sought-after particle in all of physics, scientists in Illinois said Monday that they had crept closer to proving that the particle exists ...</td>\n",
       "      <td>[U.S.-based scientists say their data points toward the existence of the Higgs boson, Finding the Higgs boson would help explain the origin of mass, But the research at the Tevatron collider doesn...</td>\n",
       "    </tr>\n",
       "    <tr>\n",
       "      <th>1</th>\n",
       "      <td>(CNN)George Zimmerman -- acquitted by a Florida jury over the death of Trayvon Martin -- was arrested in Florida on suspicion of aggravated assault and domestic violence with a weapon, local autho...</td>\n",
       "      <td>[Zimmerman posts $5,000 bail; he was accused of throwing a bottle at a girlfriend, \"He hasn't been very lucky with the ladies,\" attorney says of Zimmerman, He became a national figure after being ...</td>\n",
       "    </tr>\n",
       "    <tr>\n",
       "      <th>2</th>\n",
       "      <td>(CNN) -- Zlatan Ibrahimovic scored his third goal in as many games to continue his return to form and lift Barcelona to the top of Spain's La Liga on Saturday night.\\n\\nThe Sweden striker, who was...</td>\n",
       "      <td>[Barcelona move three points clear of Real Madrid with 1-0 victory at Mallorca, Sweden striker Zlatan Ibrahimovic nets winner for his third goal in a week, Real can return to top on goal differenc...</td>\n",
       "    </tr>\n",
       "    <tr>\n",
       "      <th>3</th>\n",
       "      <td>(CNN) -- Nobel laureate Norman E. Borlaug, an agricultural scientist who helped develop disease-resistant wheat used to fight famine in poor countries, died Saturday. He was 95.\\n\\nNorman Borlaug ...</td>\n",
       "      <td>[Borlaug died at the age of 95 from complications caused by cancer, In 1970, was awarded the Nobel Peace Prize for his contribution to science, Helped develop disease-resistant wheat, worked to ea...</td>\n",
       "    </tr>\n",
       "    <tr>\n",
       "      <th>4</th>\n",
       "      <td>(CNN)Louisiana Gov. Bobby Jindal on Monday stood by his criticism of so-called \"no-go\" zones in Europe, where sovereign nations allegedly cede authority to Muslim immigrants, a controversial idea ...</td>\n",
       "      <td>[Louisiana Gov. Bobby Jindal decried \"no-go zones,\" where sovereign governments cede authority to Muslims, A Fox News commentator sparked controversy when he mentioned the idea last week, which ha...</td>\n",
       "    </tr>\n",
       "  </tbody>\n",
       "</table>\n",
       "</div>"
      ],
      "text/plain": [
       "                                                                                                                                                                                                     story  \\\n",
       "0  At the start of a big week for the Higgs boson, the most sought-after particle in all of physics, scientists in Illinois said Monday that they had crept closer to proving that the particle exists ...   \n",
       "1  (CNN)George Zimmerman -- acquitted by a Florida jury over the death of Trayvon Martin -- was arrested in Florida on suspicion of aggravated assault and domestic violence with a weapon, local autho...   \n",
       "2  (CNN) -- Zlatan Ibrahimovic scored his third goal in as many games to continue his return to form and lift Barcelona to the top of Spain's La Liga on Saturday night.\\n\\nThe Sweden striker, who was...   \n",
       "3  (CNN) -- Nobel laureate Norman E. Borlaug, an agricultural scientist who helped develop disease-resistant wheat used to fight famine in poor countries, died Saturday. He was 95.\\n\\nNorman Borlaug ...   \n",
       "4  (CNN)Louisiana Gov. Bobby Jindal on Monday stood by his criticism of so-called \"no-go\" zones in Europe, where sovereign nations allegedly cede authority to Muslim immigrants, a controversial idea ...   \n",
       "\n",
       "                                                                                                                                                                                                 highlight  \n",
       "0  [U.S.-based scientists say their data points toward the existence of the Higgs boson, Finding the Higgs boson would help explain the origin of mass, But the research at the Tevatron collider doesn...  \n",
       "1  [Zimmerman posts $5,000 bail; he was accused of throwing a bottle at a girlfriend, \"He hasn't been very lucky with the ladies,\" attorney says of Zimmerman, He became a national figure after being ...  \n",
       "2  [Barcelona move three points clear of Real Madrid with 1-0 victory at Mallorca, Sweden striker Zlatan Ibrahimovic nets winner for his third goal in a week, Real can return to top on goal differenc...  \n",
       "3  [Borlaug died at the age of 95 from complications caused by cancer, In 1970, was awarded the Nobel Peace Prize for his contribution to science, Helped develop disease-resistant wheat, worked to ea...  \n",
       "4  [Louisiana Gov. Bobby Jindal decried \"no-go zones,\" where sovereign governments cede authority to Muslims, A Fox News commentator sparked controversy when he mentioned the idea last week, which ha...  "
      ]
     },
     "execution_count": 51,
     "metadata": {},
     "output_type": "execute_result"
    }
   ],
   "source": [
    "data.head()"
   ]
  },
  {
   "cell_type": "code",
   "execution_count": 52,
   "metadata": {},
   "outputs": [],
   "source": [
    "data = data.explode(\"highlight\")"
   ]
  },
  {
   "cell_type": "code",
   "execution_count": 53,
   "metadata": {},
   "outputs": [],
   "source": [
    "contraction_mapping = {\"ain't\": \"is not\", \"aren't\": \"are not\",\"can't\": \"cannot\", \"'cause\": \"because\", \"could've\": \"could have\", \"couldn't\": \"could not\",\"didn't\": \"did not\", \"doesn't\": \"does not\", \"don't\": \"do not\", \"hadn't\": \"had not\", \"hasn't\": \"has not\", \"haven't\": \"have not\",\n",
    "\"he'd\": \"he would\",\"he'll\": \"he will\", \"he's\": \"he is\", \"how'd\": \"how did\", \"how'd'y\": \"how do you\", \"how'll\": \"how will\", \"how's\": \"how is\",\n",
    "\"I'd\": \"I would\", \"I'd've\": \"I would have\", \"I'll\": \"I will\", \"I'll've\": \"I will have\",\"I'm\": \"I am\", \"I've\": \"I have\", \"i'd\": \"i would\",\n",
    "\"i'd've\": \"i would have\", \"i'll\": \"i will\",  \"i'll've\": \"i will have\",\"i'm\": \"i am\", \"i've\": \"i have\", \"isn't\": \"is not\", \"it'd\": \"it would\",\n",
    "\"it'd've\": \"it would have\", \"it'll\": \"it will\", \"it'll've\": \"it will have\",\"it's\": \"it is\", \"let's\": \"let us\", \"ma'am\": \"madam\",\n",
    "\"mayn't\": \"may not\", \"might've\": \"might have\",\"mightn't\": \"might not\",\"mightn't've\": \"might not have\", \"must've\": \"must have\",\n",
    "\"mustn't\": \"must not\", \"mustn't've\": \"must not have\", \"needn't\": \"need not\", \"needn't've\": \"need not have\",\"o'clock\": \"of the clock\",\n",
    "\"oughtn't\": \"ought not\", \"oughtn't've\": \"ought not have\", \"shan't\": \"shall not\", \"sha'n't\": \"shall not\", \"shan't've\": \"shall not have\",\n",
    "\"she'd\": \"she would\", \"she'd've\": \"she would have\", \"she'll\": \"she will\", \"she'll've\": \"she will have\", \"she's\": \"she is\",\n",
    "\"should've\": \"should have\", \"shouldn't\": \"should not\", \"shouldn't've\": \"should not have\", \"so've\": \"so have\",\"so's\": \"so as\",\n",
    "\"this's\": \"this is\",\"that'd\": \"that would\", \"that'd've\": \"that would have\", \"that's\": \"that is\", \"there'd\": \"there would\",\n",
    "\"there'd've\": \"there would have\", \"there's\": \"there is\", \"here's\": \"here is\",\"they'd\": \"they would\", \"they'd've\": \"they would have\",\n",
    "\"they'll\": \"they will\", \"they'll've\": \"they will have\", \"they're\": \"they are\", \"they've\": \"they have\", \"to've\": \"to have\",\n",
    "\"wasn't\": \"was not\", \"we'd\": \"we would\", \"we'd've\": \"we would have\", \"we'll\": \"we will\", \"we'll've\": \"we will have\", \"we're\": \"we are\",\n",
    "\"we've\": \"we have\", \"weren't\": \"were not\", \"what'll\": \"what will\", \"what'll've\": \"what will have\", \"what're\": \"what are\",\n",
    "\"what's\": \"what is\", \"what've\": \"what have\", \"when's\": \"when is\", \"when've\": \"when have\", \"where'd\": \"where did\", \"where's\": \"where is\",\n",
    "\"where've\": \"where have\", \"who'll\": \"who will\", \"who'll've\": \"who will have\", \"who's\": \"who is\", \"who've\": \"who have\",\n",
    "\"why's\": \"why is\", \"why've\": \"why have\", \"will've\": \"will have\", \"won't\": \"will not\", \"won't've\": \"will not have\",\n",
    "\"would've\": \"would have\", \"wouldn't\": \"would not\", \"wouldn't've\": \"would not have\", \"y'all\": \"you all\",\n",
    "\"y'all'd\": \"you all would\",\"y'all'd've\": \"you all would have\",\"y'all're\": \"you all are\",\"y'all've\": \"you all have\",\n",
    "\"you'd\": \"you would\", \"you'd've\": \"you would have\", \"you'll\": \"you will\", \"you'll've\": \"you will have\",\"you're\": \"you are\", \"you've\": \"you have\"}\n"
   ]
  },
  {
   "cell_type": "code",
   "execution_count": 54,
   "metadata": {},
   "outputs": [],
   "source": [
    "stop_words = set(stopwords.words('english')) \n",
    "\n",
    "def text_cleaner(input_text):\n",
    "    #strips source cnn office if there\n",
    "    cleanString = input_text.replace('(CNN) -- ', '')\n",
    "    cleanString = cleanString.lower()\n",
    "    cleanString = re.sub(r'\\([^)]*\\)', '', cleanString)\n",
    "    cleanString = re.sub('\"','', cleanString)\n",
    "    cleanString = ' '.join([contraction_mapping[t] if t in contraction_mapping else t for t in cleanString.split(\" \")])    \n",
    "    cleanString = re.sub(r\"'s\\b\",\"\",cleanString)\n",
    "    cleanString = re.sub(\"[^a-zA-Z]\", \" \", cleanString) \n",
    "    tokens = [w for w in cleanString.split() if not w in stop_words]\n",
    "    long_words=[]\n",
    "    for i in tokens:\n",
    "        if len(i)>=2:                  \n",
    "            long_words.append(i)   \n",
    "\n",
    "    return (\" \".join(long_words)).strip()\n"
   ]
  },
  {
   "cell_type": "code",
   "execution_count": 55,
   "metadata": {},
   "outputs": [],
   "source": [
    "cleaned_story = []\n",
    "for t in data['story']:\n",
    "    cleaned_story.append(text_cleaner(t))"
   ]
  },
  {
   "cell_type": "code",
   "execution_count": 56,
   "metadata": {},
   "outputs": [],
   "source": [
    "def highlight_cleaner(input_text):\n",
    "    cleanString = input_text.lower()\n",
    "    cleanString = re.sub(r'\\([^)]*\\)', '', cleanString)\n",
    "    cleanString = re.sub('\"','', cleanString)\n",
    "    cleanString = ' '.join([contraction_mapping[t] if t in contraction_mapping else t for t in cleanString.split(\" \")])    \n",
    "    cleanString = re.sub(r\"'s\\b\",\"\",cleanString)\n",
    "    cleanString = re.sub(\"[^a-zA-Z]\", \" \", cleanString) \n",
    "\n",
    "    tokens = [w for w in cleanString.split() if not w in stop_words]\n",
    "    results = []\n",
    "    for i in tokens:            \n",
    "        results.append(i)   \n",
    "\n",
    "    return (\" \".join(results)).strip()"
   ]
  },
  {
   "cell_type": "code",
   "execution_count": 57,
   "metadata": {},
   "outputs": [],
   "source": [
    "#Call the above function\n",
    "cleaned_highlight = []\n",
    "\n",
    "for t in data['highlight']:\n",
    "    highlight_per_story = []\n",
    "    cleaned_highlight.append(highlight_cleaner(t))\n",
    "\n",
    "data['cleaned_text']=cleaned_story\n",
    "data['cleaned_highlight']=cleaned_highlight\n",
    "\n",
    "# Prende spazi vuoti, riempie con NAN e poi leba i NAN\n",
    "data.replace('', np.nan, inplace=True)\n",
    "data.dropna(axis=0,inplace=True)"
   ]
  },
  {
   "cell_type": "code",
   "execution_count": 58,
   "metadata": {},
   "outputs": [],
   "source": [
    "data['cleaned_highlight'] = data['cleaned_highlight'].apply(lambda x : 'starttoken '+ x + ' endtoken')"
   ]
  },
  {
   "cell_type": "code",
   "execution_count": 59,
   "metadata": {},
   "outputs": [
    {
     "data": {
      "text/html": [
       "<div>\n",
       "<style scoped>\n",
       "    .dataframe tbody tr th:only-of-type {\n",
       "        vertical-align: middle;\n",
       "    }\n",
       "\n",
       "    .dataframe tbody tr th {\n",
       "        vertical-align: top;\n",
       "    }\n",
       "\n",
       "    .dataframe thead th {\n",
       "        text-align: right;\n",
       "    }\n",
       "</style>\n",
       "<table border=\"1\" class=\"dataframe\">\n",
       "  <thead>\n",
       "    <tr style=\"text-align: right;\">\n",
       "      <th></th>\n",
       "      <th>story</th>\n",
       "      <th>highlight</th>\n",
       "      <th>cleaned_text</th>\n",
       "      <th>cleaned_highlight</th>\n",
       "    </tr>\n",
       "  </thead>\n",
       "  <tbody>\n",
       "    <tr>\n",
       "      <th>0</th>\n",
       "      <td>At the start of a big week for the Higgs boson, the most sought-after particle in all of physics, scientists in Illinois said Monday that they had crept closer to proving that the particle exists ...</td>\n",
       "      <td>U.S.-based scientists say their data points toward the existence of the Higgs boson</td>\n",
       "      <td>start big week higgs boson sought particle physics scientists illinois said monday crept closer proving particle exists unable reach definitive conclusion scientists outlined final analysis based ...</td>\n",
       "      <td>starttoken u based scientists say data points toward existence higgs boson endtoken</td>\n",
       "    </tr>\n",
       "    <tr>\n",
       "      <th>0</th>\n",
       "      <td>At the start of a big week for the Higgs boson, the most sought-after particle in all of physics, scientists in Illinois said Monday that they had crept closer to proving that the particle exists ...</td>\n",
       "      <td>Finding the Higgs boson would help explain the origin of mass</td>\n",
       "      <td>start big week higgs boson sought particle physics scientists illinois said monday crept closer proving particle exists unable reach definitive conclusion scientists outlined final analysis based ...</td>\n",
       "      <td>starttoken finding higgs boson would help explain origin mass endtoken</td>\n",
       "    </tr>\n",
       "    <tr>\n",
       "      <th>0</th>\n",
       "      <td>At the start of a big week for the Higgs boson, the most sought-after particle in all of physics, scientists in Illinois said Monday that they had crept closer to proving that the particle exists ...</td>\n",
       "      <td>But the research at the Tevatron collider doesn't provide a conclusive answer</td>\n",
       "      <td>start big week higgs boson sought particle physics scientists illinois said monday crept closer proving particle exists unable reach definitive conclusion scientists outlined final analysis based ...</td>\n",
       "      <td>starttoken research tevatron collider provide conclusive answer endtoken</td>\n",
       "    </tr>\n",
       "    <tr>\n",
       "      <th>0</th>\n",
       "      <td>At the start of a big week for the Higgs boson, the most sought-after particle in all of physics, scientists in Illinois said Monday that they had crept closer to proving that the particle exists ...</td>\n",
       "      <td>Attention now turns to a seminar Wednesday on data from the Large Hadron Collider</td>\n",
       "      <td>start big week higgs boson sought particle physics scientists illinois said monday crept closer proving particle exists unable reach definitive conclusion scientists outlined final analysis based ...</td>\n",
       "      <td>starttoken attention turns seminar wednesday data large hadron collider endtoken</td>\n",
       "    </tr>\n",
       "    <tr>\n",
       "      <th>1</th>\n",
       "      <td>(CNN)George Zimmerman -- acquitted by a Florida jury over the death of Trayvon Martin -- was arrested in Florida on suspicion of aggravated assault and domestic violence with a weapon, local autho...</td>\n",
       "      <td>Zimmerman posts $5,000 bail; he was accused of throwing a bottle at a girlfriend</td>\n",
       "      <td>george zimmerman acquitted florida jury death trayvon martin arrested florida suspicion aggravated assault domestic violence weapon local authorities said year old florida resident arrested friday...</td>\n",
       "      <td>starttoken zimmerman posts bail accused throwing bottle girlfriend endtoken</td>\n",
       "    </tr>\n",
       "    <tr>\n",
       "      <th>...</th>\n",
       "      <td>...</td>\n",
       "      <td>...</td>\n",
       "      <td>...</td>\n",
       "      <td>...</td>\n",
       "    </tr>\n",
       "    <tr>\n",
       "      <th>98</th>\n",
       "      <td>New York (CNN) -- A man who allegedly threatened police officers with a knife was shot and fatally wounded Saturday afternoon near Times Square in Manhattan, authorities said.\\n\\nThe 3 p.m. incide...</td>\n",
       "      <td>Area is popular with shoppers, tourists</td>\n",
       "      <td>new york man allegedly threatened police officers knife shot fatally wounded saturday afternoon near times square manhattan authorities said incident occurred area popular shoppers tourists began ...</td>\n",
       "      <td>starttoken area popular shoppers tourists endtoken</td>\n",
       "    </tr>\n",
       "    <tr>\n",
       "      <th>99</th>\n",
       "      <td>London (CNN) -- A journalist at the News of the World, the UK newspaper that was closed by Rupert Murdoch last year, once said: \"This is what we do. We go out and destroy people's lives.\" The Brit...</td>\n",
       "      <td>After Lord Leveson's report on press ethics, James Robinson asks what will change</td>\n",
       "      <td>london journalist news world uk newspaper closed rupert murdoch last year said go destroy people lives british press combative uncompromising feature national life many years high court judge lord...</td>\n",
       "      <td>starttoken lord leveson report press ethics james robinson asks change endtoken</td>\n",
       "    </tr>\n",
       "    <tr>\n",
       "      <th>99</th>\n",
       "      <td>London (CNN) -- A journalist at the News of the World, the UK newspaper that was closed by Rupert Murdoch last year, once said: \"This is what we do. We go out and destroy people's lives.\" The Brit...</td>\n",
       "      <td>Robinson: British press has vowed to clean up its act before, after Diana's death</td>\n",
       "      <td>london journalist news world uk newspaper closed rupert murdoch last year said go destroy people lives british press combative uncompromising feature national life many years high court judge lord...</td>\n",
       "      <td>starttoken robinson british press vowed clean act diana death endtoken</td>\n",
       "    </tr>\n",
       "    <tr>\n",
       "      <th>99</th>\n",
       "      <td>London (CNN) -- A journalist at the News of the World, the UK newspaper that was closed by Rupert Murdoch last year, once said: \"This is what we do. We go out and destroy people's lives.\" The Brit...</td>\n",
       "      <td>PM David Cameron, newspapers and the police are immediate winners, he says</td>\n",
       "      <td>london journalist news world uk newspaper closed rupert murdoch last year said go destroy people lives british press combative uncompromising feature national life many years high court judge lord...</td>\n",
       "      <td>starttoken pm david cameron newspapers police immediate winners says endtoken</td>\n",
       "    </tr>\n",
       "    <tr>\n",
       "      <th>99</th>\n",
       "      <td>London (CNN) -- A journalist at the News of the World, the UK newspaper that was closed by Rupert Murdoch last year, once said: \"This is what we do. We go out and destroy people's lives.\" The Brit...</td>\n",
       "      <td>Tabloid editors and the Murdochs were roundly criticized by the report, he adds</td>\n",
       "      <td>london journalist news world uk newspaper closed rupert murdoch last year said go destroy people lives british press combative uncompromising feature national life many years high court judge lord...</td>\n",
       "      <td>starttoken tabloid editors murdochs roundly criticized report adds endtoken</td>\n",
       "    </tr>\n",
       "  </tbody>\n",
       "</table>\n",
       "<p>354 rows × 4 columns</p>\n",
       "</div>"
      ],
      "text/plain": [
       "                                                                                                                                                                                                      story  \\\n",
       "0   At the start of a big week for the Higgs boson, the most sought-after particle in all of physics, scientists in Illinois said Monday that they had crept closer to proving that the particle exists ...   \n",
       "0   At the start of a big week for the Higgs boson, the most sought-after particle in all of physics, scientists in Illinois said Monday that they had crept closer to proving that the particle exists ...   \n",
       "0   At the start of a big week for the Higgs boson, the most sought-after particle in all of physics, scientists in Illinois said Monday that they had crept closer to proving that the particle exists ...   \n",
       "0   At the start of a big week for the Higgs boson, the most sought-after particle in all of physics, scientists in Illinois said Monday that they had crept closer to proving that the particle exists ...   \n",
       "1   (CNN)George Zimmerman -- acquitted by a Florida jury over the death of Trayvon Martin -- was arrested in Florida on suspicion of aggravated assault and domestic violence with a weapon, local autho...   \n",
       "..                                                                                                                                                                                                      ...   \n",
       "98  New York (CNN) -- A man who allegedly threatened police officers with a knife was shot and fatally wounded Saturday afternoon near Times Square in Manhattan, authorities said.\\n\\nThe 3 p.m. incide...   \n",
       "99  London (CNN) -- A journalist at the News of the World, the UK newspaper that was closed by Rupert Murdoch last year, once said: \"This is what we do. We go out and destroy people's lives.\" The Brit...   \n",
       "99  London (CNN) -- A journalist at the News of the World, the UK newspaper that was closed by Rupert Murdoch last year, once said: \"This is what we do. We go out and destroy people's lives.\" The Brit...   \n",
       "99  London (CNN) -- A journalist at the News of the World, the UK newspaper that was closed by Rupert Murdoch last year, once said: \"This is what we do. We go out and destroy people's lives.\" The Brit...   \n",
       "99  London (CNN) -- A journalist at the News of the World, the UK newspaper that was closed by Rupert Murdoch last year, once said: \"This is what we do. We go out and destroy people's lives.\" The Brit...   \n",
       "\n",
       "                                                                              highlight  \\\n",
       "0   U.S.-based scientists say their data points toward the existence of the Higgs boson   \n",
       "0                         Finding the Higgs boson would help explain the origin of mass   \n",
       "0         But the research at the Tevatron collider doesn't provide a conclusive answer   \n",
       "0     Attention now turns to a seminar Wednesday on data from the Large Hadron Collider   \n",
       "1      Zimmerman posts $5,000 bail; he was accused of throwing a bottle at a girlfriend   \n",
       "..                                                                                  ...   \n",
       "98                                              Area is popular with shoppers, tourists   \n",
       "99    After Lord Leveson's report on press ethics, James Robinson asks what will change   \n",
       "99    Robinson: British press has vowed to clean up its act before, after Diana's death   \n",
       "99           PM David Cameron, newspapers and the police are immediate winners, he says   \n",
       "99      Tabloid editors and the Murdochs were roundly criticized by the report, he adds   \n",
       "\n",
       "                                                                                                                                                                                               cleaned_text  \\\n",
       "0   start big week higgs boson sought particle physics scientists illinois said monday crept closer proving particle exists unable reach definitive conclusion scientists outlined final analysis based ...   \n",
       "0   start big week higgs boson sought particle physics scientists illinois said monday crept closer proving particle exists unable reach definitive conclusion scientists outlined final analysis based ...   \n",
       "0   start big week higgs boson sought particle physics scientists illinois said monday crept closer proving particle exists unable reach definitive conclusion scientists outlined final analysis based ...   \n",
       "0   start big week higgs boson sought particle physics scientists illinois said monday crept closer proving particle exists unable reach definitive conclusion scientists outlined final analysis based ...   \n",
       "1   george zimmerman acquitted florida jury death trayvon martin arrested florida suspicion aggravated assault domestic violence weapon local authorities said year old florida resident arrested friday...   \n",
       "..                                                                                                                                                                                                      ...   \n",
       "98  new york man allegedly threatened police officers knife shot fatally wounded saturday afternoon near times square manhattan authorities said incident occurred area popular shoppers tourists began ...   \n",
       "99  london journalist news world uk newspaper closed rupert murdoch last year said go destroy people lives british press combative uncompromising feature national life many years high court judge lord...   \n",
       "99  london journalist news world uk newspaper closed rupert murdoch last year said go destroy people lives british press combative uncompromising feature national life many years high court judge lord...   \n",
       "99  london journalist news world uk newspaper closed rupert murdoch last year said go destroy people lives british press combative uncompromising feature national life many years high court judge lord...   \n",
       "99  london journalist news world uk newspaper closed rupert murdoch last year said go destroy people lives british press combative uncompromising feature national life many years high court judge lord...   \n",
       "\n",
       "                                                                      cleaned_highlight  \n",
       "0   starttoken u based scientists say data points toward existence higgs boson endtoken  \n",
       "0                starttoken finding higgs boson would help explain origin mass endtoken  \n",
       "0              starttoken research tevatron collider provide conclusive answer endtoken  \n",
       "0      starttoken attention turns seminar wednesday data large hadron collider endtoken  \n",
       "1           starttoken zimmerman posts bail accused throwing bottle girlfriend endtoken  \n",
       "..                                                                                  ...  \n",
       "98                                   starttoken area popular shoppers tourists endtoken  \n",
       "99      starttoken lord leveson report press ethics james robinson asks change endtoken  \n",
       "99               starttoken robinson british press vowed clean act diana death endtoken  \n",
       "99        starttoken pm david cameron newspapers police immediate winners says endtoken  \n",
       "99          starttoken tabloid editors murdochs roundly criticized report adds endtoken  \n",
       "\n",
       "[354 rows x 4 columns]"
      ]
     },
     "execution_count": 59,
     "metadata": {},
     "output_type": "execute_result"
    }
   ],
   "source": [
    "data"
   ]
  },
  {
   "cell_type": "code",
   "execution_count": 60,
   "metadata": {},
   "outputs": [
    {
     "data": {
      "image/png": "[encoded data removed]",
      "text/plain": [
       "<Figure size 432x288 with 2 Axes>"
      ]
     },
     "metadata": {
      "needs_background": "light"
     },
     "output_type": "display_data"
    }
   ],
   "source": [
    "import matplotlib.pyplot as plt\n",
    "\n",
    "text_word_count = []\n",
    "summary_word_count = []\n",
    "\n",
    "# populate the lists with sentence lengths\n",
    "for i in data['cleaned_text']:\n",
    "      text_word_count.append(len(i.split()))\n",
    "\n",
    "for i in data['cleaned_highlight']:\n",
    "      summary_word_count.append(len(i.split()))\n",
    "\n",
    "length_df = pd.DataFrame({'text':text_word_count, 'summary':summary_word_count})\n",
    "\n",
    "length_df.hist(bins = 30)\n",
    "plt.show()"
   ]
  },
  {
   "cell_type": "code",
   "execution_count": 61,
   "metadata": {},
   "outputs": [
    {
     "name": "stdout",
     "output_type": "stream",
     "text": [
      "0.9548022598870056\n"
     ]
    }
   ],
   "source": [
    "cnt=0\n",
    "for i in data['cleaned_highlight']:\n",
    "    if(len(i.split()) <= 12):\n",
    "        cnt=cnt+1\n",
    "print(cnt/len(data['cleaned_highlight']))"
   ]
  },
  {
   "cell_type": "code",
   "execution_count": 62,
   "metadata": {},
   "outputs": [],
   "source": [
    "max_text_len = 300\n",
    "max_summary_len = 12"
   ]
  },
  {
   "cell_type": "code",
   "execution_count": 63,
   "metadata": {},
   "outputs": [],
   "source": [
    "cleaned_text = np.array(data['cleaned_text'])\n",
    "cleaned_summary = np.array(data['cleaned_highlight'])\n",
    "\n",
    "short_text = []\n",
    "short_summary = []\n",
    "\n",
    "for i in range(len(cleaned_text)):\n",
    "    if(len(cleaned_summary[i].split()) <= max_summary_len and len(cleaned_text[i].split()) <= max_text_len):\n",
    "        short_text.append(cleaned_text[i])\n",
    "        short_summary.append(cleaned_summary[i])\n",
    "        \n",
    "df = pd.DataFrame({'text':short_text,'summary':short_summary})"
   ]
  },
  {
   "cell_type": "markdown",
   "metadata": {},
   "source": [
    "# Dataset splitting"
   ]
  },
  {
   "cell_type": "code",
   "execution_count": 64,
   "metadata": {},
   "outputs": [],
   "source": [
    "from sklearn.model_selection import train_test_split\n",
    "\n",
    "x_tr,x_val,y_tr,y_val = train_test_split(np.array(df['text']),np.array(df['summary']),test_size=0.1,random_state=0,shuffle=True)\n",
    "#x_tr,x_val,y_tr,y_val=train_test_split(data['cleaned_text'],data['cleaned_highlight'],test_size=0.1,random_state=0,shuffle=True) "
   ]
  },
  {
   "cell_type": "markdown",
   "metadata": {},
   "source": [
    "# Tokenization"
   ]
  },
  {
   "cell_type": "code",
   "execution_count": 65,
   "metadata": {},
   "outputs": [],
   "source": [
    "from tensorflow.keras.preprocessing.text import Tokenizer \n",
    "from tensorflow.keras.preprocessing.sequence import pad_sequences\n",
    "\n",
    "#prepare a tokenizer for reviews on training data\n",
    "x_tokenizer = Tokenizer() \n",
    "x_tokenizer.fit_on_texts(list(x_tr))"
   ]
  },
  {
   "cell_type": "markdown",
   "metadata": {},
   "source": [
    "Le parole con un conteggio minore di thresh sono considerate rare"
   ]
  },
  {
   "cell_type": "code",
   "execution_count": 66,
   "metadata": {},
   "outputs": [
    {
     "name": "stdout",
     "output_type": "stream",
     "text": [
      "% of rare words in vocabulary: 44.85870339586796\n",
      "Total Coverage of rare words: 16.204690831556505\n"
     ]
    }
   ],
   "source": [
    "thresh=4\n",
    "\n",
    "cnt=0\n",
    "tot_cnt=0\n",
    "freq=0\n",
    "tot_freq=0\n",
    "\n",
    "for key,value in x_tokenizer.word_counts.items():\n",
    "    tot_cnt=tot_cnt+1\n",
    "    tot_freq=tot_freq+value\n",
    "    if(value<thresh):\n",
    "        cnt=cnt+1\n",
    "        freq=freq+value\n",
    "    \n",
    "print(\"% of rare words in vocabulary:\",(cnt/tot_cnt)*100)\n",
    "print(\"Total Coverage of rare words:\",(freq/tot_freq)*100)"
   ]
  },
  {
   "cell_type": "code",
   "execution_count": 67,
   "metadata": {},
   "outputs": [],
   "source": [
    "#prepare a tokenizer for reviews on training data\n",
    "x_tokenizer = Tokenizer(num_words=tot_cnt-cnt) \n",
    "x_tokenizer.fit_on_texts(list(x_tr))\n",
    "\n",
    "#convert text sequences into integer sequences\n",
    "x_tr_seq    =   x_tokenizer.texts_to_sequences(x_tr) \n",
    "x_val_seq   =   x_tokenizer.texts_to_sequences(x_val)\n",
    "\n",
    "#padding zero upto maximum length\n",
    "x_tr    =   pad_sequences(x_tr_seq,  maxlen=max_text_len, padding='post')\n",
    "x_val   =   pad_sequences(x_val_seq, maxlen=max_text_len, padding='post')\n",
    "\n",
    "#size of vocabulary ( +1 for padding token)\n",
    "x_voc   =  x_tokenizer.num_words + 1"
   ]
  },
  {
   "cell_type": "code",
   "execution_count": 68,
   "metadata": {},
   "outputs": [
    {
     "data": {
      "text/plain": [
       "2323"
      ]
     },
     "execution_count": 68,
     "metadata": {},
     "output_type": "execute_result"
    }
   ],
   "source": [
    "x_voc"
   ]
  },
  {
   "cell_type": "code",
   "execution_count": 69,
   "metadata": {},
   "outputs": [],
   "source": [
    "y_tokenizer = Tokenizer()   \n",
    "y_tokenizer.fit_on_texts(list(y_tr))"
   ]
  },
  {
   "cell_type": "code",
   "execution_count": 70,
   "metadata": {},
   "outputs": [
    {
     "name": "stdout",
     "output_type": "stream",
     "text": [
      "% of rare words in vocabulary: 99.1944764096663\n",
      "Total Coverage of rare words: 75.19163763066203\n"
     ]
    }
   ],
   "source": [
    "thresh=6\n",
    "\n",
    "cnt=0\n",
    "tot_cnt=0\n",
    "freq=0\n",
    "tot_freq=0\n",
    "\n",
    "for key,value in y_tokenizer.word_counts.items():\n",
    "    tot_cnt=tot_cnt+1\n",
    "    tot_freq=tot_freq+value\n",
    "    if(value<thresh):\n",
    "        cnt=cnt+1\n",
    "        freq=freq+value\n",
    "    \n",
    "print(\"% of rare words in vocabulary:\",(cnt/tot_cnt)*100)\n",
    "print(\"Total Coverage of rare words:\",(freq/tot_freq)*100)"
   ]
  },
  {
   "cell_type": "code",
   "execution_count": 71,
   "metadata": {},
   "outputs": [],
   "source": [
    "#prepare a tokenizer for reviews on training data\n",
    "y_tokenizer = Tokenizer(num_words=tot_cnt-cnt) \n",
    "y_tokenizer.fit_on_texts(list(y_tr))\n",
    "\n",
    "#convert text sequences into integer sequences\n",
    "y_tr_seq    =   y_tokenizer.texts_to_sequences(y_tr) \n",
    "y_val_seq   =   y_tokenizer.texts_to_sequences(y_val) \n",
    "\n",
    "#padding zero upto maximum length\n",
    "y_tr    =   pad_sequences(y_tr_seq, maxlen=max_summary_len, padding='post')\n",
    "y_val   =   pad_sequences(y_val_seq, maxlen=max_summary_len, padding='post')\n",
    "\n",
    "#size of vocabulary\n",
    "y_voc  =   y_tokenizer.num_words +1"
   ]
  },
  {
   "cell_type": "code",
   "execution_count": 72,
   "metadata": {},
   "outputs": [
    {
     "data": {
      "text/plain": [
       "(153, 153)"
      ]
     },
     "execution_count": 72,
     "metadata": {},
     "output_type": "execute_result"
    }
   ],
   "source": [
    "y_tokenizer.word_counts['starttoken'],len(y_tr)"
   ]
  },
  {
   "cell_type": "markdown",
   "metadata": {},
   "source": [
    "Here, I am deleting the rows that contain only START and END tokens"
   ]
  },
  {
   "cell_type": "code",
   "execution_count": 73,
   "metadata": {},
   "outputs": [],
   "source": [
    "ind=[]\n",
    "for i in range(len(y_tr)):\n",
    "    cnt=0\n",
    "    for j in y_tr[i]:\n",
    "        if j!=0:\n",
    "            cnt=cnt+1\n",
    "    if(cnt==2):\n",
    "        ind.append(i)\n",
    "\n",
    "y_tr=np.delete(y_tr,ind, axis=0)\n",
    "x_tr=np.delete(x_tr,ind, axis=0)"
   ]
  },
  {
   "cell_type": "code",
   "execution_count": 74,
   "metadata": {},
   "outputs": [],
   "source": [
    "ind=[]\n",
    "for i in range(len(y_val)):\n",
    "    cnt=0\n",
    "    for j in y_val[i]:\n",
    "        if j!=0:\n",
    "            cnt=cnt+1\n",
    "    if(cnt==2):\n",
    "        ind.append(i)\n",
    "\n",
    "y_val=np.delete(y_val,ind, axis=0)\n",
    "x_val=np.delete(x_val,ind, axis=0)"
   ]
  },
  {
   "cell_type": "code",
   "execution_count": 75,
   "metadata": {},
   "outputs": [
    {
     "name": "stdout",
     "output_type": "stream",
     "text": [
      "WARNING:tensorflow:Entity <bound method AttentionLayer.call of <attention.AttentionLayer object at 0x7fa1bc77ddd0>> could not be transformed and will be executed as-is. Please report this to the AutgoGraph team. When filing the bug, set the verbosity to 10 (on Linux, `export AUTOGRAPH_VERBOSITY=10`) and attach the full output. Cause: converting <bound method AttentionLayer.call of <attention.AttentionLayer object at 0x7fa1bc77ddd0>>: AttributeError: module 'gast' has no attribute 'Index'\n",
      "WARNING: Entity <bound method AttentionLayer.call of <attention.AttentionLayer object at 0x7fa1bc77ddd0>> could not be transformed and will be executed as-is. Please report this to the AutgoGraph team. When filing the bug, set the verbosity to 10 (on Linux, `export AUTOGRAPH_VERBOSITY=10`) and attach the full output. Cause: converting <bound method AttentionLayer.call of <attention.AttentionLayer object at 0x7fa1bc77ddd0>>: AttributeError: module 'gast' has no attribute 'Index'\n",
      "Model: \"model\"\n",
      "__________________________________________________________________________________________________\n",
      "Layer (type)                    Output Shape         Param #     Connected to                     \n",
      "==================================================================================================\n",
      "input_1 (InputLayer)            [(None, 300)]        0                                            \n",
      "__________________________________________________________________________________________________\n",
      "embedding (Embedding)           (None, 300, 100)     232300      input_1[0][0]                    \n",
      "__________________________________________________________________________________________________\n",
      "lstm (LSTM)                     [(None, 300, 300), ( 481200      embedding[0][0]                  \n",
      "__________________________________________________________________________________________________\n",
      "input_2 (InputLayer)            [(None, None)]       0                                            \n",
      "__________________________________________________________________________________________________\n",
      "lstm_1 (LSTM)                   [(None, 300, 300), ( 721200      lstm[0][0]                       \n",
      "__________________________________________________________________________________________________\n",
      "embedding_1 (Embedding)         (None, None, 100)    800         input_2[0][0]                    \n",
      "__________________________________________________________________________________________________\n",
      "lstm_2 (LSTM)                   [(None, 300, 300), ( 721200      lstm_1[0][0]                     \n",
      "__________________________________________________________________________________________________\n",
      "lstm_3 (LSTM)                   [(None, None, 300),  481200      embedding_1[0][0]                \n",
      "                                                                 lstm_2[0][1]                     \n",
      "                                                                 lstm_2[0][2]                     \n",
      "__________________________________________________________________________________________________\n",
      "attention_layer (AttentionLayer ((None, None, 300),  180300      lstm_2[0][0]                     \n",
      "                                                                 lstm_3[0][0]                     \n",
      "__________________________________________________________________________________________________\n",
      "concat_layer (Concatenate)      (None, None, 600)    0           lstm_3[0][0]                     \n",
      "                                                                 attention_layer[0][0]            \n",
      "__________________________________________________________________________________________________\n",
      "time_distributed (TimeDistribut (None, None, 8)      4808        concat_layer[0][0]               \n",
      "==================================================================================================\n",
      "Total params: 2,823,008\n",
      "Trainable params: 2,823,008\n",
      "Non-trainable params: 0\n",
      "__________________________________________________________________________________________________\n"
     ]
    }
   ],
   "source": [
    "from keras import backend as K \n",
    "K.clear_session()\n",
    "\n",
    "latent_dim = 300\n",
    "embedding_dim=100\n",
    "\n",
    "# Encoder\n",
    "encoder_inputs = Input(shape=(max_text_len,))\n",
    "\n",
    "#embedding layer\n",
    "enc_emb =  Embedding(x_voc, embedding_dim,trainable=True)(encoder_inputs)\n",
    "\n",
    "#encoder lstm 1\n",
    "encoder_lstm1 = LSTM(latent_dim,return_sequences=True,return_state=True,dropout=0.4,recurrent_dropout=0.4)\n",
    "encoder_output1, state_h1, state_c1 = encoder_lstm1(enc_emb)\n",
    "\n",
    "#encoder lstm 2\n",
    "encoder_lstm2 = LSTM(latent_dim,return_sequences=True,return_state=True,dropout=0.4,recurrent_dropout=0.4)\n",
    "encoder_output2, state_h2, state_c2 = encoder_lstm2(encoder_output1)\n",
    "\n",
    "#encoder lstm 3\n",
    "encoder_lstm3=LSTM(latent_dim, return_state=True, return_sequences=True,dropout=0.4,recurrent_dropout=0.4)\n",
    "encoder_outputs, state_h, state_c= encoder_lstm3(encoder_output2)\n",
    "\n",
    "# Set up the decoder, using `encoder_states` as initial state.\n",
    "decoder_inputs = Input(shape=(None,))\n",
    "\n",
    "#embedding layer\n",
    "dec_emb_layer = Embedding(y_voc, embedding_dim,trainable=True)\n",
    "dec_emb = dec_emb_layer(decoder_inputs)\n",
    "\n",
    "decoder_lstm = LSTM(latent_dim, return_sequences=True, return_state=True,dropout=0.4,recurrent_dropout=0.2)\n",
    "decoder_outputs,decoder_fwd_state, decoder_back_state = decoder_lstm(dec_emb,initial_state=[state_h, state_c])\n",
    "\n",
    "# Attention layer\n",
    "attn_layer = AttentionLayer(name='attention_layer')\n",
    "attn_out, attn_states = attn_layer([encoder_outputs, decoder_outputs])\n",
    "\n",
    "# Concat attention input and decoder LSTM output\n",
    "decoder_concat_input = Concatenate(axis=-1, name='concat_layer')([decoder_outputs, attn_out])\n",
    "\n",
    "#dense layer\n",
    "decoder_dense =  TimeDistributed(Dense(y_voc, activation='softmax'))\n",
    "decoder_outputs = decoder_dense(decoder_concat_input)\n",
    "\n",
    "# Define the model \n",
    "model = Model([encoder_inputs, decoder_inputs], decoder_outputs)\n",
    "\n",
    "model.summary()"
   ]
  },
  {
   "cell_type": "code",
   "execution_count": 76,
   "metadata": {},
   "outputs": [],
   "source": [
    "model.compile(optimizer='adam', loss='sparse_categorical_crossentropy')"
   ]
  },
  {
   "cell_type": "code",
   "execution_count": 77,
   "metadata": {},
   "outputs": [],
   "source": [
    "#es = EarlyStopping(monitor='val_loss', mode='min', verbose=1,patience=2)"
   ]
  },
  {
   "cell_type": "code",
   "execution_count": null,
   "metadata": {},
   "outputs": [
    {
     "name": "stdout",
     "output_type": "stream",
     "text": [
      "Train on 42 samples, validate on 4 samples\n",
      "Epoch 1/5\n"
     ]
    }
   ],
   "source": [
    "history=model.fit([x_tr,y_tr[:,:-1]], y_tr.reshape(y_tr.shape[0],y_tr.shape[1], 1)[:,1:] ,\n",
    "                  epochs= 5, verbose = 1,\n",
    "                  validation_data=([x_val,y_val[:,:-1]], y_val.reshape(y_val.shape[0],y_val.shape[1], 1)[:,1:]))"
   ]
  },
  {
   "cell_type": "code",
   "execution_count": null,
   "metadata": {},
   "outputs": [],
   "source": [
    "from matplotlib import pyplot\n",
    "pyplot.plot(history.history['loss'], label='train')\n",
    "pyplot.plot(history.history['val_loss'], label='test')\n",
    "pyplot.legend()"
   ]
  },
  {
   "cell_type": "code",
   "execution_count": null,
   "metadata": {},
   "outputs": [],
   "source": [
    "reverse_target_word_index=y_tokenizer.index_word\n",
    "reverse_source_word_index=x_tokenizer.index_word\n",
    "target_word_index=y_tokenizer.word_index"
   ]
  },
  {
   "cell_type": "code",
   "execution_count": null,
   "metadata": {},
   "outputs": [],
   "source": [
    "# Encode the input sequence to get the feature vector\n",
    "encoder_model = Model(inputs=encoder_inputs,outputs=[encoder_outputs, state_h, state_c])\n",
    "\n",
    "# Decoder setup\n",
    "# Below tensors will hold the states of the previous time step\n",
    "decoder_state_input_h = Input(shape=(latent_dim,))\n",
    "decoder_state_input_c = Input(shape=(latent_dim,))\n",
    "decoder_hidden_state_input = Input(shape=(max_text_len,latent_dim))\n",
    "\n",
    "# Get the embeddings of the decoder sequence\n",
    "dec_emb2= dec_emb_layer(decoder_inputs) \n",
    "# To predict the next word in the sequence, set the initial states to the states from the previous time step\n",
    "decoder_outputs2, state_h2, state_c2 = decoder_lstm(dec_emb2, initial_state=[decoder_state_input_h, decoder_state_input_c])\n",
    "\n",
    "#attention inference\n",
    "attn_out_inf, attn_states_inf = attn_layer([decoder_hidden_state_input, decoder_outputs2])\n",
    "decoder_inf_concat = Concatenate(axis=-1, name='concat')([decoder_outputs2, attn_out_inf])\n",
    "\n",
    "# A dense softmax layer to generate prob dist. over the target vocabulary\n",
    "decoder_outputs2 = decoder_dense(decoder_inf_concat) \n",
    "\n",
    "# Final decoder model\n",
    "decoder_model = Model(\n",
    "    [decoder_inputs] + [decoder_hidden_state_input,decoder_state_input_h, decoder_state_input_c],\n",
    "    [decoder_outputs2] + [state_h2, state_c2])"
   ]
  },
  {
   "cell_type": "code",
   "execution_count": null,
   "metadata": {},
   "outputs": [],
   "source": [
    "def decode_sequence(input_seq):\n",
    "    # Encode the input as state vectors.\n",
    "    e_out, e_h, e_c = encoder_model.predict(input_seq)\n",
    "    \n",
    "    # Generate empty target sequence of length 1.\n",
    "    target_seq = np.zeros((1,1))\n",
    "    \n",
    "    # Populate the first word of target sequence with the start word.\n",
    "    target_seq[0, 0] = target_word_index['starttoken']\n",
    "\n",
    "    stop_condition = False\n",
    "    decoded_sentence = ''\n",
    "    while not stop_condition:\n",
    "      \n",
    "        output_tokens, h, c = decoder_model.predict([target_seq] + [e_out, e_h, e_c])\n",
    "\n",
    "        # Sample a token\n",
    "        sampled_token_index = np.argmax(output_tokens[0, -1, :])\n",
    "        \n",
    "        sampled_token = reverse_target_word_index[sampled_token_index]\n",
    "                \n",
    "        if(sampled_token!='endtoken'):\n",
    "            decoded_sentence += ' '+sampled_token\n",
    "\n",
    "        # Exit condition: either hit max length or find stop word.\n",
    "        if (sampled_token == 'endtoken'  or len(decoded_sentence.split()) >= (max_summary_len-1)):\n",
    "            stop_condition = True\n",
    "\n",
    "        # Update the target sequence (of length 1).\n",
    "        target_seq = np.zeros((1,1))\n",
    "        target_seq[0, 0] = sampled_token_index\n",
    "\n",
    "        # Update internal states\n",
    "        e_h, e_c = h, c\n",
    "\n",
    "    return decoded_sentence"
   ]
  },
  {
   "cell_type": "code",
   "execution_count": null,
   "metadata": {},
   "outputs": [],
   "source": [
    "def seq2summary(input_seq):\n",
    "    newString=''\n",
    "    for i in input_seq:\n",
    "        if((i!=0 and i!=target_word_index['starttoken']) and i!=target_word_index['endtoken']):\n",
    "            newString=newString+reverse_target_word_index[i]+' '\n",
    "    return newString\n",
    "\n",
    "def seq2text(input_seq):\n",
    "    newString=''\n",
    "    for i in input_seq:\n",
    "        if(i!=0):\n",
    "            newString=newString+reverse_source_word_index[i]+' '\n",
    "    return newString"
   ]
  },
  {
   "cell_type": "code",
   "execution_count": null,
   "metadata": {},
   "outputs": [],
   "source": [
    "for i in range(0,10):\n",
    "    print(\"Review:\",seq2text(x_tr[i]))\n",
    "    print(\"Original summary:\",seq2summary(y_tr[i]))\n",
    "    print(\"Predicted summary:\",decode_sequence(x_tr[i].reshape(1,max_text_len)))\n",
    "    print(\"\\n\")"
   ]
  }
 ],
 "metadata": {
  "kernelspec": {
   "display_name": "Python 3",
   "language": "python",
   "name": "python3"
  },
  "language_info": {
   "codemirror_mode": {
    "name": "ipython",
    "version": 3
   },
   "file_extension": ".py",
   "mimetype": "text/x-python",
   "name": "python",
   "nbconvert_exporter": "python",
   "pygments_lexer": "ipython3",
   "version": "3.7.7"
  }
 },
 "nbformat": 4,
 "nbformat_minor": 4
}
